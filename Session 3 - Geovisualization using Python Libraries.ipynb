{
 "cells": [
  {
   "cell_type": "code",
   "execution_count": 26,
   "id": "43b823db-28bb-48f4-9bc7-83ad8a05e5c0",
   "metadata": {
    "tags": []
   },
   "outputs": [],
   "source": [
    "import warnings\n",
    "warnings.filterwarnings(\"ignore\", category=DeprecationWarning)"
   ]
  },
  {
   "cell_type": "markdown",
   "id": "3a1dd94b-c654-4ec8-a5ad-1d8de55990f1",
   "metadata": {},
   "source": [
    "# Session 3 - Geovisualization using Python Libraries <img src=\"./Resources/sla.png\" width=\"100\" align =\"right\"/>"
   ]
  },
  {
   "cell_type": "code",
   "execution_count": null,
   "id": "bf6ab061-9496-46b2-a78e-da7d83ec1659",
   "metadata": {},
   "outputs": [],
   "source": []
  }
 ],
 "metadata": {
  "kernelspec": {
   "display_name": "Python 3",
   "language": "python",
   "name": "python3"
  },
  "language_info": {
   "codemirror_mode": {
    "name": "ipython",
    "version": 3
   },
   "file_extension": ".py",
   "mimetype": "text/x-python",
   "name": "python",
   "nbconvert_exporter": "python",
   "pygments_lexer": "ipython3",
   "version": "3.7.0"
  }
 },
 "nbformat": 4,
 "nbformat_minor": 5
}
