{
 "cells": [
  {
   "cell_type": "code",
   "execution_count": 4,
   "id": "be07c4a0-843f-4b08-8b66-ee37557116be",
   "metadata": {
    "tags": []
   },
   "outputs": [],
   "source": [
    "import warnings\n",
    "warnings.filterwarnings(\"ignore\", category=DeprecationWarning)"
   ]
  },
  {
   "cell_type": "code",
   "execution_count": 5,
   "id": "e7a547f2-e114-4149-9381-177822065d9d",
   "metadata": {
    "tags": []
   },
   "outputs": [],
   "source": [
    "import sys\n",
    "import os\n",
    "\n",
    "sys.path.append(r'C:\\Program Files\\QGIS 3.22.3\\apps\\qgis\\python') #this is important for loading qgis library\n",
    "sys.path.append(r'C:\\Program Files\\QGIS 3.22.3\\apps\\qgis\\python\\plugins') #this is important for loading processing library"
   ]
  },
  {
   "cell_type": "code",
   "execution_count": 6,
   "id": "ba3bb42e-03e6-42c5-9a7d-55f8f1d2d2ad",
   "metadata": {
    "tags": []
   },
   "outputs": [],
   "source": [
    "import qgis\n",
    "from qgis.gui import *\n",
    "from qgis.core import *\n",
    "from qgis.utils import plugins\n",
    "from PyQt5.QtCore import *\n",
    "from qgis.analysis import QgsNativeAlgorithms"
   ]
  },
  {
   "cell_type": "code",
   "execution_count": 7,
   "id": "b2a5b632-f03c-4136-8a93-1a2f69579800",
   "metadata": {
    "collapsed": true,
    "jupyter": {
     "outputs_hidden": true
    },
    "tags": []
   },
   "outputs": [
    {
     "name": "stderr",
     "output_type": "stream",
     "text": [
      "C:\\Users\\user\\AppData\\Roaming\\Python\\Python39\\site-packages\\numexpr\\expressions.py:21: DeprecationWarning: distutils Version classes are deprecated. Use packaging.version instead.\n",
      "  _np_version_forbids_neg_powint = LooseVersion(numpy.__version__) >= LooseVersion('1.12.0b1')\n",
      "C:\\Users\\user\\AppData\\Roaming\\Python\\Python39\\site-packages\\geopandas\\_compat.py:18: DeprecationWarning: distutils Version classes are deprecated. Use packaging.version instead.\n",
      "  PANDAS_GE_10 = str(pd.__version__) >= LooseVersion(\"1.0.0\")\n",
      "C:\\Users\\user\\AppData\\Roaming\\Python\\Python39\\site-packages\\setuptools\\_distutils\\version.py:351: DeprecationWarning: distutils Version classes are deprecated. Use packaging.version instead.\n",
      "  other = LooseVersion(other)\n",
      "C:\\Users\\user\\AppData\\Roaming\\Python\\Python39\\site-packages\\geopandas\\_compat.py:19: DeprecationWarning: distutils Version classes are deprecated. Use packaging.version instead.\n",
      "  PANDAS_GE_11 = str(pd.__version__) >= LooseVersion(\"1.1.0\")\n",
      "C:\\Users\\user\\AppData\\Roaming\\Python\\Python39\\site-packages\\geopandas\\_compat.py:20: DeprecationWarning: distutils Version classes are deprecated. Use packaging.version instead.\n",
      "  PANDAS_GE_115 = str(pd.__version__) >= LooseVersion(\"1.1.5\")\n",
      "C:\\Users\\user\\AppData\\Roaming\\Python\\Python39\\site-packages\\geopandas\\_compat.py:21: DeprecationWarning: distutils Version classes are deprecated. Use packaging.version instead.\n",
      "  PANDAS_GE_12 = str(pd.__version__) >= LooseVersion(\"1.2.0\")\n",
      "C:\\Users\\user\\AppData\\Roaming\\Python\\Python39\\site-packages\\geopandas\\_compat.py:29: DeprecationWarning: distutils Version classes are deprecated. Use packaging.version instead.\n",
      "  SHAPELY_GE_17 = str(shapely.__version__) >= LooseVersion(\"1.7.0\")\n",
      "C:\\Users\\user\\AppData\\Roaming\\Python\\Python39\\site-packages\\geopandas\\_compat.py:30: DeprecationWarning: distutils Version classes are deprecated. Use packaging.version instead.\n",
      "  SHAPELY_GE_18 = str(shapely.__version__) >= LooseVersion(\"1.8\")\n",
      "C:\\Users\\user\\AppData\\Roaming\\Python\\Python39\\site-packages\\geopandas\\_compat.py:31: DeprecationWarning: distutils Version classes are deprecated. Use packaging.version instead.\n",
      "  SHAPELY_GE_20 = str(shapely.__version__) >= LooseVersion(\"2.0\")\n",
      "C:\\Users\\user\\AppData\\Roaming\\Python\\Python39\\site-packages\\geopandas\\_compat.py:50: DeprecationWarning: distutils Version classes are deprecated. Use packaging.version instead.\n",
      "  if str(pygeos.__version__) >= LooseVersion(\"0.8\"):\n",
      "C:\\Users\\user\\AppData\\Roaming\\Python\\Python39\\site-packages\\geopandas\\_compat.py:52: DeprecationWarning: distutils Version classes are deprecated. Use packaging.version instead.\n",
      "  PYGEOS_GE_09 = str(pygeos.__version__) >= LooseVersion(\"0.9\")\n",
      "C:\\Users\\user\\AppData\\Roaming\\Python\\Python39\\site-packages\\geopandas\\_compat.py:53: DeprecationWarning: distutils Version classes are deprecated. Use packaging.version instead.\n",
      "  PYGEOS_GE_010 = str(pygeos.__version__) >= LooseVersion(\"0.10\")\n",
      "C:\\Users\\user\\AppData\\Roaming\\Python\\Python39\\site-packages\\geopandas\\_compat.py:95: DeprecationWarning: distutils Version classes are deprecated. Use packaging.version instead.\n",
      "  if not str(pygeos.__version__) >= LooseVersion(\"0.8\"):\n",
      "C:\\Users\\user\\AppData\\Roaming\\Python\\Python39\\site-packages\\geopandas\\_compat.py:111: UserWarning: The Shapely GEOS version (3.10.2-CAPI-1.16.0) is incompatible with the GEOS version PyGEOS was compiled with (3.10.1-CAPI-1.16.0). Conversions between both will be slow.\n",
      "  warnings.warn(\n",
      "C:\\Users\\user\\AppData\\Roaming\\Python\\Python39\\site-packages\\geopandas\\_compat.py:227: DeprecationWarning: distutils Version classes are deprecated. Use packaging.version instead.\n",
      "  PYPROJ_LT_3 = LooseVersion(pyproj.__version__) < LooseVersion(\"3\")\n",
      "C:\\Users\\user\\AppData\\Roaming\\Python\\Python39\\site-packages\\geopandas\\_compat.py:228: DeprecationWarning: distutils Version classes are deprecated. Use packaging.version instead.\n",
      "  PYPROJ_GE_31 = LooseVersion(pyproj.__version__) >= LooseVersion(\"3.1\")\n",
      "C:\\Users\\user\\AppData\\Roaming\\Python\\Python39\\site-packages\\seaborn\\rcmod.py:82: DeprecationWarning: distutils Version classes are deprecated. Use packaging.version instead.\n",
      "  if LooseVersion(mpl.__version__) >= \"3.0\":\n",
      "C:\\Users\\user\\AppData\\Roaming\\Python\\Python39\\site-packages\\setuptools\\_distutils\\version.py:351: DeprecationWarning: distutils Version classes are deprecated. Use packaging.version instead.\n",
      "  other = LooseVersion(other)\n"
     ]
    }
   ],
   "source": [
    "%matplotlib inline\n",
    "\n",
    "import geopandas as gpd\n",
    "import seaborn as sb\n",
    "import pandas as pd\n",
    "import numpy as np\n",
    "import matplotlib.pyplot as plt\n",
    "from shapely.geometry import Polygon\n",
    "\n",
    "from pulp import *"
   ]
  },
  {
   "cell_type": "markdown",
   "id": "35f253e5-651b-4f15-81ac-c8a11295526e",
   "metadata": {
    "tags": []
   },
   "source": [
    "# Day 2 - Part II Create QGIS Geoprocessing tools <img src=\"./Resources/sla.png\" width=\"100\" align =\"right\"/>"
   ]
  },
  {
   "cell_type": "markdown",
   "id": "fadd9bf3-b28a-4900-a61c-7806eeec0cc9",
   "metadata": {
    "tags": []
   },
   "source": [
    "## PyQt5 Thread (optional)"
   ]
  },
  {
   "cell_type": "markdown",
   "id": "f8b536e8-01b5-45b7-adcc-6a0101386881",
   "metadata": {},
   "source": [
    "In an event-driven application like QGIS, clicking on a button creates an event. The application handles the event to produce the output. However, any time the PyQt application spends time doing something in the code, window communication and GUI interaction are frozen."
   ]
  },
  {
   "cell_type": "markdown",
   "id": "1c1d1558-71da-4a55-b500-9573125697c9",
   "metadata": {},
   "source": [
    "The solution is simple: to use mutli-thread. A *thread* is a small set of instructions designed to be scheduled and executed by the CPU independently of the parent process. PyQt provides an straightforward interface to do exactly that.\n"
   ]
  },
  {
   "cell_type": "markdown",
   "id": "a83cd299-a1ef-4fe1-9818-cd4d642a5d33",
   "metadata": {},
   "source": [
    "This is built around two classes: *QRunnable* and *QThreadPool*. The former is the container for the work you want to perform, while the latter is the method by which you pass that work to alternate threads."
   ]
  },
  {
   "cell_type": "code",
   "execution_count": 4,
   "id": "7419b0bf-c72e-4125-9401-59ec54e43087",
   "metadata": {
    "jupyter": {
     "source_hidden": true
    },
    "tags": []
   },
   "outputs": [],
   "source": [
    "import time\n",
    "\n",
    "from PyQt5.QtCore import (QCoreApplication, QObject, QRunnable, QThread,\n",
    "                          QThreadPool, pyqtSignal)\n",
    "\n",
    "# Subclassing QThread\n",
    "# http://qt-project.org/doc/latest/qthread.html\n",
    "class AThread(QThread):\n",
    "\n",
    "    def run(self):\n",
    "        count = 0\n",
    "        while count < 5:\n",
    "            time.sleep(1)\n",
    "            print(\"A Increasing\")\n",
    "            count += 1\n",
    "\n",
    "# Subclassing QObject and using moveToThread\n",
    "# http://blog.qt.digia.com/blog/2007/07/05/qthreads-no-longer-abstract\n",
    "class SomeObject(QObject):\n",
    "\n",
    "    finished = pyqtSignal()\n",
    "\n",
    "    def long_running(self):\n",
    "        count = 0\n",
    "        while count < 5:\n",
    "            time.sleep(1)\n",
    "            print(\"B Increasing\")\n",
    "            count += 1\n",
    "        self.finished.emit()\n",
    "\n",
    "# Using a QRunnable\n",
    "# http://qt-project.org/doc/latest/qthreadpool.html\n",
    "# Note that a QRunnable isn't a subclass of QObject and therefore does\n",
    "# not provide signals and slots.\n",
    "class Runnable(QRunnable):\n",
    "\n",
    "    def run(self):\n",
    "        count = 0\n",
    "        app = QCoreApplication.instance()\n",
    "        while count < 5:\n",
    "            print(\"C Increasing\")\n",
    "            time.sleep(1)\n",
    "            count += 1\n",
    "        app.quit()\n",
    "\n",
    "def using_q_thread():\n",
    "    app = QCoreApplication([])\n",
    "    thread = AThread()\n",
    "    thread.finished.connect(app.exit)\n",
    "    thread.start()\n",
    "    sys.exit(app.exec_())\n",
    "\n",
    "def using_move_to_thread():\n",
    "    app = QCoreApplication([])\n",
    "    objThread = QThread()\n",
    "    obj = SomeObject()\n",
    "    obj.moveToThread(objThread)\n",
    "    obj.finished.connect(objThread.quit)\n",
    "    objThread.started.connect(obj.long_running)\n",
    "    objThread.finished.connect(app.exit)\n",
    "    objThread.start()\n",
    "    sys.exit(app.exec_())\n",
    "\n",
    "def using_q_runnable():\n",
    "    app = QCoreApplication([])\n",
    "    runnable = Runnable()\n",
    "    QThreadPool.globalInstance().start(runnable)\n",
    "    sys.exit(app.exec_())"
   ]
  },
  {
   "cell_type": "code",
   "execution_count": 5,
   "id": "24aab466-fa13-4c91-be4c-d3911d78a52d",
   "metadata": {},
   "outputs": [
    {
     "ename": "SystemExit",
     "evalue": "0",
     "output_type": "error",
     "traceback": [
      "An exception has occurred, use %tb to see the full traceback.\n",
      "\u001b[1;31mSystemExit\u001b[0m\u001b[1;31m:\u001b[0m 0\n"
     ]
    },
    {
     "name": "stderr",
     "output_type": "stream",
     "text": [
      "C:\\Users\\user\\AppData\\Roaming\\Python\\Python39\\site-packages\\IPython\\core\\interactiveshell.py:3449: UserWarning: To exit: use 'exit', 'quit', or Ctrl-D.\n",
      "  warn(\"To exit: use 'exit', 'quit', or Ctrl-D.\", stacklevel=1)\n"
     ]
    },
    {
     "name": "stdout",
     "output_type": "stream",
     "text": [
      "A Increasing\n",
      "A Increasing\n",
      "A Increasing\n",
      "A Increasing\n",
      "A Increasing\n"
     ]
    }
   ],
   "source": [
    "using_q_thread()\n",
    "# using_move_to_thread()\n",
    "# using_q_runnable()"
   ]
  },
  {
   "cell_type": "markdown",
   "id": "39e6e5f5-be00-4233-95b3-294e27cf4289",
   "metadata": {
    "tags": []
   },
   "source": [
    "## PyQGIS Thread"
   ]
  },
  {
   "cell_type": "markdown",
   "id": "1ad06c57-e4d1-417c-a976-356f8eb137bc",
   "metadata": {},
   "source": [
    "QGIS use threads to maintain a responsive user interface when it is working on heavy tasks.\n",
    "\n",
    "A *QgsTask* is a container for the code to be performed in the background, and the task manager *QgsTaskManager* is used to control the running of the tasks. These classes simplify background processing in QGIS by providing mechanisms for signaling, progress reporting and access to the status for background processes. "
   ]
  },
  {
   "cell_type": "markdown",
   "id": "bb39e844-b64e-4ef6-a504-6e80892aa037",
   "metadata": {},
   "source": [
    "> Any background task (regardless of how it is created) must NEVER use any QObject that lives on the main thread, such as accessing QgsVectorLayer, QgsProject or perform any GUI based operations like creating new widgets or interacting with existing widgets. Qt widgets must only be accessed or modified from the main thread. Data that is used in a task must be copied before the task is started. Attempting to use them from background threads will result in crashes."
   ]
  },
  {
   "cell_type": "markdown",
   "id": "252d6c2b-d00e-42a5-97e0-c22c71f79726",
   "metadata": {},
   "source": [
    "```python\n",
    "from time import sleep\n",
    "def heavy_fun(task):\n",
    "    QgsMessageLog.logMessage(\"sleep 10 seconds\", 'MyHeavyFunction', Qgis.Info)\n",
    "    sleep(10)\n",
    "    \n",
    "def finished(exception, value=None):\n",
    "    QgsMessageLog.logMessage(\"finished\", 'MyHeavyFunction', Qgis.Info)\n",
    "    \n",
    "# Create a few tasks\n",
    "task1 = QgsTask.fromFunction('heavy function example', heavy_fun, on_finished=finished)\n",
    "\n",
    "QgsApplication.taskManager().addTask(task1)\n",
    "```"
   ]
  },
  {
   "cell_type": "markdown",
   "id": "16876ce7-de1b-4fb6-a362-06d1b6a2a67a",
   "metadata": {},
   "source": [
    "QgsMessageLog is for messages to communicate issues to the user. The output of the QgsMessageLog is shown in the Log Messages Panel.\n",
    "\n",
    "The python built in logging module is for debugging on the level of the QGIS Python API (PyQGIS). It is recommended for Python script developers that need to debug their python code, e.g. feature ids or geometries\n",
    "\n",
    "QgsLogger is for messages for QGIS internal debugging / developers (i.e. you suspect something is triggered by some broken code). Messages are only visible with developer versions of QGIS."
   ]
  },
  {
   "cell_type": "markdown",
   "id": "88f36677-ef07-4611-99c6-40f4250cae9d",
   "metadata": {},
   "source": [
    "> Use of the Python print statement is unsafe to do in any code which may be multithreaded and extremely slows down the algorithm. This includes expression functions, renderers, symbol layers and Processing algorithms (amongst others). In these cases you should always use the python logging module or thread safe classes (QgsLogger or QgsMessageLog) instead."
   ]
  },
  {
   "cell_type": "markdown",
   "id": "aa59c59d-394f-4c5e-8b97-3cdd9b33b506",
   "metadata": {},
   "source": [
    "## Creating processing scripts"
   ]
  },
  {
   "cell_type": "markdown",
   "id": "091471f1-a86b-4c92-85b5-3e7586e47afd",
   "metadata": {},
   "source": [
    "Let’s create a processing script in the processing toolbox and have a look at the following code. \n",
    "\n",
    "This script defines a Processing algorithm that performs a buffer operation with a user defined buffer distance on a vector layer that is specified by the user, after first smoothing the layer."
   ]
  },
  {
   "cell_type": "markdown",
   "id": "85f2fb9e-5494-4010-b68d-38754b5a336d",
   "metadata": {},
   "source": [
    "```python\n",
    "from qgis.core import (QgsProcessingAlgorithm,\n",
    "       QgsProcessingParameterNumber,\n",
    "       QgsProcessingParameterFeatureSource,\n",
    "       QgsProcessingParameterFeatureSink)\n",
    "\n",
    "from qgis import processing\n",
    "\n",
    "class algTest(QgsProcessingAlgorithm):\n",
    "    INPUT_BUFFERDIST = 'BUFFERDIST'\n",
    "    OUTPUT_BUFFER = 'OUTPUT_BUFFER'\n",
    "    INPUT_VECTOR = 'INPUT_VECTOR'\n",
    "\n",
    "    def __init__(self):\n",
    "        super().__init__()\n",
    "\n",
    "    def name(self):\n",
    "        return \"algTest\"\n",
    "\n",
    "    def displayName(self):\n",
    "        return \"algTest script\"\n",
    "\n",
    "    def createInstance(self):\n",
    "        return type(self)()\n",
    "\n",
    "    def initAlgorithm(self, config=None):\n",
    "        self.addParameter(QgsProcessingParameterFeatureSource(\n",
    "            self.INPUT_VECTOR, \"Input vector\"))\n",
    "        self.addParameter(QgsProcessingParameterNumber(\n",
    "            self.INPUT_BUFFERDIST, \"Buffer distance\",\n",
    "            QgsProcessingParameterNumber.Double,\n",
    "            50.0))\n",
    "        self.addParameter(QgsProcessingParameterFeatureSink(\n",
    "            self.OUTPUT_BUFFER, \"Output buffer\"))\n",
    "\n",
    "    def processAlgorithm(self, parameters, context, feedback):\n",
    "        #DO SOMETHING\n",
    "        algresult = processing.run(\"native:smoothgeometry\",\n",
    "            {'INPUT': parameters[self.INPUT_VECTOR],\n",
    "             'ITERATIONS':2,\n",
    "             'OFFSET':0.25,\n",
    "             'MAX_ANGLE':180,\n",
    "             'OUTPUT': 'memory:'},\n",
    "            context=context, feedback=feedback, is_child_algorithm=True) ### note: is_child_algorithm true \n",
    "        smoothed = algresult['OUTPUT']\n",
    "        algresult = processing.run('native:buffer',\n",
    "            {'INPUT': smoothed,\n",
    "            'DISTANCE': parameters[self.INPUT_BUFFERDIST],\n",
    "            'SEGMENTS': 5,\n",
    "            'END_CAP_STYLE': 0,\n",
    "            'JOIN_STYLE': 0,\n",
    "            'MITER_LIMIT': 10,\n",
    "            'DISSOLVE': True,\n",
    "            'OUTPUT': parameters[self.OUTPUT_BUFFER]},\n",
    "            context=context, feedback=feedback, is_child_algorithm=True) ### note: is_child_algorithm true \n",
    "        buffered = algresult['OUTPUT']\n",
    "        return {self.OUTPUT_BUFFER: buffered}\n",
    "```"
   ]
  },
  {
   "cell_type": "markdown",
   "id": "1d427796-4415-44a6-a736-2424ca0852f8",
   "metadata": {},
   "source": [
    "After doing the necessary imports, the following QgsProcessingAlgorithm functions are specified:\n",
    "\n",
    "* `name()`: The id of the algorithm (lowercase).\n",
    "* `displayName()`: A human readable name for the algorithm.\n",
    "* `createInstance()`: Create a new instance of the algorithm class.\n",
    "* `initAlgorithm()`: Configure the parameterDefinitions and outputDefinitions.\n",
    "\n",
    "Here we describe the parameters and output of the algorithm. In this case, a feature source for the input, a feature sink for the result and a number for the buffer distance.\n",
    "\n",
    "* `processAlgorithm()`: Do the work.\n",
    "\n",
    "Here we first run the smoothgeometry algorithm to smooth the geometry, and then we run the buffer algorithm on the smoothed output. To be able to run algorithms from within another algorithm we have to set the `is_child_algorithm` argument to True. You can see how input and output parameters are used as parameters to the smoothgeometry and buffer algorithms."
   ]
  },
  {
   "cell_type": "markdown",
   "id": "ca3e7f91-9e17-4efa-ab5c-45db3fb7dac4",
   "metadata": {},
   "source": [
    "The first parameter to the constructors is the name of the parameter, and the second is the description of the parameter (for the user interface). The rest of the constructor parameters are parameter type specific."
   ]
  },
  {
   "cell_type": "markdown",
   "id": "28bd85ec-2d9a-4220-bea9-e5f307f20167",
   "metadata": {},
   "source": [
    "### Parameter Types "
   ]
  },
  {
   "cell_type": "markdown",
   "id": "e96640ed-9dd0-4ede-b2b3-8934a280c02d",
   "metadata": {},
   "source": [
    "There are a number of different parameter types available for input and output. Below is an alphabetically sorted list:"
   ]
  },
  {
   "cell_type": "markdown",
   "id": "798a9afd-7dcc-4d2f-8928-25429ae890d6",
   "metadata": {},
   "source": [
    "* QgsProcessingParameterAggregate\n",
    "* QgsProcessingParameterAuthConfig\n",
    "* QgsProcessingParameterBand\n",
    "* QgsProcessingParameterBoolean\n",
    "* QgsProcessingParameterColor\n",
    "* QgsProcessingParameterCoordinateOperation\n",
    "* QgsProcessingParameterCrs\n",
    "* QgsProcessingParameterDatabaseSchema\n",
    "* QgsProcessingParameterDatabaseTable\n",
    "* QgsProcessingParameterDateTime\n",
    "* QgsProcessingParameterDistance\n",
    "* QgsProcessingParameterEnum\n",
    "* QgsProcessingParameterExpression\n",
    "* QgsProcessingParameterExtent\n",
    "* QgsProcessingParameterFeatureSink\n",
    "* QgsProcessingParameterFeatureSource\n",
    "* QgsProcessingParameterField\n",
    "* QgsProcessingParameterFieldMapping\n",
    "* QgsProcessingParameterFile\n",
    "* QgsProcessingParameterFileDestination\n",
    "* QgsProcessingParameterFolderDestination\n",
    "* QgsProcessingParameterLayout\n",
    "* QgsProcessingParameterLayoutItem\n",
    "* QgsProcessingParameterMapLayer\n",
    "* QgsProcessingParameterMapTheme\n",
    "* QgsProcessingParameterMatrix\n",
    "* QgsProcessingParameterMeshLayer\n",
    "* QgsProcessingParameterMultipleLayers\n",
    "* QgsProcessingParameterNumber\n",
    "* QgsProcessingParameterPoint\n",
    "* QgsProcessingParameterProviderConnection\n",
    "* QgsProcessingParameterRange\n",
    "* QgsProcessingParameterRasterDestination\n",
    "* QgsProcessingParameterRasterLayer\n",
    "* QgsProcessingParameterScale\n",
    "* QgsProcessingParameterString\n",
    "* QgsProcessingParameterVectorDestination\n",
    "* QgsProcessingParameterVectorLayer\n",
    "* QgsProcessingParameterVectorTileWriterLayers\n",
    "\n",
    "See [here](https://docs.qgis.org/testing/en/docs/user_manual/processing/scripts.html#input-and-output-types-for-processing-algorithms) for more details."
   ]
  },
  {
   "cell_type": "markdown",
   "id": "8677675e-2a33-470f-b459-29f34af0e0d9",
   "metadata": {},
   "source": [
    "The input can be turned into QGIS classes using the `parameterAs` functions of QgsProcessingAlgorithm. For instance to get the number provided for the buffer distance as a double:\n",
    "\n",
    "```python\n",
    "self.parameterAsDouble(parameters, self.INPUT_BUFFERDIST, context))\n",
    "```"
   ]
  },
  {
   "cell_type": "markdown",
   "id": "c4b68d04-569d-4aa5-bbc0-8579c0bfff24",
   "metadata": {},
   "source": [
    "The `processAlgorithm` function should return a dictionary containing values for every output defined by the algorithm. This allows access to these outputs from other algorithms, including other algorithms contained within the same model."
   ]
  },
  {
   "cell_type": "markdown",
   "id": "61155e74-3d37-4c3f-b60e-194d34450ed9",
   "metadata": {},
   "source": [
    "### Communicating with the user"
   ]
  },
  {
   "cell_type": "markdown",
   "id": "57dcb875-d9f9-4aab-a013-337ded17424b",
   "metadata": {},
   "source": [
    "If the algorithm takes a long time to process, we need to inform the user about the progress. The feedback object passed to processAlgorithm() should be used for user feedback / interaction. \n",
    "\n",
    "The progress text and progressbar can be updated using two methods: `setProgressText(text)` and `setProgress(percent)`. The `setProgress()` function can be used to updated the progress bar (0 to 100). This is very useful if your algorithm takes a long time to complete.\n",
    "\n",
    "We can provide more information by using `pushCommandInfo(text)`, `pushDebugInfo(text)`, `pushInfo(text)` and `reportError(text)`."
   ]
  },
  {
   "cell_type": "markdown",
   "id": "041b9031-8ca5-434f-959b-77728df700e5",
   "metadata": {},
   "source": [
    "If your script has a problem, the correct way of handling it is to raise a QgsProcessingException. You can pass a message as an argument to the constructor of the exception. Processing will take care of handling it and communicating with the user, depending on where the algorithm is being executed from (toolbox, modeler, Python console, …)"
   ]
  },
  {
   "cell_type": "markdown",
   "id": "8964c8f6-9af1-4489-863c-6f5c623bb534",
   "metadata": {},
   "source": [
    "The feedback object provides an `isCanceled()` method that should be monitored to enable cancelation of the algorithm by the user. "
   ]
  },
  {
   "cell_type": "markdown",
   "id": "031d260e-ec9c-41e5-95ee-b7263b1121d2",
   "metadata": {},
   "source": [
    "> Algorithms should avoid using other forms of providing feedback to users, such as print statements or logging to QgsMessageLog, and should always use the feedback object instead. This allows verbose logging for the algorithm, and is also thread-safe (which is important, given that algorithms are typically run in a background thread)."
   ]
  },
  {
   "cell_type": "markdown",
   "id": "9cab38fa-88bd-4e3a-86e9-3fe3f43391f4",
   "metadata": {
    "tags": []
   },
   "source": [
    "## Travelling Salesman Problem (TSP) "
   ]
  },
  {
   "cell_type": "code",
   "execution_count": 1,
   "id": "85d11938-551c-449f-881a-e33a736e32a3",
   "metadata": {},
   "outputs": [
    {
     "data": {
      "image/jpeg": "[encoded data removed]",
      "text/html": [
       "\n",
       "        <iframe\n",
       "            width=\"600\"\n",
       "            height=\"300\"\n",
       "            src=\"https://www.youtube.com/embed/1pmBjIZ20pE?start=0\"\n",
       "            frameborder=\"0\"\n",
       "            allowfullscreen\n",
       "        ></iframe>\n",
       "        "
      ],
      "text/plain": [
       "<IPython.lib.display.YouTubeVideo at 0x15dbd047be0>"
      ]
     },
     "execution_count": 1,
     "metadata": {},
     "output_type": "execute_result"
    }
   ],
   "source": [
    "from IPython.display import Audio,Image, YouTubeVideo\n",
    "id='1pmBjIZ20pE'\n",
    "YouTubeVideo(id=id,width=600,height=300, start=0)"
   ]
  },
  {
   "cell_type": "markdown",
   "id": "5285ea55-95e2-4e34-a232-8e4701ce5703",
   "metadata": {},
   "source": [
    "The Travelling Salesman Problem (TSP) tries to find, given the weight (distance) between all points where a salesman has to visit, the route so that:\n",
    "\n",
    "* The total distance (cost) which the salesman travels is minimized.\n",
    "* The salesman returns to the starting point.\n",
    "* Note that for a complete graph, the salesman visits each point once."
   ]
  },
  {
   "cell_type": "markdown",
   "id": "99e9f393-9392-412d-aa0b-cc488c7a4a7e",
   "metadata": {},
   "source": [
    "The function travelling_salesman_problem allows for incomplete graphs by finding all-pairs shortest paths, effectively converting the problem to a complete graph problem. It calls one of the approximate methods on that problem and then converts the result back to the original graph using the previously found shortest paths.\n",
    "\n",
    "TSP is an NP-hard problem in combinatorial optimization, important in operations research and theoretical computer science. A problem is NP-hard if an algorithm for solving it can be translated into one for solving any NP-problem (nondeterministic polynomial time) problem.\n",
    "\n",
    "Implementation of approximate algorithms for solving and approximating the TSP problem.\n",
    "\n",
    "Categories of algorithms which are implemented:\n",
    "* Greedy\n",
    "* Simulated Annealing (SA)\n",
    "* Threshold Accepting (TA)\n",
    "* Christofides (provides a 3/2-approximation of TSP)\n",
    "* Asadpour Asymmetric Traveling Salesman Algorithm"
   ]
  },
  {
   "cell_type": "markdown",
   "id": "1868a924-05ec-4d98-9e7c-d6bd73d1938a",
   "metadata": {},
   "source": [
    "This implementation of a `greedy` algorithm is based on the following:\n",
    "\n",
    "* The algorithm adds a node to the solution at every iteration.\n",
    "* The algorithm selects a node not already in the cycle whose connection to the previous node adds the least cost to the cycle.\n",
    "\n",
    "A `greedy` algorithm does not always give the best solution. However, it can construct a first feasible solution which can be passed as a parameter to an iterative improvement algorithm such as `Simulated Annealing`, or `Threshold Accepting`."
   ]
  },
  {
   "cell_type": "markdown",
   "id": "d3eae57f-3fc8-4676-bcf3-0f69de18f074",
   "metadata": {},
   "source": [
    "'Christofides' algorithm computes a 3/2-approximation of the traveling salesman problem in a complete undirected graph. see [here](https://en.wikipedia.org/wiki/Christofides_algorithm)."
   ]
  },
  {
   "cell_type": "markdown",
   "id": "19b4e723-56d1-45f7-ab01-a1d4eb88b8a3",
   "metadata": {},
   "source": [
    "`Simulated Annealing` is a metaheuristic local search algorithm. This function uses simulated annealing to approximate the minimal cost cycle through the nodes. The main characteristic of this algorithm is that it accepts even solutions which lead to the increase of the cost in order to escape from low quality local optimal solutions.\n",
    "\n",
    "Starting from a suboptimal solution, `simulated annealing` perturbs that solution, occasionally accepting changes that make the solution worse to escape from a locally optimal solution. **The chance of accepting such changes decreases over the iterations to encourage an optimal result**. In summary, the function returns a cycle starting at source for which the total cost is minimized. It also returns the cost.\n",
    "\n",
    "This algorithm needs an initial solution. If not provided, it is constructed by a simple greedy algorithm. At every iteration, the algorithm selects thoughtfully a neighbor solution. Consider $c(x)$ cost of current solution and $c(x')$ cost of a neighbor solution. If $c(x') - c(x) <=0 $ then the neighbor solution becomes the current solution for the next iteration. Otherwise, the algorithm accepts the neighbor solution with probability $p = exp(-[c(x')-c(x)]/temp)$. Otherwise the current solution is retained.\n",
    "\n",
    "*temp* is a parameter of the algorithm and represents temperature."
   ]
  },
  {
   "cell_type": "markdown",
   "id": "5613ad39-0d8d-4ea1-be81-801f0e296efb",
   "metadata": {},
   "source": [
    "`Threshold Accepting` is a metaheuristic local search algorithm. The main characteristic of this algorithm is that it accepts even solutions which lead to the increase of the cost in order to escape from low quality local optimal solutions.\n",
    "\n",
    "This algorithm needs an initial solution. This solution can be constructed by a simple greedy algorithm. At every iteration, it selects thoughtfully a neighbor solution. Consider $c(x)$ cost of current solution and $c(x')$ cost of neighbor solution. If $c(x') - c(x) <=threshold $ then the neighbor solution becomes the current solution for the next iteration, where the threshold is named threshold.\n",
    "\n",
    "In comparison to the Simulated Annealing algorithm, the Threshold Accepting algorithm does not accept very low quality solutions (due to the presence of the threshold value). In the case of Simulated Annealing, even a very low quality solution can be accepted with probability."
   ]
  },
  {
   "cell_type": "markdown",
   "id": "4bbfc7d3-6bdf-47ad-bc7a-ff08c9a33e3e",
   "metadata": {},
   "source": [
    "The `asadpour` approximate solution is one of the best known approximations for the asymmetric traveling salesman problem developed by Asadpour et al. The algorithm first solves the Held-Karp relaxation to find a lower bound for the weight of the cycle. Next, it constructs an exponential distribution of undirected spanning trees where the probability of an edge being in the tree corresponds to the weight of that edge using a maximum entropy rounding scheme. Next we sample that distribution  times and save the minimum sampled tree once the direction of the arcs is added back to the edges. Finally, we augment then short circuit that graph to find the approximate tour for the salesman."
   ]
  },
  {
   "cell_type": "markdown",
   "id": "ae72b4dd-1ce6-48b2-9874-6a76a7cef4d6",
   "metadata": {},
   "source": [
    "This `traveling_salesman_problem` proceeds in two steps. First, it creates a complete graph using the all-pairs shortest_paths between nodes in nodes. Edge weights in the new graph are the lengths of the paths between each pair of nodes in the original graph. Second, an algorithm (default: `christofides` for undirected and `asadpour_atsp` for directed) is used to approximate the minimal `Hamiltonian cycle` on this new graph. `Hamiltonian cycle` is a path in an undirected or directed graph that visits each vertex exactly once."
   ]
  }
 ],
 "metadata": {
  "kernelspec": {
   "display_name": "Python 3 (ipykernel)",
   "language": "python",
   "name": "python3"
  },
  "language_info": {
   "codemirror_mode": {
    "name": "ipython",
    "version": 3
   },
   "file_extension": ".py",
   "mimetype": "text/x-python",
   "name": "python",
   "nbconvert_exporter": "python",
   "pygments_lexer": "ipython3",
   "version": "3.9.5"
  }
 },
 "nbformat": 4,
 "nbformat_minor": 5
}
