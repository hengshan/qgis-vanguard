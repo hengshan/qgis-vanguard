{
 "cells": [
  {
   "cell_type": "markdown",
   "metadata": {
    "tags": []
   },
   "source": [
    "# Day 1 - Part I - Introduction to Python <img src=\"./Resources/sla.png\" width=\"100\" align =\"right\"/>"
   ]
  },
  {
   "cell_type": "markdown",
   "metadata": {},
   "source": [
    "We briefly introduce the essentials of programming in Python. This session will not cover all details in Python. Pls consider the following resources if you'd like to learn more. "
   ]
  },
  {
   "cell_type": "markdown",
   "metadata": {},
   "source": [
    "* https://www.codecademy.com/learn/python\n",
    "* http://docs.python-guide.org/en/latest/intro/learning/\n",
    "* https://www.codementor.io/learn-python-online\n",
    "* http://mbakker7.github.io/exploratory_computing_with_python/"
   ]
  },
  {
   "cell_type": "markdown",
   "metadata": {
    "tags": []
   },
   "source": [
    "## Data Types"
   ]
  },
  {
   "cell_type": "markdown",
   "metadata": {
    "tags": []
   },
   "source": [
    "The basic data types in Python are integers, floats, strings and booleans.\n",
    "<p>Integers: <tt>2, 25, -13, 1000000</tt>\n",
    "<p>Floats: <tt>1.2, 0.0001, -3.4, 1.5e-10</tt>\n",
    "<p>Strings: <tt>\"hello\", \"this is a string\", \"iːvən juːnɪkəʊd\", 'single quotes are also OK', \"can't\"</tt>\n",
    "<p>Booleans: <tt>True</tt>, <tt>False</tt>"
   ]
  },
  {
   "cell_type": "code",
   "execution_count": 12,
   "metadata": {},
   "outputs": [
    {
     "data": {
      "text/plain": [
       "int"
      ]
     },
     "execution_count": 12,
     "metadata": {},
     "output_type": "execute_result"
    }
   ],
   "source": [
    "my_int = 25\n",
    "type(my_int)"
   ]
  },
  {
   "cell_type": "markdown",
   "metadata": {
    "jp-MarkdownHeadingCollapsed": true,
    "tags": []
   },
   "source": [
    "You can display values with the <tt>print()<tt> statement. Separate values with commas.\n",
    "<p>The <tt>type()</tt> function will report the type of the expression."
   ]
  },
  {
   "cell_type": "code",
   "execution_count": 42,
   "metadata": {},
   "outputs": [
    {
     "name": "stdout",
     "output_type": "stream",
     "text": [
      "2021 hello everyone True\n",
      "<class 'int'> <class 'float'> <class 'str'> <class 'bool'>\n"
     ]
    }
   ],
   "source": [
    "print(2021,\"hello\",\"everyone\",True)\n",
    "print(type(2),type(1.2),type(\"hello\"),type(True))"
   ]
  },
  {
   "cell_type": "code",
   "execution_count": 8,
   "metadata": {},
   "outputs": [
    {
     "name": "stdout",
     "output_type": "stream",
     "text": [
      "7 -5 2 12 3.0 3 1 256 Hello QGIS!\n",
      "True True False True False False True True False\n"
     ]
    }
   ],
   "source": [
    "print(3+4,-5,5-3,3*4,12/4,12//4,10%3,2**8,\"Hello \"+\"QGIS!\")\n",
    "print(3<4,3<=4,3==4,3!=4,3>=4,3>4,0<3 and 3<5,0<3 or 3<5,not True)"
   ]
  },
  {
   "cell_type": "code",
   "execution_count": 36,
   "metadata": {},
   "outputs": [
    {
     "name": "stdout",
     "output_type": "stream",
     "text": [
      "hellohello\n"
     ]
    },
    {
     "data": {
      "text/plain": [
       "str"
      ]
     },
     "execution_count": 36,
     "metadata": {},
     "output_type": "execute_result"
    }
   ],
   "source": [
    "my_str = \"hello\" * 2\n",
    "print(my_str)\n",
    "# format\n",
    "# print(f\"this is a test of {my_str}. The result is good.\")\n",
    "type(my_str)"
   ]
  },
  {
   "cell_type": "code",
   "execution_count": 19,
   "metadata": {},
   "outputs": [
    {
     "data": {
      "text/plain": [
       "type"
      ]
     },
     "execution_count": 19,
     "metadata": {},
     "output_type": "execute_result"
    }
   ],
   "source": [
    "type(str)"
   ]
  },
  {
   "cell_type": "code",
   "execution_count": 6,
   "metadata": {
    "collapsed": true,
    "jupyter": {
     "outputs_hidden": true
    },
    "tags": []
   },
   "outputs": [
    {
     "data": {
      "text/plain": [
       "['__add__',\n",
       " '__class__',\n",
       " '__contains__',\n",
       " '__delattr__',\n",
       " '__dir__',\n",
       " '__doc__',\n",
       " '__eq__',\n",
       " '__format__',\n",
       " '__ge__',\n",
       " '__getattribute__',\n",
       " '__getitem__',\n",
       " '__getnewargs__',\n",
       " '__gt__',\n",
       " '__hash__',\n",
       " '__init__',\n",
       " '__init_subclass__',\n",
       " '__iter__',\n",
       " '__le__',\n",
       " '__len__',\n",
       " '__lt__',\n",
       " '__mod__',\n",
       " '__mul__',\n",
       " '__ne__',\n",
       " '__new__',\n",
       " '__reduce__',\n",
       " '__reduce_ex__',\n",
       " '__repr__',\n",
       " '__rmod__',\n",
       " '__rmul__',\n",
       " '__setattr__',\n",
       " '__sizeof__',\n",
       " '__str__',\n",
       " '__subclasshook__',\n",
       " 'capitalize',\n",
       " 'casefold',\n",
       " 'center',\n",
       " 'count',\n",
       " 'encode',\n",
       " 'endswith',\n",
       " 'expandtabs',\n",
       " 'find',\n",
       " 'format',\n",
       " 'format_map',\n",
       " 'index',\n",
       " 'isalnum',\n",
       " 'isalpha',\n",
       " 'isascii',\n",
       " 'isdecimal',\n",
       " 'isdigit',\n",
       " 'isidentifier',\n",
       " 'islower',\n",
       " 'isnumeric',\n",
       " 'isprintable',\n",
       " 'isspace',\n",
       " 'istitle',\n",
       " 'isupper',\n",
       " 'join',\n",
       " 'ljust',\n",
       " 'lower',\n",
       " 'lstrip',\n",
       " 'maketrans',\n",
       " 'partition',\n",
       " 'removeprefix',\n",
       " 'removesuffix',\n",
       " 'replace',\n",
       " 'rfind',\n",
       " 'rindex',\n",
       " 'rjust',\n",
       " 'rpartition',\n",
       " 'rsplit',\n",
       " 'rstrip',\n",
       " 'split',\n",
       " 'splitlines',\n",
       " 'startswith',\n",
       " 'strip',\n",
       " 'swapcase',\n",
       " 'title',\n",
       " 'translate',\n",
       " 'upper',\n",
       " 'zfill']"
      ]
     },
     "execution_count": 6,
     "metadata": {},
     "output_type": "execute_result"
    }
   ],
   "source": [
    "dir(str)"
   ]
  },
  {
   "cell_type": "code",
   "execution_count": 1,
   "metadata": {
    "collapsed": true,
    "jupyter": {
     "outputs_hidden": true
    },
    "tags": []
   },
   "outputs": [
    {
     "name": "stdout",
     "output_type": "stream",
     "text": [
      "Help on method_descriptor:\n",
      "\n",
      "join(self, iterable, /)\n",
      "    Concatenate any number of strings.\n",
      "    \n",
      "    The string whose method is called is inserted in between each given string.\n",
      "    The result is returned as a new string.\n",
      "    \n",
      "    Example: '.'.join(['ab', 'pq', 'rs']) -> 'ab.pq.rs'\n",
      "\n"
     ]
    }
   ],
   "source": [
    "help(str.join)"
   ]
  },
  {
   "cell_type": "code",
   "execution_count": 14,
   "metadata": {},
   "outputs": [
    {
     "name": "stdout",
     "output_type": "stream",
     "text": [
      "True\n"
     ]
    }
   ],
   "source": [
    "n = 15\n",
    "result = 1 < n < 20\n",
    "print(result)"
   ]
  },
  {
   "cell_type": "markdown",
   "metadata": {},
   "source": [
    "Tips: \n",
    "\n",
    "1. Identity operators (`is`) check to see if two variables occupy the same space in memory. This is different that the equality relational operator, ==, which checks to see if two variables have the same value. The two identity operators are in the table below.\n",
    "\n",
    "2. All variables we’ve encountered so far, ints, floats, and strs, are immutable. If we do change the value the variable gets a new place in memory. "
   ]
  },
  {
   "cell_type": "code",
   "execution_count": 23,
   "metadata": {},
   "outputs": [
    {
     "data": {
      "text/plain": [
       "(True, True)"
      ]
     },
     "execution_count": 23,
     "metadata": {},
     "output_type": "execute_result"
    }
   ],
   "source": [
    "a = 2\n",
    "b = 2\n",
    "a==b, a is b"
   ]
  },
  {
   "cell_type": "code",
   "execution_count": 24,
   "metadata": {},
   "outputs": [
    {
     "data": {
      "text/plain": [
       "(3039436106064, 3039436106064)"
      ]
     },
     "execution_count": 24,
     "metadata": {},
     "output_type": "execute_result"
    }
   ],
   "source": [
    "id(a),id(b)"
   ]
  },
  {
   "cell_type": "code",
   "execution_count": 28,
   "metadata": {},
   "outputs": [
    {
     "data": {
      "text/plain": [
       "(True, False)"
      ]
     },
     "execution_count": 28,
     "metadata": {},
     "output_type": "execute_result"
    }
   ],
   "source": [
    "a = 'Hello, world.'\n",
    "b = 'Hello, world.'\n",
    "a == b, a is b"
   ]
  },
  {
   "cell_type": "code",
   "execution_count": 32,
   "metadata": {},
   "outputs": [
    {
     "data": {
      "text/plain": [
       "(True, True)"
      ]
     },
     "execution_count": 32,
     "metadata": {},
     "output_type": "execute_result"
    }
   ],
   "source": [
    "a = 'Python'\n",
    "b = 'Python'\n",
    "\n",
    "a == b, a is b"
   ]
  },
  {
   "cell_type": "code",
   "execution_count": 25,
   "metadata": {},
   "outputs": [
    {
     "data": {
      "text/plain": [
       "(140720184522856, 140720184522888)"
      ]
     },
     "execution_count": 25,
     "metadata": {},
     "output_type": "execute_result"
    }
   ],
   "source": [
    "a = True\n",
    "b = False\n",
    "id(a),id(b)"
   ]
  },
  {
   "cell_type": "code",
   "execution_count": 26,
   "metadata": {},
   "outputs": [],
   "source": [
    "a = False"
   ]
  },
  {
   "cell_type": "code",
   "execution_count": null,
   "metadata": {},
   "outputs": [
    {
     "data": {
      "text/plain": [
       "140720184522888"
      ]
     },
     "execution_count": 27,
     "metadata": {},
     "output_type": "execute_result"
    }
   ],
   "source": [
    "id(a)"
   ]
  },
  {
   "cell_type": "code",
   "execution_count": 33,
   "metadata": {},
   "outputs": [
    {
     "data": {
      "text/plain": [
       "True"
      ]
     },
     "execution_count": 33,
     "metadata": {},
     "output_type": "execute_result"
    }
   ],
   "source": [
    "not False or True"
   ]
  },
  {
   "cell_type": "code",
   "execution_count": 34,
   "metadata": {},
   "outputs": [
    {
     "data": {
      "text/plain": [
       "False"
      ]
     },
     "execution_count": 34,
     "metadata": {},
     "output_type": "execute_result"
    }
   ],
   "source": [
    "not (False or True)"
   ]
  },
  {
   "cell_type": "markdown",
   "metadata": {},
   "source": [
    "tips: The %who line command returns all variables of a particular type. We can see variables of different type which are *currently active* in jupyterlab."
   ]
  },
  {
   "cell_type": "code",
   "execution_count": 50,
   "metadata": {},
   "outputs": [],
   "source": [
    "%who int\n",
    "%who str\n",
    "%who function"
   ]
  },
  {
   "cell_type": "markdown",
   "metadata": {
    "tags": []
   },
   "source": [
    "## Conditional statements\n",
    "<p>The basic structure of a conditional statement is:\n",
    "  <ul>if &lt;boolean expression>:\n",
    "    <ul>&lt;statements to be executed only if expression is true></ul>\n",
    "  </ul>\n",
    "<p>Note the use of the colon ':' symbol to indicate the start of a controlled block. "
   ]
  },
  {
   "cell_type": "code",
   "execution_count": null,
   "metadata": {},
   "outputs": [],
   "source": [
    "val=int(input(\"Type a number: \"))\n",
    "if val > 100:\n",
    "    print(\"warning: value is too big\")\n",
    "    val=100\n",
    "elif val < 0:\n",
    "    print(\"warning: value is too small\")\n",
    "    val=0\n",
    "else:\n",
    "    print(\"value is OK\")\n",
    "print(\"value=\",val)"
   ]
  },
  {
   "cell_type": "markdown",
   "metadata": {
    "tags": []
   },
   "source": [
    "## Lists"
   ]
  },
  {
   "cell_type": "markdown",
   "metadata": {},
   "source": [
    "Python has two very useful data structures built into the language:\n",
    "\n",
    "* lists: []\n",
    "* dictionaries: {}\n",
    "\n",
    "Let's first learn lists."
   ]
  },
  {
   "cell_type": "code",
   "execution_count": 39,
   "metadata": {
    "collapsed": false,
    "jupyter": {
     "outputs_hidden": false
    }
   },
   "outputs": [],
   "source": [
    "my_list=[100,\"QGIS\",True,3.14159]\n",
    "print(my_list)\n",
    "# element=mylist[1]\n",
    "# print(element)\n",
    "# mylist[1]=\"Fred\"\n",
    "# print(mylist)\n",
    "# mylist.append(\"new value\")\n",
    "# print(mylist)\n",
    "# del mylist[2]\n",
    "# print(mylist)"
   ]
  },
  {
   "cell_type": "markdown",
   "metadata": {},
   "source": [
    "list slicing   \n",
    "my_list[start:end:stride]\n",
    "* If there are no colons, a single element is returned.\n",
    "* If there are any colons, we are slicing the list, and a list is returned.\n",
    "* If there is one colon, stride is assumed to be 1.\n",
    "* If start is not specified, it is assumed to be zero.\n",
    "* If end is not specified, the interpreted assumed you want the entire list.\n",
    "* If stride is not specified, it is assumed to be 1."
   ]
  },
  {
   "cell_type": "code",
   "execution_count": 10,
   "metadata": {},
   "outputs": [],
   "source": [
    "my_list = [0, 1, 2, 3, 4, 5, 6, 7, 8, 9, 10]"
   ]
  },
  {
   "cell_type": "code",
   "execution_count": 13,
   "metadata": {},
   "outputs": [
    {
     "name": "stdout",
     "output_type": "stream",
     "text": [
      "2\n",
      "9\n",
      "[2, 4, 6, 8, 10]\n",
      "[2, 4, 6, 8]\n",
      "[9, 7, 5, 3, 1]\n",
      "[9, 7, 5, 3]\n",
      "[]\n"
     ]
    }
   ],
   "source": [
    "print(my_list[2])\n",
    "print(my_list[-2])\n",
    "print(my_list[2::2])\n",
    "print(my_list[2:-1:2]) # pay extra attention here, if end is not specified, it is assumed we want the entire list, but if it is specified, the colon right side item is not included\n",
    "print(my_list[-2::-2])\n",
    "print(my_list[-2:2:-2]) # it is the same in the reversed order\n",
    "print(my_list[2:2:-2])"
   ]
  },
  {
   "cell_type": "markdown",
   "metadata": {},
   "source": [
    "*** Lists are mutable. "
   ]
  },
  {
   "cell_type": "code",
   "execution_count": 17,
   "metadata": {},
   "outputs": [
    {
     "name": "stdout",
     "output_type": "stream",
     "text": [
      "2194885581440\n",
      "['zero', 1, 2, 3, 4, 5, 6, 7, 8, 9, 10]\n",
      "2194885581440\n"
     ]
    }
   ],
   "source": [
    "print(id(my_list))\n",
    "\n",
    "# list is mutable\n",
    "my_list[0] = 'zero'\n",
    "print(my_list)\n",
    "print(id(my_list))"
   ]
  },
  {
   "cell_type": "code",
   "execution_count": 54,
   "metadata": {},
   "outputs": [],
   "source": [
    "## assigning lists to variables != copy\n",
    "my_list = [1, 2, 3, 4, 5, 6, 7, 8, 9, 10]\n",
    "my_list_1 = my_list\n",
    "my_list_2 = my_list[:]"
   ]
  },
  {
   "cell_type": "code",
   "execution_count": 26,
   "metadata": {},
   "outputs": [],
   "source": [
    "# list operators\n",
    "[1, 2, 3] + [4, 5, 6]"
   ]
  },
  {
   "cell_type": "code",
   "execution_count": 24,
   "metadata": {},
   "outputs": [
    {
     "name": "stdout",
     "output_type": "stream",
     "text": [
      "Help on wrapper_descriptor:\n",
      "\n",
      "__add__(self, value, /)\n",
      "    Return self+value.\n",
      "\n"
     ]
    },
    {
     "data": {
      "text/plain": [
       "\u001b[1;31mSignature:\u001b[0m      \u001b[0mlist\u001b[0m\u001b[1;33m.\u001b[0m\u001b[0m__add__\u001b[0m\u001b[1;33m(\u001b[0m\u001b[0mself\u001b[0m\u001b[1;33m,\u001b[0m \u001b[0mvalue\u001b[0m\u001b[1;33m,\u001b[0m \u001b[1;33m/\u001b[0m\u001b[1;33m)\u001b[0m\u001b[1;33m\u001b[0m\u001b[1;33m\u001b[0m\u001b[0m\n",
       "\u001b[1;31mCall signature:\u001b[0m \u001b[0mlist\u001b[0m\u001b[1;33m.\u001b[0m\u001b[0m__add__\u001b[0m\u001b[1;33m(\u001b[0m\u001b[1;33m*\u001b[0m\u001b[0margs\u001b[0m\u001b[1;33m,\u001b[0m \u001b[1;33m**\u001b[0m\u001b[0mkwargs\u001b[0m\u001b[1;33m)\u001b[0m\u001b[1;33m\u001b[0m\u001b[1;33m\u001b[0m\u001b[0m\n",
       "\u001b[1;31mType:\u001b[0m           wrapper_descriptor\n",
       "\u001b[1;31mString form:\u001b[0m    <slot wrapper '__add__' of 'list' objects>\n",
       "\u001b[1;31mNamespace:\u001b[0m      Python builtin\n",
       "\u001b[1;31mDocstring:\u001b[0m      Return self+value.\n"
      ]
     },
     "metadata": {},
     "output_type": "display_data"
    }
   ],
   "source": [
    "help(list.__add__)\n",
    "list.__add__?"
   ]
  },
  {
   "cell_type": "code",
   "execution_count": 28,
   "metadata": {
    "tags": []
   },
   "outputs": [],
   "source": [
    "[1, 2, 3] * 3"
   ]
  },
  {
   "cell_type": "markdown",
   "metadata": {},
   "source": [
    "* Tips: Membership operators (`in` and `not in`) are used to determine if an item is in or not in a list. "
   ]
  },
  {
   "cell_type": "code",
   "execution_count": 21,
   "metadata": {},
   "outputs": [
    {
     "data": {
      "text/plain": [
       "False"
      ]
     },
     "execution_count": 21,
     "metadata": {},
     "output_type": "execute_result"
    }
   ],
   "source": [
    "0 in my_list"
   ]
  },
  {
   "cell_type": "markdown",
   "metadata": {},
   "source": [
    "## Iteration"
   ]
  },
  {
   "cell_type": "code",
   "execution_count": 87,
   "metadata": {},
   "outputs": [
    {
     "name": "stdout",
     "output_type": "stream",
     "text": [
      "1\n",
      "2\n",
      "3\n",
      "4\n",
      "5\n"
     ]
    }
   ],
   "source": [
    "# We'll do one through 5\n",
    "my_integers = [1, 2, 3, 4, 5]\n",
    "\n",
    "# print each one\n",
    "for n in my_integers:\n",
    "    print(n)"
   ]
  },
  {
   "cell_type": "code",
   "execution_count": 84,
   "metadata": {},
   "outputs": [
    {
     "data": {
      "text/plain": [
       "[1, 2, 3, 4, 5]"
      ]
     },
     "execution_count": 84,
     "metadata": {},
     "output_type": "execute_result"
    }
   ],
   "source": [
    "# Double each one\n",
    "for n in my_integers:\n",
    "    n *= 2\n",
    "\n",
    "# Check out the result\n",
    "my_integers"
   ]
  },
  {
   "cell_type": "markdown",
   "metadata": {},
   "source": [
    "It didn’t double any of the integers! This is because my_integers was converted to an `iterator` in the for clause, and the iterator returns a *copy* of the item in a list, not a *reference* to it. Therefore, the n inside the for block is not a view into the original list, and doubling it does nothing meaningful."
   ]
  },
  {
   "cell_type": "code",
   "execution_count": 88,
   "metadata": {},
   "outputs": [
    {
     "data": {
      "text/plain": [
       "[2, 4, 6, 8, 10]"
      ]
     },
     "execution_count": 88,
     "metadata": {},
     "output_type": "execute_result"
    }
   ],
   "source": [
    "# lists are indeed mutable\n",
    "my_integers[0] *= 2\n",
    "my_integers[1] *= 2\n",
    "my_integers[2] *= 2\n",
    "my_integers[3] *= 2\n",
    "my_integers[4] *= 2\n",
    "my_integers"
   ]
  },
  {
   "cell_type": "code",
   "execution_count": 83,
   "metadata": {},
   "outputs": [
    {
     "name": "stdout",
     "output_type": "stream",
     "text": [
      "Q\n",
      "G\n",
      "I\n",
      "S\n"
     ]
    }
   ],
   "source": [
    "seq = 'QGIS'\n",
    "# Loop through sequence\n",
    "for base in seq:\n",
    "    print(base)"
   ]
  },
  {
   "cell_type": "markdown",
   "metadata": {},
   "source": [
    "### Iterators"
   ]
  },
  {
   "cell_type": "markdown",
   "metadata": {},
   "source": [
    "A string is a `sequence` in Python. A `sequence` is a positionally ordered collection of items. Python classifies sequence types as mutable and immutable. \n",
    "\n",
    "* The mutable sequence types are lists and bytearrays\n",
    "* The immutable sequence types are strings, tuples, range, and bytes.\n",
    "\n",
    "**Any sequence is iterable**. In the above example, the Python interpreter actually converts an iterable (i.e., list my_integer) to an `iterator`. An `iterator` is a special object that gives values in succession. A major difference between a sequence and an iterator is that you cannot index an iterator. Iterators are **more efficient** in computing than directly using a sequence with indexing.\n",
    "\n",
    "We can explicitly convert a sequence to an iterator using the built-in function `iter()`. The Python interpreter automatically does this for you when you use a sequence in a loop. "
   ]
  },
  {
   "cell_type": "markdown",
   "metadata": {},
   "source": [
    "We will now explore how we can create useful iterators using the `range()`, `enumerate()`, and `zip()` functions."
   ]
  },
  {
   "cell_type": "markdown",
   "metadata": {},
   "source": [
    "### range"
   ]
  },
  {
   "cell_type": "markdown",
   "metadata": {},
   "source": [
    "The `range()` function gives an iterable that enables counting."
   ]
  },
  {
   "cell_type": "code",
   "execution_count": 93,
   "metadata": {},
   "outputs": [
    {
     "name": "stdout",
     "output_type": "stream",
     "text": [
      "0  1  2  3  4  5  6  7  8  9  "
     ]
    }
   ],
   "source": [
    "for i in range(10):\n",
    "    print(i, end='  ')"
   ]
  },
  {
   "cell_type": "code",
   "execution_count": 94,
   "metadata": {
    "collapsed": true,
    "jupyter": {
     "outputs_hidden": true
    },
    "tags": []
   },
   "outputs": [
    {
     "name": "stdout",
     "output_type": "stream",
     "text": [
      "Help on built-in function print in module builtins:\n",
      "\n",
      "print(...)\n",
      "    print(value, ..., sep=' ', end='\\n', file=sys.stdout, flush=False)\n",
      "    \n",
      "    Prints the values to a stream, or to sys.stdout by default.\n",
      "    Optional keyword arguments:\n",
      "    file:  a file-like object (stream); defaults to the current sys.stdout.\n",
      "    sep:   string inserted between values, default a space.\n",
      "    end:   string appended after the last value, default a newline.\n",
      "    flush: whether to forcibly flush the stream.\n",
      "\n"
     ]
    }
   ],
   "source": [
    "help(print)"
   ]
  },
  {
   "cell_type": "markdown",
   "metadata": {},
   "source": [
    "### enumerate"
   ]
  },
  {
   "cell_type": "code",
   "execution_count": 97,
   "metadata": {},
   "outputs": [
    {
     "name": "stdout",
     "output_type": "stream",
     "text": [
      "0 Q\n",
      "1 G\n",
      "2 I\n",
      "3 S\n"
     ]
    }
   ],
   "source": [
    "# Loop through sequence and print index of G's\n",
    "for i, base in enumerate(seq):\n",
    "    print(i, base)"
   ]
  },
  {
   "cell_type": "code",
   "execution_count": 83,
   "metadata": {},
   "outputs": [
    {
     "name": "stdout",
     "output_type": "stream",
     "text": [
      "Q\n",
      "G\n",
      "I\n",
      "S\n"
     ]
    }
   ],
   "source": [
    "seq = 'QGIS'\n",
    "# Loop through sequence\n",
    "for base in seq:\n",
    "    print(base)"
   ]
  },
  {
   "cell_type": "markdown",
   "metadata": {
    "tags": []
   },
   "source": [
    "### zip"
   ]
  },
  {
   "cell_type": "markdown",
   "metadata": {},
   "source": [
    "The zip() function enables us to iterate over multiple iterables at once. "
   ]
  },
  {
   "cell_type": "code",
   "execution_count": 99,
   "metadata": {},
   "outputs": [
    {
     "name": "stdout",
     "output_type": "stream",
     "text": [
      "19 Dunn D\n",
      "8 Ertz MF\n",
      "16 Lavelle MF\n",
      "15 Rapinoe F\n"
     ]
    }
   ],
   "source": [
    "names = ('Dunn', 'Ertz', 'Lavelle', 'Rapinoe')\n",
    "positions = ('D', 'MF', 'MF', 'F')\n",
    "numbers = (19, 8, 16, 15)\n",
    "\n",
    "for num, pos, name in zip(numbers, positions, names):\n",
    "    print(num, name, pos)"
   ]
  },
  {
   "cell_type": "markdown",
   "metadata": {
    "tags": []
   },
   "source": [
    "## Functions"
   ]
  },
  {
   "cell_type": "markdown",
   "metadata": {},
   "source": [
    "You can think of a function in a computing language in much the same way you think of a mathematical function.\n",
    "\n",
    "$$f(x,y) = \\frac{x}{y}$$"
   ]
  },
  {
   "cell_type": "code",
   "execution_count": 100,
   "metadata": {},
   "outputs": [
    {
     "name": "stdout",
     "output_type": "stream",
     "text": [
      "Help on function ratio in module __main__:\n",
      "\n",
      "ratio(x, y)\n",
      "    The ratio of `x` to `y`.\n",
      "\n"
     ]
    }
   ],
   "source": [
    "def ratio(x, y):\n",
    "    \"\"\"The ratio of `x` to `y`.\"\"\"\n",
    "    return x / y\n",
    "\n",
    "help(ratio)"
   ]
  },
  {
   "cell_type": "code",
   "execution_count": 30,
   "metadata": {
    "collapsed": false,
    "jupyter": {
     "outputs_hidden": false
    }
   },
   "outputs": [
    {
     "data": {
      "text/plain": [
       "0.5"
      ]
     },
     "execution_count": 30,
     "metadata": {},
     "output_type": "execute_result"
    }
   ],
   "source": [
    "# Default arguments\n",
    "\"\"\"The ratio of `x` to `y`.\"\"\"\n",
    "def ratio(x=1, y=2):\n",
    "    return x / y\n",
    "\n",
    "ratio()"
   ]
  },
  {
   "cell_type": "code",
   "execution_count": 17,
   "metadata": {
    "tags": []
   },
   "outputs": [],
   "source": [
    "# arguement can be a list\n",
    "def some_function(start=[]):\n",
    "    start.append(1)\n",
    "    return start"
   ]
  },
  {
   "cell_type": "code",
   "execution_count": 18,
   "metadata": {
    "tags": []
   },
   "outputs": [],
   "source": [
    "result = some_function()"
   ]
  },
  {
   "cell_type": "code",
   "execution_count": 19,
   "metadata": {
    "tags": []
   },
   "outputs": [
    {
     "data": {
      "text/plain": [
       "[1, 2]"
      ]
     },
     "execution_count": 19,
     "metadata": {},
     "output_type": "execute_result"
    }
   ],
   "source": [
    "result.append(2)\n",
    "result"
   ]
  },
  {
   "cell_type": "code",
   "execution_count": 7,
   "metadata": {},
   "outputs": [
    {
     "name": "stdout",
     "output_type": "stream",
     "text": [
      "This is a function\n",
      "Hello world\n"
     ]
    }
   ],
   "source": [
    "# argument can be a function\n",
    "def some_function2(fun):\n",
    "    fun()\n",
    "    print(\"Hello world\")\n",
    "\n",
    "def fun():\n",
    "    print(\"This is a function\")\n",
    "\n",
    "some_function2(fun)"
   ]
  },
  {
   "cell_type": "code",
   "execution_count": 49,
   "metadata": {},
   "outputs": [
    {
     "name": "stdout",
     "output_type": "stream",
     "text": [
      "Hello world\n",
      "This is a function\n"
     ]
    }
   ],
   "source": [
    "# an simple example of decorator (Optional)\n",
    "def some_function3(fun):\n",
    "    def wrappedFunc():\n",
    "        print(\"Hello world\")\n",
    "        fun()\n",
    "    return wrappedFunc\n",
    "\n",
    "@some_function3\n",
    "def fun():\n",
    "    print(\"This is a function\")\n",
    "    \n",
    "fun()"
   ]
  },
  {
   "cell_type": "markdown",
   "metadata": {},
   "source": [
    "* unpacking operator: splitting the tuple but putting a * in front of it"
   ]
  },
  {
   "cell_type": "code",
   "execution_count": 1,
   "metadata": {},
   "outputs": [
    {
     "data": {
      "text/plain": [
       "60"
      ]
     },
     "execution_count": 1,
     "metadata": {},
     "output_type": "execute_result"
    }
   ],
   "source": [
    "def add_three(a=0, b=0, c=0):\n",
    "    return a + b + c\n",
    "\n",
    "x = (10,20,30)\n",
    "add_three(x[0],x[1],x[2])"
   ]
  },
  {
   "cell_type": "code",
   "execution_count": 6,
   "metadata": {},
   "outputs": [
    {
     "data": {
      "text/plain": [
       "60"
      ]
     },
     "execution_count": 6,
     "metadata": {},
     "output_type": "execute_result"
    }
   ],
   "source": [
    "# or unpack operator\n",
    "add_three(*x)"
   ]
  },
  {
   "cell_type": "markdown",
   "metadata": {
    "tags": []
   },
   "source": [
    "## Built-in functions\n",
    "Python has a large number of built-in functions. Here are the most commonly used:\n",
    "<p><table>\n",
    "  <tr><th>Function</th><th>Example</th><th>Description</th></tr>\n",
    "  <tr><td><tt>abs</tt></td><td><tt>y=abs(x)</tt></td><td>Absolute value</td></tr>\n",
    "  <tr><td><tt>chr</tt></td><td><tt>ch=chr(x)</tt></td><td>Character with specified code</td></tr>\n",
    "  <tr><td><tt>float</tt></td><td><tt>x=float(str)</tt></td><td>Convert string to floating point number</td></tr>\n",
    "  <tr><td><tt>input</tt></td><td><tt>y=input('Type your name: ')</tt></td><td>Input string value from user</td></tr>\n",
    "  <tr><td><tt>int</tt></td><td><tt>n=int(str)</tt></td><td>Convert string to integer number</td></tr>\n",
    "  <tr><td><tt>len</tt></td><td><tt>n=len(mylist)</tt></td><td>Number of items in list or characters in string</td></tr>\n",
    "  <tr><td><tt>max</tt></td><td><tt>x=max(mylist)</tt></td><td>Largest value in list</td></tr>\n",
    "  <tr><td><tt>min</tt></td><td><tt>x=min(mylist)</tt></td><td>Smallest value in list</td></tr>\n",
    "  <tr><td><tt>ord</tt></td><td><tt>n=ord(ch)</tt></td><td>Character code from string</td></tr>\n",
    "  <tr><td><tt>print</tt></td><td><tt>print(x,y,str)</tt></td><td>Convert values to string form and print</td></tr>\n",
    "  <tr><td><tt>range</tt></td><td><tt>r=range(1,10,2)</tt></td><td>Generate number sequence</td></tr>\n",
    "  <tr><td><tt>str</tt></td><td><tt>str=str(x)</tt></td><td>String representation of value</td></tr>\n",
    "  <tr><td><tt>type</tt></td><td><tt>print(type(x))</tt></td><td>String representation of the type of an expression</td></tr>\n",
    "</table>\n",
    "\n",
    "Here is a [full list of the built-in functions](https://docs.python.org/3/library/functions.html).\n"
   ]
  },
  {
   "cell_type": "markdown",
   "metadata": {
    "tags": []
   },
   "source": [
    "## Dicts"
   ]
  },
  {
   "cell_type": "markdown",
   "metadata": {},
   "source": [
    "A mapping object allows an arbitrary collection of objects to be indexed by an arbitrary collection of values. "
   ]
  },
  {
   "cell_type": "code",
   "execution_count": 10,
   "metadata": {},
   "outputs": [
    {
     "name": "stdout",
     "output_type": "stream",
     "text": [
      "jeffrey\n",
      "lebowski\n"
     ]
    }
   ],
   "source": [
    "name = ('jeffrey', 'lebowski')\n",
    "print(name[0])\n",
    "print(name[1])"
   ]
  },
  {
   "cell_type": "markdown",
   "metadata": {},
   "source": [
    "A mapping object could instead be indexed like name['first name'] and name['last name']"
   ]
  },
  {
   "cell_type": "code",
   "execution_count": 13,
   "metadata": {},
   "outputs": [
    {
     "name": "stdout",
     "output_type": "stream",
     "text": [
      "jeffrey\n",
      "lebowski\n"
     ]
    }
   ],
   "source": [
    "name = {'first_name':'jeffrey', 'last_name':'lebowski'}\n",
    "print(name['first_name'])\n",
    "print(name['last_name'])"
   ]
  },
  {
   "cell_type": "markdown",
   "metadata": {},
   "source": [
    "We do not need to have strings as the keys. In fact, any immutable object can be a key."
   ]
  },
  {
   "cell_type": "code",
   "execution_count": 14,
   "metadata": {},
   "outputs": [
    {
     "data": {
      "text/plain": [
       "{0: 'zero',\n",
       " 1.7: [1, 2, 3],\n",
       " (5, 6, 'dummy string'): 3.14,\n",
       " 'strings are immutable': 42}"
      ]
     },
     "execution_count": 14,
     "metadata": {},
     "output_type": "execute_result"
    }
   ],
   "source": [
    "my_dict = {\n",
    "    0: 'zero',\n",
    "    1.7: [1, 2, 3],\n",
    "    (5, 6, 'dummy string'): 3.14,\n",
    "    'strings are immutable': 42\n",
    "}\n",
    "\n",
    "my_dict"
   ]
  },
  {
   "cell_type": "markdown",
   "metadata": {},
   "source": [
    "It is useful to stop and think about how a dictionary works. Let’s create a dictionary and look at where the values are stored in memory."
   ]
  },
  {
   "cell_type": "code",
   "execution_count": 22,
   "metadata": {
    "tags": []
   },
   "outputs": [
    {
     "name": "stdout",
     "output_type": "stream",
     "text": [
      "{'firstname': 'Mike', 'employed': True, 'height': 1.8}\n"
     ]
    }
   ],
   "source": [
    "my_dict = {'firstname':\"Mike\",'employed':True,'height':1.8 }\n",
    "print(my_dict)"
   ]
  },
  {
   "cell_type": "code",
   "execution_count": 23,
   "metadata": {},
   "outputs": [
    {
     "name": "stdout",
     "output_type": "stream",
     "text": [
      "2751205125760\n",
      "2751205369392\n",
      "140718796470376\n",
      "2751206846416\n"
     ]
    }
   ],
   "source": [
    "# Find where they are stored\n",
    "print(id(my_dict))\n",
    "print(id(my_dict['firstname']))\n",
    "print(id(my_dict['employed']))\n",
    "print(id(my_dict['height']))"
   ]
  },
  {
   "cell_type": "markdown",
   "metadata": {},
   "source": [
    "The dictionary itself also has its own address, and each entry in the dictionary is stored at a different location in memory. When we index a dictionary with a key, *how does the dictionary know which address in memory to use to fetch the value?*\n",
    "\n",
    "Dictionaries use a hash function to do this. A hash function converts its input to an integer. For example, we can use Python’s built-in hash function to convert the keys to integers, which were then converted to integers correspond to locations in memory. A collection of elements that can be indexed this way is called a **hash table**. Because of this, mutable objects are not acceptable as keys."
   ]
  },
  {
   "cell_type": "code",
   "execution_count": 24,
   "metadata": {},
   "outputs": [
    {
     "data": {
      "text/plain": [
       "3835909705856394224"
      ]
     },
     "execution_count": 24,
     "metadata": {},
     "output_type": "execute_result"
    }
   ],
   "source": [
    "hash('firstname')"
   ]
  },
  {
   "cell_type": "code",
   "execution_count": 29,
   "metadata": {},
   "outputs": [
    {
     "name": "stdout",
     "output_type": "stream",
     "text": [
      "firstname : Mike\n",
      "employed : True\n",
      "height : 1.8\n"
     ]
    }
   ],
   "source": [
    "for key, value in my_dict.items():\n",
    "    print(key, ':', value)"
   ]
  },
  {
   "cell_type": "markdown",
   "metadata": {},
   "source": [
    "A nice feature of dictionaries is that they can be passed into functions as keyword arguments. "
   ]
  },
  {
   "cell_type": "code",
   "execution_count": 33,
   "metadata": {},
   "outputs": [
    {
     "data": {
      "text/plain": [
       "210"
      ]
     },
     "execution_count": 33,
     "metadata": {},
     "output_type": "execute_result"
    }
   ],
   "source": [
    "def add_with_kwargs(a, b, **kwargs):\n",
    "    \"\"\"Concatenate (combine) 2 or more numbers.\"\"\"\n",
    "    result = a + b\n",
    "\n",
    "    for key in kwargs:\n",
    "        result += kwargs[key]\n",
    "\n",
    "    return result\n",
    "\n",
    "result = {'c':10, 'd':20, 'e':30}\n",
    "add_with_kwargs(100,50,**result)"
   ]
  },
  {
   "cell_type": "markdown",
   "metadata": {
    "tags": []
   },
   "source": [
    "## List comprehension"
   ]
  },
  {
   "cell_type": "markdown",
   "metadata": {},
   "source": [
    "\"List comprehension\" is the idea of writing some code inside of a list that will generate a list.\n",
    "\n",
    "Consider the following:"
   ]
  },
  {
   "cell_type": "code",
   "execution_count": 37,
   "metadata": {},
   "outputs": [
    {
     "data": {
      "text/plain": [
       "[1, 4, 9, 16, 25, 36, 49, 64, 81, 100]"
      ]
     },
     "execution_count": 37,
     "metadata": {},
     "output_type": "execute_result"
    }
   ],
   "source": [
    "newlist = []\n",
    "for i in range(1, 11):\n",
    "    newlist.append(i**2)\n",
    "newlist"
   ]
  },
  {
   "cell_type": "code",
   "execution_count": 38,
   "metadata": {},
   "outputs": [
    {
     "data": {
      "text/plain": [
       "[1, 4, 9, 16, 25, 36, 49, 64, 81, 100]"
      ]
     },
     "execution_count": 38,
     "metadata": {},
     "output_type": "execute_result"
    }
   ],
   "source": [
    "# list comprehension is much more concise than for loop\n",
    "# pythonian way for programming\n",
    "\n",
    "[item**2 for item in range(1,11)]"
   ]
  },
  {
   "cell_type": "code",
   "execution_count": 47,
   "metadata": {},
   "outputs": [
    {
     "data": {
      "text/plain": [
       "{'a': 2, 'b': 4, 'c': 6, 'd': 8, 'e': 10}"
      ]
     },
     "execution_count": 47,
     "metadata": {},
     "output_type": "execute_result"
    }
   ],
   "source": [
    "# dict comprehension\n",
    "dict1 = {'a': 1, 'b': 2, 'c': 3, 'd': 4, 'e': 5}\n",
    "# Double each value in the dictionary\n",
    "double_dict1 = {k:v*2 for k,v in dict1.items()}\n",
    "double_dict1"
   ]
  },
  {
   "cell_type": "markdown",
   "metadata": {},
   "source": [
    "## Scope of variables"
   ]
  },
  {
   "cell_type": "markdown",
   "metadata": {},
   "source": [
    "Python follows the LEGB Rule:\n",
    "\n",
    "* L, Local: Names assigned in any way within a function (def or lambda)), and not declared global in that function.\n",
    "* E, Enclosing function locals: Name in the local scope of any and all enclosing functions (def or lambda), from inner to outer.\n",
    "* G, Global (module): Names assigned at the top-level of a module file, or declared global in a def within the file.\n",
    "* B, Built-in (Python): Names preassigned in the built-in names module : open, range, SyntaxError,..."
   ]
  },
  {
   "cell_type": "code",
   "execution_count": 41,
   "metadata": {
    "collapsed": false,
    "jupyter": {
     "outputs_hidden": false
    }
   },
   "outputs": [
    {
     "name": "stdout",
     "output_type": "stream",
     "text": [
      "4\n",
      "5\n"
     ]
    }
   ],
   "source": [
    "# global\n",
    "x = 3 \n",
    "def foo():\n",
    "    # local\n",
    "    x=4 \n",
    "    def bar():\n",
    "        # x = 2\n",
    "        print(x)  # Accesses x from foo's scope\n",
    "    bar()  # Prints 4\n",
    "    x=5\n",
    "    bar()  # Prints 5\n",
    "\n",
    "foo()"
   ]
  },
  {
   "cell_type": "code",
   "execution_count": 42,
   "metadata": {},
   "outputs": [
    {
     "name": "stdout",
     "output_type": "stream",
     "text": [
      "3\n"
     ]
    }
   ],
   "source": [
    "print(x)"
   ]
  },
  {
   "cell_type": "code",
   "execution_count": 38,
   "metadata": {
    "collapsed": false,
    "jupyter": {
     "outputs_hidden": false
    }
   },
   "outputs": [
    {
     "data": {
      "text/plain": [
       "[10, 11, 12, 13, 14, 15, 16, 17, 18, 19]"
      ]
     },
     "execution_count": 38,
     "metadata": {},
     "output_type": "execute_result"
    }
   ],
   "source": [
    "# local\n",
    "[x for x in range(10, 20)]"
   ]
  },
  {
   "cell_type": "markdown",
   "metadata": {},
   "source": [
    "See [scope_resolution_legb_rule.ipynb](scope_resolution_legb_rule.ipynb) for some additional readings on scope."
   ]
  },
  {
   "cell_type": "markdown",
   "metadata": {},
   "source": [
    "## Packages and modules"
   ]
  },
  {
   "cell_type": "markdown",
   "metadata": {},
   "source": [
    "The Python Standard Library has lots of built-in modules that contain useful functions and data types for doing specific tasks. You can also use modules from outside the standard library. "
   ]
  },
  {
   "cell_type": "markdown",
   "metadata": {},
   "source": [
    "<p><table><tr><th>Module Name</th><th>Description</th></tr>\n",
    "  <tr><td>os</td><td>Access operating system</td></tr>\n",
    "  <tr><td>sys</td><td>Access computer resources</td></tr>\n",
    "  <tr><td>math</td><td>Access standard mathematical functions</td></tr>\n",
    "  <tr><td>random</td><td>Access pseudo-random number generator</td></tr>\n",
    "  <tr><td>datetime</td><td>Functions for manipulating dates and times</td></tr>\n",
    "  <tr><td>matplotlib</td><td>Simple plotting functions</td></tr>\n",
    "  <tr><td>pandas</td><td>Data Manipulation and Visualization</td></tr>\n",
    "  <tr><td>geopandas</td><td>Geospatial Data Manipulation and Visualization</td></tr>\n",
    "  <tr><td>pysal</td><td>Spatial Analysis Libirary</td></tr>\n",
    "  <tr><td>numpy</td><td>Numeric computing library for Python</td></tr>\n",
    "  <tr><td>scipy</td><td>Scientific computing library for Python</td></tr>\n",
    " </table>\n",
    "  \n",
    "  You can print a list of the functions available in a module with the `dir()` command."
   ]
  },
  {
   "cell_type": "markdown",
   "metadata": {
    "jp-MarkdownHeadingCollapsed": true,
    "tags": []
   },
   "source": [
    "To access these modules, we only need to import them at the start of your program. We can optionally assign them a short name, this saves typing:"
   ]
  },
  {
   "cell_type": "code",
   "execution_count": 37,
   "metadata": {},
   "outputs": [],
   "source": [
    "import numpy as np"
   ]
  },
  {
   "cell_type": "markdown",
   "metadata": {},
   "source": [
    "For example, to calculate the mean of a sequence of numbers, we can write the following function."
   ]
  },
  {
   "cell_type": "code",
   "execution_count": 44,
   "metadata": {},
   "outputs": [
    {
     "name": "stdout",
     "output_type": "stream",
     "text": [
      "3.0\n",
      "3.275\n"
     ]
    }
   ],
   "source": [
    "# no need to write the function\n",
    "def mean(values):\n",
    "    \"\"\"Compute the mean of a sequence of numbers.\"\"\"\n",
    "    return sum(values) / len(values)\n",
    "\n",
    "print(mean([1, 2, 3, 4, 5]))\n",
    "print(mean((4.5, 1.2, -1.6, 9.0)))"
   ]
  },
  {
   "cell_type": "markdown",
   "metadata": {},
   "source": [
    "Or we can just use the `mean` method of numpy."
   ]
  },
  {
   "cell_type": "code",
   "execution_count": 37,
   "metadata": {},
   "outputs": [
    {
     "name": "stdout",
     "output_type": "stream",
     "text": [
      "3.0\n",
      "3.275\n"
     ]
    }
   ],
   "source": [
    "print(np.mean([1, 2, 3, 4, 5]))\n",
    "print(np.mean((4.5, 1.2, -1.6, 9.0)))"
   ]
  },
  {
   "cell_type": "markdown",
   "metadata": {},
   "source": [
    "## Write our own module (optional)"
   ]
  },
  {
   "cell_type": "markdown",
   "metadata": {},
   "source": [
    "First, create a .py file. For example, my_module.py in the project folder.\n",
    "```python\n",
    "\"\"\"\n",
    "examples for building our own module\n",
    "\"\"\"\n",
    "\n",
    "def mean(values):\n",
    "    \"\"\"Compute the mean of a sequence of numbers.\"\"\"\n",
    "    return sum(values) / len(values)\n",
    "\n",
    "```"
   ]
  },
  {
   "cell_type": "code",
   "execution_count": 52,
   "metadata": {},
   "outputs": [
    {
     "data": {
      "text/plain": [
       "3.0"
      ]
     },
     "execution_count": 52,
     "metadata": {},
     "output_type": "execute_result"
    }
   ],
   "source": [
    "import my_module\n",
    "\n",
    "my_module.mean([1, 2, 3, 4, 5])"
   ]
  },
  {
   "cell_type": "markdown",
   "metadata": {},
   "source": [
    "If we write a module that we want to use regardless of what directory we are in, we can use the `setuptools` module of the standard library."
   ]
  },
  {
   "cell_type": "markdown",
   "metadata": {},
   "source": [
    "It is essential that the name of the root directory be the name of the package, and that there be a subdirectory with the same name. That subdirectory must contain a file __init__.py. This file contains information about the package and how the modules of the package are imported, but it may be empty for simple modules. \n",
    "\n",
    "```python\n",
    "\"\"\"Python Module Example for QGIS Vanguard.\"\"\"\n",
    "\n",
    "from .my_module import *\n",
    "\n",
    "__author__ = 'XXX'\n",
    "__email__ = 'xx@xx.xx'\n",
    "__version__ = '0.0.1'\n",
    "```"
   ]
  },
  {
   "cell_type": "markdown",
   "metadata": {},
   "source": [
    "In the main directory, it is good practice to have a README Markdown file that has information about the package. We also need to have a file called `setup.py`, which contains the instructions for setuptools to install the package. We use the setuptools.setup() function to do the installation.\n",
    "\n",
    "```python\n",
    "import setuptools\n",
    "\n",
    "with open(\"README.md\", \"r\") as f:\n",
    "    long_description = f.read()\n",
    "\n",
    "setuptools.setup(\n",
    "    name='qv_module',\n",
    "    version='0.0.1',\n",
    "    author='XX',\n",
    "    author_email='xx@xx.xx',\n",
    "    description='an example of a python module.',\n",
    "    long_description=long_description,\n",
    "    long_description_content_type='ext/markdown',\n",
    "    packages=setuptools.find_packages(),\n",
    "    classifiers=(\n",
    "        \"Programming Language :: Python :: 3\",\n",
    "        \"Operating System :: OS Independent\",\n",
    "    ),\n",
    ")```"
   ]
  },
  {
   "cell_type": "markdown",
   "metadata": {},
   "source": [
    "This is a minimal setup.py function, but will be sufficient for most packages we write for our own use. "
   ]
  },
  {
   "cell_type": "markdown",
   "metadata": {
    "tags": []
   },
   "source": [
    "## Style"
   ]
  },
  {
   "cell_type": "markdown",
   "metadata": {},
   "source": [
    "* Variable names need to be descriptive.\n",
    "* Variable names are all lower case with underscores separating words.\n",
    "* Do not name variables l, O, or I because they are hard to distinguish from ones and zeros.\n",
    "* Function names are lower case and may use underscores.\n",
    "* Class names are in PascalCase, where every word in the name of the class has the first letter capitalized and there are no spaces between words. (We will briefly discuss classes at the end of the bootcamp.) You will come across PascalCase objects in many packages, which usually means you are instantiating a class.\n",
    "* Module names are short and lower case. Underscores should be avoided unless necessary for readability.\n",
    "* Lines are maximally 79 characters long.\n",
    "* Lines in doc strings are maximally 72 characters long.\n",
    "* Avoid in-line comments; put the comment directly above the code.\n",
    "* Avoid excessive comments that state the obvious.\n",
    "* Generally, put single spaces around binary operators, unless omitting space improves readability. \n",
    "* Assignment operators should always have single spaces around them except when in keyword arguments. E.g., no space in f(x, y=4).\n",
    "* Put spaces after commas in function definitions and calls. This also applies for lists, tuples, NumPy arrays, etc.\n",
    "* Avoid excessive spaces within parentheses, braces, and brackets.\n",
    "* Use a single blank line to separate logical sections of your code.\n",
    "* Put two blank lines between functions in a .py file.\n",
    "* Put all import statements at the top of the file, importing from one module per line."
   ]
  },
  {
   "cell_type": "markdown",
   "metadata": {},
   "source": [
    "The package `Black` to be a very useful tool for style. Code that is formatted using Black is said to be “blackened.”\n",
    "```python\n",
    "!pip show black\n",
    "!pip show blackcellmagic\n",
    "```"
   ]
  },
  {
   "cell_type": "code",
   "execution_count": 2,
   "metadata": {},
   "outputs": [],
   "source": [
    "# put this at the top of the notebook\n",
    "%load_ext blackcellmagic"
   ]
  },
  {
   "cell_type": "code",
   "execution_count": 5,
   "metadata": {},
   "outputs": [],
   "source": [
    "%%black\n",
    "my_str='HELLOWORLD'"
   ]
  },
  {
   "cell_type": "markdown",
   "metadata": {},
   "source": [
    "We should pay attention to coding style, so that the code we write are readable."
   ]
  },
  {
   "cell_type": "markdown",
   "metadata": {
    "tags": []
   },
   "source": [
    "## Object-Oriented Programming (OOP) (optional) "
   ]
  },
  {
   "cell_type": "markdown",
   "metadata": {},
   "source": [
    "Class acts as a blueprint for creating different objects. \n",
    "\n",
    "Objects are an instance of a class. An object has its own properties(attributes) and behavior(methods).\n",
    "\n",
    "One class can have many objects and value of properties for different objects can be different."
   ]
  },
  {
   "cell_type": "code",
   "execution_count": null,
   "metadata": {},
   "outputs": [],
   "source": [
    "#### OO Programming in 7 minutes"
   ]
  },
  {
   "cell_type": "code",
   "execution_count": 59,
   "metadata": {},
   "outputs": [
    {
     "data": {
      "image/jpeg": "[encoded data removed]",
      "text/html": [
       "\n",
       "        <iframe\n",
       "            width=\"600\"\n",
       "            height=\"300\"\n",
       "            src=\"https://www.youtube.com/embed/pTB0EiLXUC8?start=0\"\n",
       "            frameborder=\"0\"\n",
       "            allowfullscreen\n",
       "        ></iframe>\n",
       "        "
      ],
      "text/plain": [
       "<IPython.lib.display.YouTubeVideo at 0x2c3b28a4eb0>"
      ]
     },
     "execution_count": 59,
     "metadata": {},
     "output_type": "execute_result"
    }
   ],
   "source": [
    "from IPython.display import Audio,Image, YouTubeVideo\n",
    "id='pTB0EiLXUC8'\n",
    "YouTubeVideo(id=id,width=600,height=300, start=0)"
   ]
  },
  {
   "cell_type": "code",
   "execution_count": null,
   "metadata": {},
   "outputs": [],
   "source": [
    "#### Python OO Programming"
   ]
  },
  {
   "cell_type": "code",
   "execution_count": 60,
   "metadata": {},
   "outputs": [
    {
     "data": {
      "image/jpeg": "[encoded data removed]",
      "text/html": [
       "\n",
       "        <iframe\n",
       "            width=\"600\"\n",
       "            height=\"300\"\n",
       "            src=\"https://www.youtube.com/embed/JeznW_7DlB0?start=0\"\n",
       "            frameborder=\"0\"\n",
       "            allowfullscreen\n",
       "        ></iframe>\n",
       "        "
      ],
      "text/plain": [
       "<IPython.lib.display.YouTubeVideo at 0x2c3b28a43d0>"
      ]
     },
     "execution_count": 60,
     "metadata": {},
     "output_type": "execute_result"
    }
   ],
   "source": [
    "id = 'JeznW_7DlB0'\n",
    "YouTubeVideo(id=id, width=600, height=300, start=0)"
   ]
  },
  {
   "cell_type": "markdown",
   "metadata": {
    "tags": []
   },
   "source": [
    "We create classes that behave like native data structures like lists, dictionary, etc.\n",
    "\n",
    "Below are the double under (so called \"dunder\") methods of class. These special methods provide a common API that allows developers to create interactive classes which are very useful.\n",
    "\n",
    "1. Basic Customizations\n",
    "* \\_\\_new__(self) return a new object (an instance of that class). It is called before __init__ method.  \n",
    "* \\_\\_init__(self) is called when the object is initialized. It is the constructor of a class.  \n",
    "* \\_\\_del__(self) for del() function. Called when the object is to be destroyed. Can be used to commit unsaved data or close connections.  \n",
    "* \\_\\_repr__(self) for repr() function. It returns a string to print the object. Intended for developers to debug. Must be implemented in any class.  \n",
    "* \\_\\_str__(self) for str() function. Return a string to print the object. Intended for users to see a pretty and useful output. If not implemented, __repr__ will be used as a fallback.  \n",
    "* \\_\\_bytes__(self) for bytes() function. Return a byte object which is the byte string representation of the object.  \n",
    "* \\_\\_format__(self) for format() function. Evaluate formatted string literals like % for percentage format and ‘b’ for binary.  \n",
    "* \\_\\_lt__(self, anotherObj) for < operator.  \n",
    "* \\_\\_le__(self, anotherObj) for <= operator.  \n",
    "* \\_\\_eq__(self, anotherObj) for == operator.  \n",
    "* \\_\\_ne__(self, anotherObj) for != operator.  \n",
    "* \\_\\_gt__(self, anotherObj)for > operator.  \n",
    "* \\_\\_ge__(self, anotherObj)for >= operator.  \n",
    "2. Arithmetic Operators\n",
    "* \\_\\_add__(self, anotherObj) for + operator.\n",
    "* \\_\\_sub__(self, anotherObj) for – operation on object.\n",
    "* \\_\\_mul__(self, anotherObj) for * operation on object.\n",
    "* \\_\\_matmul__(self, anotherObj) for @ operator (numpy matrix multiplication).\n",
    "* \\_\\_truediv__(self, anotherObj) for simple / division operation on object.\n",
    "* \\_\\_floordiv__(self, anotherObj) for // floor division operation on object.\n",
    "3. Type Conversion\n",
    "* \\_\\_abs__(self) make support for abs() function. Return absolute value.\n",
    "* \\_\\_int__(self) support for int() function. Returns the integer value of the object.\n",
    "* \\_\\_float__(self) for float() function support. Returns float equivalent of the object.\n",
    "* \\_\\_complex__(self) for complex() function support. Return complex value representation of the object.\n",
    "* \\_\\_round__(self, nDigits) for round() function. Round off float type to 2 digits and return it.\n",
    "* \\_\\_trunc__(self) for trunc() function of math module. Returns the real value of the object.\n",
    "* \\_\\_ceil__(self) for ceil() function of math module. The ceil function Return ceiling value of the object.\n",
    "* \\_\\_floor__(self) for floor() function of math module. Return floor value of the object.\n",
    "4. Emulating Container Types\n",
    "* \\_\\_len__(self) for len() function. Returns the total number in any container.\n",
    "* \\_\\_getitem__(self, key) to support indexing. LIke container[index] calls container.__getitem(key)explicitly.\n",
    "* \\_\\_setitem__(self, key, value) makes item mutable (items can be changed by index), like container[index] = otherElement.\n",
    "* \\_\\_delitem__(self, key) for del() function. Delete the value at the index key.\n",
    "* \\_\\_iter__(self) returns an iterator when required that iterates all values in the container.\n",
    "\n"
   ]
  },
  {
   "cell_type": "code",
   "execution_count": 41,
   "metadata": {},
   "outputs": [
    {
     "name": "stdout",
     "output_type": "stream",
     "text": [
      "Object: Hello\n",
      "Hello world\n"
     ]
    }
   ],
   "source": [
    "# declare our own string class\n",
    "class StringExample:\n",
    "\n",
    "    # magic method to initiate object\n",
    "    def __init__(self, string):\n",
    "        self.string = string\n",
    "\n",
    "    # print our string object\n",
    "    def __repr__(self):\n",
    "        return 'Object: {}'.format(self.string)\n",
    "\n",
    "    def __add__(self, other):\n",
    "        return self.string + other\n",
    "\n",
    "\n",
    "# object creation\n",
    "string1 = StringExample('Hello')\n",
    "\n",
    "# print object location\n",
    "print(string1)\n",
    "\n",
    "# concatenate String object and a string\n",
    "print(string1 + ' world')\n"
   ]
  },
  {
   "cell_type": "code",
   "execution_count": 102,
   "metadata": {
    "tags": []
   },
   "outputs": [
    {
     "name": "stdout",
     "output_type": "stream",
     "text": [
      "Using staticmethod -> 1300.0\n",
      "Using classmethod from the parent class -> 1400.0\n",
      "Using classmethod from the inherited subclass -> 1400.0\n",
      "Using a regular instance method -> 1500.0\n"
     ]
    }
   ],
   "source": [
    "############ optional #######################\n",
    "class Bank():\n",
    "    def __init__(self, balance):\n",
    "        self.balance = balance\n",
    "\n",
    "    @staticmethod\n",
    "    def find_interest(loan_money, interest_rate):\n",
    "        return loan_money * (1 + interest_rate)\n",
    "\n",
    "    @classmethod\n",
    "    def find_interest_classmethod(cls, loan_money):\n",
    "        return loan_money * 1.4\n",
    "\n",
    "    def find_interest_instancemethod(self, loan_money):\n",
    "        if self.balance <= 100:\n",
    "            return loan_money * 1.2\n",
    "        else:\n",
    "            return loan_money * 1.5\n",
    "\n",
    "\n",
    "class ATM(Bank):\n",
    "    def __init__(self, balance):\n",
    "        super().__init__(balance)\n",
    "\n",
    "    @staticmethod\n",
    "    def find_interest(loan_money):\n",
    "        return loan_money * 1.3\n",
    "\n",
    "\n",
    "atm = ATM(1000)\n",
    "\n",
    "print('Using staticmethod ->', atm.find_interest(atm.balance))\n",
    "print('Using classmethod from the parent class ->', Bank.find_interest_classmethod(atm.balance))\n",
    "print('Using classmethod from the inherited subclass ->', ATM.find_interest_classmethod(atm.balance))\n",
    "print('Using a regular instance method ->', atm.find_interest_instancemethod(atm.balance))\n"
   ]
  },
  {
   "attachments": {
    "173f57b2-7f65-4d0b-b3ed-cc2b62e9c2e2.png": {
     "image/png": "[encoded data removed]"
    }
   },
   "cell_type": "markdown",
   "metadata": {},
   "source": [
    "![image.png](attachment:173f57b2-7f65-4d0b-b3ed-cc2b62e9c2e2.png)"
   ]
  },
  {
   "cell_type": "markdown",
   "metadata": {
    "tags": []
   },
   "source": [
    "## Exercise FizzBuzz"
   ]
  },
  {
   "cell_type": "markdown",
   "metadata": {},
   "source": [
    "Suppose we have a number n. We have to display a string representation of all numbers from 1 to n, but there are some constraints.\n",
    "\n",
    "If the number is divisible by 3, write Fizz instead of the number\n",
    "If the number is divisible by 5, write Buzz instead of the number\n",
    "If the number is divisible by both 3 and 5, write FizzBuzz instead of the number"
   ]
  },
  {
   "cell_type": "code",
   "execution_count": 47,
   "metadata": {},
   "outputs": [],
   "source": [
    "# hint: i% 3== 0 means i the number is divisible by 3\n",
    "class Solution(object):\n",
    "    def fizzBuzz(self, n):\n",
    "        result = []\n",
    "        for i in range(1,n+1):\n",
    "            # if a number is divisible by 3 and 5 both, print “FizzBuzz”\n",
    "                result.append(\"FizzBuzz\")\n",
    "            # otherwise when the number is divisible by 3, print “Fizz”\n",
    "                result.append(\"Fizz\")\n",
    "            # otherwise when the number is divisible by 5, print “Buzz”\n",
    "                result.append(\"Buzz\")\n",
    "            # otherwise, write the number as a string\n",
    "                result.append(i)\n",
    "        return result\n",
    "\n",
    "ob1 = Solution()\n",
    "print(ob1.fizzBuzz(30))"
   ]
  },
  {
   "cell_type": "markdown",
   "metadata": {},
   "source": [
    "# References\n",
    "\n",
    "[Python Data Science Handbook](https://github.com/jakevdp/PythonDataScienceHandbook)\n",
    "\n",
    "[Introduction to Programming in the Biological Sciences Bootcamp](https://justinbois.github.io/bootcamp/2020/index.html)"
   ]
  },
  {
   "cell_type": "code",
   "execution_count": null,
   "metadata": {},
   "outputs": [],
   "source": []
  }
 ],
 "metadata": {
  "kernelspec": {
   "display_name": "Python 3 (ipykernel)",
   "language": "python",
   "name": "python3"
  },
  "language_info": {
   "codemirror_mode": {
    "name": "ipython",
    "version": 3
   },
   "file_extension": ".py",
   "mimetype": "text/x-python",
   "name": "python",
   "nbconvert_exporter": "python",
   "pygments_lexer": "ipython3",
   "version": "3.9.5"
  },
  "toc-autonumbering": true,
  "toc-showcode": false
 },
 "nbformat": 4,
 "nbformat_minor": 4
}
