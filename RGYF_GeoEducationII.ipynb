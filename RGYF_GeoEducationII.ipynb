{
 "cells": [
  {
   "cell_type": "code",
   "execution_count": 171,
   "id": "5010928c-f9b0-45e3-acd0-55fa3638fe2a",
   "metadata": {},
   "outputs": [],
   "source": [
    "import warnings\n",
    "warnings.filterwarnings(\"ignore\")\n",
    "warnings.filterwarnings(\"ignore\", category=DeprecationWarning)"
   ]
  },
  {
   "cell_type": "code",
   "execution_count": 172,
   "id": "c5afe1a6-4113-46e8-a7b5-0c0b11141cfa",
   "metadata": {
    "tags": []
   },
   "outputs": [],
   "source": [
    "import sys\n",
    "import os\n",
    "\n",
    "sys.path.append(r'C:\\Program Files\\QGIS 3.20.0\\apps\\qgis\\python') #this is important for loading qgis library\n",
    "sys.path.append(r'C:\\Program Files\\QGIS 3.20.0\\apps\\qgis\\python\\plugins') #this is important for loading processing library"
   ]
  },
  {
   "cell_type": "code",
   "execution_count": 173,
   "id": "bc091de6-0631-4b42-9d52-b383239ff1bc",
   "metadata": {
    "tags": []
   },
   "outputs": [],
   "source": [
    "import qgis"
   ]
  },
  {
   "cell_type": "code",
   "execution_count": 174,
   "id": "b6bf51cc-558c-47ed-9011-cfcc00bb6bd7",
   "metadata": {},
   "outputs": [],
   "source": [
    "from ipywidgets import interact, interactive, fixed, interact_manual\n",
    "import ipywidgets as widgets\n",
    "from IPython.display import display"
   ]
  },
  {
   "cell_type": "code",
   "execution_count": 175,
   "id": "2ea8d7ab-b09e-4e60-9396-b57dab758a17",
   "metadata": {},
   "outputs": [],
   "source": [
    "%matplotlib widget"
   ]
  },
  {
   "cell_type": "code",
   "execution_count": 176,
   "id": "519f35ef-86fe-4e0d-9845-4f859eec7686",
   "metadata": {
    "tags": []
   },
   "outputs": [],
   "source": [
    "from qgis.gui import *\n",
    "from qgis.core import *\n",
    "from qgis.utils import plugins\n",
    "from PyQt5.QtCore import *\n",
    "from qgis.analysis import QgsNativeAlgorithms"
   ]
  },
  {
   "cell_type": "code",
   "execution_count": 177,
   "id": "366ed004-71ed-4f7a-99cc-1a589cf63eb2",
   "metadata": {},
   "outputs": [],
   "source": [
    "import pandas as pd\n",
    "import numpy as np\n",
    "import pykrige.kriging_tools as kt\n",
    "from pykrige.ok import OrdinaryKriging\n",
    "from pykrige.uk import UniversalKriging\n",
    "import matplotlib.pyplot as plt\n",
    "import seaborn as sb\n",
    "import gstools as gs\n",
    "import geopandas as gpd"
   ]
  },
  {
   "cell_type": "code",
   "execution_count": 178,
   "id": "749485b1-3f73-4681-9b75-aaf2b8198cac",
   "metadata": {},
   "outputs": [],
   "source": [
    "from datetime import datetime\n",
    "import json\n",
    "from pandas import json_normalize\n",
    "import requests"
   ]
  },
  {
   "cell_type": "code",
   "execution_count": 179,
   "id": "e7f9d229-453f-4864-98ff-31cdb6c4a011",
   "metadata": {},
   "outputs": [],
   "source": [
    "from pysal.lib import weights\n",
    "from pysal.lib import cg as geometry\n",
    "from pysal.model import spreg\n",
    "from pysal.explore import esda\n",
    "from pysal.viz import splot\n",
    "from splot.esda import plot_moran\n",
    "\n",
    "import contextily\n",
    "from shapely.geometry import Polygon,LineString, Point\n",
    "from scipy import stats\n",
    "import statsmodels.api as sm\n",
    "from statsmodels.stats.weightstats import ttest_ind\n",
    "from statsmodels.formula.api import ols\n",
    "from sklearn.linear_model import LinearRegression\n",
    "import sklearn.metrics as metrics\n",
    "from sklearn.model_selection import train_test_split"
   ]
  },
  {
   "cell_type": "code",
   "execution_count": 180,
   "id": "4ea82a5b-5dc3-4908-9d0f-d59369d4992f",
   "metadata": {},
   "outputs": [],
   "source": [
    "from pulp import *"
   ]
  },
  {
   "cell_type": "markdown",
   "id": "e497d903-947e-4e79-ba5a-742960b14a70",
   "metadata": {
    "tags": []
   },
   "source": [
    "# Geospatial Data Analysis using Open Source Tools <img src=\"./Resources/geoworks.png\" width=\"100\" align =\"right\"/> <img src=\"./Resources/sla.png\" width=\"100\" align =\"right\"/>"
   ]
  },
  {
   "cell_type": "markdown",
   "id": "0e3fc6d9-b2bf-4030-953c-db3535af2cc6",
   "metadata": {
    "tags": []
   },
   "source": [
    "Geospatial Data Science is a rapidly growing discipline across a wide range of industries including financial services, real estate, cities and government, management consulting, retail, utilities, telecommunications, and many more. Geospatial data analysis skills have become increasingly valuable for professionals and researchers. Many spatial analysis tools are open sourced, so one can view the source code and contribute without expensive licenses.  "
   ]
  },
  {
   "cell_type": "markdown",
   "id": "84a6a517-29a7-485a-bd98-cdfd946763af",
   "metadata": {},
   "source": [
    "## Data Manipulation and Visualization using PYQGIS & GeoPandas"
   ]
  },
  {
   "cell_type": "markdown",
   "id": "ec0ad6e8-85d9-4d4f-8904-36d81a476734",
   "metadata": {},
   "source": [
    "## Spatial Interpolation using sklearn "
   ]
  },
  {
   "cell_type": "markdown",
   "id": "5730d199-7959-4e13-b0e4-96c63c4fa65a",
   "metadata": {},
   "source": [
    "* Spatial interpolation is the procedure of estimating the value of properties at unsampled sites within the area covered by existing observations. \n",
    "* Rationale behind spatial interpolation is the observation that points close together in space are more likely to have similar values than points far apart."
   ]
  },
  {
   "cell_type": "markdown",
   "id": "87445a78-846b-4463-810d-d4e92c4a0e13",
   "metadata": {},
   "source": [
    "### Download Rainfall Data "
   ]
  },
  {
   "cell_type": "code",
   "execution_count": 73,
   "id": "e18afaea-c62e-43fa-b5e5-70ae2c9fcbde",
   "metadata": {
    "tags": []
   },
   "outputs": [],
   "source": [
    "# def download_rainfall(dt,days):\n",
    "#     if dt is not None:\n",
    "#         datelist = pd.date_range(dt, periods=days).tolist()\n",
    "#         return datelist\n",
    "    \n",
    "# w = interactive(download_rainfall, dt=widgets.DatePicker(),days=widgets.IntSlider(min=1, max=100, step=1, value=30,continuous_update=False))"
   ]
  },
  {
   "cell_type": "code",
   "execution_count": 74,
   "id": "c10f867d-6433-41e4-abc8-39616a99c1f2",
   "metadata": {},
   "outputs": [
    {
     "data": {
      "application/vnd.jupyter.widget-view+json": {
       "model_id": "54e3b6d8cb8341d0baf7c27e79ecf983",
       "version_major": 2,
       "version_minor": 0
      },
      "text/plain": [
       "interactive(children=(DatePicker(value=None, description='dt'), IntSlider(value=30, continuous_update=False, d…"
      ]
     },
     "metadata": {},
     "output_type": "display_data"
    }
   ],
   "source": [
    "# display(w)"
   ]
  },
  {
   "cell_type": "code",
   "execution_count": 76,
   "id": "a4281f6e-25e7-4222-8152-d49ec5c4dba6",
   "metadata": {},
   "outputs": [],
   "source": [
    "# # download Singapore rainfall data\n",
    "# responses = [requests.get('https://api.data.gov.sg/v1/environment/rainfall?date='+i.strftime(\"%Y-%m-%d\")) for i in w.result]\n",
    "# [print(i.status_code) for i in responses]\n",
    "\n",
    "# for i,response in enumerate(responses):\n",
    "#     with open(f'Data/Rainfall/test{i}.json', 'w') as f:\n",
    "#         print(f\"download {i}\")\n",
    "#         json.dump(response.json(), f)                "
   ]
  },
  {
   "cell_type": "code",
   "execution_count": 49,
   "id": "74d9aa83-2319-4d26-b2bd-9bb1bcfccaa5",
   "metadata": {},
   "outputs": [],
   "source": [
    "responses_json =[]\n",
    "for filename in os.listdir('Data/Rainfall'):\n",
    "    with open(os.path.join('Data/Rainfall', filename), 'r') as f: # open in readonly mode\n",
    "        response = json.load(f)\n",
    "        responses_json.append(response)"
   ]
  },
  {
   "cell_type": "markdown",
   "id": "9666f177-cfc5-433d-8fd5-1d7eda7c3fd5",
   "metadata": {},
   "source": [
    "### Preprocessing Rainfall Data"
   ]
  },
  {
   "cell_type": "code",
   "execution_count": 50,
   "id": "070d5714-c4b6-4f03-b43a-e3db9e63d374",
   "metadata": {},
   "outputs": [],
   "source": [
    "# df_dict=responses[0].json() # if use online download\n",
    "df_dict=responses_json[0] # if read files"
   ]
  },
  {
   "cell_type": "code",
   "execution_count": 51,
   "id": "3d3b87b1-0d02-4655-acf3-c9e9c5ec9f31",
   "metadata": {
    "collapsed": true,
    "jupyter": {
     "outputs_hidden": true
    },
    "tags": []
   },
   "outputs": [
    {
     "data": {
      "text/plain": [
       "[{'id': 'S77',\n",
       "  'device_id': 'S77',\n",
       "  'name': 'Alexandra Road',\n",
       "  'location': {'latitude': 1.2937, 'longitude': 103.8125}},\n",
       " {'id': 'S117',\n",
       "  'device_id': 'S117',\n",
       "  'name': 'Banyan Road',\n",
       "  'location': {'latitude': 1.256, 'longitude': 103.679}},\n",
       " {'id': 'S90',\n",
       "  'device_id': 'S90',\n",
       "  'name': 'Bukit Timah Road',\n",
       "  'location': {'latitude': 1.3191, 'longitude': 103.8191}},\n",
       " {'id': 'S61',\n",
       "  'device_id': 'S61',\n",
       "  'name': 'Chai Chee Street',\n",
       "  'location': {'latitude': 1.323, 'longitude': 103.9217}},\n",
       " {'id': 'S114',\n",
       "  'device_id': 'S114',\n",
       "  'name': 'Choa Chu Kang Avenue 4',\n",
       "  'location': {'latitude': 1.38, 'longitude': 103.73}},\n",
       " {'id': 'S11',\n",
       "  'device_id': 'S11',\n",
       "  'name': 'Choa Chu Kang Road',\n",
       "  'location': {'latitude': 1.3746, 'longitude': 103.6938}},\n",
       " {'id': 'S50',\n",
       "  'device_id': 'S50',\n",
       "  'name': 'Clementi Road',\n",
       "  'location': {'latitude': 1.3337, 'longitude': 103.7768}},\n",
       " {'id': 'S107',\n",
       "  'device_id': 'S107',\n",
       "  'name': 'East Coast Parkway',\n",
       "  'location': {'latitude': 1.3135, 'longitude': 103.9625}},\n",
       " {'id': 'S215',\n",
       "  'device_id': 'S215',\n",
       "  'name': 'GEYLANG EAST CENTRAL',\n",
       "  'location': {'latitude': 1.32785, 'longitude': 103.88899}},\n",
       " {'id': 'S118',\n",
       "  'device_id': 'S118',\n",
       "  'name': 'Handy Road',\n",
       "  'location': {'latitude': 1.2994, 'longitude': 103.8461}},\n",
       " {'id': 'S120',\n",
       "  'device_id': 'S120',\n",
       "  'name': 'Holland Road',\n",
       "  'location': {'latitude': 1.30874, 'longitude': 103.818}},\n",
       " {'id': 'S33',\n",
       "  'device_id': 'S33',\n",
       "  'name': 'Jurong Pier Road',\n",
       "  'location': {'latitude': 1.3081, 'longitude': 103.71}},\n",
       " {'id': 'S71',\n",
       "  'device_id': 'S71',\n",
       "  'name': 'Kent Ridge Road',\n",
       "  'location': {'latitude': 1.2923, 'longitude': 103.7815}},\n",
       " {'id': 'S43',\n",
       "  'device_id': 'S43',\n",
       "  'name': 'Kim Chuan Road',\n",
       "  'location': {'latitude': 1.3399, 'longitude': 103.8878}},\n",
       " {'id': 'S66',\n",
       "  'device_id': 'S66',\n",
       "  'name': 'Kranji Way',\n",
       "  'location': {'latitude': 1.4387, 'longitude': 103.7363}},\n",
       " {'id': 'S112',\n",
       "  'device_id': 'S112',\n",
       "  'name': 'Lim Chu Kang Road',\n",
       "  'location': {'latitude': 1.43854, 'longitude': 103.70131}},\n",
       " {'id': 'S07',\n",
       "  'device_id': 'S07',\n",
       "  'name': 'Lornie Road',\n",
       "  'location': {'latitude': 1.3415, 'longitude': 103.8334}},\n",
       " {'id': 'S40',\n",
       "  'device_id': 'S40',\n",
       "  'name': 'Mandai Lake Road',\n",
       "  'location': {'latitude': 1.4044, 'longitude': 103.78962}},\n",
       " {'id': 'S108',\n",
       "  'device_id': 'S108',\n",
       "  'name': 'Marina Gardens Drive',\n",
       "  'location': {'latitude': 1.2799, 'longitude': 103.8703}},\n",
       " {'id': 'S113',\n",
       "  'device_id': 'S113',\n",
       "  'name': 'Marine Parade Road',\n",
       "  'location': {'latitude': 1.30648, 'longitude': 103.9104}},\n",
       " {'id': 'S44',\n",
       "  'device_id': 'S44',\n",
       "  'name': 'Nanyang Avenue',\n",
       "  'location': {'latitude': 1.34583, 'longitude': 103.68166}},\n",
       " {'id': 'S119',\n",
       "  'device_id': 'S119',\n",
       "  'name': 'Nicoll Highway',\n",
       "  'location': {'latitude': 1.30105, 'longitude': 103.8666}},\n",
       " {'id': 'S121',\n",
       "  'device_id': 'S121',\n",
       "  'name': 'Old Choa Chu Kang Road',\n",
       "  'location': {'latitude': 1.37288, 'longitude': 103.72244}},\n",
       " {'id': 'S35',\n",
       "  'device_id': 'S35',\n",
       "  'name': 'Old Toh Tuck Road',\n",
       "  'location': {'latitude': 1.3329, 'longitude': 103.7556}},\n",
       " {'id': 'S94',\n",
       "  'device_id': 'S94',\n",
       "  'name': 'Pasir Ris Street 51',\n",
       "  'location': {'latitude': 1.3662, 'longitude': 103.9528}},\n",
       " {'id': 'S78',\n",
       "  'device_id': 'S78',\n",
       "  'name': 'Poole Road',\n",
       "  'location': {'latitude': 1.30703, 'longitude': 103.89067}},\n",
       " {'id': 'S81',\n",
       "  'device_id': 'S81',\n",
       "  'name': 'Punggol Central',\n",
       "  'location': {'latitude': 1.4029, 'longitude': 103.9092}},\n",
       " {'id': 'S201',\n",
       "  'device_id': 'S201',\n",
       "  'name': 'S201',\n",
       "  'location': {'latitude': 1.32311, 'longitude': 103.76714}},\n",
       " {'id': 'S202',\n",
       "  'device_id': 'S202',\n",
       "  'name': 'S202',\n",
       "  'location': {'latitude': 1.30968, 'longitude': 103.7578}},\n",
       " {'id': 'S203',\n",
       "  'device_id': 'S203',\n",
       "  'name': 'S203',\n",
       "  'location': {'latitude': 1.29164, 'longitude': 103.7702}},\n",
       " {'id': 'S204',\n",
       "  'device_id': 'S204',\n",
       "  'name': 'S204',\n",
       "  'location': {'latitude': 1.40081, 'longitude': 103.88217}},\n",
       " {'id': 'S205',\n",
       "  'device_id': 'S205',\n",
       "  'name': 'S205',\n",
       "  'location': {'latitude': 1.38829, 'longitude': 103.9116}},\n",
       " {'id': 'S207',\n",
       "  'device_id': 'S207',\n",
       "  'name': 'S207',\n",
       "  'location': {'latitude': 1.32485, 'longitude': 103.95836}},\n",
       " {'id': 'S208',\n",
       "  'device_id': 'S208',\n",
       "  'name': 'S208',\n",
       "  'location': {'latitude': 1.3136, 'longitude': 104.00317}},\n",
       " {'id': 'S209',\n",
       "  'device_id': 'S209',\n",
       "  'name': 'S209',\n",
       "  'location': {'latitude': 1.42111, 'longitude': 103.84472}},\n",
       " {'id': 'S210',\n",
       "  'device_id': 'S210',\n",
       "  'name': 'S210',\n",
       "  'location': {'latitude': 1.44003, 'longitude': 103.76904}},\n",
       " {'id': 'S211',\n",
       "  'device_id': 'S211',\n",
       "  'name': 'S211',\n",
       "  'location': {'latitude': 1.42918, 'longitude': 103.75711}},\n",
       " {'id': 'S212',\n",
       "  'device_id': 'S212',\n",
       "  'name': 'S212',\n",
       "  'location': {'latitude': 1.31835, 'longitude': 103.93574}},\n",
       " {'id': 'S213',\n",
       "  'device_id': 'S213',\n",
       "  'name': 'S213',\n",
       "  'location': {'latitude': 1.32427, 'longitude': 103.8097}},\n",
       " {'id': 'S214',\n",
       "  'device_id': 'S214',\n",
       "  'name': 'S214',\n",
       "  'location': {'latitude': 1.29911, 'longitude': 103.88289}},\n",
       " {'id': 'S216',\n",
       "  'device_id': 'S216',\n",
       "  'name': 'S216',\n",
       "  'location': {'latitude': 1.36019, 'longitude': 103.85335}},\n",
       " {'id': 'S217',\n",
       "  'device_id': 'S217',\n",
       "  'name': 'S217',\n",
       "  'location': {'latitude': 1.35041, 'longitude': 103.85526}},\n",
       " {'id': 'S218',\n",
       "  'device_id': 'S218',\n",
       "  'name': 'S218',\n",
       "  'location': {'latitude': 1.36491, 'longitude': 103.75065}},\n",
       " {'id': 'S219',\n",
       "  'device_id': 'S219',\n",
       "  'name': 'S219',\n",
       "  'location': {'latitude': 1.37999, 'longitude': 103.87643}},\n",
       " {'id': 'S220',\n",
       "  'device_id': 'S220',\n",
       "  'name': 'S220',\n",
       "  'location': {'latitude': 1.38666, 'longitude': 103.89797}},\n",
       " {'id': 'S221',\n",
       "  'device_id': 'S221',\n",
       "  'name': 'S221',\n",
       "  'location': {'latitude': 1.35691, 'longitude': 103.89088}},\n",
       " {'id': 'S222',\n",
       "  'device_id': 'S222',\n",
       "  'name': 'S222',\n",
       "  'location': {'latitude': 1.28987, 'longitude': 103.82364}},\n",
       " {'id': 'S223',\n",
       "  'device_id': 'S223',\n",
       "  'name': 'S223',\n",
       "  'location': {'latitude': 1.29984, 'longitude': 103.80264}},\n",
       " {'id': 'S224',\n",
       "  'device_id': 'S224',\n",
       "  'name': 'S224',\n",
       "  'location': {'latitude': 1.34392, 'longitude': 103.98409}},\n",
       " {'id': 'S226',\n",
       "  'device_id': 'S226',\n",
       "  'name': 'S226',\n",
       "  'location': {'latitude': 1.27472, 'longitude': 103.80389}},\n",
       " {'id': 'S227',\n",
       "  'device_id': 'S227',\n",
       "  'name': 'S227',\n",
       "  'location': {'latitude': 1.43944, 'longitude': 103.80389}},\n",
       " {'id': 'S228',\n",
       "  'device_id': 'S228',\n",
       "  'name': 'S228',\n",
       "  'location': {'latitude': 1.34703, 'longitude': 103.70073}},\n",
       " {'id': 'S229',\n",
       "  'device_id': 'S229',\n",
       "  'name': 'S229',\n",
       "  'location': {'latitude': 1.35167, 'longitude': 103.72195}},\n",
       " {'id': 'S111',\n",
       "  'device_id': 'S111',\n",
       "  'name': 'Scotts Road',\n",
       "  'location': {'latitude': 1.31055, 'longitude': 103.8365}},\n",
       " {'id': 'S900',\n",
       "  'device_id': 'S900',\n",
       "  'name': 'Seletar Aerospace View',\n",
       "  'location': {'latitude': 1.41284, 'longitude': 103.86922}},\n",
       " {'id': 'S60',\n",
       "  'device_id': 'S60',\n",
       "  'name': 'Sentosa',\n",
       "  'location': {'latitude': 1.25, 'longitude': 103.8279}},\n",
       " {'id': 'S46',\n",
       "  'device_id': 'S46',\n",
       "  'name': 'Sime Road',\n",
       "  'location': {'latitude': 1.3416, 'longitude': 103.8106}},\n",
       " {'id': 'S84',\n",
       "  'device_id': 'S84',\n",
       "  'name': 'Simei Avenue',\n",
       "  'location': {'latitude': 1.3437, 'longitude': 103.9444}},\n",
       " {'id': 'S79',\n",
       "  'device_id': 'S79',\n",
       "  'name': 'Somerset Road',\n",
       "  'location': {'latitude': 1.3004, 'longitude': 103.8372}},\n",
       " {'id': 'S88',\n",
       "  'device_id': 'S88',\n",
       "  'name': 'Toa Payoh North',\n",
       "  'location': {'latitude': 1.3427, 'longitude': 103.8482}},\n",
       " {'id': 'S123',\n",
       "  'device_id': 'S123',\n",
       "  'name': 'Towner Road',\n",
       "  'location': {'latitude': 1.3214, 'longitude': 103.8577}},\n",
       " {'id': 'S89',\n",
       "  'device_id': 'S89',\n",
       "  'name': 'Tuas Road',\n",
       "  'location': {'latitude': 1.31985, 'longitude': 103.66162}},\n",
       " {'id': 'S115',\n",
       "  'device_id': 'S115',\n",
       "  'name': 'Tuas South Avenue 3',\n",
       "  'location': {'latitude': 1.29377, 'longitude': 103.61843}},\n",
       " {'id': 'S24',\n",
       "  'device_id': 'S24',\n",
       "  'name': 'Upper Changi Road North',\n",
       "  'location': {'latitude': 1.3678, 'longitude': 103.9826}},\n",
       " {'id': 'S69',\n",
       "  'device_id': 'S69',\n",
       "  'name': 'Upper Peirce Reservoir Park',\n",
       "  'location': {'latitude': 1.37, 'longitude': 103.805}},\n",
       " {'id': 'S08',\n",
       "  'device_id': 'S08',\n",
       "  'name': 'Upper Thomson Road',\n",
       "  'location': {'latitude': 1.3701, 'longitude': 103.8271}},\n",
       " {'id': 'S116',\n",
       "  'device_id': 'S116',\n",
       "  'name': 'West Coast Highway',\n",
       "  'location': {'latitude': 1.281, 'longitude': 103.754}},\n",
       " {'id': 'S104',\n",
       "  'device_id': 'S104',\n",
       "  'name': 'Woodlands Avenue 9',\n",
       "  'location': {'latitude': 1.44387, 'longitude': 103.78538}},\n",
       " {'id': 'S100',\n",
       "  'device_id': 'S100',\n",
       "  'name': 'Woodlands Road',\n",
       "  'location': {'latitude': 1.4172, 'longitude': 103.74855}},\n",
       " {'id': 'S91',\n",
       "  'device_id': 'S91',\n",
       "  'name': 'Yishun Avenue 5',\n",
       "  'location': {'latitude': 1.4301, 'longitude': 103.8308}},\n",
       " {'id': 'S230',\n",
       "  'device_id': 'S230',\n",
       "  'name': 'S230',\n",
       "  'location': {'latitude': 1.30167, 'longitude': 103.76444}},\n",
       " {'id': 'S92',\n",
       "  'device_id': 'S92',\n",
       "  'name': 'South Buona Vista Road',\n",
       "  'location': {'latitude': 1.2841, 'longitude': 103.7886}},\n",
       " {'id': 'S29',\n",
       "  'device_id': 'S29',\n",
       "  'name': 'Pasir Ris Drive 12',\n",
       "  'location': {'latitude': 1.387, 'longitude': 103.935}},\n",
       " {'id': 'S122',\n",
       "  'device_id': 'S122',\n",
       "  'name': 'Sembawang Road',\n",
       "  'location': {'latitude': 1.41731, 'longitude': 103.8249}},\n",
       " {'id': 'S109',\n",
       "  'device_id': 'S109',\n",
       "  'name': 'Ang Mo Kio Avenue 5',\n",
       "  'location': {'latitude': 1.3764, 'longitude': 103.8492}}]"
      ]
     },
     "execution_count": 51,
     "metadata": {},
     "output_type": "execute_result"
    }
   ],
   "source": [
    "df_dict['metadata']['stations']"
   ]
  },
  {
   "cell_type": "code",
   "execution_count": 16,
   "id": "85b9f503-0c5b-4f9c-ac25-5f27c859253b",
   "metadata": {
    "tags": []
   },
   "outputs": [],
   "source": [
    "df_stations = pd.DataFrame(df_dict['metadata']['stations'])"
   ]
  },
  {
   "cell_type": "code",
   "execution_count": 17,
   "id": "38a80b8e-980c-4c5c-a762-a487c812a1d2",
   "metadata": {},
   "outputs": [
    {
     "data": {
      "text/html": [
       "<div>\n",
       "<style scoped>\n",
       "    .dataframe tbody tr th:only-of-type {\n",
       "        vertical-align: middle;\n",
       "    }\n",
       "\n",
       "    .dataframe tbody tr th {\n",
       "        vertical-align: top;\n",
       "    }\n",
       "\n",
       "    .dataframe thead th {\n",
       "        text-align: right;\n",
       "    }\n",
       "</style>\n",
       "<table border=\"1\" class=\"dataframe\">\n",
       "  <thead>\n",
       "    <tr style=\"text-align: right;\">\n",
       "      <th></th>\n",
       "      <th>id</th>\n",
       "      <th>device_id</th>\n",
       "      <th>name</th>\n",
       "      <th>location</th>\n",
       "    </tr>\n",
       "  </thead>\n",
       "  <tbody>\n",
       "    <tr>\n",
       "      <th>0</th>\n",
       "      <td>S77</td>\n",
       "      <td>S77</td>\n",
       "      <td>Alexandra Road</td>\n",
       "      <td>{'latitude': 1.2937, 'longitude': 103.8125}</td>\n",
       "    </tr>\n",
       "    <tr>\n",
       "      <th>1</th>\n",
       "      <td>S117</td>\n",
       "      <td>S117</td>\n",
       "      <td>Banyan Road</td>\n",
       "      <td>{'latitude': 1.256, 'longitude': 103.679}</td>\n",
       "    </tr>\n",
       "    <tr>\n",
       "      <th>2</th>\n",
       "      <td>S90</td>\n",
       "      <td>S90</td>\n",
       "      <td>Bukit Timah Road</td>\n",
       "      <td>{'latitude': 1.3191, 'longitude': 103.8191}</td>\n",
       "    </tr>\n",
       "    <tr>\n",
       "      <th>3</th>\n",
       "      <td>S61</td>\n",
       "      <td>S61</td>\n",
       "      <td>Chai Chee Street</td>\n",
       "      <td>{'latitude': 1.323, 'longitude': 103.9217}</td>\n",
       "    </tr>\n",
       "    <tr>\n",
       "      <th>4</th>\n",
       "      <td>S114</td>\n",
       "      <td>S114</td>\n",
       "      <td>Choa Chu Kang Avenue 4</td>\n",
       "      <td>{'latitude': 1.38, 'longitude': 103.73}</td>\n",
       "    </tr>\n",
       "    <tr>\n",
       "      <th>...</th>\n",
       "      <td>...</td>\n",
       "      <td>...</td>\n",
       "      <td>...</td>\n",
       "      <td>...</td>\n",
       "    </tr>\n",
       "    <tr>\n",
       "      <th>70</th>\n",
       "      <td>S230</td>\n",
       "      <td>S230</td>\n",
       "      <td>S230</td>\n",
       "      <td>{'latitude': 1.30167, 'longitude': 103.76444}</td>\n",
       "    </tr>\n",
       "    <tr>\n",
       "      <th>71</th>\n",
       "      <td>S92</td>\n",
       "      <td>S92</td>\n",
       "      <td>South Buona Vista Road</td>\n",
       "      <td>{'latitude': 1.2841, 'longitude': 103.7886}</td>\n",
       "    </tr>\n",
       "    <tr>\n",
       "      <th>72</th>\n",
       "      <td>S29</td>\n",
       "      <td>S29</td>\n",
       "      <td>Pasir Ris Drive 12</td>\n",
       "      <td>{'latitude': 1.387, 'longitude': 103.935}</td>\n",
       "    </tr>\n",
       "    <tr>\n",
       "      <th>73</th>\n",
       "      <td>S122</td>\n",
       "      <td>S122</td>\n",
       "      <td>Sembawang Road</td>\n",
       "      <td>{'latitude': 1.41731, 'longitude': 103.8249}</td>\n",
       "    </tr>\n",
       "    <tr>\n",
       "      <th>74</th>\n",
       "      <td>S109</td>\n",
       "      <td>S109</td>\n",
       "      <td>Ang Mo Kio Avenue 5</td>\n",
       "      <td>{'latitude': 1.3764, 'longitude': 103.8492}</td>\n",
       "    </tr>\n",
       "  </tbody>\n",
       "</table>\n",
       "<p>75 rows × 4 columns</p>\n",
       "</div>"
      ],
      "text/plain": [
       "      id device_id                    name  \\\n",
       "0    S77       S77          Alexandra Road   \n",
       "1   S117      S117             Banyan Road   \n",
       "2    S90       S90        Bukit Timah Road   \n",
       "3    S61       S61        Chai Chee Street   \n",
       "4   S114      S114  Choa Chu Kang Avenue 4   \n",
       "..   ...       ...                     ...   \n",
       "70  S230      S230                    S230   \n",
       "71   S92       S92  South Buona Vista Road   \n",
       "72   S29       S29      Pasir Ris Drive 12   \n",
       "73  S122      S122          Sembawang Road   \n",
       "74  S109      S109     Ang Mo Kio Avenue 5   \n",
       "\n",
       "                                         location  \n",
       "0     {'latitude': 1.2937, 'longitude': 103.8125}  \n",
       "1       {'latitude': 1.256, 'longitude': 103.679}  \n",
       "2     {'latitude': 1.3191, 'longitude': 103.8191}  \n",
       "3      {'latitude': 1.323, 'longitude': 103.9217}  \n",
       "4         {'latitude': 1.38, 'longitude': 103.73}  \n",
       "..                                            ...  \n",
       "70  {'latitude': 1.30167, 'longitude': 103.76444}  \n",
       "71    {'latitude': 1.2841, 'longitude': 103.7886}  \n",
       "72      {'latitude': 1.387, 'longitude': 103.935}  \n",
       "73   {'latitude': 1.41731, 'longitude': 103.8249}  \n",
       "74    {'latitude': 1.3764, 'longitude': 103.8492}  \n",
       "\n",
       "[75 rows x 4 columns]"
      ]
     },
     "execution_count": 17,
     "metadata": {},
     "output_type": "execute_result"
    }
   ],
   "source": [
    "df_stations"
   ]
  },
  {
   "cell_type": "code",
   "execution_count": 18,
   "id": "b2c66cd7-a6f8-41d8-812e-9d6bd34a8bde",
   "metadata": {},
   "outputs": [
    {
     "data": {
      "text/html": [
       "<div>\n",
       "<style scoped>\n",
       "    .dataframe tbody tr th:only-of-type {\n",
       "        vertical-align: middle;\n",
       "    }\n",
       "\n",
       "    .dataframe tbody tr th {\n",
       "        vertical-align: top;\n",
       "    }\n",
       "\n",
       "    .dataframe thead th {\n",
       "        text-align: right;\n",
       "    }\n",
       "</style>\n",
       "<table border=\"1\" class=\"dataframe\">\n",
       "  <thead>\n",
       "    <tr style=\"text-align: right;\">\n",
       "      <th></th>\n",
       "      <th>id</th>\n",
       "      <th>device_id</th>\n",
       "      <th>name</th>\n",
       "      <th>latitude</th>\n",
       "      <th>longitude</th>\n",
       "    </tr>\n",
       "  </thead>\n",
       "  <tbody>\n",
       "    <tr>\n",
       "      <th>0</th>\n",
       "      <td>S77</td>\n",
       "      <td>S77</td>\n",
       "      <td>Alexandra Road</td>\n",
       "      <td>1.29370</td>\n",
       "      <td>103.81250</td>\n",
       "    </tr>\n",
       "    <tr>\n",
       "      <th>1</th>\n",
       "      <td>S117</td>\n",
       "      <td>S117</td>\n",
       "      <td>Banyan Road</td>\n",
       "      <td>1.25600</td>\n",
       "      <td>103.67900</td>\n",
       "    </tr>\n",
       "    <tr>\n",
       "      <th>2</th>\n",
       "      <td>S90</td>\n",
       "      <td>S90</td>\n",
       "      <td>Bukit Timah Road</td>\n",
       "      <td>1.31910</td>\n",
       "      <td>103.81910</td>\n",
       "    </tr>\n",
       "    <tr>\n",
       "      <th>3</th>\n",
       "      <td>S61</td>\n",
       "      <td>S61</td>\n",
       "      <td>Chai Chee Street</td>\n",
       "      <td>1.32300</td>\n",
       "      <td>103.92170</td>\n",
       "    </tr>\n",
       "    <tr>\n",
       "      <th>4</th>\n",
       "      <td>S114</td>\n",
       "      <td>S114</td>\n",
       "      <td>Choa Chu Kang Avenue 4</td>\n",
       "      <td>1.38000</td>\n",
       "      <td>103.73000</td>\n",
       "    </tr>\n",
       "    <tr>\n",
       "      <th>...</th>\n",
       "      <td>...</td>\n",
       "      <td>...</td>\n",
       "      <td>...</td>\n",
       "      <td>...</td>\n",
       "      <td>...</td>\n",
       "    </tr>\n",
       "    <tr>\n",
       "      <th>70</th>\n",
       "      <td>S230</td>\n",
       "      <td>S230</td>\n",
       "      <td>S230</td>\n",
       "      <td>1.30167</td>\n",
       "      <td>103.76444</td>\n",
       "    </tr>\n",
       "    <tr>\n",
       "      <th>71</th>\n",
       "      <td>S92</td>\n",
       "      <td>S92</td>\n",
       "      <td>South Buona Vista Road</td>\n",
       "      <td>1.28410</td>\n",
       "      <td>103.78860</td>\n",
       "    </tr>\n",
       "    <tr>\n",
       "      <th>72</th>\n",
       "      <td>S29</td>\n",
       "      <td>S29</td>\n",
       "      <td>Pasir Ris Drive 12</td>\n",
       "      <td>1.38700</td>\n",
       "      <td>103.93500</td>\n",
       "    </tr>\n",
       "    <tr>\n",
       "      <th>73</th>\n",
       "      <td>S122</td>\n",
       "      <td>S122</td>\n",
       "      <td>Sembawang Road</td>\n",
       "      <td>1.41731</td>\n",
       "      <td>103.82490</td>\n",
       "    </tr>\n",
       "    <tr>\n",
       "      <th>74</th>\n",
       "      <td>S109</td>\n",
       "      <td>S109</td>\n",
       "      <td>Ang Mo Kio Avenue 5</td>\n",
       "      <td>1.37640</td>\n",
       "      <td>103.84920</td>\n",
       "    </tr>\n",
       "  </tbody>\n",
       "</table>\n",
       "<p>75 rows × 5 columns</p>\n",
       "</div>"
      ],
      "text/plain": [
       "      id device_id                    name  latitude  longitude\n",
       "0    S77       S77          Alexandra Road   1.29370  103.81250\n",
       "1   S117      S117             Banyan Road   1.25600  103.67900\n",
       "2    S90       S90        Bukit Timah Road   1.31910  103.81910\n",
       "3    S61       S61        Chai Chee Street   1.32300  103.92170\n",
       "4   S114      S114  Choa Chu Kang Avenue 4   1.38000  103.73000\n",
       "..   ...       ...                     ...       ...        ...\n",
       "70  S230      S230                    S230   1.30167  103.76444\n",
       "71   S92       S92  South Buona Vista Road   1.28410  103.78860\n",
       "72   S29       S29      Pasir Ris Drive 12   1.38700  103.93500\n",
       "73  S122      S122          Sembawang Road   1.41731  103.82490\n",
       "74  S109      S109     Ang Mo Kio Avenue 5   1.37640  103.84920\n",
       "\n",
       "[75 rows x 5 columns]"
      ]
     },
     "execution_count": 18,
     "metadata": {},
     "output_type": "execute_result"
    }
   ],
   "source": [
    "df_st= df_stations.drop('location', axis=1).join(pd.DataFrame(df_stations.location.values.tolist()))\n",
    "df_st"
   ]
  },
  {
   "cell_type": "code",
   "execution_count": 19,
   "id": "bad2251d-318e-4fc5-b631-2119095c07f8",
   "metadata": {},
   "outputs": [],
   "source": [
    "# uncomment the following line if you use online requests\n",
    "# df_rainfall = [pd.DataFrame(response.json()['items']).assign(Day_ID=i+1, Time_ID = pd.DataFrame(response.json()['items']).index+1) for i,response in enumerate(responses)]\n",
    "\n",
    "# uncomment the next line if you use files in rainfall folder\n",
    "df_rainfall = [pd.DataFrame(response['items']).assign(Day_ID=i+1, Time_ID = pd.DataFrame(response['items']).index+1) for i,response in enumerate(responses_json)]"
   ]
  },
  {
   "cell_type": "code",
   "execution_count": 20,
   "id": "173efdf5-5c74-475b-bf8c-bac44427469c",
   "metadata": {},
   "outputs": [],
   "source": [
    "df_rainfall_all =pd.concat(df_rainfall, axis=0)"
   ]
  },
  {
   "cell_type": "code",
   "execution_count": 21,
   "id": "8ff8b2e7-9b90-4431-8467-fa89248b28bb",
   "metadata": {},
   "outputs": [
    {
     "data": {
      "text/html": [
       "<div>\n",
       "<style scoped>\n",
       "    .dataframe tbody tr th:only-of-type {\n",
       "        vertical-align: middle;\n",
       "    }\n",
       "\n",
       "    .dataframe tbody tr th {\n",
       "        vertical-align: top;\n",
       "    }\n",
       "\n",
       "    .dataframe thead th {\n",
       "        text-align: right;\n",
       "    }\n",
       "</style>\n",
       "<table border=\"1\" class=\"dataframe\">\n",
       "  <thead>\n",
       "    <tr style=\"text-align: right;\">\n",
       "      <th></th>\n",
       "      <th>timestamp</th>\n",
       "      <th>readings</th>\n",
       "      <th>Day_ID</th>\n",
       "      <th>Time_ID</th>\n",
       "    </tr>\n",
       "  </thead>\n",
       "  <tbody>\n",
       "    <tr>\n",
       "      <th>0</th>\n",
       "      <td>2020-12-01T00:05:00+08:00</td>\n",
       "      <td>[{'station_id': 'S77', 'value': 0}, {'station_...</td>\n",
       "      <td>1</td>\n",
       "      <td>1</td>\n",
       "    </tr>\n",
       "    <tr>\n",
       "      <th>1</th>\n",
       "      <td>2020-12-01T00:10:00+08:00</td>\n",
       "      <td>[{'station_id': 'S77', 'value': 0}, {'station_...</td>\n",
       "      <td>1</td>\n",
       "      <td>2</td>\n",
       "    </tr>\n",
       "    <tr>\n",
       "      <th>2</th>\n",
       "      <td>2020-12-01T00:15:00+08:00</td>\n",
       "      <td>[{'station_id': 'S77', 'value': 0}, {'station_...</td>\n",
       "      <td>1</td>\n",
       "      <td>3</td>\n",
       "    </tr>\n",
       "    <tr>\n",
       "      <th>3</th>\n",
       "      <td>2020-12-01T00:20:00+08:00</td>\n",
       "      <td>[{'station_id': 'S77', 'value': 0}, {'station_...</td>\n",
       "      <td>1</td>\n",
       "      <td>4</td>\n",
       "    </tr>\n",
       "    <tr>\n",
       "      <th>4</th>\n",
       "      <td>2020-12-01T00:25:00+08:00</td>\n",
       "      <td>[{'station_id': 'S77', 'value': 0}, {'station_...</td>\n",
       "      <td>1</td>\n",
       "      <td>5</td>\n",
       "    </tr>\n",
       "    <tr>\n",
       "      <th>...</th>\n",
       "      <td>...</td>\n",
       "      <td>...</td>\n",
       "      <td>...</td>\n",
       "      <td>...</td>\n",
       "    </tr>\n",
       "    <tr>\n",
       "      <th>282</th>\n",
       "      <td>2020-12-10T23:35:00+08:00</td>\n",
       "      <td>[{'station_id': 'S77', 'value': 0}, {'station_...</td>\n",
       "      <td>10</td>\n",
       "      <td>283</td>\n",
       "    </tr>\n",
       "    <tr>\n",
       "      <th>283</th>\n",
       "      <td>2020-12-10T23:40:00+08:00</td>\n",
       "      <td>[{'station_id': 'S77', 'value': 0}, {'station_...</td>\n",
       "      <td>10</td>\n",
       "      <td>284</td>\n",
       "    </tr>\n",
       "    <tr>\n",
       "      <th>284</th>\n",
       "      <td>2020-12-10T23:45:00+08:00</td>\n",
       "      <td>[{'station_id': 'S77', 'value': 0}, {'station_...</td>\n",
       "      <td>10</td>\n",
       "      <td>285</td>\n",
       "    </tr>\n",
       "    <tr>\n",
       "      <th>285</th>\n",
       "      <td>2020-12-10T23:50:00+08:00</td>\n",
       "      <td>[{'station_id': 'S77', 'value': 0}, {'station_...</td>\n",
       "      <td>10</td>\n",
       "      <td>286</td>\n",
       "    </tr>\n",
       "    <tr>\n",
       "      <th>286</th>\n",
       "      <td>2020-12-10T23:55:00+08:00</td>\n",
       "      <td>[{'station_id': 'S77', 'value': 0}, {'station_...</td>\n",
       "      <td>10</td>\n",
       "      <td>287</td>\n",
       "    </tr>\n",
       "  </tbody>\n",
       "</table>\n",
       "<p>2870 rows × 4 columns</p>\n",
       "</div>"
      ],
      "text/plain": [
       "                     timestamp  \\\n",
       "0    2020-12-01T00:05:00+08:00   \n",
       "1    2020-12-01T00:10:00+08:00   \n",
       "2    2020-12-01T00:15:00+08:00   \n",
       "3    2020-12-01T00:20:00+08:00   \n",
       "4    2020-12-01T00:25:00+08:00   \n",
       "..                         ...   \n",
       "282  2020-12-10T23:35:00+08:00   \n",
       "283  2020-12-10T23:40:00+08:00   \n",
       "284  2020-12-10T23:45:00+08:00   \n",
       "285  2020-12-10T23:50:00+08:00   \n",
       "286  2020-12-10T23:55:00+08:00   \n",
       "\n",
       "                                              readings  Day_ID  Time_ID  \n",
       "0    [{'station_id': 'S77', 'value': 0}, {'station_...       1        1  \n",
       "1    [{'station_id': 'S77', 'value': 0}, {'station_...       1        2  \n",
       "2    [{'station_id': 'S77', 'value': 0}, {'station_...       1        3  \n",
       "3    [{'station_id': 'S77', 'value': 0}, {'station_...       1        4  \n",
       "4    [{'station_id': 'S77', 'value': 0}, {'station_...       1        5  \n",
       "..                                                 ...     ...      ...  \n",
       "282  [{'station_id': 'S77', 'value': 0}, {'station_...      10      283  \n",
       "283  [{'station_id': 'S77', 'value': 0}, {'station_...      10      284  \n",
       "284  [{'station_id': 'S77', 'value': 0}, {'station_...      10      285  \n",
       "285  [{'station_id': 'S77', 'value': 0}, {'station_...      10      286  \n",
       "286  [{'station_id': 'S77', 'value': 0}, {'station_...      10      287  \n",
       "\n",
       "[2870 rows x 4 columns]"
      ]
     },
     "execution_count": 21,
     "metadata": {},
     "output_type": "execute_result"
    }
   ],
   "source": [
    "df_rainfall_all"
   ]
  },
  {
   "cell_type": "code",
   "execution_count": 22,
   "id": "747d5efa-8405-42e7-86f4-bfee4b84976d",
   "metadata": {
    "tags": []
   },
   "outputs": [
    {
     "data": {
      "text/html": [
       "<div>\n",
       "<style scoped>\n",
       "    .dataframe tbody tr th:only-of-type {\n",
       "        vertical-align: middle;\n",
       "    }\n",
       "\n",
       "    .dataframe tbody tr th {\n",
       "        vertical-align: top;\n",
       "    }\n",
       "\n",
       "    .dataframe thead th {\n",
       "        text-align: right;\n",
       "    }\n",
       "</style>\n",
       "<table border=\"1\" class=\"dataframe\">\n",
       "  <thead>\n",
       "    <tr style=\"text-align: right;\">\n",
       "      <th></th>\n",
       "      <th>index</th>\n",
       "      <th>station_id</th>\n",
       "      <th>value</th>\n",
       "      <th>Day_ID</th>\n",
       "      <th>Time_ID</th>\n",
       "    </tr>\n",
       "  </thead>\n",
       "  <tbody>\n",
       "    <tr>\n",
       "      <th>0</th>\n",
       "      <td>0</td>\n",
       "      <td>S77</td>\n",
       "      <td>0.0</td>\n",
       "      <td>1</td>\n",
       "      <td>1</td>\n",
       "    </tr>\n",
       "    <tr>\n",
       "      <th>1</th>\n",
       "      <td>1</td>\n",
       "      <td>S117</td>\n",
       "      <td>0.0</td>\n",
       "      <td>1</td>\n",
       "      <td>1</td>\n",
       "    </tr>\n",
       "    <tr>\n",
       "      <th>2</th>\n",
       "      <td>2</td>\n",
       "      <td>S90</td>\n",
       "      <td>0.0</td>\n",
       "      <td>1</td>\n",
       "      <td>1</td>\n",
       "    </tr>\n",
       "    <tr>\n",
       "      <th>3</th>\n",
       "      <td>3</td>\n",
       "      <td>S61</td>\n",
       "      <td>0.0</td>\n",
       "      <td>1</td>\n",
       "      <td>1</td>\n",
       "    </tr>\n",
       "    <tr>\n",
       "      <th>4</th>\n",
       "      <td>4</td>\n",
       "      <td>S114</td>\n",
       "      <td>0.0</td>\n",
       "      <td>1</td>\n",
       "      <td>1</td>\n",
       "    </tr>\n",
       "    <tr>\n",
       "      <th>...</th>\n",
       "      <td>...</td>\n",
       "      <td>...</td>\n",
       "      <td>...</td>\n",
       "      <td>...</td>\n",
       "      <td>...</td>\n",
       "    </tr>\n",
       "    <tr>\n",
       "      <th>211283</th>\n",
       "      <td>68</td>\n",
       "      <td>S08</td>\n",
       "      <td>0.0</td>\n",
       "      <td>10</td>\n",
       "      <td>287</td>\n",
       "    </tr>\n",
       "    <tr>\n",
       "      <th>211284</th>\n",
       "      <td>69</td>\n",
       "      <td>S116</td>\n",
       "      <td>0.0</td>\n",
       "      <td>10</td>\n",
       "      <td>287</td>\n",
       "    </tr>\n",
       "    <tr>\n",
       "      <th>211285</th>\n",
       "      <td>70</td>\n",
       "      <td>S104</td>\n",
       "      <td>0.0</td>\n",
       "      <td>10</td>\n",
       "      <td>287</td>\n",
       "    </tr>\n",
       "    <tr>\n",
       "      <th>211286</th>\n",
       "      <td>71</td>\n",
       "      <td>S100</td>\n",
       "      <td>0.0</td>\n",
       "      <td>10</td>\n",
       "      <td>287</td>\n",
       "    </tr>\n",
       "    <tr>\n",
       "      <th>211287</th>\n",
       "      <td>72</td>\n",
       "      <td>S91</td>\n",
       "      <td>0.0</td>\n",
       "      <td>10</td>\n",
       "      <td>287</td>\n",
       "    </tr>\n",
       "  </tbody>\n",
       "</table>\n",
       "<p>211288 rows × 5 columns</p>\n",
       "</div>"
      ],
      "text/plain": [
       "        index station_id  value  Day_ID  Time_ID\n",
       "0           0        S77    0.0       1        1\n",
       "1           1       S117    0.0       1        1\n",
       "2           2        S90    0.0       1        1\n",
       "3           3        S61    0.0       1        1\n",
       "4           4       S114    0.0       1        1\n",
       "...       ...        ...    ...     ...      ...\n",
       "211283     68        S08    0.0      10      287\n",
       "211284     69       S116    0.0      10      287\n",
       "211285     70       S104    0.0      10      287\n",
       "211286     71       S100    0.0      10      287\n",
       "211287     72        S91    0.0      10      287\n",
       "\n",
       "[211288 rows x 5 columns]"
      ]
     },
     "execution_count": 22,
     "metadata": {},
     "output_type": "execute_result"
    }
   ],
   "source": [
    "df = pd.concat([pd.DataFrame(row.readings).assign(Day_ID=row.Day_ID,Time_ID=row.Time_ID) for index, row in df_rainfall_all.iterrows()]).reset_index()\n",
    "df"
   ]
  },
  {
   "cell_type": "code",
   "execution_count": 23,
   "id": "470599ea-8a5a-43e2-b084-d35c5e3d8efe",
   "metadata": {},
   "outputs": [],
   "source": [
    "df_agg= df.groupby(['Day_ID','station_id']).sum().drop(['Time_ID','index'],axis=1).reset_index()"
   ]
  },
  {
   "cell_type": "code",
   "execution_count": 24,
   "id": "bb5d49ac-eb50-41a8-aa9c-0caac174e9fa",
   "metadata": {},
   "outputs": [
    {
     "data": {
      "text/html": [
       "<div>\n",
       "<style scoped>\n",
       "    .dataframe tbody tr th:only-of-type {\n",
       "        vertical-align: middle;\n",
       "    }\n",
       "\n",
       "    .dataframe tbody tr th {\n",
       "        vertical-align: top;\n",
       "    }\n",
       "\n",
       "    .dataframe thead th {\n",
       "        text-align: right;\n",
       "    }\n",
       "</style>\n",
       "<table border=\"1\" class=\"dataframe\">\n",
       "  <thead>\n",
       "    <tr style=\"text-align: right;\">\n",
       "      <th></th>\n",
       "      <th>Day_ID</th>\n",
       "      <th>station_id</th>\n",
       "      <th>value</th>\n",
       "    </tr>\n",
       "  </thead>\n",
       "  <tbody>\n",
       "    <tr>\n",
       "      <th>0</th>\n",
       "      <td>1</td>\n",
       "      <td>S07</td>\n",
       "      <td>0.0</td>\n",
       "    </tr>\n",
       "    <tr>\n",
       "      <th>1</th>\n",
       "      <td>1</td>\n",
       "      <td>S08</td>\n",
       "      <td>0.0</td>\n",
       "    </tr>\n",
       "    <tr>\n",
       "      <th>2</th>\n",
       "      <td>1</td>\n",
       "      <td>S100</td>\n",
       "      <td>0.0</td>\n",
       "    </tr>\n",
       "    <tr>\n",
       "      <th>3</th>\n",
       "      <td>1</td>\n",
       "      <td>S104</td>\n",
       "      <td>0.0</td>\n",
       "    </tr>\n",
       "    <tr>\n",
       "      <th>4</th>\n",
       "      <td>1</td>\n",
       "      <td>S107</td>\n",
       "      <td>0.0</td>\n",
       "    </tr>\n",
       "    <tr>\n",
       "      <th>...</th>\n",
       "      <td>...</td>\n",
       "      <td>...</td>\n",
       "      <td>...</td>\n",
       "    </tr>\n",
       "    <tr>\n",
       "      <th>747</th>\n",
       "      <td>10</td>\n",
       "      <td>S90</td>\n",
       "      <td>5.6</td>\n",
       "    </tr>\n",
       "    <tr>\n",
       "      <th>748</th>\n",
       "      <td>10</td>\n",
       "      <td>S900</td>\n",
       "      <td>43.6</td>\n",
       "    </tr>\n",
       "    <tr>\n",
       "      <th>749</th>\n",
       "      <td>10</td>\n",
       "      <td>S91</td>\n",
       "      <td>19.8</td>\n",
       "    </tr>\n",
       "    <tr>\n",
       "      <th>750</th>\n",
       "      <td>10</td>\n",
       "      <td>S92</td>\n",
       "      <td>5.6</td>\n",
       "    </tr>\n",
       "    <tr>\n",
       "      <th>751</th>\n",
       "      <td>10</td>\n",
       "      <td>S94</td>\n",
       "      <td>18.6</td>\n",
       "    </tr>\n",
       "  </tbody>\n",
       "</table>\n",
       "<p>752 rows × 3 columns</p>\n",
       "</div>"
      ],
      "text/plain": [
       "     Day_ID station_id  value\n",
       "0         1        S07    0.0\n",
       "1         1        S08    0.0\n",
       "2         1       S100    0.0\n",
       "3         1       S104    0.0\n",
       "4         1       S107    0.0\n",
       "..      ...        ...    ...\n",
       "747      10        S90    5.6\n",
       "748      10       S900   43.6\n",
       "749      10        S91   19.8\n",
       "750      10        S92    5.6\n",
       "751      10        S94   18.6\n",
       "\n",
       "[752 rows x 3 columns]"
      ]
     },
     "execution_count": 24,
     "metadata": {},
     "output_type": "execute_result"
    }
   ],
   "source": [
    "df_agg"
   ]
  },
  {
   "cell_type": "code",
   "execution_count": 25,
   "id": "56aca37d-a8c5-41b5-bfce-af638fab868e",
   "metadata": {
    "tags": []
   },
   "outputs": [
    {
     "data": {
      "text/html": [
       "<div>\n",
       "<style scoped>\n",
       "    .dataframe tbody tr th:only-of-type {\n",
       "        vertical-align: middle;\n",
       "    }\n",
       "\n",
       "    .dataframe tbody tr th {\n",
       "        vertical-align: top;\n",
       "    }\n",
       "\n",
       "    .dataframe thead th {\n",
       "        text-align: right;\n",
       "    }\n",
       "</style>\n",
       "<table border=\"1\" class=\"dataframe\">\n",
       "  <thead>\n",
       "    <tr style=\"text-align: right;\">\n",
       "      <th></th>\n",
       "      <th>id</th>\n",
       "      <th>device_id</th>\n",
       "      <th>name</th>\n",
       "      <th>location</th>\n",
       "    </tr>\n",
       "  </thead>\n",
       "  <tbody>\n",
       "    <tr>\n",
       "      <th>0</th>\n",
       "      <td>S77</td>\n",
       "      <td>S77</td>\n",
       "      <td>Alexandra Road</td>\n",
       "      <td>{'latitude': 1.2937, 'longitude': 103.8125}</td>\n",
       "    </tr>\n",
       "    <tr>\n",
       "      <th>1</th>\n",
       "      <td>S117</td>\n",
       "      <td>S117</td>\n",
       "      <td>Banyan Road</td>\n",
       "      <td>{'latitude': 1.256, 'longitude': 103.679}</td>\n",
       "    </tr>\n",
       "    <tr>\n",
       "      <th>2</th>\n",
       "      <td>S90</td>\n",
       "      <td>S90</td>\n",
       "      <td>Bukit Timah Road</td>\n",
       "      <td>{'latitude': 1.3191, 'longitude': 103.8191}</td>\n",
       "    </tr>\n",
       "    <tr>\n",
       "      <th>3</th>\n",
       "      <td>S61</td>\n",
       "      <td>S61</td>\n",
       "      <td>Chai Chee Street</td>\n",
       "      <td>{'latitude': 1.323, 'longitude': 103.9217}</td>\n",
       "    </tr>\n",
       "    <tr>\n",
       "      <th>4</th>\n",
       "      <td>S114</td>\n",
       "      <td>S114</td>\n",
       "      <td>Choa Chu Kang Avenue 4</td>\n",
       "      <td>{'latitude': 1.38, 'longitude': 103.73}</td>\n",
       "    </tr>\n",
       "    <tr>\n",
       "      <th>...</th>\n",
       "      <td>...</td>\n",
       "      <td>...</td>\n",
       "      <td>...</td>\n",
       "      <td>...</td>\n",
       "    </tr>\n",
       "    <tr>\n",
       "      <th>70</th>\n",
       "      <td>S230</td>\n",
       "      <td>S230</td>\n",
       "      <td>S230</td>\n",
       "      <td>{'latitude': 1.30167, 'longitude': 103.76444}</td>\n",
       "    </tr>\n",
       "    <tr>\n",
       "      <th>71</th>\n",
       "      <td>S92</td>\n",
       "      <td>S92</td>\n",
       "      <td>South Buona Vista Road</td>\n",
       "      <td>{'latitude': 1.2841, 'longitude': 103.7886}</td>\n",
       "    </tr>\n",
       "    <tr>\n",
       "      <th>72</th>\n",
       "      <td>S29</td>\n",
       "      <td>S29</td>\n",
       "      <td>Pasir Ris Drive 12</td>\n",
       "      <td>{'latitude': 1.387, 'longitude': 103.935}</td>\n",
       "    </tr>\n",
       "    <tr>\n",
       "      <th>73</th>\n",
       "      <td>S122</td>\n",
       "      <td>S122</td>\n",
       "      <td>Sembawang Road</td>\n",
       "      <td>{'latitude': 1.41731, 'longitude': 103.8249}</td>\n",
       "    </tr>\n",
       "    <tr>\n",
       "      <th>74</th>\n",
       "      <td>S109</td>\n",
       "      <td>S109</td>\n",
       "      <td>Ang Mo Kio Avenue 5</td>\n",
       "      <td>{'latitude': 1.3764, 'longitude': 103.8492}</td>\n",
       "    </tr>\n",
       "  </tbody>\n",
       "</table>\n",
       "<p>75 rows × 4 columns</p>\n",
       "</div>"
      ],
      "text/plain": [
       "      id device_id                    name  \\\n",
       "0    S77       S77          Alexandra Road   \n",
       "1   S117      S117             Banyan Road   \n",
       "2    S90       S90        Bukit Timah Road   \n",
       "3    S61       S61        Chai Chee Street   \n",
       "4   S114      S114  Choa Chu Kang Avenue 4   \n",
       "..   ...       ...                     ...   \n",
       "70  S230      S230                    S230   \n",
       "71   S92       S92  South Buona Vista Road   \n",
       "72   S29       S29      Pasir Ris Drive 12   \n",
       "73  S122      S122          Sembawang Road   \n",
       "74  S109      S109     Ang Mo Kio Avenue 5   \n",
       "\n",
       "                                         location  \n",
       "0     {'latitude': 1.2937, 'longitude': 103.8125}  \n",
       "1       {'latitude': 1.256, 'longitude': 103.679}  \n",
       "2     {'latitude': 1.3191, 'longitude': 103.8191}  \n",
       "3      {'latitude': 1.323, 'longitude': 103.9217}  \n",
       "4         {'latitude': 1.38, 'longitude': 103.73}  \n",
       "..                                            ...  \n",
       "70  {'latitude': 1.30167, 'longitude': 103.76444}  \n",
       "71    {'latitude': 1.2841, 'longitude': 103.7886}  \n",
       "72      {'latitude': 1.387, 'longitude': 103.935}  \n",
       "73   {'latitude': 1.41731, 'longitude': 103.8249}  \n",
       "74    {'latitude': 1.3764, 'longitude': 103.8492}  \n",
       "\n",
       "[75 rows x 4 columns]"
      ]
     },
     "execution_count": 25,
     "metadata": {},
     "output_type": "execute_result"
    }
   ],
   "source": [
    "df_stations"
   ]
  },
  {
   "cell_type": "code",
   "execution_count": 26,
   "id": "6c233e21-e377-4c6f-a4b6-c6c5063b1ace",
   "metadata": {},
   "outputs": [],
   "source": [
    "df_agg_for_kriging = df_agg.merge(df_st,left_on='station_id',right_on='device_id')"
   ]
  },
  {
   "cell_type": "code",
   "execution_count": 27,
   "id": "677a8f4a-0ed0-4832-bd44-3efa6be87385",
   "metadata": {},
   "outputs": [
    {
     "data": {
      "text/html": [
       "<div>\n",
       "<style scoped>\n",
       "    .dataframe tbody tr th:only-of-type {\n",
       "        vertical-align: middle;\n",
       "    }\n",
       "\n",
       "    .dataframe tbody tr th {\n",
       "        vertical-align: top;\n",
       "    }\n",
       "\n",
       "    .dataframe thead th {\n",
       "        text-align: right;\n",
       "    }\n",
       "</style>\n",
       "<table border=\"1\" class=\"dataframe\">\n",
       "  <thead>\n",
       "    <tr style=\"text-align: right;\">\n",
       "      <th></th>\n",
       "      <th>Day_ID</th>\n",
       "      <th>station_id</th>\n",
       "      <th>value</th>\n",
       "      <th>id</th>\n",
       "      <th>device_id</th>\n",
       "      <th>name</th>\n",
       "      <th>latitude</th>\n",
       "      <th>longitude</th>\n",
       "    </tr>\n",
       "  </thead>\n",
       "  <tbody>\n",
       "    <tr>\n",
       "      <th>0</th>\n",
       "      <td>1</td>\n",
       "      <td>S07</td>\n",
       "      <td>0.00000</td>\n",
       "      <td>S07</td>\n",
       "      <td>S07</td>\n",
       "      <td>Lornie Road</td>\n",
       "      <td>1.3415</td>\n",
       "      <td>103.8334</td>\n",
       "    </tr>\n",
       "    <tr>\n",
       "      <th>1</th>\n",
       "      <td>2</td>\n",
       "      <td>S07</td>\n",
       "      <td>0.20000</td>\n",
       "      <td>S07</td>\n",
       "      <td>S07</td>\n",
       "      <td>Lornie Road</td>\n",
       "      <td>1.3415</td>\n",
       "      <td>103.8334</td>\n",
       "    </tr>\n",
       "    <tr>\n",
       "      <th>2</th>\n",
       "      <td>3</td>\n",
       "      <td>S07</td>\n",
       "      <td>33.00000</td>\n",
       "      <td>S07</td>\n",
       "      <td>S07</td>\n",
       "      <td>Lornie Road</td>\n",
       "      <td>1.3415</td>\n",
       "      <td>103.8334</td>\n",
       "    </tr>\n",
       "    <tr>\n",
       "      <th>3</th>\n",
       "      <td>4</td>\n",
       "      <td>S07</td>\n",
       "      <td>21.40000</td>\n",
       "      <td>S07</td>\n",
       "      <td>S07</td>\n",
       "      <td>Lornie Road</td>\n",
       "      <td>1.3415</td>\n",
       "      <td>103.8334</td>\n",
       "    </tr>\n",
       "    <tr>\n",
       "      <th>4</th>\n",
       "      <td>5</td>\n",
       "      <td>S07</td>\n",
       "      <td>0.20000</td>\n",
       "      <td>S07</td>\n",
       "      <td>S07</td>\n",
       "      <td>Lornie Road</td>\n",
       "      <td>1.3415</td>\n",
       "      <td>103.8334</td>\n",
       "    </tr>\n",
       "    <tr>\n",
       "      <th>...</th>\n",
       "      <td>...</td>\n",
       "      <td>...</td>\n",
       "      <td>...</td>\n",
       "      <td>...</td>\n",
       "      <td>...</td>\n",
       "      <td>...</td>\n",
       "      <td>...</td>\n",
       "      <td>...</td>\n",
       "    </tr>\n",
       "    <tr>\n",
       "      <th>736</th>\n",
       "      <td>6</td>\n",
       "      <td>S94</td>\n",
       "      <td>0.00000</td>\n",
       "      <td>S94</td>\n",
       "      <td>S94</td>\n",
       "      <td>Pasir Ris Street 51</td>\n",
       "      <td>1.3662</td>\n",
       "      <td>103.9528</td>\n",
       "    </tr>\n",
       "    <tr>\n",
       "      <th>737</th>\n",
       "      <td>7</td>\n",
       "      <td>S94</td>\n",
       "      <td>19.00000</td>\n",
       "      <td>S94</td>\n",
       "      <td>S94</td>\n",
       "      <td>Pasir Ris Street 51</td>\n",
       "      <td>1.3662</td>\n",
       "      <td>103.9528</td>\n",
       "    </tr>\n",
       "    <tr>\n",
       "      <th>738</th>\n",
       "      <td>8</td>\n",
       "      <td>S94</td>\n",
       "      <td>0.00000</td>\n",
       "      <td>S94</td>\n",
       "      <td>S94</td>\n",
       "      <td>Pasir Ris Street 51</td>\n",
       "      <td>1.3662</td>\n",
       "      <td>103.9528</td>\n",
       "    </tr>\n",
       "    <tr>\n",
       "      <th>739</th>\n",
       "      <td>9</td>\n",
       "      <td>S94</td>\n",
       "      <td>64.19999</td>\n",
       "      <td>S94</td>\n",
       "      <td>S94</td>\n",
       "      <td>Pasir Ris Street 51</td>\n",
       "      <td>1.3662</td>\n",
       "      <td>103.9528</td>\n",
       "    </tr>\n",
       "    <tr>\n",
       "      <th>740</th>\n",
       "      <td>10</td>\n",
       "      <td>S94</td>\n",
       "      <td>18.60000</td>\n",
       "      <td>S94</td>\n",
       "      <td>S94</td>\n",
       "      <td>Pasir Ris Street 51</td>\n",
       "      <td>1.3662</td>\n",
       "      <td>103.9528</td>\n",
       "    </tr>\n",
       "  </tbody>\n",
       "</table>\n",
       "<p>741 rows × 8 columns</p>\n",
       "</div>"
      ],
      "text/plain": [
       "     Day_ID station_id     value   id device_id                 name  \\\n",
       "0         1        S07   0.00000  S07       S07          Lornie Road   \n",
       "1         2        S07   0.20000  S07       S07          Lornie Road   \n",
       "2         3        S07  33.00000  S07       S07          Lornie Road   \n",
       "3         4        S07  21.40000  S07       S07          Lornie Road   \n",
       "4         5        S07   0.20000  S07       S07          Lornie Road   \n",
       "..      ...        ...       ...  ...       ...                  ...   \n",
       "736       6        S94   0.00000  S94       S94  Pasir Ris Street 51   \n",
       "737       7        S94  19.00000  S94       S94  Pasir Ris Street 51   \n",
       "738       8        S94   0.00000  S94       S94  Pasir Ris Street 51   \n",
       "739       9        S94  64.19999  S94       S94  Pasir Ris Street 51   \n",
       "740      10        S94  18.60000  S94       S94  Pasir Ris Street 51   \n",
       "\n",
       "     latitude  longitude  \n",
       "0      1.3415   103.8334  \n",
       "1      1.3415   103.8334  \n",
       "2      1.3415   103.8334  \n",
       "3      1.3415   103.8334  \n",
       "4      1.3415   103.8334  \n",
       "..        ...        ...  \n",
       "736    1.3662   103.9528  \n",
       "737    1.3662   103.9528  \n",
       "738    1.3662   103.9528  \n",
       "739    1.3662   103.9528  \n",
       "740    1.3662   103.9528  \n",
       "\n",
       "[741 rows x 8 columns]"
      ]
     },
     "execution_count": 27,
     "metadata": {},
     "output_type": "execute_result"
    }
   ],
   "source": [
    "df_agg_for_kriging"
   ]
  },
  {
   "cell_type": "markdown",
   "id": "ca848199-616c-422e-a1a9-f2b15dd5e219",
   "metadata": {
    "tags": []
   },
   "source": [
    "### Visualize Rainfall data"
   ]
  },
  {
   "cell_type": "code",
   "execution_count": 28,
   "id": "cadff313-275b-4406-8697-35abd78197a6",
   "metadata": {},
   "outputs": [],
   "source": [
    "df_rainfall_geoms = gpd.points_from_xy(x=df_agg_for_kriging[\"longitude\"],\n",
    "                                    y=df_agg_for_kriging[\"latitude\"],\n",
    "                                    crs=\"epsg:4326\"\n",
    "                                   )"
   ]
  },
  {
   "cell_type": "code",
   "execution_count": 29,
   "id": "92c093e0-015c-4610-8320-1bab70b17d93",
   "metadata": {},
   "outputs": [],
   "source": [
    "rainfall = gpd.GeoDataFrame(df_agg_for_kriging,\n",
    "                                   geometry=df_rainfall_geoms\n",
    "                                  )"
   ]
  },
  {
   "cell_type": "code",
   "execution_count": 30,
   "id": "140dfb02-cef1-4837-8fe8-73fe55826d9b",
   "metadata": {},
   "outputs": [],
   "source": [
    "# ensure that the two layers have the same crs\n",
    "# here we have to transform the crs instead of set a new\n",
    "rainfall=rainfall.to_crs(\"epsg:3414\")"
   ]
  },
  {
   "cell_type": "code",
   "execution_count": 52,
   "id": "76db487d-03e8-48ff-8d0a-013a3e32bb83",
   "metadata": {},
   "outputs": [],
   "source": [
    "rainfall=gpd.read_file(\"Data/rainfall.shp\")"
   ]
  },
  {
   "cell_type": "code",
   "execution_count": 53,
   "id": "a4e584b1-7927-4301-aa32-dcbf815287fd",
   "metadata": {},
   "outputs": [],
   "source": [
    "sz = gpd.read_file('Data/MP14_Subzone_SE_2017.shp')"
   ]
  },
  {
   "cell_type": "code",
   "execution_count": 54,
   "id": "3dff56fe-6b25-4fc0-8de6-96e623259be2",
   "metadata": {},
   "outputs": [
    {
     "data": {
      "application/vnd.jupyter.widget-view+json": {
       "model_id": "7be7b2515ae844dfb80ced07f114928a",
       "version_major": 2,
       "version_minor": 0
      },
      "text/plain": [
       "interactive(children=(IntSlider(value=1, continuous_update=False, description='day_id', max=10, min=1), Output…"
      ]
     },
     "metadata": {},
     "output_type": "display_data"
    }
   ],
   "source": [
    "@interact(day_id=widgets.IntSlider(min=1, max=10, step=1, value=1,continuous_update=False))\n",
    "def plot_rainfail_byday(day_id):\n",
    "    rainfall_day=rainfall.query('Day_ID == ' + str(day_id))\n",
    "    f, ax = plt.subplots(1, figsize=(9, 4))\n",
    "    sz.plot(ax=ax, legend=False, facecolor=\"none\",edgecolor=\"k\",lw=0.1)\n",
    "    rainfall_day.plot(ax=ax, column='value', legend=True, scheme='Quantiles', legend_kwds={'fmt':'{:.0f}'}, cmap='Blues', edgecolor=\"k\")\n",
    "    ax.set_title('Singapore Rainfall Data: ' + str(day_id))\n",
    "    plt.axis('equal')\n",
    "    plt.show()"
   ]
  },
  {
   "cell_type": "markdown",
   "id": "d3249119-9d42-4458-9312-844bcb5939a8",
   "metadata": {
    "id": "88WaTjcArEDI"
   },
   "source": [
    "### Make a regular grid\n",
    "\n",
    "We must make a grid, which represents the points we'd like to predict."
   ]
  },
  {
   "cell_type": "code",
   "execution_count": 55,
   "id": "d95feccf-e2d5-4d1a-b5ac-546213051d91",
   "metadata": {},
   "outputs": [],
   "source": [
    "extent = min_x, max_x, min_y, max_y = [rainfall.geometry.x.min()-1100, rainfall.geometry.x.max()+10000,\n",
    "                                       rainfall.geometry.y.min()-6500, rainfall.geometry.y.max()+5200]"
   ]
  },
  {
   "cell_type": "code",
   "execution_count": 56,
   "id": "b22254fb-8787-4257-ba1e-5b7ddd78caef",
   "metadata": {
    "id": "Iz01aegXrEDI"
   },
   "outputs": [],
   "source": [
    "gridx, gridy = np.mgrid[min_x:max_x:500, min_y:max_x:500]"
   ]
  },
  {
   "cell_type": "code",
   "execution_count": 57,
   "id": "934260ff-00f6-4b83-b4f7-d5d6382fa519",
   "metadata": {
    "collapsed": true,
    "id": "fJBPWHTTrEDI",
    "jupyter": {
     "outputs_hidden": true
    },
    "outputId": "c738dd63-0db8-4fe4-9ac9-0f686d63fee0",
    "tags": []
   },
   "outputs": [
    {
     "data": {
      "application/vnd.jupyter.widget-view+json": {
       "model_id": "059fce0f0f5642229b6baeccbfefc5a5",
       "version_major": 2,
       "version_minor": 0
      },
      "text/plain": [
       "Canvas(toolbar=Toolbar(toolitems=[('Home', 'Reset original view', 'home', 'home'), ('Back', 'Back to previous …"
      ]
     },
     "metadata": {},
     "output_type": "display_data"
    },
    {
     "data": {
      "text/plain": [
       "<AxesSubplot:>"
      ]
     },
     "execution_count": 57,
     "metadata": {},
     "output_type": "execute_result"
    }
   ],
   "source": [
    "plt.figure(figsize=(10,6))\n",
    "plt.scatter(gridx, gridy, s=10)\n",
    "ax = plt.gca()\n",
    "sz.plot(ax=ax, legend=False, facecolor=\"none\",edgecolor=\"k\",lw=0.1)"
   ]
  },
  {
   "cell_type": "code",
   "execution_count": 58,
   "id": "5d283d79-179a-45c7-928f-c4f43680db83",
   "metadata": {
    "collapsed": true,
    "jupyter": {
     "outputs_hidden": true
    },
    "tags": []
   },
   "outputs": [
    {
     "data": {
      "application/vnd.jupyter.widget-view+json": {
       "model_id": "ad0ba291b8014a969689a9b00d4eb435",
       "version_major": 2,
       "version_minor": 0
      },
      "text/plain": [
       "Canvas(toolbar=Toolbar(toolitems=[('Home', 'Reset original view', 'home', 'home'), ('Back', 'Back to previous …"
      ]
     },
     "metadata": {},
     "output_type": "display_data"
    },
    {
     "data": {
      "text/plain": [
       "<AxesSubplot:>"
      ]
     },
     "execution_count": 58,
     "metadata": {},
     "output_type": "execute_result"
    }
   ],
   "source": [
    "gridxy = np.stack([gridx.ravel(), gridy.ravel()]).T\n",
    "grid_points = gpd.points_from_xy(x=gridxy[:,0], y=gridxy[:,1])\n",
    "grid_points_df = gpd.GeoDataFrame(geometry=grid_points)\n",
    "grid_points_within = gpd.sjoin(grid_points_df, sz, how='inner', op='within')\n",
    "\n",
    "grid_points_within.plot()\n",
    "ax = plt.gca()\n",
    "sz.plot(ax=ax, legend=False, facecolor=\"none\",edgecolor=\"k\",lw=0.1)"
   ]
  },
  {
   "cell_type": "markdown",
   "id": "22dd7be3-53fc-4843-99cd-b1230834bd40",
   "metadata": {
    "id": "U-wznWafrEDQ"
   },
   "source": [
    "### Using `scikit-learn.gaussian_process`"
   ]
  },
  {
   "cell_type": "markdown",
   "id": "5054afa7-e942-478f-8cee-34311a121d26",
   "metadata": {
    "id": "RsUB8HGgrEDQ"
   },
   "source": [
    "Modeling with a Gaussian process is equivalent to kriging. Conveniently, the popular machine learning library `scikit-learn` has a Gaussian process modeling tool.\n",
    "RBF: Radial-basis function kernel (aka squared-exponential kernel). The RBF kernel is a stationary kernel. It is also known as the “squared exponential” kernel. It is parameterized by a length scale parameter , which can either be a scalar (isotropic variant of the kernel) or a vector with the same number of dimensions as the inputs X (anisotropic variant of the kernel). "
   ]
  },
  {
   "cell_type": "code",
   "execution_count": 59,
   "id": "c611d9d5-afe6-4c73-b6bb-0112109992c2",
   "metadata": {
    "id": "RkCp99OprEDQ"
   },
   "outputs": [],
   "source": [
    "from sklearn.gaussian_process.kernels import RBF\n",
    "from sklearn.gaussian_process import GaussianProcessRegressor"
   ]
  },
  {
   "cell_type": "markdown",
   "id": "370d008c-c724-4e43-879f-615257e7c461",
   "metadata": {
    "id": "Kf1wnpJerEDQ"
   },
   "source": [
    "The main hyperparameters are the kernel, which we just defined, and `alpha`, which controls the smoothness. Larger values imply more noise in the input data, and result in smoother grids; default is very small: 1 &times; 10<sup>-9</sup>."
   ]
  },
  {
   "cell_type": "code",
   "execution_count": 60,
   "id": "3725f732-9515-4109-9075-b1747d260e26",
   "metadata": {
    "id": "ET8493HdrEDR",
    "outputId": "ff83c441-35d3-4fdf-f15c-d098cfcb325e"
   },
   "outputs": [
    {
     "data": {
      "application/vnd.jupyter.widget-view+json": {
       "model_id": "da55491b5304462d9087f3d0d42c9839",
       "version_major": 2,
       "version_minor": 0
      },
      "text/plain": [
       "interactive(children=(IntSlider(value=1, continuous_update=False, description='day_id', max=10, min=1), IntSli…"
      ]
     },
     "metadata": {},
     "output_type": "display_data"
    }
   ],
   "source": [
    "@interact(day_id=widgets.IntSlider(min=1, max=10, step=1, value=1,continuous_update=False),length_scale_input = widgets.IntSlider(min=500, max=20000, step=500, value=1000,continuous_update=False))\n",
    "def plot_interpolation_byday(day_id,length_scale_input):\n",
    "    rainfall_day=rainfall.query('Day_ID == ' + str(day_id))\n",
    "    points = np.vstack((rainfall_day.geometry.x,rainfall_day.geometry.y)).T\n",
    "    \n",
    "    kernel = RBF(length_scale=length_scale_input)\n",
    "    gp = GaussianProcessRegressor(normalize_y=True,\n",
    "                                  alpha=0.1,  # Larger values imply more noise in the input data.\n",
    "                                  kernel=kernel)\n",
    "\n",
    "    gp.fit(points, rainfall_day.value.values)\n",
    "    grid_points_pred =gp.predict(gridxy)\n",
    "    grid_points = gpd.points_from_xy(x=gridxy[:,0], y=gridxy[:,1])\n",
    "    grid_points_df = gpd.GeoDataFrame(pd.DataFrame(grid_points_pred,columns=['value']), geometry=grid_points)\n",
    "\n",
    "    grid_points_within = gpd.sjoin(grid_points_df, sz, how='inner', op='within')\n",
    "    \n",
    "    f, ax = plt.subplots(1, figsize=(9, 4))\n",
    "    grid_points_within.plot('value',alpha=0.5,legend=True,ax=ax)\n",
    "    sz.plot(ax=ax, legend=False, facecolor=\"none\",edgecolor=\"k\",lw=0.1)\n",
    "    rainfall_day.plot(ax=ax, column='value', legend=True, scheme='Quantiles', legend_kwds={'fmt':'{:.0f}'}, cmap='Blues', edgecolor=\"k\")\n",
    "\n"
   ]
  },
  {
   "cell_type": "markdown",
   "id": "db44bb13-7cba-4a28-9074-46addc72ea33",
   "metadata": {},
   "source": [
    "## Spatial Regression using PYSAL"
   ]
  },
  {
   "cell_type": "markdown",
   "id": "93a947aa-b2e9-4885-8dd0-f10e723ad53a",
   "metadata": {},
   "source": [
    "Spatial regression is to explicitly introduce space or geographical context into the statistical framework of a regression. \n",
    "\n",
    "\n",
    "In the analysis of predictive methods and classifiers, we are interested in analyzing residuals, so called error diagnostics. When the regression model *systematically* mis-predicts some types of observations, geography provides us with an exceptionally-useful tool to show whether or not there are *clusters of error* in our data. \n",
    "\n",
    "If we *know* that errors tend to be larger in some areas than in other areas (or if error is \"contagious\" between observations), then we might be able to exploit this structure to make better predictions."
   ]
  },
  {
   "cell_type": "code",
   "execution_count": 61,
   "id": "09c67aae-59ee-4a15-a1b0-f611e23b731b",
   "metadata": {},
   "outputs": [],
   "source": [
    "sz_Y = gpd.read_file('Data/MP14_Subzone_Y_2017.shp')"
   ]
  },
  {
   "cell_type": "code",
   "execution_count": 62,
   "id": "31486f0b-b748-49a4-8358-1ca880fc5001",
   "metadata": {},
   "outputs": [
    {
     "data": {
      "application/vnd.jupyter.widget-view+json": {
       "model_id": "ec697c310b6441d7849deaa18b84ead0",
       "version_major": 2,
       "version_minor": 0
      },
      "text/plain": [
       "Canvas(toolbar=Toolbar(toolitems=[('Home', 'Reset original view', 'home', 'home'), ('Back', 'Back to previous …"
      ]
     },
     "metadata": {},
     "output_type": "display_data"
    },
    {
     "data": {
      "text/plain": [
       "<AxesSubplot:>"
      ]
     },
     "execution_count": 62,
     "metadata": {},
     "output_type": "execute_result"
    }
   ],
   "source": [
    "sz_Y.plot(\"Y\",legend=True)"
   ]
  },
  {
   "cell_type": "code",
   "execution_count": 63,
   "id": "3b5d23b6-a677-4a7e-9a8b-28b14f17d104",
   "metadata": {},
   "outputs": [],
   "source": [
    "not_varaible_names=['SUBZONE_N', 'PLN_AREA_N', 'REGION_N','SUBZONE_C', \n",
    "                    'PLN_AREA_C', 'REGION_C', 'geometry','stud_lprim',\n",
    "                    'HDB_AV_1rm','e12k_Over','stud_jcoll','VariableX']\n",
    "variable_names = sz_Y.columns[~sz_Y.columns.isin(not_varaible_names)]\n",
    "sz_df = sz_Y[variable_names]"
   ]
  },
  {
   "cell_type": "code",
   "execution_count": 64,
   "id": "92691d36-66cd-490d-bbff-4412aa35df33",
   "metadata": {},
   "outputs": [
    {
     "data": {
      "text/plain": [
       "Index(['Age_0to6', 'Age_20to29', 'Age_over85', 'HDB_AV_E', 'HDB_AV_2rm',\n",
       "       'House_AV', 'Condo_AV', 'EC_AV', 'Apart_AV', 'DP', 'FDW', 'WP', 'Y'],\n",
       "      dtype='object')"
      ]
     },
     "execution_count": 64,
     "metadata": {},
     "output_type": "execute_result"
    }
   ],
   "source": [
    "variable_names"
   ]
  },
  {
   "cell_type": "markdown",
   "id": "49c2f8ee-5985-4ef5-9e0a-cb77758a5c38",
   "metadata": {},
   "source": [
    "### Linear Regression"
   ]
  },
  {
   "cell_type": "code",
   "execution_count": 65,
   "id": "d401e9a7-8157-4de2-b2ae-fd6b7e614807",
   "metadata": {},
   "outputs": [],
   "source": [
    "formula = 'Y ~ Age_0to6'"
   ]
  },
  {
   "cell_type": "code",
   "execution_count": 66,
   "id": "c1b3f293-8d8d-49c8-8142-dff843639813",
   "metadata": {},
   "outputs": [
    {
     "data": {
      "text/html": [
       "<table class=\"simpletable\">\n",
       "<caption>OLS Regression Results</caption>\n",
       "<tr>\n",
       "  <th>Dep. Variable:</th>            <td>Y</td>        <th>  R-squared:         </th> <td>   0.625</td>\n",
       "</tr>\n",
       "<tr>\n",
       "  <th>Model:</th>                   <td>OLS</td>       <th>  Adj. R-squared:    </th> <td>   0.623</td>\n",
       "</tr>\n",
       "<tr>\n",
       "  <th>Method:</th>             <td>Least Squares</td>  <th>  F-statistic:       </th> <td>   530.8</td>\n",
       "</tr>\n",
       "<tr>\n",
       "  <th>Date:</th>             <td>Wed, 15 Sep 2021</td> <th>  Prob (F-statistic):</th> <td>7.51e-70</td>\n",
       "</tr>\n",
       "<tr>\n",
       "  <th>Time:</th>                 <td>21:09:05</td>     <th>  Log-Likelihood:    </th> <td> -2960.6</td>\n",
       "</tr>\n",
       "<tr>\n",
       "  <th>No. Observations:</th>      <td>   321</td>      <th>  AIC:               </th> <td>   5925.</td>\n",
       "</tr>\n",
       "<tr>\n",
       "  <th>Df Residuals:</th>          <td>   319</td>      <th>  BIC:               </th> <td>   5933.</td>\n",
       "</tr>\n",
       "<tr>\n",
       "  <th>Df Model:</th>              <td>     1</td>      <th>                     </th>     <td> </td>   \n",
       "</tr>\n",
       "<tr>\n",
       "  <th>Covariance Type:</th>      <td>nonrobust</td>    <th>                     </th>     <td> </td>   \n",
       "</tr>\n",
       "</table>\n",
       "<table class=\"simpletable\">\n",
       "<tr>\n",
       "      <td></td>         <th>coef</th>     <th>std err</th>      <th>t</th>      <th>P>|t|</th>  <th>[0.025</th>    <th>0.975]</th>  \n",
       "</tr>\n",
       "<tr>\n",
       "  <th>Intercept</th> <td> 1827.5951</td> <td>  161.861</td> <td>   11.291</td> <td> 0.000</td> <td> 1509.145</td> <td> 2146.045</td>\n",
       "</tr>\n",
       "<tr>\n",
       "  <th>Age_0to6</th>  <td>    2.2293</td> <td>    0.097</td> <td>   23.040</td> <td> 0.000</td> <td>    2.039</td> <td>    2.420</td>\n",
       "</tr>\n",
       "</table>\n",
       "<table class=\"simpletable\">\n",
       "<tr>\n",
       "  <th>Omnibus:</th>       <td>43.705</td> <th>  Durbin-Watson:     </th> <td>   1.406</td>\n",
       "</tr>\n",
       "<tr>\n",
       "  <th>Prob(Omnibus):</th> <td> 0.000</td> <th>  Jarque-Bera (JB):  </th> <td> 269.918</td>\n",
       "</tr>\n",
       "<tr>\n",
       "  <th>Skew:</th>          <td> 0.285</td> <th>  Prob(JB):          </th> <td>2.44e-59</td>\n",
       "</tr>\n",
       "<tr>\n",
       "  <th>Kurtosis:</th>      <td> 7.456</td> <th>  Cond. No.          </th> <td>1.97e+03</td>\n",
       "</tr>\n",
       "</table><br/><br/>Notes:<br/>[1] Standard Errors assume that the covariance matrix of the errors is correctly specified.<br/>[2] The condition number is large, 1.97e+03. This might indicate that there are<br/>strong multicollinearity or other numerical problems."
      ],
      "text/plain": [
       "<class 'statsmodels.iolib.summary.Summary'>\n",
       "\"\"\"\n",
       "                            OLS Regression Results                            \n",
       "==============================================================================\n",
       "Dep. Variable:                      Y   R-squared:                       0.625\n",
       "Model:                            OLS   Adj. R-squared:                  0.623\n",
       "Method:                 Least Squares   F-statistic:                     530.8\n",
       "Date:                Wed, 15 Sep 2021   Prob (F-statistic):           7.51e-70\n",
       "Time:                        21:09:05   Log-Likelihood:                -2960.6\n",
       "No. Observations:                 321   AIC:                             5925.\n",
       "Df Residuals:                     319   BIC:                             5933.\n",
       "Df Model:                           1                                         \n",
       "Covariance Type:            nonrobust                                         \n",
       "==============================================================================\n",
       "                 coef    std err          t      P>|t|      [0.025      0.975]\n",
       "------------------------------------------------------------------------------\n",
       "Intercept   1827.5951    161.861     11.291      0.000    1509.145    2146.045\n",
       "Age_0to6       2.2293      0.097     23.040      0.000       2.039       2.420\n",
       "==============================================================================\n",
       "Omnibus:                       43.705   Durbin-Watson:                   1.406\n",
       "Prob(Omnibus):                  0.000   Jarque-Bera (JB):              269.918\n",
       "Skew:                           0.285   Prob(JB):                     2.44e-59\n",
       "Kurtosis:                       7.456   Cond. No.                     1.97e+03\n",
       "==============================================================================\n",
       "\n",
       "Notes:\n",
       "[1] Standard Errors assume that the covariance matrix of the errors is correctly specified.\n",
       "[2] The condition number is large, 1.97e+03. This might indicate that there are\n",
       "strong multicollinearity or other numerical problems.\n",
       "\"\"\""
      ]
     },
     "execution_count": 66,
     "metadata": {},
     "output_type": "execute_result"
    }
   ],
   "source": [
    "sz_df = sm.add_constant(sz_df)\n",
    "results = ols(formula, sz_df).fit()\n",
    "results.summary()"
   ]
  },
  {
   "cell_type": "code",
   "execution_count": 67,
   "id": "95e5bd98-051b-4692-8475-a444824336e3",
   "metadata": {},
   "outputs": [],
   "source": [
    "formula = 'Y ~ Age_0to6 + House_AV + FDW'"
   ]
  },
  {
   "cell_type": "code",
   "execution_count": 68,
   "id": "9cc03609-7813-4a31-94c5-d0e681fcd43c",
   "metadata": {},
   "outputs": [
    {
     "data": {
      "text/html": [
       "<table class=\"simpletable\">\n",
       "<caption>OLS Regression Results</caption>\n",
       "<tr>\n",
       "  <th>Dep. Variable:</th>            <td>Y</td>        <th>  R-squared:         </th> <td>   0.755</td>\n",
       "</tr>\n",
       "<tr>\n",
       "  <th>Model:</th>                   <td>OLS</td>       <th>  Adj. R-squared:    </th> <td>   0.752</td>\n",
       "</tr>\n",
       "<tr>\n",
       "  <th>Method:</th>             <td>Least Squares</td>  <th>  F-statistic:       </th> <td>   325.0</td>\n",
       "</tr>\n",
       "<tr>\n",
       "  <th>Date:</th>             <td>Wed, 15 Sep 2021</td> <th>  Prob (F-statistic):</th> <td>2.33e-96</td>\n",
       "</tr>\n",
       "<tr>\n",
       "  <th>Time:</th>                 <td>21:09:07</td>     <th>  Log-Likelihood:    </th> <td> -2892.4</td>\n",
       "</tr>\n",
       "<tr>\n",
       "  <th>No. Observations:</th>      <td>   321</td>      <th>  AIC:               </th> <td>   5793.</td>\n",
       "</tr>\n",
       "<tr>\n",
       "  <th>Df Residuals:</th>          <td>   317</td>      <th>  BIC:               </th> <td>   5808.</td>\n",
       "</tr>\n",
       "<tr>\n",
       "  <th>Df Model:</th>              <td>     3</td>      <th>                     </th>     <td> </td>   \n",
       "</tr>\n",
       "<tr>\n",
       "  <th>Covariance Type:</th>      <td>nonrobust</td>    <th>                     </th>     <td> </td>   \n",
       "</tr>\n",
       "</table>\n",
       "<table class=\"simpletable\">\n",
       "<tr>\n",
       "      <td></td>         <th>coef</th>     <th>std err</th>      <th>t</th>      <th>P>|t|</th>  <th>[0.025</th>    <th>0.975]</th>  \n",
       "</tr>\n",
       "<tr>\n",
       "  <th>Intercept</th> <td> 1156.0691</td> <td>  142.857</td> <td>    8.093</td> <td> 0.000</td> <td>  875.002</td> <td> 1437.136</td>\n",
       "</tr>\n",
       "<tr>\n",
       "  <th>Age_0to6</th>  <td>    0.6644</td> <td>    0.149</td> <td>    4.460</td> <td> 0.000</td> <td>    0.371</td> <td>    0.957</td>\n",
       "</tr>\n",
       "<tr>\n",
       "  <th>House_AV</th>  <td>   -0.0035</td> <td>    0.000</td> <td>   -7.592</td> <td> 0.000</td> <td>   -0.004</td> <td>   -0.003</td>\n",
       "</tr>\n",
       "<tr>\n",
       "  <th>FDW</th>       <td>    3.7260</td> <td>    0.305</td> <td>   12.210</td> <td> 0.000</td> <td>    3.126</td> <td>    4.326</td>\n",
       "</tr>\n",
       "</table>\n",
       "<table class=\"simpletable\">\n",
       "<tr>\n",
       "  <th>Omnibus:</th>       <td>11.080</td> <th>  Durbin-Watson:     </th> <td>   1.407</td>\n",
       "</tr>\n",
       "<tr>\n",
       "  <th>Prob(Omnibus):</th> <td> 0.004</td> <th>  Jarque-Bera (JB):  </th> <td>  19.272</td>\n",
       "</tr>\n",
       "<tr>\n",
       "  <th>Skew:</th>          <td> 0.169</td> <th>  Prob(JB):          </th> <td>6.53e-05</td>\n",
       "</tr>\n",
       "<tr>\n",
       "  <th>Kurtosis:</th>      <td> 4.152</td> <th>  Cond. No.          </th> <td>5.82e+05</td>\n",
       "</tr>\n",
       "</table><br/><br/>Notes:<br/>[1] Standard Errors assume that the covariance matrix of the errors is correctly specified.<br/>[2] The condition number is large, 5.82e+05. This might indicate that there are<br/>strong multicollinearity or other numerical problems."
      ],
      "text/plain": [
       "<class 'statsmodels.iolib.summary.Summary'>\n",
       "\"\"\"\n",
       "                            OLS Regression Results                            \n",
       "==============================================================================\n",
       "Dep. Variable:                      Y   R-squared:                       0.755\n",
       "Model:                            OLS   Adj. R-squared:                  0.752\n",
       "Method:                 Least Squares   F-statistic:                     325.0\n",
       "Date:                Wed, 15 Sep 2021   Prob (F-statistic):           2.33e-96\n",
       "Time:                        21:09:07   Log-Likelihood:                -2892.4\n",
       "No. Observations:                 321   AIC:                             5793.\n",
       "Df Residuals:                     317   BIC:                             5808.\n",
       "Df Model:                           3                                         \n",
       "Covariance Type:            nonrobust                                         \n",
       "==============================================================================\n",
       "                 coef    std err          t      P>|t|      [0.025      0.975]\n",
       "------------------------------------------------------------------------------\n",
       "Intercept   1156.0691    142.857      8.093      0.000     875.002    1437.136\n",
       "Age_0to6       0.6644      0.149      4.460      0.000       0.371       0.957\n",
       "House_AV      -0.0035      0.000     -7.592      0.000      -0.004      -0.003\n",
       "FDW            3.7260      0.305     12.210      0.000       3.126       4.326\n",
       "==============================================================================\n",
       "Omnibus:                       11.080   Durbin-Watson:                   1.407\n",
       "Prob(Omnibus):                  0.004   Jarque-Bera (JB):               19.272\n",
       "Skew:                           0.169   Prob(JB):                     6.53e-05\n",
       "Kurtosis:                       4.152   Cond. No.                     5.82e+05\n",
       "==============================================================================\n",
       "\n",
       "Notes:\n",
       "[1] Standard Errors assume that the covariance matrix of the errors is correctly specified.\n",
       "[2] The condition number is large, 5.82e+05. This might indicate that there are\n",
       "strong multicollinearity or other numerical problems.\n",
       "\"\"\""
      ]
     },
     "execution_count": 68,
     "metadata": {},
     "output_type": "execute_result"
    }
   ],
   "source": [
    "sz_df = sm.add_constant(sz_df)\n",
    "results = ols(formula, sz_df).fit()\n",
    "results.summary()"
   ]
  },
  {
   "cell_type": "code",
   "execution_count": 69,
   "id": "8f73d536-8257-42d9-876d-f0f744a0c90e",
   "metadata": {},
   "outputs": [
    {
     "data": {
      "text/plain": [
       "'Y ~ Age_0to6+Age_20to29+Age_over85+HDB_AV_E+HDB_AV_2rm+House_AV+Condo_AV+EC_AV+Apart_AV+DP+FDW+WP'"
      ]
     },
     "execution_count": 69,
     "metadata": {},
     "output_type": "execute_result"
    }
   ],
   "source": [
    "variable_names_X = variable_names.values.tolist()\n",
    "variable_names_X.remove('Y')\n",
    "variable_formula =  'Y ~ ' + \"+\".join(variable_names_X)\n",
    "variable_formula"
   ]
  },
  {
   "cell_type": "code",
   "execution_count": 70,
   "id": "31c1e976-e20f-4cee-b205-0782e011d169",
   "metadata": {},
   "outputs": [
    {
     "data": {
      "text/html": [
       "<table class=\"simpletable\">\n",
       "<caption>OLS Regression Results</caption>\n",
       "<tr>\n",
       "  <th>Dep. Variable:</th>            <td>Y</td>        <th>  R-squared:         </th> <td>   0.852</td> \n",
       "</tr>\n",
       "<tr>\n",
       "  <th>Model:</th>                   <td>OLS</td>       <th>  Adj. R-squared:    </th> <td>   0.847</td> \n",
       "</tr>\n",
       "<tr>\n",
       "  <th>Method:</th>             <td>Least Squares</td>  <th>  F-statistic:       </th> <td>   148.3</td> \n",
       "</tr>\n",
       "<tr>\n",
       "  <th>Date:</th>             <td>Wed, 15 Sep 2021</td> <th>  Prob (F-statistic):</th> <td>3.81e-120</td>\n",
       "</tr>\n",
       "<tr>\n",
       "  <th>Time:</th>                 <td>21:09:09</td>     <th>  Log-Likelihood:    </th> <td> -2810.8</td> \n",
       "</tr>\n",
       "<tr>\n",
       "  <th>No. Observations:</th>      <td>   321</td>      <th>  AIC:               </th> <td>   5648.</td> \n",
       "</tr>\n",
       "<tr>\n",
       "  <th>Df Residuals:</th>          <td>   308</td>      <th>  BIC:               </th> <td>   5697.</td> \n",
       "</tr>\n",
       "<tr>\n",
       "  <th>Df Model:</th>              <td>    12</td>      <th>                     </th>     <td> </td>    \n",
       "</tr>\n",
       "<tr>\n",
       "  <th>Covariance Type:</th>      <td>nonrobust</td>    <th>                     </th>     <td> </td>    \n",
       "</tr>\n",
       "</table>\n",
       "<table class=\"simpletable\">\n",
       "<tr>\n",
       "       <td></td>         <th>coef</th>     <th>std err</th>      <th>t</th>      <th>P>|t|</th>  <th>[0.025</th>    <th>0.975]</th>  \n",
       "</tr>\n",
       "<tr>\n",
       "  <th>Intercept</th>  <td> 1154.4332</td> <td>  122.543</td> <td>    9.421</td> <td> 0.000</td> <td>  913.305</td> <td> 1395.561</td>\n",
       "</tr>\n",
       "<tr>\n",
       "  <th>Age_0to6</th>   <td>    0.1034</td> <td>    0.167</td> <td>    0.621</td> <td> 0.535</td> <td>   -0.224</td> <td>    0.431</td>\n",
       "</tr>\n",
       "<tr>\n",
       "  <th>Age_20to29</th> <td>    0.7890</td> <td>    0.099</td> <td>    7.962</td> <td> 0.000</td> <td>    0.594</td> <td>    0.984</td>\n",
       "</tr>\n",
       "<tr>\n",
       "  <th>Age_over85</th> <td>    2.2167</td> <td>    0.811</td> <td>    2.734</td> <td> 0.007</td> <td>    0.622</td> <td>    3.812</td>\n",
       "</tr>\n",
       "<tr>\n",
       "  <th>HDB_AV_E</th>   <td>-5.602e-05</td> <td>    0.002</td> <td>   -0.029</td> <td> 0.977</td> <td>   -0.004</td> <td>    0.004</td>\n",
       "</tr>\n",
       "<tr>\n",
       "  <th>HDB_AV_2rm</th> <td>   -0.0393</td> <td>    0.040</td> <td>   -0.992</td> <td> 0.322</td> <td>   -0.117</td> <td>    0.039</td>\n",
       "</tr>\n",
       "<tr>\n",
       "  <th>House_AV</th>   <td>   -0.0015</td> <td>    0.000</td> <td>   -3.294</td> <td> 0.001</td> <td>   -0.002</td> <td>   -0.001</td>\n",
       "</tr>\n",
       "<tr>\n",
       "  <th>Condo_AV</th>   <td>   -0.0012</td> <td>    0.001</td> <td>   -0.947</td> <td> 0.344</td> <td>   -0.004</td> <td>    0.001</td>\n",
       "</tr>\n",
       "<tr>\n",
       "  <th>EC_AV</th>      <td>   -0.0050</td> <td>    0.004</td> <td>   -1.233</td> <td> 0.219</td> <td>   -0.013</td> <td>    0.003</td>\n",
       "</tr>\n",
       "<tr>\n",
       "  <th>Apart_AV</th>   <td>-8.528e-05</td> <td> 6.67e-05</td> <td>   -1.279</td> <td> 0.202</td> <td>   -0.000</td> <td>  4.6e-05</td>\n",
       "</tr>\n",
       "<tr>\n",
       "  <th>DP</th>         <td>   -0.3556</td> <td>    0.261</td> <td>   -1.364</td> <td> 0.173</td> <td>   -0.868</td> <td>    0.157</td>\n",
       "</tr>\n",
       "<tr>\n",
       "  <th>FDW</th>        <td>    2.0297</td> <td>    0.455</td> <td>    4.459</td> <td> 0.000</td> <td>    1.134</td> <td>    2.925</td>\n",
       "</tr>\n",
       "<tr>\n",
       "  <th>WP</th>         <td>    0.0235</td> <td>    0.029</td> <td>    0.814</td> <td> 0.416</td> <td>   -0.033</td> <td>    0.080</td>\n",
       "</tr>\n",
       "</table>\n",
       "<table class=\"simpletable\">\n",
       "<tr>\n",
       "  <th>Omnibus:</th>       <td>92.530</td> <th>  Durbin-Watson:     </th> <td>   1.628</td>\n",
       "</tr>\n",
       "<tr>\n",
       "  <th>Prob(Omnibus):</th> <td> 0.000</td> <th>  Jarque-Bera (JB):  </th> <td> 220.958</td>\n",
       "</tr>\n",
       "<tr>\n",
       "  <th>Skew:</th>          <td> 1.400</td> <th>  Prob(JB):          </th> <td>1.05e-48</td>\n",
       "</tr>\n",
       "<tr>\n",
       "  <th>Kurtosis:</th>      <td> 5.947</td> <th>  Cond. No.          </th> <td>2.02e+06</td>\n",
       "</tr>\n",
       "</table><br/><br/>Notes:<br/>[1] Standard Errors assume that the covariance matrix of the errors is correctly specified.<br/>[2] The condition number is large, 2.02e+06. This might indicate that there are<br/>strong multicollinearity or other numerical problems."
      ],
      "text/plain": [
       "<class 'statsmodels.iolib.summary.Summary'>\n",
       "\"\"\"\n",
       "                            OLS Regression Results                            \n",
       "==============================================================================\n",
       "Dep. Variable:                      Y   R-squared:                       0.852\n",
       "Model:                            OLS   Adj. R-squared:                  0.847\n",
       "Method:                 Least Squares   F-statistic:                     148.3\n",
       "Date:                Wed, 15 Sep 2021   Prob (F-statistic):          3.81e-120\n",
       "Time:                        21:09:09   Log-Likelihood:                -2810.8\n",
       "No. Observations:                 321   AIC:                             5648.\n",
       "Df Residuals:                     308   BIC:                             5697.\n",
       "Df Model:                          12                                         \n",
       "Covariance Type:            nonrobust                                         \n",
       "==============================================================================\n",
       "                 coef    std err          t      P>|t|      [0.025      0.975]\n",
       "------------------------------------------------------------------------------\n",
       "Intercept   1154.4332    122.543      9.421      0.000     913.305    1395.561\n",
       "Age_0to6       0.1034      0.167      0.621      0.535      -0.224       0.431\n",
       "Age_20to29     0.7890      0.099      7.962      0.000       0.594       0.984\n",
       "Age_over85     2.2167      0.811      2.734      0.007       0.622       3.812\n",
       "HDB_AV_E   -5.602e-05      0.002     -0.029      0.977      -0.004       0.004\n",
       "HDB_AV_2rm    -0.0393      0.040     -0.992      0.322      -0.117       0.039\n",
       "House_AV      -0.0015      0.000     -3.294      0.001      -0.002      -0.001\n",
       "Condo_AV      -0.0012      0.001     -0.947      0.344      -0.004       0.001\n",
       "EC_AV         -0.0050      0.004     -1.233      0.219      -0.013       0.003\n",
       "Apart_AV   -8.528e-05   6.67e-05     -1.279      0.202      -0.000     4.6e-05\n",
       "DP            -0.3556      0.261     -1.364      0.173      -0.868       0.157\n",
       "FDW            2.0297      0.455      4.459      0.000       1.134       2.925\n",
       "WP             0.0235      0.029      0.814      0.416      -0.033       0.080\n",
       "==============================================================================\n",
       "Omnibus:                       92.530   Durbin-Watson:                   1.628\n",
       "Prob(Omnibus):                  0.000   Jarque-Bera (JB):              220.958\n",
       "Skew:                           1.400   Prob(JB):                     1.05e-48\n",
       "Kurtosis:                       5.947   Cond. No.                     2.02e+06\n",
       "==============================================================================\n",
       "\n",
       "Notes:\n",
       "[1] Standard Errors assume that the covariance matrix of the errors is correctly specified.\n",
       "[2] The condition number is large, 2.02e+06. This might indicate that there are\n",
       "strong multicollinearity or other numerical problems.\n",
       "\"\"\""
      ]
     },
     "execution_count": 70,
     "metadata": {},
     "output_type": "execute_result"
    }
   ],
   "source": [
    "sz_df = sm.add_constant(sz_df)\n",
    "results = ols(variable_formula, sz_df).fit()\n",
    "results.summary()"
   ]
  },
  {
   "cell_type": "code",
   "execution_count": 71,
   "id": "1182d6a2-e9b3-47ea-94c4-dfdda622e8e3",
   "metadata": {},
   "outputs": [
    {
     "name": "stdout",
     "output_type": "stream",
     "text": [
      "REGRESSION\n",
      "----------\n",
      "SUMMARY OF OUTPUT: ORDINARY LEAST SQUARES\n",
      "-----------------------------------------\n",
      "Data set            :     unknown\n",
      "Weights matrix      :        None\n",
      "Dependent Variable  :           Y                Number of Observations:         321\n",
      "Mean dependent var  :   3805.6199                Number of Variables   :          13\n",
      "S.D. dependent var  :   4006.4281                Degrees of Freedom    :         308\n",
      "R-squared           :      0.8524\n",
      "Adjusted R-squared  :      0.8467\n",
      "Sum squared residual:757983515.823                F-statistic           :    148.2633\n",
      "Sigma-square        : 2460985.441                Prob(F-statistic)     :  3.812e-120\n",
      "S.E. of regression  :    1568.753                Log likelihood        :   -2810.774\n",
      "Sigma-square ML     : 2361319.364                Akaike info criterion :    5647.547\n",
      "S.E of regression ML:   1536.6585                Schwarz criterion     :    5696.576\n",
      "\n",
      "------------------------------------------------------------------------------------\n",
      "            Variable     Coefficient       Std.Error     t-Statistic     Probability\n",
      "------------------------------------------------------------------------------------\n",
      "            CONSTANT    1154.4332455     122.5432802       9.4206165       0.0000000\n",
      "            Age_0to6       0.1034036       0.1665613       0.6208141       0.5351811\n",
      "          Age_20to29       0.7889696       0.0990892       7.9622167       0.0000000\n",
      "          Age_over85       2.2167417       0.8106743       2.7344418       0.0066104\n",
      "            HDB_AV_E      -0.0000560       0.0019033      -0.0294334       0.9765380\n",
      "          HDB_AV_2rm      -0.0393488       0.0396783      -0.9916966       0.3221240\n",
      "            House_AV      -0.0015151       0.0004599      -3.2941344       0.0011023\n",
      "            Condo_AV      -0.0011597       0.0012246      -0.9470421       0.3443597\n",
      "               EC_AV      -0.0049819       0.0040405      -1.2330135       0.2185110\n",
      "            Apart_AV      -0.0000853       0.0000667      -1.2786213       0.2019930\n",
      "                  DP      -0.3555565       0.2606302      -1.3642184       0.1734948\n",
      "                 FDW       2.0296529       0.4551433       4.4593712       0.0000115\n",
      "                  WP       0.0234635       0.0288088       0.8144554       0.4160134\n",
      "------------------------------------------------------------------------------------\n",
      "\n",
      "REGRESSION DIAGNOSTICS\n",
      "MULTICOLLINEARITY CONDITION NUMBER           17.101\n",
      "\n",
      "TEST ON NORMALITY OF ERRORS\n",
      "TEST                             DF        VALUE           PROB\n",
      "Jarque-Bera                       2         220.958           0.0000\n",
      "\n",
      "DIAGNOSTICS FOR HETEROSKEDASTICITY\n",
      "RANDOM COEFFICIENTS\n",
      "TEST                             DF        VALUE           PROB\n",
      "Breusch-Pagan test               12          83.089           0.0000\n",
      "Koenker-Bassett test             12          33.593           0.0008\n",
      "================================ END OF REPORT =====================================\n"
     ]
    }
   ],
   "source": [
    "m_ols = spreg.OLS(\n",
    "    sz_df[['Y']].values, \n",
    "    sz_df[variable_names_X].values,\n",
    "    name_y='Y', \n",
    "    name_x=variable_names_X\n",
    ")\n",
    "print(m_ols.summary)"
   ]
  },
  {
   "cell_type": "code",
   "execution_count": 73,
   "id": "fe84bda5-a1e7-43e5-972a-d6464a88e529",
   "metadata": {},
   "outputs": [],
   "source": [
    "sz_Y['Resids']=m_ols.u.flatten()"
   ]
  },
  {
   "cell_type": "code",
   "execution_count": 74,
   "id": "f70db069-bc67-47fc-a3f4-4ab6f2cb9373",
   "metadata": {
    "collapsed": true,
    "jupyter": {
     "outputs_hidden": true
    },
    "tags": []
   },
   "outputs": [
    {
     "data": {
      "application/vnd.jupyter.widget-view+json": {
       "model_id": "9c4b64e81d1840449ff1bc0d4bf56bf5",
       "version_major": 2,
       "version_minor": 0
      },
      "text/plain": [
       "Canvas(toolbar=Toolbar(toolitems=[('Home', 'Reset original view', 'home', 'home'), ('Back', 'Back to previous …"
      ]
     },
     "metadata": {},
     "output_type": "display_data"
    },
    {
     "data": {
      "text/plain": [
       "<AxesSubplot:>"
      ]
     },
     "execution_count": 74,
     "metadata": {},
     "output_type": "execute_result"
    }
   ],
   "source": [
    "sz_Y.plot(\"Resids\",legend=True)"
   ]
  },
  {
   "cell_type": "markdown",
   "id": "cf758b17-12f9-4504-ac1d-a4eefa21c5f6",
   "metadata": {},
   "source": [
    "### Spatial Regression"
   ]
  },
  {
   "cell_type": "markdown",
   "id": "2f3e261f-d4b0-4379-b654-ccb904a565df",
   "metadata": {},
   "source": [
    "#### Spatial Autocorrelation"
   ]
  },
  {
   "cell_type": "code",
   "execution_count": 75,
   "id": "ce4c4522-c3a4-4e16-bacf-cea62331c783",
   "metadata": {},
   "outputs": [
    {
     "name": "stdout",
     "output_type": "stream",
     "text": [
      "('WARNING: ', 26, ' is an island (no neighbors)')\n",
      "('WARNING: ', 263, ' is an island (no neighbors)')\n",
      "('WARNING: ', 289, ' is an island (no neighbors)')\n"
     ]
    }
   ],
   "source": [
    "w = weights.contiguity.Queen.from_dataframe(sz_Y)\n",
    "w.transform = 'R'"
   ]
  },
  {
   "cell_type": "code",
   "execution_count": 76,
   "id": "548e0378-96f8-42b8-87bd-d7841eb567cb",
   "metadata": {},
   "outputs": [
    {
     "data": {
      "text/plain": [
       "[26, 263, 289]"
      ]
     },
     "execution_count": 76,
     "metadata": {},
     "output_type": "execute_result"
    }
   ],
   "source": [
    "w.islands"
   ]
  },
  {
   "cell_type": "code",
   "execution_count": 77,
   "id": "4e7abc4a-602b-458c-8db5-346bd33d19f1",
   "metadata": {},
   "outputs": [],
   "source": [
    "knn = weights.KNN.from_dataframe(sz_Y, k=4)"
   ]
  },
  {
   "cell_type": "code",
   "execution_count": 78,
   "id": "80adccc2-92a3-4045-a6bc-1d1746dcbe35",
   "metadata": {},
   "outputs": [],
   "source": [
    "neighbors = w.neighbors.copy()"
   ]
  },
  {
   "cell_type": "code",
   "execution_count": 79,
   "id": "5f101c4d-0373-40d4-a388-4f4580187298",
   "metadata": {},
   "outputs": [
    {
     "data": {
      "text/plain": [
       "[None, None, None]"
      ]
     },
     "execution_count": 79,
     "metadata": {},
     "output_type": "execute_result"
    }
   ],
   "source": [
    "[neighbors[i].extend(knn.neighbors[i]) for i in w.islands]"
   ]
  },
  {
   "cell_type": "code",
   "execution_count": 80,
   "id": "ea8abd5b-1fe1-4c8a-b3a6-f71db66796d9",
   "metadata": {},
   "outputs": [],
   "source": [
    "w_new = weights.W(neighbors)"
   ]
  },
  {
   "cell_type": "code",
   "execution_count": 81,
   "id": "8672771e-6bd1-428f-ab15-6c6378c11e36",
   "metadata": {},
   "outputs": [],
   "source": [
    "w_new.transform = 'R'"
   ]
  },
  {
   "cell_type": "code",
   "execution_count": 82,
   "id": "4751fc92-dae0-49a0-9cbd-d851c41267ac",
   "metadata": {},
   "outputs": [
    {
     "data": {
      "application/vnd.jupyter.widget-view+json": {
       "model_id": "38fad39f874f4a3a8d7346561e257f12",
       "version_major": 2,
       "version_minor": 0
      },
      "text/plain": [
       "Canvas(toolbar=Toolbar(toolitems=[('Home', 'Reset original view', 'home', 'home'), ('Back', 'Back to previous …"
      ]
     },
     "metadata": {},
     "output_type": "display_data"
    },
    {
     "data": {
      "text/plain": [
       "(<Figure size 1000x400 with 2 Axes>,\n",
       " array([<AxesSubplot:title={'center':'Reference Distribution'}, xlabel='Moran I: 0.67', ylabel='Density'>,\n",
       "        <AxesSubplot:title={'center':'Moran Scatterplot (0.67)'}, xlabel='Attribute', ylabel='Spatial Lag'>],\n",
       "       dtype=object))"
      ]
     },
     "execution_count": 82,
     "metadata": {},
     "output_type": "execute_result"
    }
   ],
   "source": [
    "moran = esda.moran.Moran(sz_Y['Y'], w_new)\n",
    "plot_moran(moran)"
   ]
  },
  {
   "cell_type": "code",
   "execution_count": 83,
   "id": "cad9e0a3-d6e4-4688-a440-356ef786220d",
   "metadata": {},
   "outputs": [
    {
     "data": {
      "text/plain": [
       "0.001"
      ]
     },
     "execution_count": 83,
     "metadata": {},
     "output_type": "execute_result"
    }
   ],
   "source": [
    "moran.p_sim"
   ]
  },
  {
   "cell_type": "markdown",
   "id": "e59c554d-a835-4de0-a803-a65ac07ee0f9",
   "metadata": {
    "tags": []
   },
   "source": [
    "#### Spatial Lag\n",
    "\n",
    "The spatial lag model introduces a spatial lag of the *dependent* variable. In the example we have covered, this would translate into:\n",
    "\n",
    "$$\n",
    "{Y_i} = \\alpha + \\rho {Y_{lag-i}} + \\sum_k \\beta_k X_{ki} + \\epsilon_i\n",
    "$$"
   ]
  },
  {
   "cell_type": "code",
   "execution_count": 84,
   "id": "f4c29166-cc31-4e6e-bf66-b34317ebcbf9",
   "metadata": {},
   "outputs": [
    {
     "name": "stdout",
     "output_type": "stream",
     "text": [
      "REGRESSION\n",
      "----------\n",
      "SUMMARY OF OUTPUT: SPATIAL TWO STAGE LEAST SQUARES\n",
      "--------------------------------------------------\n",
      "Data set            :     unknown\n",
      "Weights matrix      :     unknown\n",
      "Dependent Variable  :           Y                Number of Observations:         321\n",
      "Mean dependent var  :   3805.6199                Number of Variables   :          14\n",
      "S.D. dependent var  :   4006.4281                Degrees of Freedom    :         307\n",
      "Pseudo R-squared    :      0.9896\n",
      "Spatial Pseudo R-squared:  0.9759\n",
      "\n",
      "------------------------------------------------------------------------------------\n",
      "            Variable     Coefficient       Std.Error     z-Statistic     Probability\n",
      "------------------------------------------------------------------------------------\n",
      "            CONSTANT    -505.5846066      40.8002822     -12.3916939       0.0000000\n",
      "            Age_0to6       0.1956513       0.0434049       4.5075832       0.0000066\n",
      "          Age_20to29       0.5792295       0.0260074      22.2717040       0.0000000\n",
      "          Age_over85       3.1306275       0.2116084      14.7944407       0.0000000\n",
      "            HDB_AV_E       0.0017778       0.0004965       3.5803880       0.0003431\n",
      "          HDB_AV_2rm       0.0112617       0.0103635       1.0866694       0.2771829\n",
      "            House_AV      -0.0000495       0.0001219      -0.4064445       0.6844160\n",
      "            Condo_AV       0.0002221       0.0003196       0.6949010       0.4871174\n",
      "               EC_AV       0.0012119       0.0010566       1.1469914       0.2513852\n",
      "            Apart_AV       0.0000180       0.0000174       1.0291968       0.3033872\n",
      "                  DP       0.0659332       0.0681888       0.9669213       0.3335834\n",
      "                 FDW      -0.0051164       0.1225701      -0.0417425       0.9667040\n",
      "                  WP      -0.0053638       0.0075164      -0.7136176       0.4754637\n",
      "                 W_Y       0.6608502       0.0101179      65.3147041       0.0000000\n",
      "------------------------------------------------------------------------------------\n",
      "Instrumented: W_Y\n",
      "Instruments: W_Age_0to6, W_Age_20to29, W_Age_over85, W_Apart_AV, W_Condo_AV,\n",
      "             W_DP, W_EC_AV, W_FDW, W_HDB_AV_2rm, W_HDB_AV_E, W_House_AV,\n",
      "             W_WP\n",
      "================================ END OF REPORT =====================================\n"
     ]
    }
   ],
   "source": [
    "m_GM_Lag = spreg.GM_Lag(\n",
    "    sz_df[['Y']].values, \n",
    "    sz_df[variable_names_X].values,\n",
    "    w=w_new,\n",
    "    name_y='Y',\n",
    "    name_x=variable_names_X\n",
    ")\n",
    "print(m_GM_Lag.summary)"
   ]
  },
  {
   "cell_type": "code",
   "execution_count": 85,
   "id": "4c29954c-bf25-40d6-aefa-35ac8823624e",
   "metadata": {},
   "outputs": [
    {
     "data": {
      "application/vnd.jupyter.widget-view+json": {
       "model_id": "f01c97ed94734ec4b942f09e16302fbe",
       "version_major": 2,
       "version_minor": 0
      },
      "text/plain": [
       "Canvas(toolbar=Toolbar(toolitems=[('Home', 'Reset original view', 'home', 'home'), ('Back', 'Back to previous …"
      ]
     },
     "metadata": {},
     "output_type": "display_data"
    },
    {
     "data": {
      "text/plain": [
       "<matplotlib.collections.PathCollection at 0x19c8fd68e80>"
      ]
     },
     "execution_count": 85,
     "metadata": {},
     "output_type": "execute_result"
    }
   ],
   "source": [
    "f, ax = plt.subplots(1, figsize=(9, 4))\n",
    "plt.scatter(x=list(range(0,321)),y=m_ols.u.flatten())\n",
    "plt.scatter(x=list(range(0,321)),y=m_GM_Lag.u.flatten(),color=\"grey\")"
   ]
  },
  {
   "cell_type": "code",
   "execution_count": 86,
   "id": "7721ab8e-82c3-4685-bf2a-86a25cc6f833",
   "metadata": {},
   "outputs": [],
   "source": [
    "sz_Y['Resids2']=m_GM_Lag.u.flatten()"
   ]
  },
  {
   "cell_type": "code",
   "execution_count": 87,
   "id": "a367ab7e-fe9c-45c1-ba65-83b9215f40b5",
   "metadata": {},
   "outputs": [
    {
     "data": {
      "application/vnd.jupyter.widget-view+json": {
       "model_id": "3956a136f9bd4ed5b1c63e866811519f",
       "version_major": 2,
       "version_minor": 0
      },
      "text/plain": [
       "Canvas(toolbar=Toolbar(toolitems=[('Home', 'Reset original view', 'home', 'home'), ('Back', 'Back to previous …"
      ]
     },
     "metadata": {},
     "output_type": "display_data"
    },
    {
     "data": {
      "text/plain": [
       "<AxesSubplot:>"
      ]
     },
     "execution_count": 87,
     "metadata": {},
     "output_type": "execute_result"
    }
   ],
   "source": [
    "f, (ax1, ax2) = plt.subplots(1,2, figsize=(9, 4))\n",
    "sz_Y.plot(\"Resids\",legend=True,ax=ax1)\n",
    "sz_Y.plot(\"Resids2\",legend=True,ax=ax2,cmap='OrRd')"
   ]
  },
  {
   "cell_type": "markdown",
   "id": "8654d1be-691f-4da7-8380-ce5341396e4c",
   "metadata": {
    "tags": []
   },
   "source": [
    "## Spatial Optimization using PULP"
   ]
  },
  {
   "cell_type": "markdown",
   "id": "03473c49-879d-4da5-b9d2-fbddab1d962c",
   "metadata": {},
   "source": [
    "A facility location problem that involves determining the number and location of warehouses that are needed to supply a group of supermarkets. We’ll demonstrate how to construct a mixed-integer programming (MIP) model of this problem, implement this model in the  Python API, and then use the Optimizer to find an optimal solution."
   ]
  },
  {
   "cell_type": "markdown",
   "id": "f4e01df6-af33-4b27-9010-51787a796453",
   "metadata": {},
   "source": [
    "Facility location problems have applications in a wide variety of industries. For example,  this problem can be used to find the optimal location for stores, factories, warehouses for supply chain management and logistics. Other applications range from public policy (e.g. positioning police officers in a city), telecommunications (e.g. cell towers in a network), and determining the locations for natural gas transmission equipment. "
   ]
  },
  {
   "cell_type": "markdown",
   "id": "98f35eb3-95d3-47c8-ae10-5ef6b34f4dc6",
   "metadata": {},
   "source": [
    "### Problem Description "
   ]
  },
  {
   "cell_type": "markdown",
   "id": "b9ee0f0b-472f-43ef-9078-23ec63dd1081",
   "metadata": {},
   "source": [
    "A large supermarket chain in the Singapore needs to build warehouses for a set of supermarkets it is opening in Singapore. The locations of the supermarkets have been identified, but the locations of the warehouses have yet to be determined. Several good candidate locations for the warehouses have been identified, but decisions must be made regarding how many warehouses to open and at which candidate locations to build them.\n",
    "\n",
    "Opening many warehouses would be advantageous as this would reduce the average distance a truck has to drive from the warehouse to the supermarket, and hence reduce the delivery cost. However, opening a warehouse has a fixed cost associated with it. In this example, our goal is to find the optimal tradeoff between delivery costs and the costs of building new facilities."
   ]
  },
  {
   "cell_type": "markdown",
   "id": "0d87e20e-a56e-47ce-9c3f-ce3a8fc7a724",
   "metadata": {},
   "source": [
    "\n",
    "$i \\in I$: Index and set of supermarket locations.\n",
    "\n",
    "$j \\in J$: Index and set of candidate warehouse locations.\n",
    "\n",
    "$f_{j} \\in \\mathbb{R}^+$: Fixed cost associated with constructing facility $j \\in J$.\n",
    "\n",
    "$d_{i,j} \\in \\mathbb{R}^+$: Distance between facility $j \\in J$ and customer $i \\in I$.\n",
    "\n",
    "$c_{i,j} \\in \\mathbb{R}^+$: Cost of shipping between candidate facility site $j \\in J$ and customer location $i \\in I$. We assume that this cost is proportional to the distance between the facility and the customer. That is, $c_{i,j} = \\alpha \\cdot d_{i,j}$, where $\\alpha$ is the cost per km of driving, adjusted to incorporate the average number of trips a delivery truck would be expected to make over a five year period.\n",
    "\n",
    "$select_{j} \\in \\{0, 1 \\}$: This variable is equal to 1 if we build a facility at candidate location $j \\in J$; and 0 otherwise.\n",
    "\n",
    "$0 \\leq assign_{i,j} \\leq 1$: This non-negative continuous variable determines the fraction of supply received by supermarket $i \\in I$ from warehouse $j \\in J$.\n",
    "\n",
    "- **Total costs**. We want to minimize the total cost to open and operate the facilities. This is the sum of the cost of opening facilities and the cost related to shipping between facilities and customers. This total cost measures the tradeoff between the cost of building a new facility and the total delivery cost over a five year period.\n",
    "\n",
    "\\begin{equation}\n",
    "\\text{Min} \\quad Z = \\sum_{j \\in J} f_{j} \\cdot select_{j} + \\sum_{j \\in J} \\sum_{i \\in I} c_{i,j} \\cdot assign_{i,j}\n",
    "\\tag{0}\n",
    "\\end{equation}\n",
    "\n",
    "- **Demand**. For each supermarket  $i \\in I$ ensure that its demand is fulfilled. That is, the sum of the fraction received from each facility for each customer must be equal to 1:\n",
    "\n",
    "\\begin{equation}\n",
    "\\sum_{j \\in J} assign_{i,j} = 1 \\quad \\forall i \\in I\n",
    "\\tag{1}\n",
    "\\end{equation}\n",
    "\n",
    "- **Shipping**. We need to ensure that we  only ship from warehouse $j \\in J$,  if that facility has actually been built.\n",
    "\n",
    "\\begin{equation}\n",
    "assign_{i,j} \\leq select_{j} \\quad \\forall i \\in I \\quad \\forall j \\in J\n",
    "\\tag{2}\n",
    "\\end{equation}"
   ]
  },
  {
   "cell_type": "markdown",
   "id": "df1d541d-a28a-4ec1-8ff6-2113f4b3d9a9",
   "metadata": {},
   "source": [
    "### Read Shapefiles"
   ]
  },
  {
   "cell_type": "code",
   "execution_count": 78,
   "id": "c2aae948-0f2b-4fe9-a069-b4a7ba3c65d0",
   "metadata": {},
   "outputs": [],
   "source": [
    "Supermarkets_shp = gpd.read_file('Data/Supermarkets.shp')\n",
    "Warehouses_shp = gpd.read_file('Data/Warehouses.shp')"
   ]
  },
  {
   "cell_type": "code",
   "execution_count": 79,
   "id": "44ef82b8-7826-4818-a0b3-a4fea6f203f5",
   "metadata": {},
   "outputs": [
    {
     "data": {
      "application/vnd.jupyter.widget-view+json": {
       "model_id": "8dbcaab3cfec449d86e3e3ebbd118841",
       "version_major": 2,
       "version_minor": 0
      },
      "text/plain": [
       "Canvas(toolbar=Toolbar(toolitems=[('Home', 'Reset original view', 'home', 'home'), ('Back', 'Back to previous …"
      ]
     },
     "metadata": {},
     "output_type": "display_data"
    }
   ],
   "source": [
    "f, (ax1,ax2) = plt.subplots(1,2, figsize=(12, 4))\n",
    "sz.plot(ax=ax1, legend=False, facecolor=\"none\",edgecolor=\"k\",lw=0.1)\n",
    "Supermarkets_shp.plot(ax=ax1, column='Demand', legend=True, scheme='Quantiles', legend_kwds={'fmt':'{:.0f}'}, cmap='Blues', edgecolor=\"k\")\n",
    "sz.plot(ax=ax2, legend=False, facecolor=\"none\",edgecolor=\"k\",lw=0.1)\n",
    "Warehouses_shp.plot(ax=ax2, column='Capacity', legend=True, scheme='Quantiles', legend_kwds={'fmt':'{:.0f}'}, edgecolor=\"k\")\n",
    "plt.axis('equal')\n",
    "plt.show()"
   ]
  },
  {
   "cell_type": "markdown",
   "id": "4c312b8f-5cf4-43c1-8543-b91616f15a49",
   "metadata": {},
   "source": [
    "### Parameters"
   ]
  },
  {
   "cell_type": "code",
   "execution_count": 80,
   "id": "c7076997-f059-4970-97b6-24a2aecb123e",
   "metadata": {
    "tags": []
   },
   "outputs": [],
   "source": [
    "# SETS\n",
    "SUPERMARKETS = list(Supermarkets_shp['Shop_ID'])\n",
    "WAREHOUSES =  list(Warehouses_shp['WH_ID'])"
   ]
  },
  {
   "cell_type": "code",
   "execution_count": 81,
   "id": "0ae83040-cd66-400a-a065-cca160112978",
   "metadata": {},
   "outputs": [
    {
     "data": {
      "text/plain": [
       "[3, 14, 7, 5, 12, 6, 11, 18, 4, 8, 17, 13, 9, 2, 10, 16, 15, 19, 1, 20]"
      ]
     },
     "execution_count": 81,
     "metadata": {},
     "output_type": "execute_result"
    }
   ],
   "source": [
    "SUPERMARKETS"
   ]
  },
  {
   "cell_type": "code",
   "execution_count": 82,
   "id": "094b47e7-d24a-481e-8a29-b10a9c63ff5e",
   "metadata": {
    "collapsed": true,
    "jupyter": {
     "outputs_hidden": true
    },
    "tags": []
   },
   "outputs": [
    {
     "data": {
      "text/plain": [
       "[39,\n",
       " 1,\n",
       " 2,\n",
       " 3,\n",
       " 4,\n",
       " 5,\n",
       " 6,\n",
       " 7,\n",
       " 8,\n",
       " 9,\n",
       " 10,\n",
       " 11,\n",
       " 12,\n",
       " 13,\n",
       " 14,\n",
       " 15,\n",
       " 16,\n",
       " 17,\n",
       " 18,\n",
       " 19,\n",
       " 20,\n",
       " 21,\n",
       " 22,\n",
       " 23,\n",
       " 24,\n",
       " 25,\n",
       " 26,\n",
       " 27,\n",
       " 28,\n",
       " 29,\n",
       " 30,\n",
       " 31,\n",
       " 32,\n",
       " 33,\n",
       " 34,\n",
       " 35,\n",
       " 36,\n",
       " 37,\n",
       " 38]"
      ]
     },
     "execution_count": 82,
     "metadata": {},
     "output_type": "execute_result"
    }
   ],
   "source": [
    "WAREHOUSES"
   ]
  },
  {
   "cell_type": "code",
   "execution_count": 83,
   "id": "7d616d1a-e9c3-4e56-b956-348497f3a3a5",
   "metadata": {
    "collapsed": true,
    "jupyter": {
     "outputs_hidden": true
    },
    "tags": []
   },
   "outputs": [
    {
     "data": {
      "text/plain": [
       "{3: 385,\n",
       " 14: 782,\n",
       " 7: 1156,\n",
       " 5: 1217,\n",
       " 12: 792,\n",
       " 6: 630,\n",
       " 11: 477,\n",
       " 18: 483,\n",
       " 4: 1045,\n",
       " 8: 603,\n",
       " 17: 643,\n",
       " 13: 913,\n",
       " 9: 396,\n",
       " 2: 693,\n",
       " 10: 997,\n",
       " 16: 882,\n",
       " 15: 1105,\n",
       " 19: 740,\n",
       " 1: 384,\n",
       " 20: 3}"
      ]
     },
     "execution_count": 83,
     "metadata": {},
     "output_type": "execute_result"
    }
   ],
   "source": [
    "# PARAMETERS\n",
    "demand = dict(zip(SUPERMARKETS,Supermarkets_shp['Demand']))\n",
    "demand"
   ]
  },
  {
   "cell_type": "code",
   "execution_count": 84,
   "id": "b6ff5c0c-8378-4088-b84e-431dbc78b1fd",
   "metadata": {
    "collapsed": true,
    "jupyter": {
     "outputs_hidden": true
    },
    "tags": []
   },
   "outputs": [
    {
     "data": {
      "text/plain": [
       "{39: 23272,\n",
       " 1: 60975,\n",
       " 2: 30975,\n",
       " 3: 58200,\n",
       " 4: 38200,\n",
       " 5: 35415,\n",
       " 6: 44235,\n",
       " 7: 23292,\n",
       " 8: 28200,\n",
       " 9: 32560,\n",
       " 10: 43357,\n",
       " 11: 33907,\n",
       " 12: 34235,\n",
       " 13: 32982,\n",
       " 14: 34235,\n",
       " 15: 32341,\n",
       " 16: 60975,\n",
       " 17: 23907,\n",
       " 18: 53292,\n",
       " 19: 55883,\n",
       " 20: 12000,\n",
       " 21: 28200,\n",
       " 22: 53907,\n",
       " 23: 34235,\n",
       " 24: 28200,\n",
       " 25: 34235,\n",
       " 26: 24379,\n",
       " 27: 54379,\n",
       " 28: 54379,\n",
       " 29: 53272,\n",
       " 30: 44235,\n",
       " 31: 33272,\n",
       " 32: 35233,\n",
       " 33: 33907,\n",
       " 34: 28200,\n",
       " 35: 34349,\n",
       " 36: 31857,\n",
       " 37: 23292,\n",
       " 38: 36581}"
      ]
     },
     "execution_count": 84,
     "metadata": {},
     "output_type": "execute_result"
    }
   ],
   "source": [
    "actcost = dict(zip(WAREHOUSES,Warehouses_shp['Fixed_Cost']))\n",
    "actcost"
   ]
  },
  {
   "cell_type": "code",
   "execution_count": 85,
   "id": "73bc2e27-fe74-478e-b208-f464523e20ea",
   "metadata": {
    "collapsed": true,
    "jupyter": {
     "outputs_hidden": true
    },
    "tags": []
   },
   "outputs": [
    {
     "data": {
      "text/plain": [
       "{39: 2280,\n",
       " 1: 4104,\n",
       " 2: 1296,\n",
       " 3: 3492,\n",
       " 4: 8112,\n",
       " 5: 1860,\n",
       " 6: 2364,\n",
       " 7: 1344,\n",
       " 8: 1776,\n",
       " 9: 1632,\n",
       " 10: 1620,\n",
       " 11: 1488,\n",
       " 12: 2736,\n",
       " 13: 1056,\n",
       " 14: 1044,\n",
       " 15: 1536,\n",
       " 16: 3204,\n",
       " 17: 1524,\n",
       " 18: 2244,\n",
       " 19: 3744,\n",
       " 20: 5000,\n",
       " 21: 3336,\n",
       " 22: 984,\n",
       " 23: 1248,\n",
       " 24: 1920,\n",
       " 25: 1632,\n",
       " 26: 3000,\n",
       " 27: 2352,\n",
       " 28: 2688,\n",
       " 29: 1776,\n",
       " 30: 1536,\n",
       " 31: 1644,\n",
       " 32: 3816,\n",
       " 33: 1008,\n",
       " 34: 7308,\n",
       " 35: 1824,\n",
       " 36: 1392,\n",
       " 37: 1188,\n",
       " 38: 8052}"
      ]
     },
     "execution_count": 85,
     "metadata": {},
     "output_type": "execute_result"
    }
   ],
   "source": [
    "maxam = dict(zip(WAREHOUSES,Warehouses_shp['Capacity']))\n",
    "maxam"
   ]
  },
  {
   "cell_type": "code",
   "execution_count": 90,
   "id": "20ec0747-10e8-42aa-92d5-5f80f87f0626",
   "metadata": {},
   "outputs": [],
   "source": [
    "# This function determines the Euclidean distance between a facility and customer sites.\n",
    "import math\n",
    "def compute_distance(loc1, loc2):\n",
    "    dx = loc1[0] - loc2[0]\n",
    "    dy = loc1[1] - loc2[1]\n",
    "    return math.sqrt(dx*dx + dy*dy)"
   ]
  },
  {
   "cell_type": "code",
   "execution_count": 91,
   "id": "76ae6a6f-3210-409e-a38a-048a603ef3bc",
   "metadata": {},
   "outputs": [],
   "source": [
    "SUPERMARKETS_XY = list(zip(Supermarkets_shp.geometry.x,Supermarkets_shp.geometry.y))\n",
    "WAREHOUSES_XY = list(zip(Warehouses_shp.geometry.x,Warehouses_shp.geometry.y))"
   ]
  },
  {
   "cell_type": "code",
   "execution_count": 92,
   "id": "8007ba26-3d95-4f61-ac9d-0175e3249b07",
   "metadata": {},
   "outputs": [],
   "source": [
    "cost_per_km = 0.01"
   ]
  },
  {
   "cell_type": "code",
   "execution_count": 93,
   "id": "6dc8e529-8e84-42e5-9b96-edc667810a71",
   "metadata": {
    "collapsed": true,
    "jupyter": {
     "outputs_hidden": true
    },
    "tags": []
   },
   "outputs": [
    {
     "data": {
      "text/plain": [
       "{39: {3: 77.61643923394313,\n",
       "  14: 42.29376352261722,\n",
       "  7: 33.85798774099471,\n",
       "  5: 28.88299202163557,\n",
       "  12: 63.102588551160956,\n",
       "  6: 144.01599080425896,\n",
       "  11: 119.76661765210872,\n",
       "  18: 98.919968886445,\n",
       "  4: 155.8258331791174,\n",
       "  8: 93.81108828627235,\n",
       "  17: 49.62933772089689,\n",
       "  13: 142.96136538314633,\n",
       "  9: 120.38390600622624,\n",
       "  2: 143.3516264734701,\n",
       "  10: 201.40049687636014,\n",
       "  16: 95.99390653356501,\n",
       "  15: 97.80888561537168,\n",
       "  19: 98.58582284984287,\n",
       "  1: 126.9125616506722,\n",
       "  20: 266.15542318882245},\n",
       " 1: {3: 188.0149032552678,\n",
       "  14: 152.78501062590124,\n",
       "  7: 122.69026646801458,\n",
       "  5: 92.15980678230511,\n",
       "  12: 62.35302050825839,\n",
       "  6: 200.6741137421586,\n",
       "  11: 164.5697297605202,\n",
       "  18: 42.03546993146379,\n",
       "  4: 173.90449404045572,\n",
       "  8: 28.75203600859406,\n",
       "  17: 97.519839715598,\n",
       "  13: 132.9459986037315,\n",
       "  9: 94.24583251139332,\n",
       "  2: 74.16036458568323,\n",
       "  10: 222.29720742965506,\n",
       "  16: 188.2571900643917,\n",
       "  15: 112.86491149319453,\n",
       "  19: 63.63465541497613,\n",
       "  1: 106.20636890984372,\n",
       "  20: 288.49879690464115},\n",
       " 2: {3: 184.28862488674963,\n",
       "  14: 149.8785394897255,\n",
       "  7: 126.77432903655581,\n",
       "  5: 94.23365353613013,\n",
       "  12: 58.06561512032501,\n",
       "  6: 189.6680988020094,\n",
       "  11: 153.33779390408603,\n",
       "  18: 30.595089409481172,\n",
       "  4: 160.47939340767616,\n",
       "  8: 37.57458405324083,\n",
       "  17: 91.47691887342644,\n",
       "  13: 118.7015873833209,\n",
       "  9: 80.14996673939119,\n",
       "  2: 59.298280165839444,\n",
       "  10: 208.4755810287198,\n",
       "  16: 181.46271277204397,\n",
       "  15: 124.17468787374887,\n",
       "  19: 76.15355453480974,\n",
       "  1: 119.98408938595801,\n",
       "  20: 274.3671363663684},\n",
       " 3: {3: 122.74607602661729,\n",
       "  14: 98.52984863548348,\n",
       "  7: 123.49726443876808,\n",
       "  5: 92.81317804540404,\n",
       "  12: 57.4142938238979,\n",
       "  6: 99.35678958290684,\n",
       "  11: 62.95068205822319,\n",
       "  18: 60.139681825535085,\n",
       "  4: 76.33177999047491,\n",
       "  8: 100.17079768737733,\n",
       "  17: 44.486991078185376,\n",
       "  13: 49.66127008910188,\n",
       "  9: 31.784446948464293,\n",
       "  2: 70.4564536718118,\n",
       "  10: 125.99722487700826,\n",
       "  16: 104.36444690470827,\n",
       "  15: 164.70638679058072,\n",
       "  19: 134.68924970051444,\n",
       "  1: 179.0505127296168,\n",
       "  20: 193.50197044672666},\n",
       " 4: {3: 144.5134745910492,\n",
       "  14: 126.90779897908102,\n",
       "  7: 160.1008380413748,\n",
       "  5: 130.08962118927678,\n",
       "  12: 93.52090612985927,\n",
       "  6: 88.11153232152597,\n",
       "  11: 55.216591705540466,\n",
       "  18: 87.33636608764928,\n",
       "  4: 45.80351284547124,\n",
       "  8: 132.29969633045442,\n",
       "  17: 80.66774622564708,\n",
       "  13: 14.320620790851029,\n",
       "  9: 35.43193868273054,\n",
       "  2: 74.61685877463918,\n",
       "  10: 93.90678581574105,\n",
       "  16: 117.06061878474355,\n",
       "  15: 201.62779274066932,\n",
       "  19: 169.2539290782981,\n",
       "  1: 214.40467628840966,\n",
       "  20: 160.6444409670674},\n",
       " 5: {3: 220.17978384403185,\n",
       "  14: 185.95623145375092,\n",
       "  7: 121.64944269494084,\n",
       "  5: 117.80203169246641,\n",
       "  12: 130.69885379472925,\n",
       "  6: 274.6566346772138,\n",
       "  11: 242.189180041312,\n",
       "  18: 136.9626576128917,\n",
       "  4: 263.6891936772313,\n",
       "  8: 89.79689399260346,\n",
       "  17: 159.81413588425437,\n",
       "  13: 229.20590855780208,\n",
       "  9: 191.25316942840863,\n",
       "  2: 178.52719878584688,\n",
       "  10: 313.3541588455478,\n",
       "  16: 238.6407717252448,\n",
       "  15: 57.06683047200152,\n",
       "  19: 52.868114407500336,\n",
       "  1: 21.167085539282493,\n",
       "  20: 380.84590271677786},\n",
       " 6: {3: 157.2750376773646,\n",
       "  14: 139.21655999712797,\n",
       "  7: 169.95200506947094,\n",
       "  5: 138.9555315142952,\n",
       "  12: 100.05423477844565,\n",
       "  6: 97.53803640065648,\n",
       "  11: 66.37122781092063,\n",
       "  18: 89.34603084991943,\n",
       "  4: 49.23899565905796,\n",
       "  8: 135.6894458398168,\n",
       "  17: 90.77004624515057,\n",
       "  13: 3.879381336737442,\n",
       "  9: 34.91474400429074,\n",
       "  2: 69.11600536203883,\n",
       "  10: 94.15257883230015,\n",
       "  16: 129.65496606310404,\n",
       "  15: 208.52442911513495,\n",
       "  19: 173.88462602864217,\n",
       "  1: 219.48070567178277,\n",
       "  20: 159.46550605305717},\n",
       " 7: {3: 23.93288765719024,\n",
       "  14: 41.19284365006446,\n",
       "  7: 90.37280850616449,\n",
       "  5: 103.90917167310711,\n",
       "  12: 132.0635171370656,\n",
       "  6: 131.84478531636915,\n",
       "  11: 126.64961511021329,\n",
       "  18: 166.18040079020267,\n",
       "  4: 169.89511231321362,\n",
       "  8: 168.71567157935075,\n",
       "  17: 103.86189358256411,\n",
       "  13: 177.4192801010219,\n",
       "  9: 169.50155107874963,\n",
       "  2: 202.76247427028306,\n",
       "  10: 203.65010883190124,\n",
       "  16: 64.4768805233126,\n",
       "  15: 158.9137331827922,\n",
       "  19: 171.82138134782062,\n",
       "  1: 192.86380112518947,\n",
       "  20: 258.8142949880037},\n",
       " 8: {3: 138.04255909060893,\n",
       "  14: 120.04565072625941,\n",
       "  7: 153.53850964816303,\n",
       "  5: 123.8585780363635,\n",
       "  12: 88.29589914711258,\n",
       "  6: 85.79123025543184,\n",
       "  11: 51.59929196041952,\n",
       "  18: 84.31300838452363,\n",
       "  4: 48.06375649732553,\n",
       "  8: 128.3789643771731,\n",
       "  17: 74.09970590671081,\n",
       "  13: 21.188572491165065,\n",
       "  9: 34.862721586901884,\n",
       "  2: 75.76531862647198,\n",
       "  10: 97.12115005028824,\n",
       "  16: 111.34623864723521,\n",
       "  15: 196.06176757506591,\n",
       "  19: 164.6801230733001,\n",
       "  1: 209.58126361971136,\n",
       "  20: 164.2741984916175},\n",
       " 9: {3: 101.78500756134892,\n",
       "  14: 102.54538176022663,\n",
       "  7: 161.53708733817479,\n",
       "  5: 143.04675885129814,\n",
       "  12: 126.50317716654523,\n",
       "  6: 20.621150733343935,\n",
       "  11: 16.211594610625717,\n",
       "  18: 138.57933364179038,\n",
       "  4: 49.51472013924182,\n",
       "  8: 173.96801118676325,\n",
       "  17: 95.36174070299492,\n",
       "  13: 79.90206994522461,\n",
       "  9: 100.23039146263162,\n",
       "  2: 142.23497547735883,\n",
       "  10: 79.02302632622539,\n",
       "  16: 63.34316206085955,\n",
       "  15: 220.80069717273307,\n",
       "  19: 202.6579377767305,\n",
       "  1: 243.04922164272395,\n",
       "  20: 139.54661573204012},\n",
       " 10: {3: 210.96779907732983,\n",
       "  14: 181.08473972333712,\n",
       "  7: 176.39500440706396,\n",
       "  5: 141.71554055125765,\n",
       "  12: 96.91661106883409,\n",
       "  6: 183.689914057037,\n",
       "  11: 148.60623135993615,\n",
       "  18: 61.67272331603937,\n",
       "  4: 139.06702849725235,\n",
       "  8: 96.33392145948513,\n",
       "  17: 118.43695297483544,\n",
       "  13: 92.79834697507192,\n",
       "  9: 64.64698741541454,\n",
       "  2: 22.538993933763045,\n",
       "  10: 180.6472756388469,\n",
       "  16: 196.75104394487596,\n",
       "  15: 183.16205159117598,\n",
       "  19: 135.52322836207418,\n",
       "  1: 178.87214622963572,\n",
       "  20: 241.48369330116697},\n",
       " 11: {3: 35.54839492291943,\n",
       "  14: 16.81593941275917,\n",
       "  7: 83.44323755299187,\n",
       "  5: 78.7636855636867,\n",
       "  12: 91.91779794512796,\n",
       "  6: 98.14931316080946,\n",
       "  11: 83.12976453230344,\n",
       "  18: 122.96445609379177,\n",
       "  4: 125.21547098801847,\n",
       "  8: 135.2603696992793,\n",
       "  17: 58.9066023155704,\n",
       "  13: 128.3534460277967,\n",
       "  9: 120.37508971441274,\n",
       "  2: 155.18868194912534,\n",
       "  10: 164.28903372576707,\n",
       "  16: 42.94449685756873,\n",
       "  15: 150.6921362534397,\n",
       "  19: 148.7350632429692,\n",
       "  1: 179.83975487226536,\n",
       "  20: 224.89120353080108},\n",
       " 12: {3: 184.74996432759562,\n",
       "  14: 160.54401765794924,\n",
       "  7: 175.25654163463366,\n",
       "  5: 141.1338192117941,\n",
       "  12: 96.13100235189103,\n",
       "  6: 138.55205740056786,\n",
       "  11: 105.54501394965335,\n",
       "  18: 71.44885170018487,\n",
       "  4: 90.00581161375085,\n",
       "  8: 117.99359249447002,\n",
       "  17: 102.04370468804419,\n",
       "  13: 43.98795190632764,\n",
       "  9: 30.97218940466401,\n",
       "  2: 32.10699928466112,\n",
       "  10: 130.85798799708718,\n",
       "  16: 162.8882163825441,\n",
       "  15: 200.15300387740925,\n",
       "  19: 158.5176982792833,\n",
       "  1: 204.3483520007127,\n",
       "  20: 192.57905791898673},\n",
       " 13: {3: 103.98311103133811,\n",
       "  14: 93.99224414204147,\n",
       "  7: 143.45345711340437,\n",
       "  5: 120.50765271222701,\n",
       "  12: 98.396684014663,\n",
       "  6: 50.88126051588099,\n",
       "  11: 14.589895538073032,\n",
       "  18: 108.35011654792716,\n",
       "  4: 47.21161066867401,\n",
       "  8: 145.09628178106274,\n",
       "  17: 70.21909385221585,\n",
       "  13: 57.89198146663079,\n",
       "  9: 71.1735802056171,\n",
       "  2: 113.29045874346757,\n",
       "  10: 91.64159999417619,\n",
       "  16: 72.52316685022711,\n",
       "  15: 197.73515158560625,\n",
       "  19: 175.66940143900075,\n",
       "  1: 217.55715241949864,\n",
       "  20: 157.45506739032842},\n",
       " 14: {3: 185.86374808229476,\n",
       "  14: 163.56522625829288,\n",
       "  7: 182.60204793243986,\n",
       "  5: 148.9653010758218,\n",
       "  12: 104.77647587758736,\n",
       "  6: 132.4891138757913,\n",
       "  11: 101.05138336322644,\n",
       "  18: 82.27879616555919,\n",
       "  4: 81.26617883479331,\n",
       "  8: 129.1966515917906,\n",
       "  17: 107.26124434617499,\n",
       "  13: 36.54090447513689,\n",
       "  9: 36.070874494584054,\n",
       "  2: 44.15911478879266,\n",
       "  10: 120.08396591679777,\n",
       "  16: 161.66400963542293,\n",
       "  15: 210.29105867877047,\n",
       "  19: 169.57579652560852,\n",
       "  1: 215.48662650551765,\n",
       "  20: 180.95345588150198},\n",
       " 15: {3: 151.0674389064631,\n",
       "  14: 138.21490774297126,\n",
       "  7: 177.9300415426648,\n",
       "  5: 149.4198637293063,\n",
       "  12: 114.92287044261035,\n",
       "  6: 77.47011761925819,\n",
       "  11: 51.122670616240875,\n",
       "  18: 109.49470156958138,\n",
       "  4: 25.61119650588333,\n",
       "  8: 154.5068501974288,\n",
       "  17: 98.83161580575812,\n",
       "  13: 20.704085755117067,\n",
       "  9: 56.58637003144306,\n",
       "  2: 92.74306354438839,\n",
       "  10: 71.90962441978793,\n",
       "  16: 119.07936450953446,\n",
       "  15: 222.50652717533106,\n",
       "  19: 191.22829050471435,\n",
       "  1: 236.20533992272507,\n",
       "  20: 138.4397945970516},\n",
       " 16: {3: 184.35314686361784,\n",
       "  14: 149.64984793617575,\n",
       "  7: 124.421619910927,\n",
       "  5: 92.38955800242724,\n",
       "  12: 58.053958279535955,\n",
       "  6: 192.292673132733,\n",
       "  11: 156.03640795396174,\n",
       "  18: 33.12729259020286,\n",
       "  4: 164.0976786805699,\n",
       "  8: 33.702734072096234,\n",
       "  17: 92.19892487504747,\n",
       "  13: 122.70943823349873,\n",
       "  9: 84.0689183854868,\n",
       "  2: 63.965008408684575,\n",
       "  10: 212.28408611775626,\n",
       "  16: 182.55200354656398,\n",
       "  15: 120.01834285581859,\n",
       "  19: 71.72778963079772,\n",
       "  1: 115.38233489700929,\n",
       "  20: 278.3302069405048},\n",
       " 17: {3: 57.0261544093384,\n",
       "  14: 38.6651730181534,\n",
       "  7: 94.14603633412098,\n",
       "  5: 80.00260475037284,\n",
       "  12: 80.05107180345915,\n",
       "  6: 83.42154349599635,\n",
       "  11: 62.05514294479825,\n",
       "  18: 106.88370362721896,\n",
       "  4: 102.61157311793244,\n",
       "  8: 126.79429904173517,\n",
       "  17: 44.464201455120474,\n",
       "  13: 103.92754270490683,\n",
       "  9: 97.51113169697449,\n",
       "  2: 134.2077832261417,\n",
       "  10: 144.24097854931762,\n",
       "  16: 46.31563545858272,\n",
       "  15: 156.63399809466736,\n",
       "  19: 146.62597018491684,\n",
       "  1: 182.4260098642775,\n",
       "  20: 207.1412458671348},\n",
       " 18: {3: 7.523043016273508,\n",
       "  14: 41.52504395795959,\n",
       "  7: 102.81403212972441,\n",
       "  5: 110.76354716709223,\n",
       "  12: 132.66515089288563,\n",
       "  6: 113.49975697171931,\n",
       "  11: 111.28885592937428,\n",
       "  18: 165.02828234537213,\n",
       "  4: 154.57150819553598,\n",
       "  8: 173.05384198769306,\n",
       "  17: 101.17950051330341,\n",
       "  13: 166.00112417138257,\n",
       "  9: 162.00675549132853,\n",
       "  2: 197.74169043259775,\n",
       "  10: 186.06441941766036,\n",
       "  16: 45.949404843547946,\n",
       "  15: 172.25697791027963,\n",
       "  19: 180.48542645868343,\n",
       "  1: 205.08649832673046,\n",
       "  20: 239.90789897536612},\n",
       " 19: {3: 203.65814134880085,\n",
       "  14: 168.02747844560213,\n",
       "  7: 111.33800558475528,\n",
       "  5: 97.72017507090939,\n",
       "  12: 100.42761247941135,\n",
       "  6: 246.76597078991847,\n",
       "  11: 212.95657450442545,\n",
       "  18: 102.31746598944983,\n",
       "  4: 231.49432784783752,\n",
       "  8: 55.817343255768854,\n",
       "  17: 132.53515973463183,\n",
       "  13: 195.2397077631038,\n",
       "  9: 156.90279812724802,\n",
       "  2: 142.74131059962178,\n",
       "  10: 281.06218382037605,\n",
       "  16: 216.97746294009573,\n",
       "  15: 63.44935427950722,\n",
       "  19: 27.458532570277693,\n",
       "  1: 41.07770153403758,\n",
       "  20: 348.3945845205181},\n",
       " 20: {3: 115.18887346261369,\n",
       "  14: 98.21088615763556,\n",
       "  7: 137.2273209718006,\n",
       "  5: 110.22903464165121,\n",
       "  12: 81.33292467501964,\n",
       "  6: 73.16878586174,\n",
       "  11: 36.753715701773984,\n",
       "  18: 86.91414335680625,\n",
       "  4: 53.346460303407824,\n",
       "  8: 126.18999290585478,\n",
       "  17: 59.01411198575259,\n",
       "  13: 43.55070441887619,\n",
       "  9: 48.7526859458645,\n",
       "  2: 90.78879595890776,\n",
       "  10: 102.39219425699244,\n",
       "  16: 89.16580091112205,\n",
       "  15: 185.56377739968707,\n",
       "  19: 159.17091359457547,\n",
       "  1: 202.5606214819576,\n",
       "  20: 169.75005621614935},\n",
       " 21: {3: 142.67252440371044,\n",
       "  14: 122.50151349097521,\n",
       "  7: 151.47741822068946,\n",
       "  5: 120.58809910850415,\n",
       "  12: 82.64157158783694,\n",
       "  6: 95.50086754205512,\n",
       "  11: 60.83174416088899,\n",
       "  18: 75.76530252893295,\n",
       "  4: 57.018701703161405,\n",
       "  8: 120.7386783283033,\n",
       "  17: 72.33076249077156,\n",
       "  13: 21.734803911014623,\n",
       "  9: 24.974428828057817,\n",
       "  2: 65.93427345617609,\n",
       "  10: 105.45280207777685,\n",
       "  16: 117.98755668336369,\n",
       "  15: 190.98167035962265,\n",
       "  19: 157.87745630426164,\n",
       "  1: 203.1414076635895,\n",
       "  20: 172.23952337402818},\n",
       " 22: {3: 39.4110695340988,\n",
       "  14: 24.523183865487294,\n",
       "  7: 89.39264970670482,\n",
       "  5: 82.15140420555278,\n",
       "  12: 91.3066303866908,\n",
       "  6: 90.72926330851688,\n",
       "  11: 75.31049747885788,\n",
       "  18: 120.96580475630186,\n",
       "  4: 117.48484807323001,\n",
       "  8: 136.00918211301257,\n",
       "  17: 57.04148612580544,\n",
       "  13: 121.63033384884147,\n",
       "  9: 115.22997748097637,\n",
       "  2: 151.12098668725767,\n",
       "  10: 156.46945097804408,\n",
       "  16: 38.71977070920472,\n",
       "  15: 155.70583262806932,\n",
       "  19: 151.515661443743,\n",
       "  1: 184.02740970691684,\n",
       "  20: 217.24031739103535},\n",
       " 23: {3: 158.97940543196717,\n",
       "  14: 139.31273576168536,\n",
       "  7: 166.90047045330104,\n",
       "  5: 135.19757986049453,\n",
       "  12: 94.9957652958699,\n",
       "  6: 103.94063423772907,\n",
       "  11: 71.67016337155673,\n",
       "  18: 82.46992080291407,\n",
       "  4: 56.963964493669394,\n",
       "  8: 129.13034636433454,\n",
       "  17: 88.23813788872701,\n",
       "  13: 11.343314569421732,\n",
       "  9: 27.83733091895523,\n",
       "  2: 61.37171646417605,\n",
       "  10: 101.87225976596832,\n",
       "  16: 132.91907438005262,\n",
       "  15: 203.39317005823426,\n",
       "  19: 167.7291783225022,\n",
       "  1: 213.45983864165407,\n",
       "  20: 166.94919383098272},\n",
       " 24: {3: 139.04122478014048,\n",
       "  14: 120.01563398664997,\n",
       "  7: 151.61208841282277,\n",
       "  5: 121.44485991644216,\n",
       "  12: 84.9955527311107,\n",
       "  6: 89.68301578392611,\n",
       "  11: 55.105508301222756,\n",
       "  18: 80.16510045786711,\n",
       "  4: 52.246487353299266,\n",
       "  8: 124.47893425237251,\n",
       "  17: 72.20845899366616,\n",
       "  13: 21.85655807284679,\n",
       "  9: 30.621544895950173,\n",
       "  2: 71.75163000687644,\n",
       "  10: 101.15582248886025,\n",
       "  16: 113.3456250830294,\n",
       "  15: 193.01109188680257,\n",
       "  19: 161.0414751129476,\n",
       "  1: 206.06758410055056,\n",
       "  20: 168.2147712614292},\n",
       " 25: {3: 171.14876237721387,\n",
       "  14: 150.18644159552946,\n",
       "  7: 173.72264685560728,\n",
       "  5: 140.9950309300923,\n",
       "  12: 98.62039963542566,\n",
       "  6: 116.81071218142895,\n",
       "  11: 84.9956620893069,\n",
       "  18: 81.22546709162006,\n",
       "  4: 67.40418104327784,\n",
       "  8: 128.4834082470328,\n",
       "  17: 96.34941935360946,\n",
       "  13: 21.41136660786312,\n",
       "  9: 28.41523639959048,\n",
       "  2: 52.340244509526386,\n",
       "  10: 109.41310180788811,\n",
       "  16: 145.97297430363838,\n",
       "  15: 206.1871527920379,\n",
       "  19: 168.08918977793618,\n",
       "  1: 214.03843401697003,\n",
       "  20: 172.6884196467828},\n",
       " 26: {3: 116.76904811676212,\n",
       "  14: 87.8104733351764,\n",
       "  7: 19.844926310183876,\n",
       "  5: 49.51492051396885,\n",
       "  12: 94.67895179920424,\n",
       "  6: 197.32625144087362,\n",
       "  11: 173.3655339025087,\n",
       "  18: 126.59903304404983,\n",
       "  4: 208.32053470908133,\n",
       "  8: 99.83991731036512,\n",
       "  17: 97.81627389296862,\n",
       "  13: 190.9414111157796,\n",
       "  9: 162.86487905044345,\n",
       "  2: 176.17941204759362,\n",
       "  10: 254.71180591288132,\n",
       "  16: 144.5940043618434,\n",
       "  15: 55.12298338002909,\n",
       "  19: 81.69740757441505,\n",
       "  1: 90.28917989239308,\n",
       "  20: 319.78495237173786},\n",
       " 27: {3: 123.47594821040626,\n",
       "  14: 94.02463453343692,\n",
       "  7: 25.130848668361093,\n",
       "  5: 51.124467956383135,\n",
       "  12: 95.22298135669546,\n",
       "  6: 202.49381220506584,\n",
       "  11: 177.81109068362764,\n",
       "  18: 126.05059905982911,\n",
       "  4: 212.00462309669817,\n",
       "  8: 96.99336080981283,\n",
       "  17: 100.80345220750581,\n",
       "  13: 193.30445919283784,\n",
       "  9: 164.24167047615987,\n",
       "  2: 175.91829305312444,\n",
       "  10: 258.8193925007303,\n",
       "  16: 150.74405272131517,\n",
       "  15: 48.207140495337335,\n",
       "  19: 76.57293196328862,\n",
       "  1: 83.47496703061798,\n",
       "  20: 324.22247008472374},\n",
       " 28: {3: 110.49655179430879,\n",
       "  14: 82.05391898278798,\n",
       "  7: 15.98189787260768,\n",
       "  5: 48.75080174315418,\n",
       "  12: 94.51935627264407,\n",
       "  6: 192.52211270392226,\n",
       "  11: 169.27572490957638,\n",
       "  18: 127.3434961317428,\n",
       "  4: 204.93544353353374,\n",
       "  8: 102.75723871328192,\n",
       "  17: 95.29426272229654,\n",
       "  13: 188.8325903003255,\n",
       "  9: 161.72874007959655,\n",
       "  2: 176.56105199975704,\n",
       "  10: 250.8959785834375,\n",
       "  16: 138.8599399488865,\n",
       "  15: 61.58329604675292,\n",
       "  19: 86.64733934809873,\n",
       "  1: 96.65465797495166,\n",
       "  20: 315.6340721927673},\n",
       " 29: {3: 97.97339045251393,\n",
       "  14: 63.01545180531645,\n",
       "  7: 23.53662878961553,\n",
       "  5: 12.918598903644954,\n",
       "  12: 57.79438066276854,\n",
       "  6: 161.62406204759841,\n",
       "  11: 135.00462738761067,\n",
       "  18: 92.51557206477852,\n",
       "  4: 168.27330795524887,\n",
       "  8: 78.4728499629334,\n",
       "  17: 57.10273895749282,\n",
       "  13: 150.24342552837734,\n",
       "  9: 123.1803888737187,\n",
       "  2: 140.29214279065408,\n",
       "  10: 215.39605219626213,\n",
       "  16: 116.47451105119171,\n",
       "  15: 78.015208519275,\n",
       "  19: 78.54330387455062,\n",
       "  1: 106.21096063152609,\n",
       "  20: 281.21514370916117},\n",
       " 30: {3: 179.47642291037522,\n",
       "  14: 155.4353831485311,\n",
       "  7: 171.15642374992666,\n",
       "  5: 137.20436920367322,\n",
       "  12: 92.53057328629144,\n",
       "  6: 133.92462933461564,\n",
       "  11: 100.6232022373259,\n",
       "  18: 69.29937059644242,\n",
       "  4: 86.3631989618465,\n",
       "  8: 116.22758419616737,\n",
       "  17: 97.2842933369281,\n",
       "  13: 40.135567952740296,\n",
       "  9: 25.981323335173307,\n",
       "  2: 33.614401540228684,\n",
       "  10: 128.31826650709488,\n",
       "  16: 157.59552506939872,\n",
       "  15: 197.45962728513246,\n",
       "  19: 156.59492600594248,\n",
       "  1: 202.50820112188285,\n",
       "  20: 190.8538307075179},\n",
       " 31: {3: 99.95721610859047,\n",
       "  14: 64.86652161404785,\n",
       "  7: 24.761631704331876,\n",
       "  5: 10.890019961781329,\n",
       "  12: 56.21885195554038,\n",
       "  6: 162.41765805741048,\n",
       "  11: 135.4337154279674,\n",
       "  18: 90.74582970809129,\n",
       "  4: 168.28355761902807,\n",
       "  8: 76.22421106972,\n",
       "  17: 56.80790719582522,\n",
       "  13: 149.65192625456027,\n",
       "  9: 122.15854274237337,\n",
       "  2: 138.7234360556244,\n",
       "  10: 215.5897019751914,\n",
       "  16: 117.98142855331713,\n",
       "  15: 76.89982794093936,\n",
       "  19: 76.45123463770707,\n",
       "  1: 104.63726451450403,\n",
       "  20: 281.54375004171675},\n",
       " 32: {3: 159.4482123504841,\n",
       "  14: 160.62823069006316,\n",
       "  7: 216.0689506346211,\n",
       "  5: 193.5188108012654,\n",
       "  12: 167.59279688527914,\n",
       "  6: 53.524200638980375,\n",
       "  11: 62.621739472729935,\n",
       "  18: 168.7863119319114,\n",
       "  4: 36.80460374993741,\n",
       "  8: 211.4428062291527,\n",
       "  17: 142.80932162434246,\n",
       "  13: 82.18094546627957,\n",
       "  9: 117.96760312286975,\n",
       "  2: 154.45129971288046,\n",
       "  10: 20.62240627099545,\n",
       "  16: 119.7431893013204,\n",
       "  15: 270.454065534366,\n",
       "  19: 245.41897403814582,\n",
       "  1: 288.7522620831229,\n",
       "  20: 84.3787573589466},\n",
       " 33: {3: 58.41453204528192,\n",
       "  14: 23.826927662432105,\n",
       "  7: 46.25784202635016,\n",
       "  5: 48.13729475103329,\n",
       "  12: 77.46648649576169,\n",
       "  6: 133.18172801990127,\n",
       "  11: 112.81239330475267,\n",
       "  18: 112.7818817659205,\n",
       "  4: 151.8385679836224,\n",
       "  8: 112.18175981386158,\n",
       "  17: 55.74596054675228,\n",
       "  13: 144.82807904376457,\n",
       "  9: 126.91487413681396,\n",
       "  2: 154.17147819930244,\n",
       "  10: 195.0551564538044,\n",
       "  16: 79.72120948545201,\n",
       "  15: 114.29008348716557,\n",
       "  19: 117.83837894545475,\n",
       "  1: 144.85065604326437,\n",
       "  20: 258.109329900208},\n",
       " 34: {3: 121.92261070971222,\n",
       "  14: 100.866183121844,\n",
       "  7: 132.05826636233024,\n",
       "  5: 102.69577634443391,\n",
       "  12: 69.4353741016069,\n",
       "  6: 88.37101735362458,\n",
       "  11: 51.943935598654555,\n",
       "  18: 72.03076574751881,\n",
       "  4: 64.09018214534359,\n",
       "  8: 112.61655736327278,\n",
       "  17: 52.62505609181585,\n",
       "  13: 41.84839106853395,\n",
       "  9: 35.436907399516016,\n",
       "  2: 76.89135715077796,\n",
       "  10: 113.73829790934903,\n",
       "  16: 99.72987440257039,\n",
       "  15: 175.9813735351827,\n",
       "  19: 146.94612744284848,\n",
       "  1: 191.10471709503886,\n",
       "  20: 181.2544543603441},\n",
       " 35: {3: 130.73217480743634,\n",
       "  14: 98.32807376412873,\n",
       "  7: 30.84554372500219,\n",
       "  5: 41.82815930909172,\n",
       "  12: 81.80629171413162,\n",
       "  6: 200.78920365291182,\n",
       "  11: 173.6090764404223,\n",
       "  18: 110.3789286540357,\n",
       "  4: 205.18969483518865,\n",
       "  8: 78.79207424801481,\n",
       "  17: 93.08315951353774,\n",
       "  13: 183.02942807734766,\n",
       "  9: 151.8791868531416,\n",
       "  2: 160.4805411947934,\n",
       "  10: 253.12714630714086,\n",
       "  16: 153.93251734169192,\n",
       "  15: 39.720055316233754,\n",
       "  19: 58.55581864505143,\n",
       "  1: 71.72523814677484,\n",
       "  20: 319.4462388409766},\n",
       " 36: {3: 40.970229631397245,\n",
       "  14: 67.90180395919495,\n",
       "  7: 136.96695635707977,\n",
       "  5: 135.8525567168285,\n",
       "  12: 144.77641546096484,\n",
       "  6: 76.174082628456,\n",
       "  11: 85.01737667191448,\n",
       "  18: 171.6659849123408,\n",
       "  4: 126.05094492679164,\n",
       "  8: 190.5047411763928,\n",
       "  17: 109.42273376528894,\n",
       "  13: 148.13258681909406,\n",
       "  9: 154.3515619108388,\n",
       "  2: 194.43336254349515,\n",
       "  10: 149.81395922105045,\n",
       "  16: 19.67480099413527,\n",
       "  15: 205.90230646908378,\n",
       "  19: 205.8168514985388,\n",
       "  1: 236.28972794749367,\n",
       "  20: 199.1778701307598},\n",
       " 37: {3: 8.999362189362333,\n",
       "  14: 40.568144032858584,\n",
       "  7: 100.54595893133346,\n",
       "  5: 109.24199459960909,\n",
       "  12: 132.08341894434065,\n",
       "  6: 116.14886072019341,\n",
       "  11: 113.34430927517604,\n",
       "  18: 164.75052946540785,\n",
       "  4: 156.64626636883622,\n",
       "  8: 171.9628580736805,\n",
       "  17: 101.04418542455441,\n",
       "  13: 167.38932794398937,\n",
       "  9: 162.73339702688398,\n",
       "  2: 198.0939688430917,\n",
       "  10: 188.57520289547458,\n",
       "  16: 48.596493590472996,\n",
       "  15: 169.92873515785888,\n",
       "  19: 178.78633810831045,\n",
       "  1: 202.91700122676406,\n",
       "  20: 242.69143417653706},\n",
       " 38: {3: 163.29762507344904,\n",
       "  14: 155.03762205400338,\n",
       "  7: 199.83112986447398,\n",
       "  5: 172.590722198159,\n",
       "  12: 139.53149809746216,\n",
       "  6: 73.91462749604133,\n",
       "  11: 59.02155090751917,\n",
       "  18: 134.20556384662328,\n",
       "  4: 16.367360517650233,\n",
       "  8: 179.41427165277966,\n",
       "  17: 121.53489218314459,\n",
       "  13: 42.49100422605263,\n",
       "  9: 80.63908117448506,\n",
       "  2: 113.99215635642273,\n",
       "  10: 48.04723377125475,\n",
       "  16: 127.69638346724741,\n",
       "  15: 246.66674915805962,\n",
       "  19: 216.0920996307044,\n",
       "  1: 260.9745431969303,\n",
       "  20: 113.74679746479137}}"
      ]
     },
     "execution_count": 93,
     "metadata": {},
     "output_type": "execute_result"
    }
   ],
   "source": [
    "\n",
    "transp={}\n",
    "for i, wh in enumerate(WAREHOUSES):\n",
    "    dist=[]\n",
    "    for j, _ in enumerate(SUPERMARKETS):\n",
    "        dist.append(cost_per_km * compute_distance(WAREHOUSES_XY[i],SUPERMARKETS_XY[j])) # warning: distance is weighted by cost\n",
    "    transp[wh] = dict(zip(SUPERMARKETS,dist))\n",
    "transp"
   ]
  },
  {
   "cell_type": "markdown",
   "id": "11c37f36-0a3e-4438-9a8a-ed7ab61e4e19",
   "metadata": {},
   "source": [
    "### Problem Variable"
   ]
  },
  {
   "cell_type": "code",
   "execution_count": 94,
   "id": "3eeec43f-808f-44d1-bec8-d1485a5bba6f",
   "metadata": {},
   "outputs": [],
   "source": [
    "prob = LpProblem(\"FacilityLocation\",LpMinimize)"
   ]
  },
  {
   "cell_type": "markdown",
   "id": "2786ebf5-cc96-487f-a159-d25da2226fa3",
   "metadata": {},
   "source": [
    "### Decision Variables "
   ]
  },
  {
   "cell_type": "code",
   "execution_count": 95,
   "id": "6ed7b310-1679-4d95-bf9d-0e6723e205d1",
   "metadata": {
    "tags": []
   },
   "outputs": [],
   "source": [
    "serv_vars = LpVariable.dicts(\"Service\", [(i,j) for i in SUPERMARKETS for j in WAREHOUSES],0)"
   ]
  },
  {
   "cell_type": "code",
   "execution_count": 96,
   "id": "1bd8bbad-a75f-43a8-b9d1-b8453f8d254c",
   "metadata": {},
   "outputs": [],
   "source": [
    "use_vars = LpVariable.dicts(\"UseLocation\",WAREHOUSES,lowBound=0, upBound=1, cat=LpBinary)"
   ]
  },
  {
   "cell_type": "markdown",
   "id": "d5fa1aa9-5e13-4896-8958-70c974de3b29",
   "metadata": {},
   "source": [
    "### Objective Function"
   ]
  },
  {
   "cell_type": "code",
   "execution_count": 97,
   "id": "6cec30a1-d79b-4aca-9534-f9cfd55e922a",
   "metadata": {},
   "outputs": [],
   "source": [
    "prob += lpSum(actcost[j] * use_vars[j] for j in WAREHOUSES) +\\\n",
    "lpSum(transp[j][i] * serv_vars[(i,j)] for j in WAREHOUSES for i in SUPERMARKETS)"
   ]
  },
  {
   "cell_type": "markdown",
   "id": "0cd186a4-f3d1-4756-a844-82c8292d8f3d",
   "metadata": {},
   "source": [
    "### Constraints"
   ]
  },
  {
   "cell_type": "code",
   "execution_count": 98,
   "id": "c5ab96d9-fe9f-4bc4-9cc3-d961bf3416e6",
   "metadata": {},
   "outputs": [],
   "source": [
    "for i in SUPERMARKETS:\n",
    "    prob += lpSum(serv_vars[(i,j)] for j in WAREHOUSES) == demand[i]"
   ]
  },
  {
   "cell_type": "code",
   "execution_count": 99,
   "id": "3a75bb70-8d34-4510-9f32-bf0234479bdc",
   "metadata": {},
   "outputs": [],
   "source": [
    "for j in WAREHOUSES:\n",
    "    prob += lpSum(serv_vars[(i,j)] for i in SUPERMARKETS) <=maxam[j] * use_vars[j]"
   ]
  },
  {
   "cell_type": "code",
   "execution_count": 100,
   "id": "32890a2b-cad5-4346-bd63-9286260dc2ce",
   "metadata": {},
   "outputs": [],
   "source": [
    "for i in SUPERMARKETS:\n",
    "    for j in WAREHOUSES:\n",
    "        prob += serv_vars[(i,j)] <= demand[i] * use_vars[j]"
   ]
  },
  {
   "cell_type": "code",
   "execution_count": 101,
   "id": "86ec9c60-8dca-4b0d-bf26-a4060ce07355",
   "metadata": {},
   "outputs": [
    {
     "data": {
      "text/plain": [
       "1"
      ]
     },
     "execution_count": 101,
     "metadata": {},
     "output_type": "execute_result"
    }
   ],
   "source": [
    "# The problem is solved using PuLP's choice of Solver\n",
    "prob.solve()"
   ]
  },
  {
   "cell_type": "code",
   "execution_count": 102,
   "id": "d2fcfa37-e7c4-4134-a31a-39518960ea92",
   "metadata": {},
   "outputs": [
    {
     "name": "stdout",
     "output_type": "stream",
     "text": [
      "Status: Optimal\n"
     ]
    }
   ],
   "source": [
    "# The status of the solution is printed to the screen\n",
    "print(\"Status:\", LpStatus[prob.status])"
   ]
  },
  {
   "cell_type": "code",
   "execution_count": 103,
   "id": "30a54a60-f1b2-4549-9dee-dfda282e7c45",
   "metadata": {},
   "outputs": [
    {
     "name": "stdout",
     "output_type": "stream",
     "text": [
      "Establish warehouse at: 2\n",
      "Establish warehouse at: 5\n",
      "Establish warehouse at: 9\n",
      "Establish warehouse at: 17\n",
      "Establish warehouse at: 21\n",
      "Establish warehouse at: 26\n",
      "Establish warehouse at: 31\n",
      "Establish warehouse at: 32\n",
      "Establish warehouse at: 36\n"
     ]
    }
   ],
   "source": [
    "TOL = 0.0001\n",
    "results=[]\n",
    "for i in WAREHOUSES:\n",
    "    if use_vars[i].varValue > TOL:\n",
    "        print(f\"Establish warehouse at: {i}\")\n",
    "        results.append(i)"
   ]
  },
  {
   "cell_type": "code",
   "execution_count": 104,
   "id": "0ea65149-13f8-4925-8b35-4333c4f8a887",
   "metadata": {},
   "outputs": [
    {
     "data": {
      "text/plain": [
       "[2, 5, 9, 17, 21, 26, 31, 32, 36]"
      ]
     },
     "execution_count": 104,
     "metadata": {},
     "output_type": "execute_result"
    }
   ],
   "source": [
    "results"
   ]
  },
  {
   "cell_type": "code",
   "execution_count": 114,
   "id": "7da6009f-4aa1-4c02-89e1-2d7f3a878516",
   "metadata": {},
   "outputs": [
    {
     "name": "stdout",
     "output_type": "stream",
     "text": [
      "Therefore, the optimal warehouses consists of\n",
      "\n",
      "Service_(1,_5) = 384.0\n",
      "Service_(10,_32) = 997.0\n",
      "Service_(11,_9) = 477.0\n",
      "Service_(12,_17) = 99.0\n",
      "Service_(12,_2) = 210.0\n",
      "Service_(12,_21) = 56.0\n",
      "Service_(12,_31) = 427.0\n",
      "Service_(13,_21) = 913.0\n",
      "Service_(14,_17) = 782.0\n",
      "Service_(15,_26) = 1105.0\n",
      "Service_(16,_36) = 882.0\n",
      "Service_(17,_17) = 643.0\n",
      "Service_(18,_2) = 483.0\n",
      "Service_(19,_5) = 740.0\n",
      "Service_(2,_21) = 693.0\n",
      "Service_(20,_32) = 3.0\n",
      "Service_(3,_36) = 385.0\n",
      "Service_(4,_32) = 1045.0\n",
      "Service_(5,_31) = 1217.0\n",
      "Service_(6,_9) = 630.0\n",
      "Service_(7,_26) = 1156.0\n",
      "Service_(8,_2) = 603.0\n",
      "Service_(9,_21) = 396.0\n"
     ]
    }
   ],
   "source": [
    "print(\"Therefore, the optimal warehouses consists of\\n\")\n",
    "results=[]\n",
    "for v in prob.variables():\n",
    "    if v.varValue>0 and v.name.startswith(\"Service\"):\n",
    "        print(v.name, \"=\", v.varValue)"
   ]
  },
  {
   "cell_type": "markdown",
   "id": "b7f6530d-d32d-4f5b-b9c5-09358e498df1",
   "metadata": {},
   "source": [
    "### Create LingStrings"
   ]
  },
  {
   "cell_type": "code",
   "execution_count": 166,
   "id": "b29c58cd-4398-4c73-9f67-ece22ac417ee",
   "metadata": {
    "collapsed": true,
    "jupyter": {
     "outputs_hidden": true
    },
    "tags": []
   },
   "outputs": [
    {
     "name": "stdout",
     "output_type": "stream",
     "text": [
      "Service_(1,_5) = 384.0\n",
      "Service_(10,_32) = 997.0\n",
      "Service_(11,_9) = 477.0\n",
      "Service_(12,_17) = 99.0\n",
      "Service_(12,_2) = 210.0\n",
      "Service_(12,_21) = 56.0\n",
      "Service_(12,_31) = 427.0\n",
      "Service_(13,_21) = 913.0\n",
      "Service_(14,_17) = 782.0\n",
      "Service_(15,_26) = 1105.0\n",
      "Service_(16,_36) = 882.0\n",
      "Service_(17,_17) = 643.0\n",
      "Service_(18,_2) = 483.0\n",
      "Service_(19,_5) = 740.0\n",
      "Service_(2,_21) = 693.0\n",
      "Service_(20,_32) = 3.0\n",
      "Service_(3,_36) = 385.0\n",
      "Service_(4,_32) = 1045.0\n",
      "Service_(5,_31) = 1217.0\n",
      "Service_(6,_9) = 630.0\n",
      "Service_(7,_26) = 1156.0\n",
      "Service_(8,_2) = 603.0\n",
      "Service_(9,_21) = 396.0\n"
     ]
    },
    {
     "data": {
      "text/html": [
       "<div>\n",
       "<style scoped>\n",
       "    .dataframe tbody tr th:only-of-type {\n",
       "        vertical-align: middle;\n",
       "    }\n",
       "\n",
       "    .dataframe tbody tr th {\n",
       "        vertical-align: top;\n",
       "    }\n",
       "\n",
       "    .dataframe thead th {\n",
       "        text-align: right;\n",
       "    }\n",
       "</style>\n",
       "<table border=\"1\" class=\"dataframe\">\n",
       "  <thead>\n",
       "    <tr style=\"text-align: right;\">\n",
       "      <th></th>\n",
       "      <th>customer_id</th>\n",
       "      <th>facility_id</th>\n",
       "      <th>value</th>\n",
       "    </tr>\n",
       "  </thead>\n",
       "  <tbody>\n",
       "    <tr>\n",
       "      <th>0</th>\n",
       "      <td>1</td>\n",
       "      <td>5</td>\n",
       "      <td>384.0</td>\n",
       "    </tr>\n",
       "    <tr>\n",
       "      <th>1</th>\n",
       "      <td>10</td>\n",
       "      <td>32</td>\n",
       "      <td>997.0</td>\n",
       "    </tr>\n",
       "    <tr>\n",
       "      <th>2</th>\n",
       "      <td>11</td>\n",
       "      <td>9</td>\n",
       "      <td>477.0</td>\n",
       "    </tr>\n",
       "    <tr>\n",
       "      <th>3</th>\n",
       "      <td>12</td>\n",
       "      <td>17</td>\n",
       "      <td>99.0</td>\n",
       "    </tr>\n",
       "    <tr>\n",
       "      <th>4</th>\n",
       "      <td>12</td>\n",
       "      <td>2</td>\n",
       "      <td>210.0</td>\n",
       "    </tr>\n",
       "    <tr>\n",
       "      <th>5</th>\n",
       "      <td>12</td>\n",
       "      <td>21</td>\n",
       "      <td>56.0</td>\n",
       "    </tr>\n",
       "    <tr>\n",
       "      <th>6</th>\n",
       "      <td>12</td>\n",
       "      <td>31</td>\n",
       "      <td>427.0</td>\n",
       "    </tr>\n",
       "    <tr>\n",
       "      <th>7</th>\n",
       "      <td>13</td>\n",
       "      <td>21</td>\n",
       "      <td>913.0</td>\n",
       "    </tr>\n",
       "    <tr>\n",
       "      <th>8</th>\n",
       "      <td>14</td>\n",
       "      <td>17</td>\n",
       "      <td>782.0</td>\n",
       "    </tr>\n",
       "    <tr>\n",
       "      <th>9</th>\n",
       "      <td>15</td>\n",
       "      <td>26</td>\n",
       "      <td>1105.0</td>\n",
       "    </tr>\n",
       "    <tr>\n",
       "      <th>10</th>\n",
       "      <td>16</td>\n",
       "      <td>36</td>\n",
       "      <td>882.0</td>\n",
       "    </tr>\n",
       "    <tr>\n",
       "      <th>11</th>\n",
       "      <td>17</td>\n",
       "      <td>17</td>\n",
       "      <td>643.0</td>\n",
       "    </tr>\n",
       "    <tr>\n",
       "      <th>12</th>\n",
       "      <td>18</td>\n",
       "      <td>2</td>\n",
       "      <td>483.0</td>\n",
       "    </tr>\n",
       "    <tr>\n",
       "      <th>13</th>\n",
       "      <td>19</td>\n",
       "      <td>5</td>\n",
       "      <td>740.0</td>\n",
       "    </tr>\n",
       "    <tr>\n",
       "      <th>14</th>\n",
       "      <td>2</td>\n",
       "      <td>21</td>\n",
       "      <td>693.0</td>\n",
       "    </tr>\n",
       "    <tr>\n",
       "      <th>15</th>\n",
       "      <td>20</td>\n",
       "      <td>32</td>\n",
       "      <td>3.0</td>\n",
       "    </tr>\n",
       "    <tr>\n",
       "      <th>16</th>\n",
       "      <td>3</td>\n",
       "      <td>36</td>\n",
       "      <td>385.0</td>\n",
       "    </tr>\n",
       "    <tr>\n",
       "      <th>17</th>\n",
       "      <td>4</td>\n",
       "      <td>32</td>\n",
       "      <td>1045.0</td>\n",
       "    </tr>\n",
       "    <tr>\n",
       "      <th>18</th>\n",
       "      <td>5</td>\n",
       "      <td>31</td>\n",
       "      <td>1217.0</td>\n",
       "    </tr>\n",
       "    <tr>\n",
       "      <th>19</th>\n",
       "      <td>6</td>\n",
       "      <td>9</td>\n",
       "      <td>630.0</td>\n",
       "    </tr>\n",
       "    <tr>\n",
       "      <th>20</th>\n",
       "      <td>7</td>\n",
       "      <td>26</td>\n",
       "      <td>1156.0</td>\n",
       "    </tr>\n",
       "    <tr>\n",
       "      <th>21</th>\n",
       "      <td>8</td>\n",
       "      <td>2</td>\n",
       "      <td>603.0</td>\n",
       "    </tr>\n",
       "    <tr>\n",
       "      <th>22</th>\n",
       "      <td>9</td>\n",
       "      <td>21</td>\n",
       "      <td>396.0</td>\n",
       "    </tr>\n",
       "  </tbody>\n",
       "</table>\n",
       "</div>"
      ],
      "text/plain": [
       "    customer_id  facility_id   value\n",
       "0             1            5   384.0\n",
       "1            10           32   997.0\n",
       "2            11            9   477.0\n",
       "3            12           17    99.0\n",
       "4            12            2   210.0\n",
       "5            12           21    56.0\n",
       "6            12           31   427.0\n",
       "7            13           21   913.0\n",
       "8            14           17   782.0\n",
       "9            15           26  1105.0\n",
       "10           16           36   882.0\n",
       "11           17           17   643.0\n",
       "12           18            2   483.0\n",
       "13           19            5   740.0\n",
       "14            2           21   693.0\n",
       "15           20           32     3.0\n",
       "16            3           36   385.0\n",
       "17            4           32  1045.0\n",
       "18            5           31  1217.0\n",
       "19            6            9   630.0\n",
       "20            7           26  1156.0\n",
       "21            8            2   603.0\n",
       "22            9           21   396.0"
      ]
     },
     "execution_count": 166,
     "metadata": {},
     "output_type": "execute_result"
    }
   ],
   "source": [
    "import re\n",
    "\n",
    "customer_id = []\n",
    "facility_id = []\n",
    "values = []\n",
    "for v in prob.variables():\n",
    "    if v.varValue>0 and v.name.startswith(\"Service\"):\n",
    "        print(v.name, \"=\", v.varValue)\n",
    "        customer_id.append(int(re.findall('\\d+', v.name)[0]))\n",
    "        facility_id.append(int(re.findall('\\d+', v.name)[1]))\n",
    "        values.append(v.varValue)\n",
    "\n",
    "lines = [LineString([Supermarkets_shp.query(f\"Shop_ID == {i}\").geometry.values[0], Warehouses_shp.query(f\"WH_ID == {j}\").geometry.values[0]]) for i,j in zip(customer_id,facility_id)]\n",
    "\n",
    "result_value = pd.DataFrame({\"customer_id\":customer_id,\"facility_id\":facility_id,\"value\":values})\n",
    "\n",
    "result_value\n",
    "\n",
    "# result_lines = gpd.GeoDataFrame(geometry=lines)\n",
    "# result_lines.plot()"
   ]
  },
  {
   "cell_type": "markdown",
   "id": "8a4a7c8e-7302-4e32-81fc-2c95c8f666ba",
   "metadata": {},
   "source": [
    "## Network"
   ]
  },
  {
   "cell_type": "code",
   "execution_count": 5,
   "id": "63a7530d-2ae5-4e0c-b219-8a2fce794087",
   "metadata": {},
   "outputs": [
    {
     "name": "stdout",
     "output_type": "stream",
     "text": [
      "Name: networkx\n",
      "Version: 2.6.3\n",
      "Summary: Python package for creating and manipulating graphs and networks\n",
      "Home-page: https://networkx.org/\n",
      "Author: Aric Hagberg\n",
      "Author-email: hagberg@lanl.gov\n",
      "License: UNKNOWN\n",
      "Location: c:\\program files\\qgis 3.20.0\\apps\\python39\\lib\\site-packages\n",
      "Requires: \n",
      "Required-by: spopt, scikit-image, mapclassify\n"
     ]
    }
   ],
   "source": [
    "!pip show networkx"
   ]
  },
  {
   "cell_type": "code",
   "execution_count": 14,
   "id": "d4fc252d-4fc7-47a6-a001-2a2051ae3495",
   "metadata": {},
   "outputs": [],
   "source": [
    "# !pip install -U networkx"
   ]
  },
  {
   "cell_type": "code",
   "execution_count": 170,
   "id": "fbe2d718-7940-4a47-b9ad-8e357070613f",
   "metadata": {},
   "outputs": [],
   "source": [
    "import networkx as nx\n",
    "\n",
    "from networkx.algorithms import approximation as approx"
   ]
  },
  {
   "cell_type": "code",
   "execution_count": 18,
   "id": "5501ffc8-ca53-4857-8d0f-830a6e30f613",
   "metadata": {},
   "outputs": [],
   "source": [
    "G = nx.Graph()"
   ]
  },
  {
   "cell_type": "code",
   "execution_count": 181,
   "id": "1c7ad0d3-c8d4-4708-94e2-4addcacfda45",
   "metadata": {},
   "outputs": [],
   "source": [
    "test = pd.read_csv(\"Data/test.csv\")"
   ]
  },
  {
   "cell_type": "code",
   "execution_count": 187,
   "id": "ee266325-ec99-4e17-a6b5-0af9d6137ed0",
   "metadata": {},
   "outputs": [
    {
     "data": {
      "text/html": [
       "<div>\n",
       "<style scoped>\n",
       "    .dataframe tbody tr th:only-of-type {\n",
       "        vertical-align: middle;\n",
       "    }\n",
       "\n",
       "    .dataframe tbody tr th {\n",
       "        vertical-align: top;\n",
       "    }\n",
       "\n",
       "    .dataframe thead th {\n",
       "        text-align: right;\n",
       "    }\n",
       "</style>\n",
       "<table border=\"1\" class=\"dataframe\">\n",
       "  <thead>\n",
       "    <tr style=\"text-align: right;\">\n",
       "      <th></th>\n",
       "      <th>origin_id</th>\n",
       "      <th>destination_id</th>\n",
       "      <th>entry_cost</th>\n",
       "      <th>network_cost</th>\n",
       "      <th>exit_cost</th>\n",
       "      <th>total_cost</th>\n",
       "    </tr>\n",
       "  </thead>\n",
       "  <tbody>\n",
       "    <tr>\n",
       "      <th>0</th>\n",
       "      <td>1</td>\n",
       "      <td>2</td>\n",
       "      <td>NaN</td>\n",
       "      <td>6523.746111</td>\n",
       "      <td>NaN</td>\n",
       "      <td>NaN</td>\n",
       "    </tr>\n",
       "    <tr>\n",
       "      <th>1</th>\n",
       "      <td>1</td>\n",
       "      <td>3</td>\n",
       "      <td>NaN</td>\n",
       "      <td>5184.269208</td>\n",
       "      <td>NaN</td>\n",
       "      <td>NaN</td>\n",
       "    </tr>\n",
       "    <tr>\n",
       "      <th>2</th>\n",
       "      <td>1</td>\n",
       "      <td>4</td>\n",
       "      <td>NaN</td>\n",
       "      <td>8930.640382</td>\n",
       "      <td>NaN</td>\n",
       "      <td>NaN</td>\n",
       "    </tr>\n",
       "    <tr>\n",
       "      <th>3</th>\n",
       "      <td>1</td>\n",
       "      <td>5</td>\n",
       "      <td>NaN</td>\n",
       "      <td>7103.512767</td>\n",
       "      <td>NaN</td>\n",
       "      <td>NaN</td>\n",
       "    </tr>\n",
       "    <tr>\n",
       "      <th>4</th>\n",
       "      <td>2</td>\n",
       "      <td>1</td>\n",
       "      <td>NaN</td>\n",
       "      <td>6523.746111</td>\n",
       "      <td>NaN</td>\n",
       "      <td>NaN</td>\n",
       "    </tr>\n",
       "    <tr>\n",
       "      <th>5</th>\n",
       "      <td>2</td>\n",
       "      <td>3</td>\n",
       "      <td>NaN</td>\n",
       "      <td>6806.746176</td>\n",
       "      <td>NaN</td>\n",
       "      <td>NaN</td>\n",
       "    </tr>\n",
       "    <tr>\n",
       "      <th>6</th>\n",
       "      <td>2</td>\n",
       "      <td>4</td>\n",
       "      <td>NaN</td>\n",
       "      <td>3215.268617</td>\n",
       "      <td>NaN</td>\n",
       "      <td>NaN</td>\n",
       "    </tr>\n",
       "    <tr>\n",
       "      <th>7</th>\n",
       "      <td>2</td>\n",
       "      <td>5</td>\n",
       "      <td>NaN</td>\n",
       "      <td>5797.580375</td>\n",
       "      <td>NaN</td>\n",
       "      <td>NaN</td>\n",
       "    </tr>\n",
       "    <tr>\n",
       "      <th>8</th>\n",
       "      <td>3</td>\n",
       "      <td>1</td>\n",
       "      <td>NaN</td>\n",
       "      <td>5184.269208</td>\n",
       "      <td>NaN</td>\n",
       "      <td>NaN</td>\n",
       "    </tr>\n",
       "    <tr>\n",
       "      <th>9</th>\n",
       "      <td>3</td>\n",
       "      <td>2</td>\n",
       "      <td>NaN</td>\n",
       "      <td>6806.746176</td>\n",
       "      <td>NaN</td>\n",
       "      <td>NaN</td>\n",
       "    </tr>\n",
       "    <tr>\n",
       "      <th>10</th>\n",
       "      <td>3</td>\n",
       "      <td>4</td>\n",
       "      <td>NaN</td>\n",
       "      <td>7982.019204</td>\n",
       "      <td>NaN</td>\n",
       "      <td>NaN</td>\n",
       "    </tr>\n",
       "    <tr>\n",
       "      <th>11</th>\n",
       "      <td>3</td>\n",
       "      <td>5</td>\n",
       "      <td>NaN</td>\n",
       "      <td>3206.378660</td>\n",
       "      <td>NaN</td>\n",
       "      <td>NaN</td>\n",
       "    </tr>\n",
       "    <tr>\n",
       "      <th>12</th>\n",
       "      <td>4</td>\n",
       "      <td>1</td>\n",
       "      <td>NaN</td>\n",
       "      <td>8930.640382</td>\n",
       "      <td>NaN</td>\n",
       "      <td>NaN</td>\n",
       "    </tr>\n",
       "    <tr>\n",
       "      <th>13</th>\n",
       "      <td>4</td>\n",
       "      <td>2</td>\n",
       "      <td>NaN</td>\n",
       "      <td>3215.268617</td>\n",
       "      <td>NaN</td>\n",
       "      <td>NaN</td>\n",
       "    </tr>\n",
       "    <tr>\n",
       "      <th>14</th>\n",
       "      <td>4</td>\n",
       "      <td>3</td>\n",
       "      <td>NaN</td>\n",
       "      <td>7982.019204</td>\n",
       "      <td>NaN</td>\n",
       "      <td>NaN</td>\n",
       "    </tr>\n",
       "    <tr>\n",
       "      <th>15</th>\n",
       "      <td>4</td>\n",
       "      <td>5</td>\n",
       "      <td>NaN</td>\n",
       "      <td>5570.769872</td>\n",
       "      <td>NaN</td>\n",
       "      <td>NaN</td>\n",
       "    </tr>\n",
       "    <tr>\n",
       "      <th>16</th>\n",
       "      <td>5</td>\n",
       "      <td>1</td>\n",
       "      <td>NaN</td>\n",
       "      <td>7103.512767</td>\n",
       "      <td>NaN</td>\n",
       "      <td>NaN</td>\n",
       "    </tr>\n",
       "    <tr>\n",
       "      <th>17</th>\n",
       "      <td>5</td>\n",
       "      <td>2</td>\n",
       "      <td>NaN</td>\n",
       "      <td>5797.580375</td>\n",
       "      <td>NaN</td>\n",
       "      <td>NaN</td>\n",
       "    </tr>\n",
       "    <tr>\n",
       "      <th>18</th>\n",
       "      <td>5</td>\n",
       "      <td>3</td>\n",
       "      <td>NaN</td>\n",
       "      <td>3206.378660</td>\n",
       "      <td>NaN</td>\n",
       "      <td>NaN</td>\n",
       "    </tr>\n",
       "    <tr>\n",
       "      <th>19</th>\n",
       "      <td>5</td>\n",
       "      <td>4</td>\n",
       "      <td>NaN</td>\n",
       "      <td>5570.769872</td>\n",
       "      <td>NaN</td>\n",
       "      <td>NaN</td>\n",
       "    </tr>\n",
       "  </tbody>\n",
       "</table>\n",
       "</div>"
      ],
      "text/plain": [
       "    origin_id  destination_id  entry_cost  network_cost  exit_cost  total_cost\n",
       "0           1               2         NaN   6523.746111        NaN         NaN\n",
       "1           1               3         NaN   5184.269208        NaN         NaN\n",
       "2           1               4         NaN   8930.640382        NaN         NaN\n",
       "3           1               5         NaN   7103.512767        NaN         NaN\n",
       "4           2               1         NaN   6523.746111        NaN         NaN\n",
       "5           2               3         NaN   6806.746176        NaN         NaN\n",
       "6           2               4         NaN   3215.268617        NaN         NaN\n",
       "7           2               5         NaN   5797.580375        NaN         NaN\n",
       "8           3               1         NaN   5184.269208        NaN         NaN\n",
       "9           3               2         NaN   6806.746176        NaN         NaN\n",
       "10          3               4         NaN   7982.019204        NaN         NaN\n",
       "11          3               5         NaN   3206.378660        NaN         NaN\n",
       "12          4               1         NaN   8930.640382        NaN         NaN\n",
       "13          4               2         NaN   3215.268617        NaN         NaN\n",
       "14          4               3         NaN   7982.019204        NaN         NaN\n",
       "15          4               5         NaN   5570.769872        NaN         NaN\n",
       "16          5               1         NaN   7103.512767        NaN         NaN\n",
       "17          5               2         NaN   5797.580375        NaN         NaN\n",
       "18          5               3         NaN   3206.378660        NaN         NaN\n",
       "19          5               4         NaN   5570.769872        NaN         NaN"
      ]
     },
     "execution_count": 187,
     "metadata": {},
     "output_type": "execute_result"
    }
   ],
   "source": [
    "test"
   ]
  },
  {
   "cell_type": "code",
   "execution_count": 188,
   "id": "8153c25c-088f-4727-8a98-2e90f760f9a1",
   "metadata": {},
   "outputs": [
    {
     "name": "stdout",
     "output_type": "stream",
     "text": [
      "1.0 2.0\n",
      "1.0 3.0\n",
      "1.0 4.0\n",
      "1.0 5.0\n",
      "2.0 1.0\n",
      "2.0 3.0\n",
      "2.0 4.0\n",
      "2.0 5.0\n",
      "3.0 1.0\n",
      "3.0 2.0\n",
      "3.0 4.0\n",
      "3.0 5.0\n",
      "4.0 1.0\n",
      "4.0 2.0\n",
      "4.0 3.0\n",
      "4.0 5.0\n",
      "5.0 1.0\n",
      "5.0 2.0\n",
      "5.0 3.0\n",
      "5.0 4.0\n"
     ]
    }
   ],
   "source": [
    "for index, row in test.iterrows():\n",
    "    print(row['origin_id'], row['destination_id'])"
   ]
  },
  {
   "cell_type": "code",
   "execution_count": 191,
   "id": "711be7f2-d283-4fa3-a69a-9fe22e69579d",
   "metadata": {},
   "outputs": [
    {
     "data": {
      "text/plain": [
       "[None,\n",
       " None,\n",
       " None,\n",
       " None,\n",
       " None,\n",
       " None,\n",
       " None,\n",
       " None,\n",
       " None,\n",
       " None,\n",
       " None,\n",
       " None,\n",
       " None,\n",
       " None,\n",
       " None,\n",
       " None,\n",
       " None,\n",
       " None,\n",
       " None,\n",
       " None]"
      ]
     },
     "execution_count": 191,
     "metadata": {},
     "output_type": "execute_result"
    }
   ],
   "source": [
    "[G.add_edge(str(row['origin_id']), str(row['destination_id']), weight=row['network_cost']) for _, row in test.iterrows()]"
   ]
  },
  {
   "cell_type": "code",
   "execution_count": 193,
   "id": "cc5a90a1-389b-4ebd-9a00-ea1f621d0fe8",
   "metadata": {},
   "outputs": [
    {
     "data": {
      "text/plain": [
       "['1.0', '3.0']"
      ]
     },
     "execution_count": 193,
     "metadata": {},
     "output_type": "execute_result"
    }
   ],
   "source": [
    "# G.add_edge('A', 'B', weight=4)\n",
    "# G.add_edge('B', 'D', weight=2)\n",
    "# G.add_edge('A', 'C', weight=3)\n",
    "# G.add_edge('C', 'D', weight=4)\n",
    "nx.shortest_path(G, '1.0', '3.0', weight='weight')"
   ]
  },
  {
   "cell_type": "code",
   "execution_count": 190,
   "id": "6e4a2a63-ab7e-47c3-93f7-2928fcdb4b33",
   "metadata": {},
   "outputs": [],
   "source": [
    "G = nx.DiGraph()"
   ]
  },
  {
   "cell_type": "code",
   "execution_count": 19,
   "id": "8808ac40-c212-4215-a4a6-608885269688",
   "metadata": {},
   "outputs": [],
   "source": [
    "G.add_weighted_edges_from({\n",
    "    (\"A\", \"B\", 3), (\"A\", \"C\", 17), (\"A\", \"D\", 14), (\"B\", \"A\", 3),\n",
    "    (\"B\", \"C\", 12), (\"B\", \"D\", 16), (\"C\", \"A\", 13),(\"C\", \"B\", 12),\n",
    "    (\"C\", \"D\", 4), (\"D\", \"A\", 14), (\"D\", \"B\", 15), (\"D\", \"C\", 2)\n",
    "})"
   ]
  },
  {
   "cell_type": "code",
   "execution_count": 20,
   "id": "7c88b898-1116-48d0-93b5-85d6324bb257",
   "metadata": {},
   "outputs": [],
   "source": [
    "from networkx.algorithms import approximation as approx"
   ]
  },
  {
   "cell_type": "code",
   "execution_count": 21,
   "id": "1712d246-27b5-4a7a-bbc3-e717075bc987",
   "metadata": {},
   "outputs": [],
   "source": [
    "G = nx.DiGraph()\n",
    "G.add_weighted_edges_from({\n",
    "    (\"A\", \"B\", 3), (\"A\", \"C\", 17), (\"A\", \"D\", 14), (\"B\", \"A\", 3),\n",
    "    (\"B\", \"C\", 12), (\"B\", \"D\", 16), (\"C\", \"A\", 13),(\"C\", \"B\", 12),\n",
    "    (\"C\", \"D\", 4), (\"D\", \"A\", 14), (\"D\", \"B\", 15), (\"D\", \"C\", 2)\n",
    "})"
   ]
  },
  {
   "cell_type": "code",
   "execution_count": 194,
   "id": "5a6fa018-9406-47f2-be60-014b0f838061",
   "metadata": {},
   "outputs": [
    {
     "data": {
      "text/plain": [
       "['1.0', '3.0', '5.0', '4.0', '2.0', '1.0']"
      ]
     },
     "execution_count": 194,
     "metadata": {},
     "output_type": "execute_result"
    }
   ],
   "source": [
    "cycle = approx.simulated_annealing_tsp(G, \"greedy\", source=\"1.0\")\n",
    "cost = sum(G[n][nbr][\"weight\"] for n, nbr in nx.utils.pairwise(cycle))\n",
    "cycle"
   ]
  },
  {
   "cell_type": "code",
   "execution_count": 212,
   "id": "a1a4be7a-8049-4957-b148-f3e03cb3653f",
   "metadata": {},
   "outputs": [
    {
     "data": {
      "text/plain": [
       "['1.0', '3.0', '5.0', '4.0', '2.0', '1.0']"
      ]
     },
     "execution_count": 212,
     "metadata": {},
     "output_type": "execute_result"
    }
   ],
   "source": [
    "cycle"
   ]
  },
  {
   "cell_type": "code",
   "execution_count": 214,
   "id": "b547d642-47c6-4abe-9027-178b54e533ad",
   "metadata": {},
   "outputs": [
    {
     "data": {
      "text/plain": [
       "[('1.0', '3.0', 23700.432468299998),\n",
       " ('3.0', '5.0', 23700.432468299998),\n",
       " ('5.0', '4.0', 23700.432468299998),\n",
       " ('4.0', '2.0', 23700.432468299998),\n",
       " ('2.0', '1.0', 23700.432468299998)]"
      ]
     },
     "execution_count": 214,
     "metadata": {},
     "output_type": "execute_result"
    }
   ],
   "source": [
    "[(cycle[i],cycle[i+1],cost) for i,_ in enumerate(cycle) if i<len(cycle)-1]"
   ]
  },
  {
   "cell_type": "code",
   "execution_count": 195,
   "id": "ba810751-986c-4668-8376-5c646fc7726e",
   "metadata": {},
   "outputs": [
    {
     "data": {
      "text/plain": [
       "23700.432468299998"
      ]
     },
     "execution_count": 195,
     "metadata": {},
     "output_type": "execute_result"
    }
   ],
   "source": [
    "cost"
   ]
  },
  {
   "cell_type": "code",
   "execution_count": 24,
   "id": "a0b1fa44-fa57-49cc-a882-eb292193bc2c",
   "metadata": {},
   "outputs": [
    {
     "data": {
      "text/plain": [
       "['D', 'C', 'B', 'A', 'D']"
      ]
     },
     "execution_count": 24,
     "metadata": {},
     "output_type": "execute_result"
    }
   ],
   "source": [
    "incycle = [\"D\", \"B\", \"A\", \"C\", \"D\"]\n",
    "cycle = approx.simulated_annealing_tsp(G, incycle, source=\"D\")\n",
    "cost = sum(G[n][nbr][\"weight\"] for n, nbr in nx.utils.pairwise(cycle))\n",
    "cycle"
   ]
  },
  {
   "cell_type": "code",
   "execution_count": 25,
   "id": "fb743512-53d4-429d-90bf-311db294b074",
   "metadata": {},
   "outputs": [
    {
     "data": {
      "text/plain": [
       "31"
      ]
     },
     "execution_count": 25,
     "metadata": {},
     "output_type": "execute_result"
    }
   ],
   "source": [
    "cost"
   ]
  },
  {
   "cell_type": "code",
   "execution_count": null,
   "id": "f4d8bd62-382f-43a3-970f-c844f0f81fc1",
   "metadata": {},
   "outputs": [],
   "source": []
  }
 ],
 "metadata": {
  "kernelspec": {
   "display_name": "Python 3 (ipykernel)",
   "language": "python",
   "name": "python3"
  },
  "language_info": {
   "codemirror_mode": {
    "name": "ipython",
    "version": 3
   },
   "file_extension": ".py",
   "mimetype": "text/x-python",
   "name": "python",
   "nbconvert_exporter": "python",
   "pygments_lexer": "ipython3",
   "version": "3.9.5"
  },
  "toc-autonumbering": true,
  "toc-showmarkdowntxt": false
 },
 "nbformat": 4,
 "nbformat_minor": 5
}
