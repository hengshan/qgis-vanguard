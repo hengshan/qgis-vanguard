{
 "cells": [
  {
   "cell_type": "markdown",
   "id": "0fc80a4c-07b6-41ed-8e39-9fa10da002d8",
   "metadata": {},
   "source": [
    "# Introduction to QGIS Vanguard Course <img src=\"./Resources/sla.png\" width=\"100\" align =\"right\"/>"
   ]
  },
  {
   "cell_type": "markdown",
   "id": "5990d4c0-d9ef-41d6-af01-37d461fe65ef",
   "metadata": {},
   "source": [
    "## Objectives\n",
    "The goal of this three-day course is to provide an overview of applied spatial regression analysis using open source \n",
    "tools ([QGIS](https://docs.qgis.org/3.16/en/docs/user_manual/index.html)) and libraries such as [PYQGIS](https://docs.qgis.org/3.16/en/docs/pyqgis_developer_cookbook/index.html) and [PYSAL](https://pysal.org/).\n",
    "This course uses Singapore local geospatial data, and we will co-explore spatial analysis using an interactive Python programming tool, [JupyterLab](https://jupyterlab.readthedocs.io/en/stable/user/interface.html). We aim to provide an engaging and hands-on experience on learning, and we believe learning by doing is the best approach. We hope participants can effectively incorporate these tools into their daily work.   "
   ]
  },
  {
   "cell_type": "markdown",
   "id": "dcbf8ed5-0a2b-4ddf-bf48-30f9b71cd9a9",
   "metadata": {},
   "source": [
    "## Course Organization\n",
    "\n",
    "The course will start each day from 9:30am to 12:30pm (morning session) and from 2pm to 5pm (afternoon session). Each session includes lectures (conceptual underpinnings), demonstration (programming), and exercises (hands-on applications). We will attempt to set aside the last half hour or more of each day (i.e., 4:30-5pm) for group discussion of the topics introduced that day.\n",
    "\n",
    "Many topics are introduced in the course lectures (assisted by PowerPoint) that can reasonably be absorbed in three intensive days. \n",
    "The readings are provided for deeper understanding of the topics covered. The lab exercises are guided by written, step-by-step tutorial instructions."
   ]
  },
  {
   "cell_type": "markdown",
   "id": "a7ba92c4-5ca4-49f0-b95f-789c6f87d8a1",
   "metadata": {},
   "source": [
    "# Prerequisites\n",
    "\n",
    "This course is for geographers, engineers, architects, consultants or developers and GIS professionals who want\n",
    "to further their skills in Geospatial Data Science. The course is also good for young researchers on certain majors that require a strong spatial analysis foundation such as ecology, regional science, and environmental science, etc.\n",
    "\n",
    "Basic knowledge in GIS is required. We assume you’ve taken QGIS Primer or Geospatial 101. Basic programming knowledge and basic understanding about linear regression and statistics are helpful."
   ]
  },
  {
   "cell_type": "markdown",
   "id": "2d544425-da32-4638-b8b9-fdc890e55b3f",
   "metadata": {},
   "source": [
    "## Course Outline\n",
    "\n",
    "* Session 1: Introduction to Python (Day1 Morning)\n",
    "* Session 2: Introduction to PyQGIS (Day1 Afternoon)\n",
    "* Session 3: Geovisualization using Python Libraries (Day2 Morning)\n",
    "* Session 4: Introduction to Spatial Regression (Day2 Afternoon)\n",
    "* Session 5: Create a QGIS Plugin (Day3 Morning)\n",
    "* Session 6: Case Study (Day3 Afternoon)"
   ]
  },
  {
   "cell_type": "markdown",
   "id": "6254bf6b-99d6-4b63-b580-30cd09799a81",
   "metadata": {},
   "source": [
    "# Setup the development environment"
   ]
  },
  {
   "cell_type": "markdown",
   "id": "2d19f1c7-c2c3-4b96-b6a4-07a30903e28c",
   "metadata": {},
   "source": [
    "1. Install [QGIS 3.18](https://www.qgis.org/en/site/forusers/download.html). Suggest to install usiing [OSGeo4W installer](https://download.osgeo.org/osgeo4w/osgeo4w-setup-x86_64.exe). In the installer choose Desktop Express Install and select QGIS to install the latest release (v3.18). \n",
    "\n",
    "2. Open terminal in Mac or cmd in Windows. Type: which python\n",
    "\n",
    "2. Set Environmental Variable Path. \n",
    ">Windows:   \n",
    ">  setx PATH \"C:\\change to your folder;%PATH%\"  \n",
    ">  set PATH= C:\\change to your folder;%PATH%  \n",
    ">  echo %PATH%  \n",
    ">  The default folders are: C:\\OSGeo4W64\\apps\\Python37\\  and C:\\OSGeo4W64\\apps\\Python37\\Scripts  \n",
    ">MacOS  \n",
    ">  nano ~/.bash_profile (if you use bash) or ~/.zshrc (if you use zsh), and then add:  \n",
    ">  export PATH=\"/Applications/QGIS.app/Contents/MacOS/bin:$PATH\" \n",
    "\n",
    "3. Set Environmental Variable PATHONPATH. Default folder of Windows = C:\\OSGeo4W64\\apps\\qgis\\python  \n",
    "4. Install GeoPandas related packages using whl files (including Fiona, GDAL, rasterio). \n",
    "5. Install Jupyterlab. \n",
    "> Python -m pip install Jupyterlab.\n",
    "5. Copy run-jupyter.bat to C:\\OSGeo4W64\\bin\\run-jupyter.bat\n",
    "6. Open OSGeo4W shell and run: \n",
    "> run-jupyter\n",
    "7. Install a few packages in Jupyterlab such as ipytest."
   ]
  },
  {
   "cell_type": "markdown",
   "id": "c19506b2-23ba-44b6-8362-1b4d029b5a94",
   "metadata": {},
   "source": [
    "## Basic Intro to JupyterLab"
   ]
  },
  {
   "cell_type": "markdown",
   "id": "adcdbdf6-7a60-4ef8-b023-6136c5b911b0",
   "metadata": {},
   "source": [
    "* This course uses JupyterLab notebooks to create the main content. Each session is written as a separate notebook and can be run interactively. \n",
    "* A JupyterLab notebook is a plain text file with the .ipynb extension, which is easy to move around and track different versions. \n",
    "* A notebook can be thought of as an ordered collection of cells. Cells can be of two types: text and code."
   ]
  },
  {
   "cell_type": "markdown",
   "id": "fc048b0e-9263-43a5-8f59-f445f7f06c5a",
   "metadata": {},
   "source": [
    "### Example of Markdown\n",
    "* Bold text: __string__ or **string**\n",
    "* Italic text: _string_ or *string*\n",
    "> Beautiful is better than ugly.  \n",
    "Explicit is better than implicit.  \n",
    "Simple is better than complex.  \n",
    "\n",
    "$$\\sum _{i=1}^{N}X_{i} $$"
   ]
  },
  {
   "cell_type": "markdown",
   "id": "977d7a79-4ba9-4208-9b39-58f7ae07f3bf",
   "metadata": {},
   "source": [
    "### Example of Code"
   ]
  },
  {
   "cell_type": "code",
   "execution_count": 5,
   "id": "beb3bd2e-a31c-4b97-8cdb-a95f06e141e5",
   "metadata": {},
   "outputs": [
    {
     "data": {
      "text/plain": [
       "2"
      ]
     },
     "execution_count": 5,
     "metadata": {},
     "output_type": "execute_result"
    }
   ],
   "source": [
    "1+1"
   ]
  },
  {
   "cell_type": "markdown",
   "id": "e7f41b7e-63ad-4b1e-a588-3573de2d756c",
   "metadata": {},
   "source": [
    "To master Jupyterlab, see https://nocomplexity.com/documents/jupyterlab/advancedtips.html"
   ]
  },
  {
   "cell_type": "markdown",
   "id": "f478c000-aa26-4aa8-ba53-b8463f0730b6",
   "metadata": {},
   "source": [
    "# References\n",
    "\n",
    "[PYQGIS Samples](https://webgeodatavore.github.io/pyqgis-samples/)\n",
    "\n",
    "[PYQGIS Code](https://www.programcreek.com/python)\n",
    "\n",
    "[Python Data Science Handbook](https://github.com/jakevdp/PythonDataScienceHandbook)"
   ]
  },
  {
   "cell_type": "code",
   "execution_count": null,
   "id": "28d2317e-aaf6-4eb4-8a8a-a0924c49be71",
   "metadata": {},
   "outputs": [],
   "source": []
  }
 ],
 "metadata": {
  "kernelspec": {
   "display_name": "Python 3",
   "language": "python",
   "name": "python3"
  },
  "language_info": {
   "codemirror_mode": {
    "name": "ipython",
    "version": 3
   },
   "file_extension": ".py",
   "mimetype": "text/x-python",
   "name": "python",
   "nbconvert_exporter": "python",
   "pygments_lexer": "ipython3",
   "version": "3.9.5"
  }
 },
 "nbformat": 4,
 "nbformat_minor": 5
}
