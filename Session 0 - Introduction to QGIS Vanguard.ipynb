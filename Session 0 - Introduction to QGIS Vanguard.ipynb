{
 "cells": [
  {
   "cell_type": "markdown",
   "id": "0fc80a4c-07b6-41ed-8e39-9fa10da002d8",
   "metadata": {},
   "source": [
    "# Introduction to QGIS Vanguard Course <img src=\"./Resources/sla.png\" width=\"100\" align =\"right\"/>"
   ]
  },
  {
   "cell_type": "markdown",
   "id": "5990d4c0-d9ef-41d6-af01-37d461fe65ef",
   "metadata": {},
   "source": [
    "## Objectives\n",
    "The goal of this three-day course is to provide an overview of applied spatial regression analysis using open source \n",
    "tools ([QGIS](https://docs.qgis.org/3.16/en/docs/user_manual/index.html)) and libraries such as [PYQGIS](https://docs.qgis.org/3.16/en/docs/pyqgis_developer_cookbook/index.html) and [PYSAL](https://pysal.org/).\n",
    "This course uses Singapore local geospatial data, and we will co-explore spatial analysis using an interactive Python programming tool, [JupyterLab](https://jupyterlab.readthedocs.io/en/stable/user/interface.html). We aim to provide an engaging and hands-on experience on learning spatial regression (...it is usually quite boring...), \n",
    "as we believe learning by doing is the best approach. We hope participants can effectively incorporate these tools into their daily work.   "
   ]
  },
  {
   "cell_type": "markdown",
   "id": "dcbf8ed5-0a2b-4ddf-bf48-30f9b71cd9a9",
   "metadata": {},
   "source": [
    "## Course Organization\n",
    "\n",
    "The course will start each day from 9:30am to 12:30pm (morning session) and from 2pm to 5pm (afternoon session). Each session includes lectures (conceptual underpinnings), demonstration (programming), and exercises (hands-on applications). We will attempt to set aside the last half hour or more of each day (i.e., 4:30-5pm) for group discussion of the topics introduced that day.\n",
    "\n",
    "Many topics are introduced in the course lectures (assisted by PowerPoint) that can reasonably be absorbed in three intensive days. \n",
    "The readings are provided for deeper understanding of the topics covered. The lab exercises are guided by written, step-by-step tutorial instructions."
   ]
  },
  {
   "cell_type": "markdown",
   "id": "2d544425-da32-4638-b8b9-fdc890e55b3f",
   "metadata": {},
   "source": [
    "## Course Outline"
   ]
  },
  {
   "cell_type": "markdown",
   "id": "c19506b2-23ba-44b6-8362-1b4d029b5a94",
   "metadata": {},
   "source": [
    "### JupyterLab"
   ]
  },
  {
   "cell_type": "code",
   "execution_count": null,
   "id": "989826a9-3355-4504-9ba7-a066b2c1c4e1",
   "metadata": {},
   "outputs": [],
   "source": []
  }
 ],
 "metadata": {
  "kernelspec": {
   "display_name": "Python 3",
   "language": "python",
   "name": "python3"
  },
  "language_info": {
   "codemirror_mode": {
    "name": "ipython",
    "version": 3
   },
   "file_extension": ".py",
   "mimetype": "text/x-python",
   "name": "python",
   "nbconvert_exporter": "python",
   "pygments_lexer": "ipython3",
   "version": "3.7.0"
  }
 },
 "nbformat": 4,
 "nbformat_minor": 5
}
