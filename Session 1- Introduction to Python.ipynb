{
 "cells": [
  {
   "cell_type": "markdown",
   "metadata": {},
   "source": [
    "# Session 1 - Introduction to Python <img src=\"./Resources/sla.png\" width=\"100\" align =\"right\"/>"
   ]
  },
  {
   "cell_type": "markdown",
   "metadata": {},
   "source": [
    "# 1. Python"
   ]
  },
  {
   "cell_type": "markdown",
   "metadata": {},
   "source": [
    "We briefly introduce the essentials of programming in Python. This session will not cover all details in Python. Pls consider the following resources if you'd like to learn more. "
   ]
  },
  {
   "cell_type": "markdown",
   "metadata": {},
   "source": [
    "* https://www.codecademy.com/learn/python\n",
    "* http://docs.python-guide.org/en/latest/intro/learning/\n",
    "* https://www.codementor.io/learn-python-online\n",
    "* http://mbakker7.github.io/exploratory_computing_with_python/"
   ]
  },
  {
   "cell_type": "markdown",
   "metadata": {},
   "source": [
    "## Data Types\n",
    "\n",
    "The basic data types in Python are integers, floats, strings and booleans.\n",
    "<p>Integers: <tt>2, 25, -13, 1000000</tt>\n",
    "<p>Floats: <tt>1.2, 0.0001, -3.4, 1.5e-10</tt>\n",
    "<p>Strings: <tt>\"hello\", \"this is a string\", \"iːvən juːnɪkəʊd\", 'single quotes are also OK', \"can't\"</tt>\n",
    "<p>Booleans: <tt>True</tt>, <tt>False</tt>"
   ]
  },
  {
   "cell_type": "markdown",
   "metadata": {},
   "source": [
    "## Print statement\n",
    "You can display values with the <tt>print()<tt> statement. Separate values with commas.\n",
    "<p>The <tt>type()</tt> function will report the type of the expression."
   ]
  },
  {
   "cell_type": "code",
   "execution_count": 4,
   "metadata": {},
   "outputs": [
    {
     "name": "stdout",
     "output_type": "stream",
     "text": [
      "2021 hello   SLA True\n",
      "<class 'int'> <class 'float'> <class 'str'> <class 'bool'>\n"
     ]
    }
   ],
   "source": [
    "print(2021,\"hello\",\" \",\"SLA\",True)\n",
    "print(type(2),type(1.2),type(\"hello\"),type(True))"
   ]
  },
  {
   "cell_type": "markdown",
   "metadata": {},
   "source": [
    "## Expressions\n",
    "The basic types can be combined into expressions with the following operators:\n",
    "<table>\n",
    "  <tr><th>Operator</th><th>Example</th><th>Operation</th></tr>\n",
    "  <tr><td>+</td><td><tt>3+4</tt></td><td>Addition</td></tr>\n",
    "  <tr><td>-</td><td><tt>-5</tt></td><td>Negation</td></tr>\n",
    "  <tr><td>-</td><td><tt>5-3</tt></td><td>Subtraction</td></tr>\n",
    "  <tr><td>*</td><td><tt>3*4</tt></td><td>Multiplication</td></tr>\n",
    "  <tr><td>/</td><td><tt>12/4</tt></td><td>Division (float result)</td></tr>\n",
    "  <tr><td>//</td><td><tt>12//4</tt></td><td>Division (int result)</td></tr>\n",
    "  <tr><td>%</td><td><tt>10%4</tt></td><td>Modulus (int result)</td></tr>\n",
    "  <tr><td>**</td><td><tt>2**8</tt></td><td>Exponentiation (float result)</td></tr>  \n",
    "  <tr><td>+</td><td><tt>\"Hello \"+\"world!\"</tt></td><td>String concatenation (string result)</td></tr>\n",
    "</table>\n",
    "<p>The following operators create a boolean result\n",
    "<table>\n",
    "  <tr><th>Operator</th><th>Example</th><th>Operation</th></tr>\n",
    "  <tr><td>&lt;</td><td><tt>3<4</tt></td><td>Less than</td></tr>\n",
    "  <tr><td>&lt;=</td><td><tt>3<=4</tt></td><td>Less than or equal</td></tr>\n",
    "  <tr><td>==</td><td><tt>3==4</tt></td><td>Equal</td></tr>\n",
    "  <tr><td>!=</td><td><tt>3!=4</tt></td><td>Not equal</td></tr>\n",
    "  <tr><td>&gt;=</td><td><tt>3>=4</tt></td><td>Greater than or equal</td></tr>\n",
    "  <tr><td>&gt;</td><td><tt>3>4</tt></td><td>Greater than</td></tr>\n",
    "  <tr><td>and</td><td><tt>0<3 and 3&lt;5</tt></td><td>Logical and</td></tr>\n",
    "  <tr><td>or</td><td><tt>0&lt;3 or 3&lt;5</tt></td><td>Logical or</td></tr>\n",
    "  <tr><td>not</td><td><tt>not True</tt></td><td>Logical not</td></tr>\n",
    "</table>\n",
    " <p>Parentheses may be used to control order of evaluation in complex expressions:\n",
    " <p>Compare: <tt>2+3*4</tt> vs <tt>(2+3)*4</tt>\n",
    "   "
   ]
  },
  {
   "cell_type": "code",
   "execution_count": 7,
   "metadata": {},
   "outputs": [
    {
     "name": "stdout",
     "output_type": "stream",
     "text": [
      "7 -5 2 12 3.0 3 2 256 Hello QGIS!\n",
      "True True False True False False True True False\n"
     ]
    }
   ],
   "source": [
    "print(3+4,-5,5-3,3*4,12/4,12//4,10%4,2**8,\"Hello \"+\"QGIS!\")\n",
    "print(3<4,3<=4,3==4,3!=4,3>=4,3>4,0<3 and 3<5,0<3 or 3<5,not True)"
   ]
  },
  {
   "cell_type": "markdown",
   "metadata": {},
   "source": [
    "## Lists and Dicts"
   ]
  },
  {
   "cell_type": "markdown",
   "metadata": {},
   "source": [
    "Python has three very useful data structures built into the language:\n",
    "\n",
    "* lists: []\n",
    "* dictionaries (hash tables): {}"
   ]
  },
  {
   "cell_type": "code",
   "execution_count": 16,
   "metadata": {
    "collapsed": false,
    "jupyter": {
     "outputs_hidden": false
    }
   },
   "outputs": [
    {
     "name": "stdout",
     "output_type": "stream",
     "text": [
      "[100, 'QGIS', True, 3.14159]\n"
     ]
    }
   ],
   "source": [
    "mylist=[100,\"QGIS\",True,3.14159]\n",
    "print(mylist)\n",
    "# element=mylist[1]\n",
    "# print(element)\n",
    "# mylist[1]=\"Fred\"\n",
    "# print(mylist)\n",
    "# mylist.append(\"new value\")\n",
    "# print(mylist)\n",
    "# del mylist[2]\n",
    "# print(mylist)\n",
    "# lst=['a','b','c','d','e'];\n",
    "# print(lst[1:3])"
   ]
  },
  {
   "cell_type": "code",
   "execution_count": 17,
   "metadata": {
    "tags": []
   },
   "outputs": [
    {
     "name": "stdout",
     "output_type": "stream",
     "text": [
      "{'firstname': 'Mike', 'employed': True, 'height': 1.8}\n",
      "True\n",
      "{'firstname': 'Mike', 'employed': True, 'height': 1.8, 'status': 'academic'}\n",
      "{'firstname': 'Mike', 'employed': True, 'status': 'academic'}\n"
     ]
    }
   ],
   "source": [
    "mydict={'firstname':\"Mike\",'employed':True,'height':1.8 }\n",
    "print(mydict)\n",
    "# element=mydict[\"employed\"]\n",
    "# print(element)\n",
    "# mydict['status']=\"academic\"\n",
    "# print(mydict)\n",
    "# del mydict[\"height\"]\n",
    "# print(mydict)"
   ]
  },
  {
   "cell_type": "markdown",
   "metadata": {},
   "source": [
    "## Defining Functions"
   ]
  },
  {
   "cell_type": "code",
   "execution_count": 27,
   "metadata": {
    "tags": []
   },
   "outputs": [],
   "source": [
    "def plus(a, b):\n",
    "    return a + b"
   ]
  },
  {
   "cell_type": "code",
   "execution_count": 28,
   "metadata": {
    "collapsed": false,
    "jupyter": {
     "outputs_hidden": false
    }
   },
   "outputs": [
    {
     "data": {
      "text/plain": [
       "7"
      ]
     },
     "execution_count": 28,
     "metadata": {},
     "output_type": "execute_result"
    }
   ],
   "source": [
    "plus(3, 4)"
   ]
  },
  {
   "cell_type": "markdown",
   "metadata": {
    "tags": []
   },
   "source": [
    "## Conditional statements\n",
    "<p>The basic structure of a conditional statement is:\n",
    "  <ul>if &lt;boolean expression>:\n",
    "    <ul>&lt;statements to be executed only if expression is true></ul>\n",
    "  </ul>\n",
    "<p>Note the use of the colon ':' symbol to indicate the start of a controlled block. "
   ]
  },
  {
   "cell_type": "code",
   "execution_count": 52,
   "metadata": {},
   "outputs": [
    {
     "name": "stdin",
     "output_type": "stream",
     "text": [
      "Type a number:  100\n"
     ]
    },
    {
     "name": "stdout",
     "output_type": "stream",
     "text": [
      "value is OK\n",
      "value= 100\n"
     ]
    }
   ],
   "source": [
    "val=int(input(\"Type a number: \"))\n",
    "if val > 100:\n",
    "    print(\"warning: value is too big\")\n",
    "    val=100\n",
    "elif val < 0:\n",
    "    print(\"warning: value is too small\")\n",
    "    val=0\n",
    "else:\n",
    "    print(\"value is OK\")\n",
    "print(\"value=\",val)"
   ]
  },
  {
   "cell_type": "markdown",
   "metadata": {},
   "source": [
    "## Scope of variables"
   ]
  },
  {
   "cell_type": "code",
   "execution_count": 32,
   "metadata": {
    "collapsed": false,
    "jupyter": {
     "outputs_hidden": false
    }
   },
   "outputs": [],
   "source": [
    "y = 0\n",
    "for x in range(10):\n",
    "    y = x"
   ]
  },
  {
   "cell_type": "code",
   "execution_count": 33,
   "metadata": {
    "collapsed": false,
    "jupyter": {
     "outputs_hidden": false
    }
   },
   "outputs": [
    {
     "data": {
      "text/plain": [
       "9"
      ]
     },
     "execution_count": 33,
     "metadata": {},
     "output_type": "execute_result"
    }
   ],
   "source": [
    "x"
   ]
  },
  {
   "cell_type": "code",
   "execution_count": 34,
   "metadata": {
    "collapsed": false,
    "jupyter": {
     "outputs_hidden": false
    }
   },
   "outputs": [
    {
     "data": {
      "text/plain": [
       "[10, 11, 12, 13, 14, 15, 16, 17, 18, 19]"
      ]
     },
     "execution_count": 34,
     "metadata": {},
     "output_type": "execute_result"
    }
   ],
   "source": [
    "[x for x in range(10, 20)]"
   ]
  },
  {
   "cell_type": "code",
   "execution_count": 36,
   "metadata": {},
   "outputs": [
    {
     "data": {
      "text/plain": [
       "9"
      ]
     },
     "execution_count": 36,
     "metadata": {},
     "output_type": "execute_result"
    }
   ],
   "source": [
    "y"
   ]
  },
  {
   "cell_type": "code",
   "execution_count": 35,
   "metadata": {
    "collapsed": false,
    "jupyter": {
     "outputs_hidden": false
    }
   },
   "outputs": [
    {
     "data": {
      "text/plain": [
       "9"
      ]
     },
     "execution_count": 35,
     "metadata": {},
     "output_type": "execute_result"
    }
   ],
   "source": [
    "x"
   ]
  },
  {
   "cell_type": "markdown",
   "metadata": {},
   "source": [
    "Python follows the LEGB Rule (after https://www.amazon.com/dp/0596513984/):\n",
    "\n",
    "* L, Local: Names assigned in any way within a function (def or lambda)), and not declared global in that function.\n",
    "* E, Enclosing function locals: Name in the local scope of any and all enclosing functions (def or lambda), from inner to outer.\n",
    "* G, Global (module): Names assigned at the top-level of a module file, or declared global in a def within the file.\n",
    "* B, Built-in (Python): Names preassigned in the built-in names module : open, range, SyntaxError,..."
   ]
  },
  {
   "cell_type": "code",
   "execution_count": 8,
   "metadata": {
    "collapsed": false,
    "jupyter": {
     "outputs_hidden": false
    }
   },
   "outputs": [],
   "source": [
    "x = 3\n",
    "def foo():\n",
    "    x=4\n",
    "    def bar():\n",
    "        print(x)  # Accesses x from foo's scope\n",
    "    bar()  # Prints 4\n",
    "    x=5\n",
    "    bar()  # Prints 5"
   ]
  },
  {
   "cell_type": "code",
   "execution_count": 9,
   "metadata": {
    "collapsed": false,
    "jupyter": {
     "outputs_hidden": false
    }
   },
   "outputs": [
    {
     "name": "stdout",
     "output_type": "stream",
     "text": [
      "4\n",
      "5\n"
     ]
    }
   ],
   "source": [
    "foo()"
   ]
  },
  {
   "cell_type": "markdown",
   "metadata": {},
   "source": [
    "See [scope_resolution_legb_rule.ipynb](scope_resolution_legb_rule.ipynb) for some additional readings on scope."
   ]
  },
  {
   "cell_type": "markdown",
   "metadata": {},
   "source": [
    "## Generators"
   ]
  },
  {
   "cell_type": "code",
   "execution_count": 42,
   "metadata": {
    "tags": []
   },
   "outputs": [],
   "source": [
    "def function():\n",
    "    for i in range(10):\n",
    "        yield i"
   ]
  },
  {
   "cell_type": "code",
   "execution_count": 43,
   "metadata": {
    "collapsed": false,
    "jupyter": {
     "outputs_hidden": false
    }
   },
   "outputs": [
    {
     "data": {
      "text/plain": [
       "<generator object function at 0x000001E655DFA138>"
      ]
     },
     "execution_count": 43,
     "metadata": {},
     "output_type": "execute_result"
    }
   ],
   "source": [
    "function()"
   ]
  },
  {
   "cell_type": "code",
   "execution_count": 44,
   "metadata": {
    "collapsed": false,
    "jupyter": {
     "outputs_hidden": false
    }
   },
   "outputs": [
    {
     "name": "stdout",
     "output_type": "stream",
     "text": [
      "0\n",
      "1\n",
      "2\n",
      "3\n",
      "4\n",
      "5\n",
      "6\n",
      "7\n",
      "8\n",
      "9\n"
     ]
    }
   ],
   "source": [
    "for y in function():\n",
    "    print(y)"
   ]
  },
  {
   "cell_type": "markdown",
   "metadata": {},
   "source": [
    "## Built-in functions\n",
    "Python has a large number of built-in functions. Here are the most commonly used:\n",
    "<p><table>\n",
    "  <tr><th>Function</th><th>Example</th><th>Description</th></tr>\n",
    "  <tr><td><tt>abs</tt></td><td><tt>y=abs(x)</tt></td><td>Absolute value</td></tr>\n",
    "  <tr><td><tt>chr</tt></td><td><tt>ch=chr(x)</tt></td><td>Character with specified code</td></tr>\n",
    "  <tr><td><tt>float</tt></td><td><tt>x=float(str)</tt></td><td>Convert string to floating point number</td></tr>\n",
    "  <tr><td><tt>input</tt></td><td><tt>y=input('Type your name: ')</tt></td><td>Input string value from user</td></tr>\n",
    "  <tr><td><tt>int</tt></td><td><tt>n=int(str)</tt></td><td>Convert string to integer number</td></tr>\n",
    "  <tr><td><tt>len</tt></td><td><tt>n=len(mylist)</tt></td><td>Number of items in list or characters in string</td></tr>\n",
    "  <tr><td><tt>max</tt></td><td><tt>x=max(mylist)</tt></td><td>Largest value in list</td></tr>\n",
    "  <tr><td><tt>min</tt></td><td><tt>x=min(mylist)</tt></td><td>Smallest value in list</td></tr>\n",
    "  <tr><td><tt>ord</tt></td><td><tt>n=ord(ch)</tt></td><td>Character code from string</td></tr>\n",
    "  <tr><td><tt>print</tt></td><td><tt>print(x,y,str)</tt></td><td>Convert values to string form and print</td></tr>\n",
    "  <tr><td><tt>range</tt></td><td><tt>r=range(1,10,2)</tt></td><td>Generate number sequence</td></tr>\n",
    "  <tr><td><tt>str</tt></td><td><tt>str=str(x)</tt></td><td>String representation of value</td></tr>\n",
    "  <tr><td><tt>type</tt></td><td><tt>print(type(x))</tt></td><td>String representation of the type of an expression</td></tr>\n",
    "</table>\n",
    "\n",
    "Here is a [full list of the built-in functions](https://docs.python.org/3/library/functions.html).\n"
   ]
  },
  {
   "cell_type": "markdown",
   "metadata": {},
   "source": [
    "## Default arguments"
   ]
  },
  {
   "cell_type": "code",
   "execution_count": 45,
   "metadata": {
    "tags": []
   },
   "outputs": [],
   "source": [
    "def do_something(a, b, c):\n",
    "    return (a, b, c)"
   ]
  },
  {
   "cell_type": "code",
   "execution_count": 46,
   "metadata": {
    "collapsed": false,
    "jupyter": {
     "outputs_hidden": false
    }
   },
   "outputs": [
    {
     "data": {
      "text/plain": [
       "(1, 2, 3)"
      ]
     },
     "execution_count": 46,
     "metadata": {},
     "output_type": "execute_result"
    }
   ],
   "source": [
    "do_something(1, 2, 3)"
   ]
  },
  {
   "cell_type": "code",
   "execution_count": 47,
   "metadata": {
    "tags": []
   },
   "outputs": [],
   "source": [
    "def do_something_else(a=1, b=2, c=3):\n",
    "    return (a, b, c)"
   ]
  },
  {
   "cell_type": "code",
   "execution_count": 48,
   "metadata": {
    "collapsed": false,
    "jupyter": {
     "outputs_hidden": false
    }
   },
   "outputs": [
    {
     "data": {
      "text/plain": [
       "(1, 2, 3)"
      ]
     },
     "execution_count": 48,
     "metadata": {},
     "output_type": "execute_result"
    }
   ],
   "source": [
    "do_something_else()"
   ]
  },
  {
   "cell_type": "code",
   "execution_count": 49,
   "metadata": {
    "tags": []
   },
   "outputs": [],
   "source": [
    "def some_function(start=[]):\n",
    "    start.append(1)\n",
    "    return start"
   ]
  },
  {
   "cell_type": "code",
   "execution_count": 50,
   "metadata": {
    "tags": []
   },
   "outputs": [],
   "source": [
    "result = some_function()"
   ]
  },
  {
   "cell_type": "code",
   "execution_count": 51,
   "metadata": {
    "collapsed": false,
    "jupyter": {
     "outputs_hidden": false
    }
   },
   "outputs": [
    {
     "data": {
      "text/plain": [
       "[1]"
      ]
     },
     "execution_count": 51,
     "metadata": {},
     "output_type": "execute_result"
    }
   ],
   "source": [
    "result"
   ]
  },
  {
   "cell_type": "code",
   "execution_count": null,
   "metadata": {
    "collapsed": true,
    "jupyter": {
     "outputs_hidden": true
    }
   },
   "outputs": [],
   "source": [
    "result.append(2)"
   ]
  },
  {
   "cell_type": "code",
   "execution_count": null,
   "metadata": {
    "collapsed": true,
    "jupyter": {
     "outputs_hidden": true
    }
   },
   "outputs": [],
   "source": [
    "other_result = some_function()"
   ]
  },
  {
   "cell_type": "code",
   "execution_count": null,
   "metadata": {
    "collapsed": false,
    "jupyter": {
     "outputs_hidden": false
    }
   },
   "outputs": [],
   "source": [
    "other_result"
   ]
  },
  {
   "cell_type": "markdown",
   "metadata": {},
   "source": [
    "## List comprehension"
   ]
  },
  {
   "cell_type": "markdown",
   "metadata": {},
   "source": [
    "\"List comprehension\" is the idea of writing some code inside of a list that will generate a list.\n",
    "\n",
    "Consider the following:"
   ]
  },
  {
   "cell_type": "code",
   "execution_count": null,
   "metadata": {
    "collapsed": false,
    "jupyter": {
     "outputs_hidden": false
    }
   },
   "outputs": [],
   "source": [
    "[x ** 2 for x in range(10)]"
   ]
  },
  {
   "cell_type": "code",
   "execution_count": null,
   "metadata": {
    "collapsed": false,
    "jupyter": {
     "outputs_hidden": false
    }
   },
   "outputs": [],
   "source": [
    "temp_list = []\n",
    "for x in range(10):\n",
    "    temp_list.append(x ** 2)\n",
    "temp_list"
   ]
  },
  {
   "cell_type": "markdown",
   "metadata": {},
   "source": [
    "But list comprehension is much more concise."
   ]
  },
  {
   "cell_type": "markdown",
   "metadata": {},
   "source": [
    "## Closures"
   ]
  },
  {
   "cell_type": "markdown",
   "metadata": {},
   "source": [
    "Are functions that capture some of the local bindings to variables."
   ]
  },
  {
   "cell_type": "code",
   "execution_count": null,
   "metadata": {
    "collapsed": true,
    "jupyter": {
     "outputs_hidden": true
    }
   },
   "outputs": [],
   "source": [
    "def return_a_closure():\n",
    "    dict = {}\n",
    "    def hidden(operator, value, other=None):\n",
    "        if operator == \"add\":\n",
    "            dict[value] = other\n",
    "        else:\n",
    "            return dict[value]\n",
    "    return hidden"
   ]
  },
  {
   "cell_type": "code",
   "execution_count": null,
   "metadata": {
    "collapsed": true,
    "jupyter": {
     "outputs_hidden": true
    }
   },
   "outputs": [],
   "source": [
    "thing = return_a_closure()"
   ]
  },
  {
   "cell_type": "code",
   "execution_count": null,
   "metadata": {
    "collapsed": true,
    "jupyter": {
     "outputs_hidden": true
    }
   },
   "outputs": [],
   "source": [
    "thing(\"add\", \"apple\", 42)"
   ]
  },
  {
   "cell_type": "code",
   "execution_count": null,
   "metadata": {
    "collapsed": false,
    "jupyter": {
     "outputs_hidden": false
    }
   },
   "outputs": [],
   "source": [
    "thing(\"get\", \"apple\")"
   ]
  },
  {
   "cell_type": "code",
   "execution_count": null,
   "metadata": {
    "collapsed": false,
    "jupyter": {
     "outputs_hidden": false
    }
   },
   "outputs": [],
   "source": [
    "thing.dict"
   ]
  },
  {
   "cell_type": "markdown",
   "metadata": {},
   "source": [
    "Where is dict?\n",
    "\n",
    "See http://www.programiz.com/python-programming/closure for more examples."
   ]
  },
  {
   "cell_type": "markdown",
   "metadata": {},
   "source": [
    "## Importing modules\n",
    "\n",
    "One of the great advantages of Python is the ease with which you can incorporate code written by others into your programs. These packages of code, called modules, can be readily downloaded from the internet and integrated into your programs.\n",
    "\n",
    "Python code written in Colab notebooks can exploit the most important modules without any additional installation steps.\n",
    "\n",
    "To access these modules, you need to explicitly import them at the start of your program.\n",
    "\n",
    "For example, to access the `random` module you would write\n",
    "```\n",
    "import random\n",
    "```\n",
    "Then you would be able to access functions within the random module by name, for example the function `random.randint(low,high)` returns a pseudo-random integer between low and high.\n"
   ]
  },
  {
   "cell_type": "markdown",
   "metadata": {},
   "source": [
    "When you are importing modules you can optionally assign them a short name, this saves typing:\n",
    "```\n",
    "import numpy as np\n",
    "x=np.zeros((2,2))\n",
    "print(x)\n",
    "```\n",
    "\n",
    "You can choose to import only specifically named functions from within a module. This can prevent name clashes between your own functions and the functions in the module. For example:\n",
    "```\n",
    "from random import randint\n",
    "print(randint(1,6))\n",
    "```"
   ]
  },
  {
   "cell_type": "markdown",
   "metadata": {},
   "source": [
    "## Important modules\n",
    "\n",
    "### Python standard library\n",
    "<p>Some of the modules found in the standard library:\n",
    "<p><table><tr><th>Module Name</th><th>Description</th></tr>\n",
    "  <tr><td>os</td><td>Access operating system</td></tr>\n",
    "  <tr><td>sys</td><td>Access computer resources</td></tr>\n",
    "  <tr><td>math</td><td>Access standard mathematical functions</td></tr>\n",
    "  <tr><td>random</td><td>Access pseudo-random number generator</td></tr>\n",
    "  <tr><td>datetime</td><td>Functions for manipulating dates and times</td></tr>\n",
    "  <tr><td>matplotlib</td><td>Simple plotting functions</td></tr>\n",
    "  <tr><td>geopandas</td><td>Geospatial Data Manipulation and Visualization</td></tr>\n",
    "  <tr><td>pysal</td><td>Spatial Analysis Libirary</td></tr>\n",
    "  <tr><td>numpy</td><td>Numeric computing library for Python</td></tr>\n",
    "  <tr><td>scipy</td><td>Scientific computing library for Python</td></tr>\n",
    " </table>\n",
    "  \n",
    "  You can print a list of the functions available in a module with the `dir()` command."
   ]
  },
  {
   "cell_type": "code",
   "execution_count": 56,
   "metadata": {
    "collapsed": true,
    "jupyter": {
     "outputs_hidden": true
    },
    "tags": []
   },
   "outputs": [
    {
     "data": {
      "text/plain": [
       "['BPF',\n",
       " 'LOG4',\n",
       " 'NV_MAGICCONST',\n",
       " 'RECIP_BPF',\n",
       " 'Random',\n",
       " 'SG_MAGICCONST',\n",
       " 'SystemRandom',\n",
       " 'TWOPI',\n",
       " '_BuiltinMethodType',\n",
       " '_MethodType',\n",
       " '_Sequence',\n",
       " '_Set',\n",
       " '__all__',\n",
       " '__builtins__',\n",
       " '__cached__',\n",
       " '__doc__',\n",
       " '__file__',\n",
       " '__loader__',\n",
       " '__name__',\n",
       " '__package__',\n",
       " '__spec__',\n",
       " '_acos',\n",
       " '_bisect',\n",
       " '_ceil',\n",
       " '_cos',\n",
       " '_e',\n",
       " '_exp',\n",
       " '_inst',\n",
       " '_itertools',\n",
       " '_log',\n",
       " '_os',\n",
       " '_pi',\n",
       " '_random',\n",
       " '_sha512',\n",
       " '_sin',\n",
       " '_sqrt',\n",
       " '_test',\n",
       " '_test_generator',\n",
       " '_urandom',\n",
       " '_warn',\n",
       " 'betavariate',\n",
       " 'choice',\n",
       " 'choices',\n",
       " 'expovariate',\n",
       " 'gammavariate',\n",
       " 'gauss',\n",
       " 'getrandbits',\n",
       " 'getstate',\n",
       " 'lognormvariate',\n",
       " 'normalvariate',\n",
       " 'paretovariate',\n",
       " 'randint',\n",
       " 'random',\n",
       " 'randrange',\n",
       " 'sample',\n",
       " 'seed',\n",
       " 'setstate',\n",
       " 'shuffle',\n",
       " 'triangular',\n",
       " 'uniform',\n",
       " 'vonmisesvariate',\n",
       " 'weibullvariate']"
      ]
     },
     "execution_count": 56,
     "metadata": {},
     "output_type": "execute_result"
    }
   ],
   "source": [
    "import random\n",
    "dir(random)"
   ]
  },
  {
   "cell_type": "markdown",
   "metadata": {
    "tags": []
   },
   "source": [
    "# Basic Intro to Object-oriented (OO) programming "
   ]
  },
  {
   "cell_type": "code",
   "execution_count": 2,
   "metadata": {},
   "outputs": [
    {
     "name": "stdout",
     "output_type": "stream",
     "text": [
      "Initiating a person object\n",
      "Initiating a person object\n",
      "Initiating a person object\n",
      "TT\n",
      "SW\n",
      "CC\n",
      "Initiating a person object\n",
      "Initiating a person object\n",
      "Department 1\n",
      "Department 1\n"
     ]
    }
   ],
   "source": [
    "class Person():\n",
    "    def __init__(self):\n",
    "        print(\"Initiating a person object\")\n",
    "    \n",
    "A = Person()\n",
    "A.hobby=\"TT\"\n",
    "B = Person()\n",
    "B.hobby=\"SW\"\n",
    "C = Person()\n",
    "C.hobby=\"CC\"\n",
    "\n",
    "print(A.hobby)\n",
    "print(B.hobby)\n",
    "print(C.hobby)\n",
    "\n",
    "class Employee(Person):\n",
    "   def __init__(self, department):\n",
    "       super().__init__()\n",
    "       self.department = department\n",
    "\n",
    "e1 = Employee(\"Department 1\")\n",
    "e2 = Employee(\"Department 1\")\n",
    "print(e1.department)\n",
    "print(e2.department)"
   ]
  },
  {
   "cell_type": "markdown",
   "metadata": {},
   "source": [
    "__init__ is a double under (so called \"dunder\") method. \n",
    "\n",
    "1. Basic Customizations\n",
    "* \\_\\_new__(self) return a new object (an instance of that class). It is called before __init__ method.  \n",
    "* \\_\\_init__(self) is called when the object is initialized. It is the constructor of a class.  \n",
    "* \\_\\_del__(self) for del() function. Called when the object is to be destroyed. Can be used to commit unsaved data or close connections.  \n",
    "* \\_\\_repr__(self) for repr() function. It returns a string to print the object. Intended for developers to debug. Must be implemented in any class.  \n",
    "* \\_\\_str__(self) for str() function. Return a string to print the object. Intended for users to see a pretty and useful output. If not implemented, __repr__ will be used as a fallback.  \n",
    "* \\_\\_bytes__(self) for bytes() function. Return a byte object which is the byte string representation of the object.  \n",
    "* \\_\\_format__(self) for format() function. Evaluate formatted string literals like % for percentage format and ‘b’ for binary.  \n",
    "* \\_\\_lt__(self, anotherObj) for < operator.  \n",
    "* \\_\\_le__(self, anotherObj) for <= operator.  \n",
    "* \\_\\_eq__(self, anotherObj) for == operator.  \n",
    "* \\_\\_ne__(self, anotherObj) for != operator.  \n",
    "* \\_\\_gt__(self, anotherObj)for > operator.  \n",
    "* \\_\\_ge__(self, anotherObj)for >= operator.  \n",
    "2. Arithmetic Operators\n",
    "* \\_\\_add__(self, anotherObj) for + operator.\n",
    "* \\_\\_sub__(self, anotherObj) for – operation on object.\n",
    "* \\_\\_mul__(self, anotherObj) for * operation on object.\n",
    "* \\_\\_matmul__(self, anotherObj) for @ operator (numpy matrix multiplication).\n",
    "* \\_\\_truediv__(self, anotherObj) for simple / division operation on object.\n",
    "* \\_\\_floordiv__(self, anotherObj) for // floor division operation on object.\n",
    "3. Type Conversion\n",
    "* \\_\\_abs__(self) make support for abs() function. Return absolute value.\n",
    "* \\_\\_int__(self) support for int() function. Returns the integer value of the object.\n",
    "* \\_\\_float__(self) for float() function support. Returns float equivalent of the object.\n",
    "* \\_\\_complex__(self) for complex() function support. Return complex value representation of the object.\n",
    "* \\_\\_round__(self, nDigits) for round() function. Round off float type to 2 digits and return it.\n",
    "* \\_\\_trunc__(self) for trunc() function of math module. Returns the real value of the object.\n",
    "* \\_\\_ceil__(self) for ceil() function of math module. The ceil function Return ceiling value of the object.\n",
    "* \\_\\_floor__(self) for floor() function of math module. Return floor value of the object.\n",
    "4. Emulating Container Types\n",
    "* __len__(self) for len() function. Returns the total number in any container.\n",
    "* __getitem__(self, key) to support indexing. LIke container[index] calls container.__getitem(key)explicitly.\n",
    "* __setitem__(self, key, value) makes item mutable (items can be changed by index), like container[index] = otherElement.\n",
    "* __delitem__(self, key) for del() function. Delete the value at the index key.\n",
    "* __iter__(self) returns an iterator when required that iterates all values in the container.\n",
    "\n",
    "They give the ability to create classes that behave like native data structures like lists, tuples, dictionary, set etc.\n",
    "The special methods provide a common API that allows developers to create interactive classes which are very useful."
   ]
  },
  {
   "cell_type": "code",
   "execution_count": 7,
   "metadata": {},
   "outputs": [
    {
     "name": "stdout",
     "output_type": "stream",
     "text": [
      "<__main__.String object at 0x0000019399740710>\n"
     ]
    }
   ],
   "source": [
    "# declare our own string class\n",
    "class String:\n",
    "\n",
    "    # magic method to initiate object\n",
    "    def __init__(self, string):\n",
    "        self.string = string\n",
    "\n",
    "    # print our string object\n",
    "    # def __repr__(self):\n",
    "    #     return 'Object: {}'.format(self.string)\n",
    "    \n",
    "    # def __add__(self, other):\n",
    "    #     return self.string + other\n",
    "\n",
    "# object creation\n",
    "string1 = String('Hello')\n",
    "\n",
    "# print object location\n",
    "print(string1)\n",
    "\n",
    "# concatenate String object and a string\n",
    "# print(string1 + ' world')\n"
   ]
  },
  {
   "cell_type": "markdown",
   "metadata": {},
   "source": [
    "# References\n",
    "\n",
    "[Introduction to Python](https://jupyter.brynmawr.edu/services/public/dblank/CS245%20Programming%20Languages/2016-Fall/Labs/Chapter%2002%20-%20Introduction%20to%20Python.ipynb)\n",
    "\n",
    "[how to use Juypter notebook](https://athena.brynmawr.edu/jupyter/hub/dblank/public/Jupyter%20Notebook%20Users%20Manual.ipynb)\n",
    "\n",
    "[Tutorial Introduction to Python](https://www.phon.ucl.ac.uk/courses/pals0039/)"
   ]
  },
  {
   "cell_type": "markdown",
   "metadata": {},
   "source": []
  },
  {
   "cell_type": "code",
   "execution_count": null,
   "metadata": {},
   "outputs": [],
   "source": []
  }
 ],
 "metadata": {
  "kernelspec": {
   "display_name": "Python 3",
   "language": "python",
   "name": "python3"
  },
  "language_info": {
   "codemirror_mode": {
    "name": "ipython",
    "version": 3
   },
   "file_extension": ".py",
   "mimetype": "text/x-python",
   "name": "python",
   "nbconvert_exporter": "python",
   "pygments_lexer": "ipython3",
   "version": "3.7.0"
  }
 },
 "nbformat": 4,
 "nbformat_minor": 4
}
