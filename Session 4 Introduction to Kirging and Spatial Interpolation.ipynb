{
 "cells": [
  {
   "cell_type": "code",
   "execution_count": 1,
   "id": "c48357d0-49ed-48ba-8033-6415edd6edd4",
   "metadata": {
    "tags": []
   },
   "outputs": [],
   "source": [
    "import warnings\n",
    "warnings.filterwarnings(\"ignore\", category=DeprecationWarning)"
   ]
  },
  {
   "cell_type": "markdown",
   "id": "a282ef2f-c908-4e2c-8ff5-5afafeaa8c53",
   "metadata": {
    "tags": []
   },
   "source": [
    "# Session 4 - Introduction to Spatial Interpolation<img src=\"./Resources/sla.png\" width=\"100\" align =\"right\"/>"
   ]
  },
  {
   "cell_type": "markdown",
   "id": "c9c932e0-6ea6-4a0a-9f8e-ebbd9064ff8b",
   "metadata": {},
   "source": [
    "Spatial interpolation is the procedure of estimating the value of properties at unsampled sites within the area covered by existing observations.\n",
    "\n",
    "In statistics, originally in geostatistics, kriging or Kriging, also known as Gaussian process regression, is a method of interpolation based on Gaussian process governed by prior covariances. The basic idea of kriging is to predict the value of a function at a given point by computing a weighted average of the known values of the function in the neighborhood of the point.\n",
    "\n",
    "The theoretical basis for the method was developed by the French mathematician *Georges Matheron* in 1960, based on the Master's thesis of Danie G. Krige, the pioneering plotter of distance-weighted average gold grades at the Witwatersrand reef complex in South Africa. Krige sought to estimate the most likely distribution of gold based on samples from a few boreholes. The English verb is to krige and the most common noun is kriging; both are often pronounced with a hard \"g\", following an Anglicized pronunciation of the name \"Krige\". The word is sometimes capitalized as Kriging in the literature."
   ]
  },
  {
   "cell_type": "code",
   "execution_count": 2,
   "id": "80b9e23e-6236-44c3-9800-e31ce6a14c79",
   "metadata": {
    "tags": []
   },
   "outputs": [],
   "source": [
    "import sys\n",
    "import os\n",
    "\n",
    "sys.path.append(r'C:\\Program Files\\QGIS 3.20.0\\apps\\qgis\\python') #this is important for loading qgis library\n",
    "sys.path.append(r'C:\\Program Files\\QGIS 3.20.0\\apps\\qgis\\python\\plugins') #this is important for loading processing library"
   ]
  },
  {
   "cell_type": "code",
   "execution_count": 3,
   "id": "c45e0bf9-f77d-40a3-92fd-b8a2942958ed",
   "metadata": {
    "tags": []
   },
   "outputs": [],
   "source": [
    "import qgis\n",
    "from qgis.gui import *\n",
    "from qgis.core import *\n",
    "from qgis.utils import plugins\n",
    "from PyQt5.QtCore import *\n",
    "from qgis.analysis import QgsNativeAlgorithms"
   ]
  },
  {
   "cell_type": "code",
   "execution_count": 101,
   "id": "b6f62a84-eff8-4184-898c-94669b2456d7",
   "metadata": {},
   "outputs": [],
   "source": [
    "import pandas as pd\n",
    "import numpy as np\n",
    "import pykrige.kriging_tools as kt\n",
    "from pykrige.ok import OrdinaryKriging\n",
    "from pykrige.uk import UniversalKriging\n",
    "import matplotlib.pyplot as plt\n",
    "import seaborn as sb\n",
    "import gstools as gs"
   ]
  },
  {
   "cell_type": "markdown",
   "id": "8a0623d5-1dbd-411a-adb0-762cd417e12a",
   "metadata": {},
   "source": [
    "## Download Singapore Rainfall Data"
   ]
  },
  {
   "cell_type": "code",
   "execution_count": 13,
   "id": "a74fc216-0cd5-4e83-940e-8e0c78fc2913",
   "metadata": {},
   "outputs": [],
   "source": [
    "from datetime import datetime\n",
    "import json\n",
    "from pandas import json_normalize\n",
    "import requests\n",
    "dt_string = \"2020-12-01\" \n",
    "\n",
    "format = \"%Y-%m-%d\"\n",
    "dt_object = datetime.strptime(dt_string, format)\n",
    "dt_object.date()\n",
    "datelist = pd.date_range(dt_object.date(), periods=10).tolist()\n",
    "\n",
    "# download 10 days Singapore rainfall data\n",
    "# responses = [requests.get('https://api.data.gov.sg/v1/environment/rainfall?date='+i.strftime(\"%Y-%m-%d\")) for i in datelist]\n",
    "# [print(i.status_code) for i in responses]\n",
    "\n",
    "# for i,response in enumerate(responses):\n",
    "#     with open(f'Data/Rainfall/test{i}.json', 'w') as f:\n",
    "#         json.dump(response.json(), f)"
   ]
  },
  {
   "cell_type": "code",
   "execution_count": 14,
   "id": "59a3a58e-9ee6-4eda-b60d-14e8a5e9b5ff",
   "metadata": {},
   "outputs": [],
   "source": [
    "import os\n",
    "responses_json =[]\n",
    "for filename in os.listdir('Data/Rainfall'):\n",
    "    with open(os.path.join('Data/Rainfall', filename), 'r') as f: # open in readonly mode\n",
    "        response = json.load(f)\n",
    "        responses_json.append(response)"
   ]
  },
  {
   "cell_type": "markdown",
   "id": "87e1cbf5-48bb-4b1d-8326-3aaadd8ead2d",
   "metadata": {},
   "source": [
    "## Preprocessing Rainfall Data"
   ]
  },
  {
   "cell_type": "code",
   "execution_count": 16,
   "id": "c533b161-d6e6-4c46-9e9f-637cb89de21d",
   "metadata": {},
   "outputs": [],
   "source": [
    "# df_dict=responses[0].json() # if use online download\n",
    "df_dict=responses_json[0] # if read files"
   ]
  },
  {
   "cell_type": "code",
   "execution_count": 17,
   "id": "396323b9-59bb-46c4-86f8-695beb4d3ea5",
   "metadata": {
    "collapsed": true,
    "jupyter": {
     "outputs_hidden": true
    },
    "tags": []
   },
   "outputs": [
    {
     "data": {
      "text/plain": [
       "[{'id': 'S77',\n",
       "  'device_id': 'S77',\n",
       "  'name': 'Alexandra Road',\n",
       "  'location': {'latitude': 1.2937, 'longitude': 103.8125}},\n",
       " {'id': 'S117',\n",
       "  'device_id': 'S117',\n",
       "  'name': 'Banyan Road',\n",
       "  'location': {'latitude': 1.256, 'longitude': 103.679}},\n",
       " {'id': 'S90',\n",
       "  'device_id': 'S90',\n",
       "  'name': 'Bukit Timah Road',\n",
       "  'location': {'latitude': 1.3191, 'longitude': 103.8191}},\n",
       " {'id': 'S61',\n",
       "  'device_id': 'S61',\n",
       "  'name': 'Chai Chee Street',\n",
       "  'location': {'latitude': 1.323, 'longitude': 103.9217}},\n",
       " {'id': 'S114',\n",
       "  'device_id': 'S114',\n",
       "  'name': 'Choa Chu Kang Avenue 4',\n",
       "  'location': {'latitude': 1.38, 'longitude': 103.73}},\n",
       " {'id': 'S11',\n",
       "  'device_id': 'S11',\n",
       "  'name': 'Choa Chu Kang Road',\n",
       "  'location': {'latitude': 1.3746, 'longitude': 103.6938}},\n",
       " {'id': 'S50',\n",
       "  'device_id': 'S50',\n",
       "  'name': 'Clementi Road',\n",
       "  'location': {'latitude': 1.3337, 'longitude': 103.7768}},\n",
       " {'id': 'S107',\n",
       "  'device_id': 'S107',\n",
       "  'name': 'East Coast Parkway',\n",
       "  'location': {'latitude': 1.3135, 'longitude': 103.9625}},\n",
       " {'id': 'S215',\n",
       "  'device_id': 'S215',\n",
       "  'name': 'GEYLANG EAST CENTRAL',\n",
       "  'location': {'latitude': 1.32785, 'longitude': 103.88899}},\n",
       " {'id': 'S118',\n",
       "  'device_id': 'S118',\n",
       "  'name': 'Handy Road',\n",
       "  'location': {'latitude': 1.2994, 'longitude': 103.8461}},\n",
       " {'id': 'S120',\n",
       "  'device_id': 'S120',\n",
       "  'name': 'Holland Road',\n",
       "  'location': {'latitude': 1.30874, 'longitude': 103.818}},\n",
       " {'id': 'S33',\n",
       "  'device_id': 'S33',\n",
       "  'name': 'Jurong Pier Road',\n",
       "  'location': {'latitude': 1.3081, 'longitude': 103.71}},\n",
       " {'id': 'S71',\n",
       "  'device_id': 'S71',\n",
       "  'name': 'Kent Ridge Road',\n",
       "  'location': {'latitude': 1.2923, 'longitude': 103.7815}},\n",
       " {'id': 'S43',\n",
       "  'device_id': 'S43',\n",
       "  'name': 'Kim Chuan Road',\n",
       "  'location': {'latitude': 1.3399, 'longitude': 103.8878}},\n",
       " {'id': 'S66',\n",
       "  'device_id': 'S66',\n",
       "  'name': 'Kranji Way',\n",
       "  'location': {'latitude': 1.4387, 'longitude': 103.7363}},\n",
       " {'id': 'S112',\n",
       "  'device_id': 'S112',\n",
       "  'name': 'Lim Chu Kang Road',\n",
       "  'location': {'latitude': 1.43854, 'longitude': 103.70131}},\n",
       " {'id': 'S07',\n",
       "  'device_id': 'S07',\n",
       "  'name': 'Lornie Road',\n",
       "  'location': {'latitude': 1.3415, 'longitude': 103.8334}},\n",
       " {'id': 'S40',\n",
       "  'device_id': 'S40',\n",
       "  'name': 'Mandai Lake Road',\n",
       "  'location': {'latitude': 1.4044, 'longitude': 103.78962}},\n",
       " {'id': 'S108',\n",
       "  'device_id': 'S108',\n",
       "  'name': 'Marina Gardens Drive',\n",
       "  'location': {'latitude': 1.2799, 'longitude': 103.8703}},\n",
       " {'id': 'S113',\n",
       "  'device_id': 'S113',\n",
       "  'name': 'Marine Parade Road',\n",
       "  'location': {'latitude': 1.30648, 'longitude': 103.9104}},\n",
       " {'id': 'S44',\n",
       "  'device_id': 'S44',\n",
       "  'name': 'Nanyang Avenue',\n",
       "  'location': {'latitude': 1.34583, 'longitude': 103.68166}},\n",
       " {'id': 'S119',\n",
       "  'device_id': 'S119',\n",
       "  'name': 'Nicoll Highway',\n",
       "  'location': {'latitude': 1.30105, 'longitude': 103.8666}},\n",
       " {'id': 'S121',\n",
       "  'device_id': 'S121',\n",
       "  'name': 'Old Choa Chu Kang Road',\n",
       "  'location': {'latitude': 1.37288, 'longitude': 103.72244}},\n",
       " {'id': 'S35',\n",
       "  'device_id': 'S35',\n",
       "  'name': 'Old Toh Tuck Road',\n",
       "  'location': {'latitude': 1.3329, 'longitude': 103.7556}},\n",
       " {'id': 'S94',\n",
       "  'device_id': 'S94',\n",
       "  'name': 'Pasir Ris Street 51',\n",
       "  'location': {'latitude': 1.3662, 'longitude': 103.9528}},\n",
       " {'id': 'S78',\n",
       "  'device_id': 'S78',\n",
       "  'name': 'Poole Road',\n",
       "  'location': {'latitude': 1.30703, 'longitude': 103.89067}},\n",
       " {'id': 'S81',\n",
       "  'device_id': 'S81',\n",
       "  'name': 'Punggol Central',\n",
       "  'location': {'latitude': 1.4029, 'longitude': 103.9092}},\n",
       " {'id': 'S201',\n",
       "  'device_id': 'S201',\n",
       "  'name': 'S201',\n",
       "  'location': {'latitude': 1.32311, 'longitude': 103.76714}},\n",
       " {'id': 'S202',\n",
       "  'device_id': 'S202',\n",
       "  'name': 'S202',\n",
       "  'location': {'latitude': 1.30968, 'longitude': 103.7578}},\n",
       " {'id': 'S203',\n",
       "  'device_id': 'S203',\n",
       "  'name': 'S203',\n",
       "  'location': {'latitude': 1.29164, 'longitude': 103.7702}},\n",
       " {'id': 'S204',\n",
       "  'device_id': 'S204',\n",
       "  'name': 'S204',\n",
       "  'location': {'latitude': 1.40081, 'longitude': 103.88217}},\n",
       " {'id': 'S205',\n",
       "  'device_id': 'S205',\n",
       "  'name': 'S205',\n",
       "  'location': {'latitude': 1.38829, 'longitude': 103.9116}},\n",
       " {'id': 'S207',\n",
       "  'device_id': 'S207',\n",
       "  'name': 'S207',\n",
       "  'location': {'latitude': 1.32485, 'longitude': 103.95836}},\n",
       " {'id': 'S208',\n",
       "  'device_id': 'S208',\n",
       "  'name': 'S208',\n",
       "  'location': {'latitude': 1.3136, 'longitude': 104.00317}},\n",
       " {'id': 'S209',\n",
       "  'device_id': 'S209',\n",
       "  'name': 'S209',\n",
       "  'location': {'latitude': 1.42111, 'longitude': 103.84472}},\n",
       " {'id': 'S210',\n",
       "  'device_id': 'S210',\n",
       "  'name': 'S210',\n",
       "  'location': {'latitude': 1.44003, 'longitude': 103.76904}},\n",
       " {'id': 'S211',\n",
       "  'device_id': 'S211',\n",
       "  'name': 'S211',\n",
       "  'location': {'latitude': 1.42918, 'longitude': 103.75711}},\n",
       " {'id': 'S212',\n",
       "  'device_id': 'S212',\n",
       "  'name': 'S212',\n",
       "  'location': {'latitude': 1.31835, 'longitude': 103.93574}},\n",
       " {'id': 'S213',\n",
       "  'device_id': 'S213',\n",
       "  'name': 'S213',\n",
       "  'location': {'latitude': 1.32427, 'longitude': 103.8097}},\n",
       " {'id': 'S214',\n",
       "  'device_id': 'S214',\n",
       "  'name': 'S214',\n",
       "  'location': {'latitude': 1.29911, 'longitude': 103.88289}},\n",
       " {'id': 'S216',\n",
       "  'device_id': 'S216',\n",
       "  'name': 'S216',\n",
       "  'location': {'latitude': 1.36019, 'longitude': 103.85335}},\n",
       " {'id': 'S217',\n",
       "  'device_id': 'S217',\n",
       "  'name': 'S217',\n",
       "  'location': {'latitude': 1.35041, 'longitude': 103.85526}},\n",
       " {'id': 'S218',\n",
       "  'device_id': 'S218',\n",
       "  'name': 'S218',\n",
       "  'location': {'latitude': 1.36491, 'longitude': 103.75065}},\n",
       " {'id': 'S219',\n",
       "  'device_id': 'S219',\n",
       "  'name': 'S219',\n",
       "  'location': {'latitude': 1.37999, 'longitude': 103.87643}},\n",
       " {'id': 'S220',\n",
       "  'device_id': 'S220',\n",
       "  'name': 'S220',\n",
       "  'location': {'latitude': 1.38666, 'longitude': 103.89797}},\n",
       " {'id': 'S221',\n",
       "  'device_id': 'S221',\n",
       "  'name': 'S221',\n",
       "  'location': {'latitude': 1.35691, 'longitude': 103.89088}},\n",
       " {'id': 'S222',\n",
       "  'device_id': 'S222',\n",
       "  'name': 'S222',\n",
       "  'location': {'latitude': 1.28987, 'longitude': 103.82364}},\n",
       " {'id': 'S223',\n",
       "  'device_id': 'S223',\n",
       "  'name': 'S223',\n",
       "  'location': {'latitude': 1.29984, 'longitude': 103.80264}},\n",
       " {'id': 'S224',\n",
       "  'device_id': 'S224',\n",
       "  'name': 'S224',\n",
       "  'location': {'latitude': 1.34392, 'longitude': 103.98409}},\n",
       " {'id': 'S226',\n",
       "  'device_id': 'S226',\n",
       "  'name': 'S226',\n",
       "  'location': {'latitude': 1.27472, 'longitude': 103.80389}},\n",
       " {'id': 'S227',\n",
       "  'device_id': 'S227',\n",
       "  'name': 'S227',\n",
       "  'location': {'latitude': 1.43944, 'longitude': 103.80389}},\n",
       " {'id': 'S228',\n",
       "  'device_id': 'S228',\n",
       "  'name': 'S228',\n",
       "  'location': {'latitude': 1.34703, 'longitude': 103.70073}},\n",
       " {'id': 'S229',\n",
       "  'device_id': 'S229',\n",
       "  'name': 'S229',\n",
       "  'location': {'latitude': 1.35167, 'longitude': 103.72195}},\n",
       " {'id': 'S111',\n",
       "  'device_id': 'S111',\n",
       "  'name': 'Scotts Road',\n",
       "  'location': {'latitude': 1.31055, 'longitude': 103.8365}},\n",
       " {'id': 'S900',\n",
       "  'device_id': 'S900',\n",
       "  'name': 'Seletar Aerospace View',\n",
       "  'location': {'latitude': 1.41284, 'longitude': 103.86922}},\n",
       " {'id': 'S60',\n",
       "  'device_id': 'S60',\n",
       "  'name': 'Sentosa',\n",
       "  'location': {'latitude': 1.25, 'longitude': 103.8279}},\n",
       " {'id': 'S46',\n",
       "  'device_id': 'S46',\n",
       "  'name': 'Sime Road',\n",
       "  'location': {'latitude': 1.3416, 'longitude': 103.8106}},\n",
       " {'id': 'S84',\n",
       "  'device_id': 'S84',\n",
       "  'name': 'Simei Avenue',\n",
       "  'location': {'latitude': 1.3437, 'longitude': 103.9444}},\n",
       " {'id': 'S79',\n",
       "  'device_id': 'S79',\n",
       "  'name': 'Somerset Road',\n",
       "  'location': {'latitude': 1.3004, 'longitude': 103.8372}},\n",
       " {'id': 'S88',\n",
       "  'device_id': 'S88',\n",
       "  'name': 'Toa Payoh North',\n",
       "  'location': {'latitude': 1.3427, 'longitude': 103.8482}},\n",
       " {'id': 'S123',\n",
       "  'device_id': 'S123',\n",
       "  'name': 'Towner Road',\n",
       "  'location': {'latitude': 1.3214, 'longitude': 103.8577}},\n",
       " {'id': 'S89',\n",
       "  'device_id': 'S89',\n",
       "  'name': 'Tuas Road',\n",
       "  'location': {'latitude': 1.31985, 'longitude': 103.66162}},\n",
       " {'id': 'S115',\n",
       "  'device_id': 'S115',\n",
       "  'name': 'Tuas South Avenue 3',\n",
       "  'location': {'latitude': 1.29377, 'longitude': 103.61843}},\n",
       " {'id': 'S24',\n",
       "  'device_id': 'S24',\n",
       "  'name': 'Upper Changi Road North',\n",
       "  'location': {'latitude': 1.3678, 'longitude': 103.9826}},\n",
       " {'id': 'S69',\n",
       "  'device_id': 'S69',\n",
       "  'name': 'Upper Peirce Reservoir Park',\n",
       "  'location': {'latitude': 1.37, 'longitude': 103.805}},\n",
       " {'id': 'S08',\n",
       "  'device_id': 'S08',\n",
       "  'name': 'Upper Thomson Road',\n",
       "  'location': {'latitude': 1.3701, 'longitude': 103.8271}},\n",
       " {'id': 'S116',\n",
       "  'device_id': 'S116',\n",
       "  'name': 'West Coast Highway',\n",
       "  'location': {'latitude': 1.281, 'longitude': 103.754}},\n",
       " {'id': 'S104',\n",
       "  'device_id': 'S104',\n",
       "  'name': 'Woodlands Avenue 9',\n",
       "  'location': {'latitude': 1.44387, 'longitude': 103.78538}},\n",
       " {'id': 'S100',\n",
       "  'device_id': 'S100',\n",
       "  'name': 'Woodlands Road',\n",
       "  'location': {'latitude': 1.4172, 'longitude': 103.74855}},\n",
       " {'id': 'S91',\n",
       "  'device_id': 'S91',\n",
       "  'name': 'Yishun Avenue 5',\n",
       "  'location': {'latitude': 1.4301, 'longitude': 103.8308}},\n",
       " {'id': 'S230',\n",
       "  'device_id': 'S230',\n",
       "  'name': 'S230',\n",
       "  'location': {'latitude': 1.30167, 'longitude': 103.76444}},\n",
       " {'id': 'S92',\n",
       "  'device_id': 'S92',\n",
       "  'name': 'South Buona Vista Road',\n",
       "  'location': {'latitude': 1.2841, 'longitude': 103.7886}},\n",
       " {'id': 'S29',\n",
       "  'device_id': 'S29',\n",
       "  'name': 'Pasir Ris Drive 12',\n",
       "  'location': {'latitude': 1.387, 'longitude': 103.935}},\n",
       " {'id': 'S122',\n",
       "  'device_id': 'S122',\n",
       "  'name': 'Sembawang Road',\n",
       "  'location': {'latitude': 1.41731, 'longitude': 103.8249}},\n",
       " {'id': 'S109',\n",
       "  'device_id': 'S109',\n",
       "  'name': 'Ang Mo Kio Avenue 5',\n",
       "  'location': {'latitude': 1.3764, 'longitude': 103.8492}}]"
      ]
     },
     "execution_count": 17,
     "metadata": {},
     "output_type": "execute_result"
    }
   ],
   "source": [
    "df_dict['metadata']['stations']"
   ]
  },
  {
   "cell_type": "code",
   "execution_count": 18,
   "id": "2c0c151d-4148-4ee9-b8f1-9f080da53472",
   "metadata": {
    "tags": []
   },
   "outputs": [],
   "source": [
    "df_stations = pd.DataFrame(df_dict['metadata']['stations'])"
   ]
  },
  {
   "cell_type": "code",
   "execution_count": 19,
   "id": "359c9004-2009-4905-8500-849bbefe8a60",
   "metadata": {},
   "outputs": [
    {
     "data": {
      "text/html": [
       "<div>\n",
       "<style scoped>\n",
       "    .dataframe tbody tr th:only-of-type {\n",
       "        vertical-align: middle;\n",
       "    }\n",
       "\n",
       "    .dataframe tbody tr th {\n",
       "        vertical-align: top;\n",
       "    }\n",
       "\n",
       "    .dataframe thead th {\n",
       "        text-align: right;\n",
       "    }\n",
       "</style>\n",
       "<table border=\"1\" class=\"dataframe\">\n",
       "  <thead>\n",
       "    <tr style=\"text-align: right;\">\n",
       "      <th></th>\n",
       "      <th>id</th>\n",
       "      <th>device_id</th>\n",
       "      <th>name</th>\n",
       "      <th>location</th>\n",
       "    </tr>\n",
       "  </thead>\n",
       "  <tbody>\n",
       "    <tr>\n",
       "      <th>0</th>\n",
       "      <td>S77</td>\n",
       "      <td>S77</td>\n",
       "      <td>Alexandra Road</td>\n",
       "      <td>{'latitude': 1.2937, 'longitude': 103.8125}</td>\n",
       "    </tr>\n",
       "    <tr>\n",
       "      <th>1</th>\n",
       "      <td>S117</td>\n",
       "      <td>S117</td>\n",
       "      <td>Banyan Road</td>\n",
       "      <td>{'latitude': 1.256, 'longitude': 103.679}</td>\n",
       "    </tr>\n",
       "    <tr>\n",
       "      <th>2</th>\n",
       "      <td>S90</td>\n",
       "      <td>S90</td>\n",
       "      <td>Bukit Timah Road</td>\n",
       "      <td>{'latitude': 1.3191, 'longitude': 103.8191}</td>\n",
       "    </tr>\n",
       "    <tr>\n",
       "      <th>3</th>\n",
       "      <td>S61</td>\n",
       "      <td>S61</td>\n",
       "      <td>Chai Chee Street</td>\n",
       "      <td>{'latitude': 1.323, 'longitude': 103.9217}</td>\n",
       "    </tr>\n",
       "    <tr>\n",
       "      <th>4</th>\n",
       "      <td>S114</td>\n",
       "      <td>S114</td>\n",
       "      <td>Choa Chu Kang Avenue 4</td>\n",
       "      <td>{'latitude': 1.38, 'longitude': 103.73}</td>\n",
       "    </tr>\n",
       "    <tr>\n",
       "      <th>...</th>\n",
       "      <td>...</td>\n",
       "      <td>...</td>\n",
       "      <td>...</td>\n",
       "      <td>...</td>\n",
       "    </tr>\n",
       "    <tr>\n",
       "      <th>70</th>\n",
       "      <td>S230</td>\n",
       "      <td>S230</td>\n",
       "      <td>S230</td>\n",
       "      <td>{'latitude': 1.30167, 'longitude': 103.76444}</td>\n",
       "    </tr>\n",
       "    <tr>\n",
       "      <th>71</th>\n",
       "      <td>S92</td>\n",
       "      <td>S92</td>\n",
       "      <td>South Buona Vista Road</td>\n",
       "      <td>{'latitude': 1.2841, 'longitude': 103.7886}</td>\n",
       "    </tr>\n",
       "    <tr>\n",
       "      <th>72</th>\n",
       "      <td>S29</td>\n",
       "      <td>S29</td>\n",
       "      <td>Pasir Ris Drive 12</td>\n",
       "      <td>{'latitude': 1.387, 'longitude': 103.935}</td>\n",
       "    </tr>\n",
       "    <tr>\n",
       "      <th>73</th>\n",
       "      <td>S122</td>\n",
       "      <td>S122</td>\n",
       "      <td>Sembawang Road</td>\n",
       "      <td>{'latitude': 1.41731, 'longitude': 103.8249}</td>\n",
       "    </tr>\n",
       "    <tr>\n",
       "      <th>74</th>\n",
       "      <td>S109</td>\n",
       "      <td>S109</td>\n",
       "      <td>Ang Mo Kio Avenue 5</td>\n",
       "      <td>{'latitude': 1.3764, 'longitude': 103.8492}</td>\n",
       "    </tr>\n",
       "  </tbody>\n",
       "</table>\n",
       "<p>75 rows × 4 columns</p>\n",
       "</div>"
      ],
      "text/plain": [
       "      id device_id                    name  \\\n",
       "0    S77       S77          Alexandra Road   \n",
       "1   S117      S117             Banyan Road   \n",
       "2    S90       S90        Bukit Timah Road   \n",
       "3    S61       S61        Chai Chee Street   \n",
       "4   S114      S114  Choa Chu Kang Avenue 4   \n",
       "..   ...       ...                     ...   \n",
       "70  S230      S230                    S230   \n",
       "71   S92       S92  South Buona Vista Road   \n",
       "72   S29       S29      Pasir Ris Drive 12   \n",
       "73  S122      S122          Sembawang Road   \n",
       "74  S109      S109     Ang Mo Kio Avenue 5   \n",
       "\n",
       "                                         location  \n",
       "0     {'latitude': 1.2937, 'longitude': 103.8125}  \n",
       "1       {'latitude': 1.256, 'longitude': 103.679}  \n",
       "2     {'latitude': 1.3191, 'longitude': 103.8191}  \n",
       "3      {'latitude': 1.323, 'longitude': 103.9217}  \n",
       "4         {'latitude': 1.38, 'longitude': 103.73}  \n",
       "..                                            ...  \n",
       "70  {'latitude': 1.30167, 'longitude': 103.76444}  \n",
       "71    {'latitude': 1.2841, 'longitude': 103.7886}  \n",
       "72      {'latitude': 1.387, 'longitude': 103.935}  \n",
       "73   {'latitude': 1.41731, 'longitude': 103.8249}  \n",
       "74    {'latitude': 1.3764, 'longitude': 103.8492}  \n",
       "\n",
       "[75 rows x 4 columns]"
      ]
     },
     "execution_count": 19,
     "metadata": {},
     "output_type": "execute_result"
    }
   ],
   "source": [
    "df_stations"
   ]
  },
  {
   "cell_type": "code",
   "execution_count": 20,
   "id": "5e1299d4-78ea-49c5-b873-cfaf027d3aec",
   "metadata": {},
   "outputs": [
    {
     "data": {
      "text/html": [
       "<div>\n",
       "<style scoped>\n",
       "    .dataframe tbody tr th:only-of-type {\n",
       "        vertical-align: middle;\n",
       "    }\n",
       "\n",
       "    .dataframe tbody tr th {\n",
       "        vertical-align: top;\n",
       "    }\n",
       "\n",
       "    .dataframe thead th {\n",
       "        text-align: right;\n",
       "    }\n",
       "</style>\n",
       "<table border=\"1\" class=\"dataframe\">\n",
       "  <thead>\n",
       "    <tr style=\"text-align: right;\">\n",
       "      <th></th>\n",
       "      <th>id</th>\n",
       "      <th>device_id</th>\n",
       "      <th>name</th>\n",
       "      <th>latitude</th>\n",
       "      <th>longitude</th>\n",
       "    </tr>\n",
       "  </thead>\n",
       "  <tbody>\n",
       "    <tr>\n",
       "      <th>0</th>\n",
       "      <td>S77</td>\n",
       "      <td>S77</td>\n",
       "      <td>Alexandra Road</td>\n",
       "      <td>1.29370</td>\n",
       "      <td>103.81250</td>\n",
       "    </tr>\n",
       "    <tr>\n",
       "      <th>1</th>\n",
       "      <td>S117</td>\n",
       "      <td>S117</td>\n",
       "      <td>Banyan Road</td>\n",
       "      <td>1.25600</td>\n",
       "      <td>103.67900</td>\n",
       "    </tr>\n",
       "    <tr>\n",
       "      <th>2</th>\n",
       "      <td>S90</td>\n",
       "      <td>S90</td>\n",
       "      <td>Bukit Timah Road</td>\n",
       "      <td>1.31910</td>\n",
       "      <td>103.81910</td>\n",
       "    </tr>\n",
       "    <tr>\n",
       "      <th>3</th>\n",
       "      <td>S61</td>\n",
       "      <td>S61</td>\n",
       "      <td>Chai Chee Street</td>\n",
       "      <td>1.32300</td>\n",
       "      <td>103.92170</td>\n",
       "    </tr>\n",
       "    <tr>\n",
       "      <th>4</th>\n",
       "      <td>S114</td>\n",
       "      <td>S114</td>\n",
       "      <td>Choa Chu Kang Avenue 4</td>\n",
       "      <td>1.38000</td>\n",
       "      <td>103.73000</td>\n",
       "    </tr>\n",
       "    <tr>\n",
       "      <th>...</th>\n",
       "      <td>...</td>\n",
       "      <td>...</td>\n",
       "      <td>...</td>\n",
       "      <td>...</td>\n",
       "      <td>...</td>\n",
       "    </tr>\n",
       "    <tr>\n",
       "      <th>70</th>\n",
       "      <td>S230</td>\n",
       "      <td>S230</td>\n",
       "      <td>S230</td>\n",
       "      <td>1.30167</td>\n",
       "      <td>103.76444</td>\n",
       "    </tr>\n",
       "    <tr>\n",
       "      <th>71</th>\n",
       "      <td>S92</td>\n",
       "      <td>S92</td>\n",
       "      <td>South Buona Vista Road</td>\n",
       "      <td>1.28410</td>\n",
       "      <td>103.78860</td>\n",
       "    </tr>\n",
       "    <tr>\n",
       "      <th>72</th>\n",
       "      <td>S29</td>\n",
       "      <td>S29</td>\n",
       "      <td>Pasir Ris Drive 12</td>\n",
       "      <td>1.38700</td>\n",
       "      <td>103.93500</td>\n",
       "    </tr>\n",
       "    <tr>\n",
       "      <th>73</th>\n",
       "      <td>S122</td>\n",
       "      <td>S122</td>\n",
       "      <td>Sembawang Road</td>\n",
       "      <td>1.41731</td>\n",
       "      <td>103.82490</td>\n",
       "    </tr>\n",
       "    <tr>\n",
       "      <th>74</th>\n",
       "      <td>S109</td>\n",
       "      <td>S109</td>\n",
       "      <td>Ang Mo Kio Avenue 5</td>\n",
       "      <td>1.37640</td>\n",
       "      <td>103.84920</td>\n",
       "    </tr>\n",
       "  </tbody>\n",
       "</table>\n",
       "<p>75 rows × 5 columns</p>\n",
       "</div>"
      ],
      "text/plain": [
       "      id device_id                    name  latitude  longitude\n",
       "0    S77       S77          Alexandra Road   1.29370  103.81250\n",
       "1   S117      S117             Banyan Road   1.25600  103.67900\n",
       "2    S90       S90        Bukit Timah Road   1.31910  103.81910\n",
       "3    S61       S61        Chai Chee Street   1.32300  103.92170\n",
       "4   S114      S114  Choa Chu Kang Avenue 4   1.38000  103.73000\n",
       "..   ...       ...                     ...       ...        ...\n",
       "70  S230      S230                    S230   1.30167  103.76444\n",
       "71   S92       S92  South Buona Vista Road   1.28410  103.78860\n",
       "72   S29       S29      Pasir Ris Drive 12   1.38700  103.93500\n",
       "73  S122      S122          Sembawang Road   1.41731  103.82490\n",
       "74  S109      S109     Ang Mo Kio Avenue 5   1.37640  103.84920\n",
       "\n",
       "[75 rows x 5 columns]"
      ]
     },
     "execution_count": 20,
     "metadata": {},
     "output_type": "execute_result"
    }
   ],
   "source": [
    "df_st= df_stations.drop('location', axis=1).join(pd.DataFrame(df_stations.location.values.tolist()))\n",
    "df_st"
   ]
  },
  {
   "cell_type": "code",
   "execution_count": 21,
   "id": "6088fc86-8d51-4f47-ac89-f5c08137ee64",
   "metadata": {},
   "outputs": [],
   "source": [
    "# uncomment the following line if you use online requests\n",
    "# df_rainfall = [pd.DataFrame(response.json()['items']).assign(Day_ID=i+1, Time_ID = pd.DataFrame(response.json()['items']).index+1) for i,response in enumerate(responses)]\n",
    "\n",
    "# uncomment the next line if you use files in rainfall folder\n",
    "df_rainfall = [pd.DataFrame(response['items']).assign(Day_ID=i+1, Time_ID = pd.DataFrame(response['items']).index+1) for i,response in enumerate(responses_json)]"
   ]
  },
  {
   "cell_type": "code",
   "execution_count": 22,
   "id": "fe88d59b-62d0-49d2-977a-b0692f406d15",
   "metadata": {},
   "outputs": [],
   "source": [
    "df_rainfall_all =pd.concat(df_rainfall, axis=0)"
   ]
  },
  {
   "cell_type": "code",
   "execution_count": 23,
   "id": "77f75d6e-ee0b-4fad-9586-83d75e473626",
   "metadata": {},
   "outputs": [
    {
     "data": {
      "text/html": [
       "<div>\n",
       "<style scoped>\n",
       "    .dataframe tbody tr th:only-of-type {\n",
       "        vertical-align: middle;\n",
       "    }\n",
       "\n",
       "    .dataframe tbody tr th {\n",
       "        vertical-align: top;\n",
       "    }\n",
       "\n",
       "    .dataframe thead th {\n",
       "        text-align: right;\n",
       "    }\n",
       "</style>\n",
       "<table border=\"1\" class=\"dataframe\">\n",
       "  <thead>\n",
       "    <tr style=\"text-align: right;\">\n",
       "      <th></th>\n",
       "      <th>timestamp</th>\n",
       "      <th>readings</th>\n",
       "      <th>Day_ID</th>\n",
       "      <th>Time_ID</th>\n",
       "    </tr>\n",
       "  </thead>\n",
       "  <tbody>\n",
       "    <tr>\n",
       "      <th>0</th>\n",
       "      <td>2020-12-01T00:05:00+08:00</td>\n",
       "      <td>[{'station_id': 'S77', 'value': 0}, {'station_...</td>\n",
       "      <td>1</td>\n",
       "      <td>1</td>\n",
       "    </tr>\n",
       "    <tr>\n",
       "      <th>1</th>\n",
       "      <td>2020-12-01T00:10:00+08:00</td>\n",
       "      <td>[{'station_id': 'S77', 'value': 0}, {'station_...</td>\n",
       "      <td>1</td>\n",
       "      <td>2</td>\n",
       "    </tr>\n",
       "    <tr>\n",
       "      <th>2</th>\n",
       "      <td>2020-12-01T00:15:00+08:00</td>\n",
       "      <td>[{'station_id': 'S77', 'value': 0}, {'station_...</td>\n",
       "      <td>1</td>\n",
       "      <td>3</td>\n",
       "    </tr>\n",
       "    <tr>\n",
       "      <th>3</th>\n",
       "      <td>2020-12-01T00:20:00+08:00</td>\n",
       "      <td>[{'station_id': 'S77', 'value': 0}, {'station_...</td>\n",
       "      <td>1</td>\n",
       "      <td>4</td>\n",
       "    </tr>\n",
       "    <tr>\n",
       "      <th>4</th>\n",
       "      <td>2020-12-01T00:25:00+08:00</td>\n",
       "      <td>[{'station_id': 'S77', 'value': 0}, {'station_...</td>\n",
       "      <td>1</td>\n",
       "      <td>5</td>\n",
       "    </tr>\n",
       "    <tr>\n",
       "      <th>...</th>\n",
       "      <td>...</td>\n",
       "      <td>...</td>\n",
       "      <td>...</td>\n",
       "      <td>...</td>\n",
       "    </tr>\n",
       "    <tr>\n",
       "      <th>282</th>\n",
       "      <td>2020-12-10T23:35:00+08:00</td>\n",
       "      <td>[{'station_id': 'S77', 'value': 0}, {'station_...</td>\n",
       "      <td>10</td>\n",
       "      <td>283</td>\n",
       "    </tr>\n",
       "    <tr>\n",
       "      <th>283</th>\n",
       "      <td>2020-12-10T23:40:00+08:00</td>\n",
       "      <td>[{'station_id': 'S77', 'value': 0}, {'station_...</td>\n",
       "      <td>10</td>\n",
       "      <td>284</td>\n",
       "    </tr>\n",
       "    <tr>\n",
       "      <th>284</th>\n",
       "      <td>2020-12-10T23:45:00+08:00</td>\n",
       "      <td>[{'station_id': 'S77', 'value': 0}, {'station_...</td>\n",
       "      <td>10</td>\n",
       "      <td>285</td>\n",
       "    </tr>\n",
       "    <tr>\n",
       "      <th>285</th>\n",
       "      <td>2020-12-10T23:50:00+08:00</td>\n",
       "      <td>[{'station_id': 'S77', 'value': 0}, {'station_...</td>\n",
       "      <td>10</td>\n",
       "      <td>286</td>\n",
       "    </tr>\n",
       "    <tr>\n",
       "      <th>286</th>\n",
       "      <td>2020-12-10T23:55:00+08:00</td>\n",
       "      <td>[{'station_id': 'S77', 'value': 0}, {'station_...</td>\n",
       "      <td>10</td>\n",
       "      <td>287</td>\n",
       "    </tr>\n",
       "  </tbody>\n",
       "</table>\n",
       "<p>2870 rows × 4 columns</p>\n",
       "</div>"
      ],
      "text/plain": [
       "                     timestamp  \\\n",
       "0    2020-12-01T00:05:00+08:00   \n",
       "1    2020-12-01T00:10:00+08:00   \n",
       "2    2020-12-01T00:15:00+08:00   \n",
       "3    2020-12-01T00:20:00+08:00   \n",
       "4    2020-12-01T00:25:00+08:00   \n",
       "..                         ...   \n",
       "282  2020-12-10T23:35:00+08:00   \n",
       "283  2020-12-10T23:40:00+08:00   \n",
       "284  2020-12-10T23:45:00+08:00   \n",
       "285  2020-12-10T23:50:00+08:00   \n",
       "286  2020-12-10T23:55:00+08:00   \n",
       "\n",
       "                                              readings  Day_ID  Time_ID  \n",
       "0    [{'station_id': 'S77', 'value': 0}, {'station_...       1        1  \n",
       "1    [{'station_id': 'S77', 'value': 0}, {'station_...       1        2  \n",
       "2    [{'station_id': 'S77', 'value': 0}, {'station_...       1        3  \n",
       "3    [{'station_id': 'S77', 'value': 0}, {'station_...       1        4  \n",
       "4    [{'station_id': 'S77', 'value': 0}, {'station_...       1        5  \n",
       "..                                                 ...     ...      ...  \n",
       "282  [{'station_id': 'S77', 'value': 0}, {'station_...      10      283  \n",
       "283  [{'station_id': 'S77', 'value': 0}, {'station_...      10      284  \n",
       "284  [{'station_id': 'S77', 'value': 0}, {'station_...      10      285  \n",
       "285  [{'station_id': 'S77', 'value': 0}, {'station_...      10      286  \n",
       "286  [{'station_id': 'S77', 'value': 0}, {'station_...      10      287  \n",
       "\n",
       "[2870 rows x 4 columns]"
      ]
     },
     "execution_count": 23,
     "metadata": {},
     "output_type": "execute_result"
    }
   ],
   "source": [
    "df_rainfall_all"
   ]
  },
  {
   "cell_type": "code",
   "execution_count": 24,
   "id": "ed571a58-5f60-4c22-bfdf-f27975e6874f",
   "metadata": {},
   "outputs": [
    {
     "data": {
      "text/html": [
       "<div>\n",
       "<style scoped>\n",
       "    .dataframe tbody tr th:only-of-type {\n",
       "        vertical-align: middle;\n",
       "    }\n",
       "\n",
       "    .dataframe tbody tr th {\n",
       "        vertical-align: top;\n",
       "    }\n",
       "\n",
       "    .dataframe thead th {\n",
       "        text-align: right;\n",
       "    }\n",
       "</style>\n",
       "<table border=\"1\" class=\"dataframe\">\n",
       "  <thead>\n",
       "    <tr style=\"text-align: right;\">\n",
       "      <th></th>\n",
       "      <th>index</th>\n",
       "      <th>station_id</th>\n",
       "      <th>value</th>\n",
       "      <th>Day_ID</th>\n",
       "      <th>Time_ID</th>\n",
       "    </tr>\n",
       "  </thead>\n",
       "  <tbody>\n",
       "    <tr>\n",
       "      <th>0</th>\n",
       "      <td>0</td>\n",
       "      <td>S77</td>\n",
       "      <td>0.0</td>\n",
       "      <td>1</td>\n",
       "      <td>1</td>\n",
       "    </tr>\n",
       "    <tr>\n",
       "      <th>1</th>\n",
       "      <td>1</td>\n",
       "      <td>S117</td>\n",
       "      <td>0.0</td>\n",
       "      <td>1</td>\n",
       "      <td>1</td>\n",
       "    </tr>\n",
       "    <tr>\n",
       "      <th>2</th>\n",
       "      <td>2</td>\n",
       "      <td>S90</td>\n",
       "      <td>0.0</td>\n",
       "      <td>1</td>\n",
       "      <td>1</td>\n",
       "    </tr>\n",
       "    <tr>\n",
       "      <th>3</th>\n",
       "      <td>3</td>\n",
       "      <td>S61</td>\n",
       "      <td>0.0</td>\n",
       "      <td>1</td>\n",
       "      <td>1</td>\n",
       "    </tr>\n",
       "    <tr>\n",
       "      <th>4</th>\n",
       "      <td>4</td>\n",
       "      <td>S114</td>\n",
       "      <td>0.0</td>\n",
       "      <td>1</td>\n",
       "      <td>1</td>\n",
       "    </tr>\n",
       "    <tr>\n",
       "      <th>...</th>\n",
       "      <td>...</td>\n",
       "      <td>...</td>\n",
       "      <td>...</td>\n",
       "      <td>...</td>\n",
       "      <td>...</td>\n",
       "    </tr>\n",
       "    <tr>\n",
       "      <th>211283</th>\n",
       "      <td>68</td>\n",
       "      <td>S08</td>\n",
       "      <td>0.0</td>\n",
       "      <td>10</td>\n",
       "      <td>287</td>\n",
       "    </tr>\n",
       "    <tr>\n",
       "      <th>211284</th>\n",
       "      <td>69</td>\n",
       "      <td>S116</td>\n",
       "      <td>0.0</td>\n",
       "      <td>10</td>\n",
       "      <td>287</td>\n",
       "    </tr>\n",
       "    <tr>\n",
       "      <th>211285</th>\n",
       "      <td>70</td>\n",
       "      <td>S104</td>\n",
       "      <td>0.0</td>\n",
       "      <td>10</td>\n",
       "      <td>287</td>\n",
       "    </tr>\n",
       "    <tr>\n",
       "      <th>211286</th>\n",
       "      <td>71</td>\n",
       "      <td>S100</td>\n",
       "      <td>0.0</td>\n",
       "      <td>10</td>\n",
       "      <td>287</td>\n",
       "    </tr>\n",
       "    <tr>\n",
       "      <th>211287</th>\n",
       "      <td>72</td>\n",
       "      <td>S91</td>\n",
       "      <td>0.0</td>\n",
       "      <td>10</td>\n",
       "      <td>287</td>\n",
       "    </tr>\n",
       "  </tbody>\n",
       "</table>\n",
       "<p>211288 rows × 5 columns</p>\n",
       "</div>"
      ],
      "text/plain": [
       "        index station_id  value  Day_ID  Time_ID\n",
       "0           0        S77    0.0       1        1\n",
       "1           1       S117    0.0       1        1\n",
       "2           2        S90    0.0       1        1\n",
       "3           3        S61    0.0       1        1\n",
       "4           4       S114    0.0       1        1\n",
       "...       ...        ...    ...     ...      ...\n",
       "211283     68        S08    0.0      10      287\n",
       "211284     69       S116    0.0      10      287\n",
       "211285     70       S104    0.0      10      287\n",
       "211286     71       S100    0.0      10      287\n",
       "211287     72        S91    0.0      10      287\n",
       "\n",
       "[211288 rows x 5 columns]"
      ]
     },
     "execution_count": 24,
     "metadata": {},
     "output_type": "execute_result"
    }
   ],
   "source": [
    "df = pd.concat([pd.DataFrame(row.readings).assign(Day_ID=row.Day_ID,Time_ID=row.Time_ID) for index, row in df_rainfall_all.iterrows()]).reset_index()\n",
    "df"
   ]
  },
  {
   "cell_type": "code",
   "execution_count": 25,
   "id": "88e4d852-796f-46c1-b392-00ad8606a30f",
   "metadata": {},
   "outputs": [],
   "source": [
    "df_agg= df.groupby(['Day_ID','station_id']).sum().drop(['Time_ID','index'],axis=1).reset_index()"
   ]
  },
  {
   "cell_type": "code",
   "execution_count": 26,
   "id": "c238f997-c4f8-4319-a37d-6800a5939d01",
   "metadata": {},
   "outputs": [
    {
     "data": {
      "text/html": [
       "<div>\n",
       "<style scoped>\n",
       "    .dataframe tbody tr th:only-of-type {\n",
       "        vertical-align: middle;\n",
       "    }\n",
       "\n",
       "    .dataframe tbody tr th {\n",
       "        vertical-align: top;\n",
       "    }\n",
       "\n",
       "    .dataframe thead th {\n",
       "        text-align: right;\n",
       "    }\n",
       "</style>\n",
       "<table border=\"1\" class=\"dataframe\">\n",
       "  <thead>\n",
       "    <tr style=\"text-align: right;\">\n",
       "      <th></th>\n",
       "      <th>Day_ID</th>\n",
       "      <th>station_id</th>\n",
       "      <th>value</th>\n",
       "    </tr>\n",
       "  </thead>\n",
       "  <tbody>\n",
       "    <tr>\n",
       "      <th>0</th>\n",
       "      <td>1</td>\n",
       "      <td>S07</td>\n",
       "      <td>0.0</td>\n",
       "    </tr>\n",
       "    <tr>\n",
       "      <th>1</th>\n",
       "      <td>1</td>\n",
       "      <td>S08</td>\n",
       "      <td>0.0</td>\n",
       "    </tr>\n",
       "    <tr>\n",
       "      <th>2</th>\n",
       "      <td>1</td>\n",
       "      <td>S100</td>\n",
       "      <td>0.0</td>\n",
       "    </tr>\n",
       "    <tr>\n",
       "      <th>3</th>\n",
       "      <td>1</td>\n",
       "      <td>S104</td>\n",
       "      <td>0.0</td>\n",
       "    </tr>\n",
       "    <tr>\n",
       "      <th>4</th>\n",
       "      <td>1</td>\n",
       "      <td>S107</td>\n",
       "      <td>0.0</td>\n",
       "    </tr>\n",
       "    <tr>\n",
       "      <th>...</th>\n",
       "      <td>...</td>\n",
       "      <td>...</td>\n",
       "      <td>...</td>\n",
       "    </tr>\n",
       "    <tr>\n",
       "      <th>747</th>\n",
       "      <td>10</td>\n",
       "      <td>S90</td>\n",
       "      <td>5.6</td>\n",
       "    </tr>\n",
       "    <tr>\n",
       "      <th>748</th>\n",
       "      <td>10</td>\n",
       "      <td>S900</td>\n",
       "      <td>43.6</td>\n",
       "    </tr>\n",
       "    <tr>\n",
       "      <th>749</th>\n",
       "      <td>10</td>\n",
       "      <td>S91</td>\n",
       "      <td>19.8</td>\n",
       "    </tr>\n",
       "    <tr>\n",
       "      <th>750</th>\n",
       "      <td>10</td>\n",
       "      <td>S92</td>\n",
       "      <td>5.6</td>\n",
       "    </tr>\n",
       "    <tr>\n",
       "      <th>751</th>\n",
       "      <td>10</td>\n",
       "      <td>S94</td>\n",
       "      <td>18.6</td>\n",
       "    </tr>\n",
       "  </tbody>\n",
       "</table>\n",
       "<p>752 rows × 3 columns</p>\n",
       "</div>"
      ],
      "text/plain": [
       "     Day_ID station_id  value\n",
       "0         1        S07    0.0\n",
       "1         1        S08    0.0\n",
       "2         1       S100    0.0\n",
       "3         1       S104    0.0\n",
       "4         1       S107    0.0\n",
       "..      ...        ...    ...\n",
       "747      10        S90    5.6\n",
       "748      10       S900   43.6\n",
       "749      10        S91   19.8\n",
       "750      10        S92    5.6\n",
       "751      10        S94   18.6\n",
       "\n",
       "[752 rows x 3 columns]"
      ]
     },
     "execution_count": 26,
     "metadata": {},
     "output_type": "execute_result"
    }
   ],
   "source": [
    "df_agg"
   ]
  },
  {
   "cell_type": "code",
   "execution_count": 27,
   "id": "6277460d-76f2-4c04-90ba-b86ace7686df",
   "metadata": {},
   "outputs": [
    {
     "data": {
      "text/html": [
       "<div>\n",
       "<style scoped>\n",
       "    .dataframe tbody tr th:only-of-type {\n",
       "        vertical-align: middle;\n",
       "    }\n",
       "\n",
       "    .dataframe tbody tr th {\n",
       "        vertical-align: top;\n",
       "    }\n",
       "\n",
       "    .dataframe thead th {\n",
       "        text-align: right;\n",
       "    }\n",
       "</style>\n",
       "<table border=\"1\" class=\"dataframe\">\n",
       "  <thead>\n",
       "    <tr style=\"text-align: right;\">\n",
       "      <th></th>\n",
       "      <th>id</th>\n",
       "      <th>device_id</th>\n",
       "      <th>name</th>\n",
       "      <th>location</th>\n",
       "    </tr>\n",
       "  </thead>\n",
       "  <tbody>\n",
       "    <tr>\n",
       "      <th>0</th>\n",
       "      <td>S77</td>\n",
       "      <td>S77</td>\n",
       "      <td>Alexandra Road</td>\n",
       "      <td>{'latitude': 1.2937, 'longitude': 103.8125}</td>\n",
       "    </tr>\n",
       "    <tr>\n",
       "      <th>1</th>\n",
       "      <td>S117</td>\n",
       "      <td>S117</td>\n",
       "      <td>Banyan Road</td>\n",
       "      <td>{'latitude': 1.256, 'longitude': 103.679}</td>\n",
       "    </tr>\n",
       "    <tr>\n",
       "      <th>2</th>\n",
       "      <td>S90</td>\n",
       "      <td>S90</td>\n",
       "      <td>Bukit Timah Road</td>\n",
       "      <td>{'latitude': 1.3191, 'longitude': 103.8191}</td>\n",
       "    </tr>\n",
       "    <tr>\n",
       "      <th>3</th>\n",
       "      <td>S61</td>\n",
       "      <td>S61</td>\n",
       "      <td>Chai Chee Street</td>\n",
       "      <td>{'latitude': 1.323, 'longitude': 103.9217}</td>\n",
       "    </tr>\n",
       "    <tr>\n",
       "      <th>4</th>\n",
       "      <td>S114</td>\n",
       "      <td>S114</td>\n",
       "      <td>Choa Chu Kang Avenue 4</td>\n",
       "      <td>{'latitude': 1.38, 'longitude': 103.73}</td>\n",
       "    </tr>\n",
       "    <tr>\n",
       "      <th>...</th>\n",
       "      <td>...</td>\n",
       "      <td>...</td>\n",
       "      <td>...</td>\n",
       "      <td>...</td>\n",
       "    </tr>\n",
       "    <tr>\n",
       "      <th>70</th>\n",
       "      <td>S230</td>\n",
       "      <td>S230</td>\n",
       "      <td>S230</td>\n",
       "      <td>{'latitude': 1.30167, 'longitude': 103.76444}</td>\n",
       "    </tr>\n",
       "    <tr>\n",
       "      <th>71</th>\n",
       "      <td>S92</td>\n",
       "      <td>S92</td>\n",
       "      <td>South Buona Vista Road</td>\n",
       "      <td>{'latitude': 1.2841, 'longitude': 103.7886}</td>\n",
       "    </tr>\n",
       "    <tr>\n",
       "      <th>72</th>\n",
       "      <td>S29</td>\n",
       "      <td>S29</td>\n",
       "      <td>Pasir Ris Drive 12</td>\n",
       "      <td>{'latitude': 1.387, 'longitude': 103.935}</td>\n",
       "    </tr>\n",
       "    <tr>\n",
       "      <th>73</th>\n",
       "      <td>S122</td>\n",
       "      <td>S122</td>\n",
       "      <td>Sembawang Road</td>\n",
       "      <td>{'latitude': 1.41731, 'longitude': 103.8249}</td>\n",
       "    </tr>\n",
       "    <tr>\n",
       "      <th>74</th>\n",
       "      <td>S109</td>\n",
       "      <td>S109</td>\n",
       "      <td>Ang Mo Kio Avenue 5</td>\n",
       "      <td>{'latitude': 1.3764, 'longitude': 103.8492}</td>\n",
       "    </tr>\n",
       "  </tbody>\n",
       "</table>\n",
       "<p>75 rows × 4 columns</p>\n",
       "</div>"
      ],
      "text/plain": [
       "      id device_id                    name  \\\n",
       "0    S77       S77          Alexandra Road   \n",
       "1   S117      S117             Banyan Road   \n",
       "2    S90       S90        Bukit Timah Road   \n",
       "3    S61       S61        Chai Chee Street   \n",
       "4   S114      S114  Choa Chu Kang Avenue 4   \n",
       "..   ...       ...                     ...   \n",
       "70  S230      S230                    S230   \n",
       "71   S92       S92  South Buona Vista Road   \n",
       "72   S29       S29      Pasir Ris Drive 12   \n",
       "73  S122      S122          Sembawang Road   \n",
       "74  S109      S109     Ang Mo Kio Avenue 5   \n",
       "\n",
       "                                         location  \n",
       "0     {'latitude': 1.2937, 'longitude': 103.8125}  \n",
       "1       {'latitude': 1.256, 'longitude': 103.679}  \n",
       "2     {'latitude': 1.3191, 'longitude': 103.8191}  \n",
       "3      {'latitude': 1.323, 'longitude': 103.9217}  \n",
       "4         {'latitude': 1.38, 'longitude': 103.73}  \n",
       "..                                            ...  \n",
       "70  {'latitude': 1.30167, 'longitude': 103.76444}  \n",
       "71    {'latitude': 1.2841, 'longitude': 103.7886}  \n",
       "72      {'latitude': 1.387, 'longitude': 103.935}  \n",
       "73   {'latitude': 1.41731, 'longitude': 103.8249}  \n",
       "74    {'latitude': 1.3764, 'longitude': 103.8492}  \n",
       "\n",
       "[75 rows x 4 columns]"
      ]
     },
     "execution_count": 27,
     "metadata": {},
     "output_type": "execute_result"
    }
   ],
   "source": [
    "df_stations"
   ]
  },
  {
   "cell_type": "code",
   "execution_count": 40,
   "id": "2a39c08f-873d-4159-a3d9-72d65dc3ed4d",
   "metadata": {},
   "outputs": [],
   "source": [
    "df_agg_for_kriging = df_agg.merge(df_st,left_on='station_id',right_on='device_id')"
   ]
  },
  {
   "cell_type": "code",
   "execution_count": 41,
   "id": "715e6718-cb8d-4493-b0ab-44de7948dfdf",
   "metadata": {},
   "outputs": [
    {
     "data": {
      "text/html": [
       "<div>\n",
       "<style scoped>\n",
       "    .dataframe tbody tr th:only-of-type {\n",
       "        vertical-align: middle;\n",
       "    }\n",
       "\n",
       "    .dataframe tbody tr th {\n",
       "        vertical-align: top;\n",
       "    }\n",
       "\n",
       "    .dataframe thead th {\n",
       "        text-align: right;\n",
       "    }\n",
       "</style>\n",
       "<table border=\"1\" class=\"dataframe\">\n",
       "  <thead>\n",
       "    <tr style=\"text-align: right;\">\n",
       "      <th></th>\n",
       "      <th>Day_ID</th>\n",
       "      <th>station_id</th>\n",
       "      <th>value</th>\n",
       "      <th>id</th>\n",
       "      <th>device_id</th>\n",
       "      <th>name</th>\n",
       "      <th>latitude</th>\n",
       "      <th>longitude</th>\n",
       "    </tr>\n",
       "  </thead>\n",
       "  <tbody>\n",
       "    <tr>\n",
       "      <th>0</th>\n",
       "      <td>1</td>\n",
       "      <td>S07</td>\n",
       "      <td>0.00000</td>\n",
       "      <td>S07</td>\n",
       "      <td>S07</td>\n",
       "      <td>Lornie Road</td>\n",
       "      <td>1.3415</td>\n",
       "      <td>103.8334</td>\n",
       "    </tr>\n",
       "    <tr>\n",
       "      <th>1</th>\n",
       "      <td>2</td>\n",
       "      <td>S07</td>\n",
       "      <td>0.20000</td>\n",
       "      <td>S07</td>\n",
       "      <td>S07</td>\n",
       "      <td>Lornie Road</td>\n",
       "      <td>1.3415</td>\n",
       "      <td>103.8334</td>\n",
       "    </tr>\n",
       "    <tr>\n",
       "      <th>2</th>\n",
       "      <td>3</td>\n",
       "      <td>S07</td>\n",
       "      <td>33.00000</td>\n",
       "      <td>S07</td>\n",
       "      <td>S07</td>\n",
       "      <td>Lornie Road</td>\n",
       "      <td>1.3415</td>\n",
       "      <td>103.8334</td>\n",
       "    </tr>\n",
       "    <tr>\n",
       "      <th>3</th>\n",
       "      <td>4</td>\n",
       "      <td>S07</td>\n",
       "      <td>21.40000</td>\n",
       "      <td>S07</td>\n",
       "      <td>S07</td>\n",
       "      <td>Lornie Road</td>\n",
       "      <td>1.3415</td>\n",
       "      <td>103.8334</td>\n",
       "    </tr>\n",
       "    <tr>\n",
       "      <th>4</th>\n",
       "      <td>5</td>\n",
       "      <td>S07</td>\n",
       "      <td>0.20000</td>\n",
       "      <td>S07</td>\n",
       "      <td>S07</td>\n",
       "      <td>Lornie Road</td>\n",
       "      <td>1.3415</td>\n",
       "      <td>103.8334</td>\n",
       "    </tr>\n",
       "    <tr>\n",
       "      <th>...</th>\n",
       "      <td>...</td>\n",
       "      <td>...</td>\n",
       "      <td>...</td>\n",
       "      <td>...</td>\n",
       "      <td>...</td>\n",
       "      <td>...</td>\n",
       "      <td>...</td>\n",
       "      <td>...</td>\n",
       "    </tr>\n",
       "    <tr>\n",
       "      <th>736</th>\n",
       "      <td>6</td>\n",
       "      <td>S94</td>\n",
       "      <td>0.00000</td>\n",
       "      <td>S94</td>\n",
       "      <td>S94</td>\n",
       "      <td>Pasir Ris Street 51</td>\n",
       "      <td>1.3662</td>\n",
       "      <td>103.9528</td>\n",
       "    </tr>\n",
       "    <tr>\n",
       "      <th>737</th>\n",
       "      <td>7</td>\n",
       "      <td>S94</td>\n",
       "      <td>19.00000</td>\n",
       "      <td>S94</td>\n",
       "      <td>S94</td>\n",
       "      <td>Pasir Ris Street 51</td>\n",
       "      <td>1.3662</td>\n",
       "      <td>103.9528</td>\n",
       "    </tr>\n",
       "    <tr>\n",
       "      <th>738</th>\n",
       "      <td>8</td>\n",
       "      <td>S94</td>\n",
       "      <td>0.00000</td>\n",
       "      <td>S94</td>\n",
       "      <td>S94</td>\n",
       "      <td>Pasir Ris Street 51</td>\n",
       "      <td>1.3662</td>\n",
       "      <td>103.9528</td>\n",
       "    </tr>\n",
       "    <tr>\n",
       "      <th>739</th>\n",
       "      <td>9</td>\n",
       "      <td>S94</td>\n",
       "      <td>64.19999</td>\n",
       "      <td>S94</td>\n",
       "      <td>S94</td>\n",
       "      <td>Pasir Ris Street 51</td>\n",
       "      <td>1.3662</td>\n",
       "      <td>103.9528</td>\n",
       "    </tr>\n",
       "    <tr>\n",
       "      <th>740</th>\n",
       "      <td>10</td>\n",
       "      <td>S94</td>\n",
       "      <td>18.60000</td>\n",
       "      <td>S94</td>\n",
       "      <td>S94</td>\n",
       "      <td>Pasir Ris Street 51</td>\n",
       "      <td>1.3662</td>\n",
       "      <td>103.9528</td>\n",
       "    </tr>\n",
       "  </tbody>\n",
       "</table>\n",
       "<p>741 rows × 8 columns</p>\n",
       "</div>"
      ],
      "text/plain": [
       "     Day_ID station_id     value   id device_id                 name  \\\n",
       "0         1        S07   0.00000  S07       S07          Lornie Road   \n",
       "1         2        S07   0.20000  S07       S07          Lornie Road   \n",
       "2         3        S07  33.00000  S07       S07          Lornie Road   \n",
       "3         4        S07  21.40000  S07       S07          Lornie Road   \n",
       "4         5        S07   0.20000  S07       S07          Lornie Road   \n",
       "..      ...        ...       ...  ...       ...                  ...   \n",
       "736       6        S94   0.00000  S94       S94  Pasir Ris Street 51   \n",
       "737       7        S94  19.00000  S94       S94  Pasir Ris Street 51   \n",
       "738       8        S94   0.00000  S94       S94  Pasir Ris Street 51   \n",
       "739       9        S94  64.19999  S94       S94  Pasir Ris Street 51   \n",
       "740      10        S94  18.60000  S94       S94  Pasir Ris Street 51   \n",
       "\n",
       "     latitude  longitude  \n",
       "0      1.3415   103.8334  \n",
       "1      1.3415   103.8334  \n",
       "2      1.3415   103.8334  \n",
       "3      1.3415   103.8334  \n",
       "4      1.3415   103.8334  \n",
       "..        ...        ...  \n",
       "736    1.3662   103.9528  \n",
       "737    1.3662   103.9528  \n",
       "738    1.3662   103.9528  \n",
       "739    1.3662   103.9528  \n",
       "740    1.3662   103.9528  \n",
       "\n",
       "[741 rows x 8 columns]"
      ]
     },
     "execution_count": 41,
     "metadata": {},
     "output_type": "execute_result"
    }
   ],
   "source": [
    "df_agg_for_kriging"
   ]
  },
  {
   "cell_type": "markdown",
   "id": "b48a954c-6a30-453c-96c1-660f35b55c19",
   "metadata": {},
   "source": [
    "## Visualize Rainfall data"
   ]
  },
  {
   "cell_type": "code",
   "execution_count": 31,
   "id": "9efc190e-5504-47fb-9ef0-083982462abd",
   "metadata": {},
   "outputs": [],
   "source": [
    "import geopandas as gp"
   ]
  },
  {
   "cell_type": "code",
   "execution_count": 42,
   "id": "c400d09d-be0e-44c2-b0c4-606a15524eb7",
   "metadata": {},
   "outputs": [],
   "source": [
    "df_rainfall_geoms = gp.points_from_xy(x=df_agg_for_kriging[\"longitude\"],\n",
    "                                    y=df_agg_for_kriging[\"latitude\"],\n",
    "                                    crs=\"epsg:4326\"\n",
    "                                   )"
   ]
  },
  {
   "cell_type": "code",
   "execution_count": 43,
   "id": "03d94b2f-a768-4072-8122-eda741d7c828",
   "metadata": {},
   "outputs": [],
   "source": [
    "rainfall = gp.GeoDataFrame(df_agg_for_kriging,\n",
    "                                   geometry=df_rainfall_geoms\n",
    "                                  )"
   ]
  },
  {
   "cell_type": "code",
   "execution_count": 44,
   "id": "401feef2-0f1b-4f78-912e-c1dd2b0361e8",
   "metadata": {},
   "outputs": [],
   "source": [
    "# ensure that the two layers have the same crs\n",
    "# here we have to transform the crs instead of set a new\n",
    "rainfall=rainfall.to_crs(\"epsg:3414\")"
   ]
  },
  {
   "cell_type": "code",
   "execution_count": 45,
   "id": "edd8cf93-2a1e-4db4-ba6c-5d2e271f1d36",
   "metadata": {},
   "outputs": [],
   "source": [
    "sz = gp.read_file('Data/MP14_Subzone_SE_2017.shp')"
   ]
  },
  {
   "cell_type": "code",
   "execution_count": 46,
   "id": "55addc43-d19c-4585-977b-9118830db043",
   "metadata": {},
   "outputs": [
    {
     "data": {
      "image/png": "[encoded data removed]",
      "text/plain": [
       "<Figure size 648x648 with 1 Axes>"
      ]
     },
     "metadata": {
      "needs_background": "light"
     },
     "output_type": "display_data"
    }
   ],
   "source": [
    "f, ax = plt.subplots(1, figsize=(9, 9))\n",
    "sz.plot(ax=ax, legend=False, facecolor=\"none\",edgecolor=\"k\",lw=0.1)\n",
    "rainfall.plot(ax=ax, column='value', legend=True, scheme='Quantiles', legend_kwds={'fmt':'{:.0f}'}, cmap='Blues', edgecolor=\"k\")\n",
    "ax.set_title('Singapore Rainfall Data')\n",
    "plt.axis('equal')\n",
    "plt.show()"
   ]
  },
  {
   "cell_type": "code",
   "execution_count": 54,
   "id": "06619279-37ea-4035-9e51-11782df7da10",
   "metadata": {},
   "outputs": [
    {
     "data": {
      "text/plain": [
       "Day_ID           int64\n",
       "station_id      object\n",
       "value          float64\n",
       "id              object\n",
       "device_id       object\n",
       "name            object\n",
       "latitude       float64\n",
       "longitude      float64\n",
       "geometry      geometry\n",
       "dtype: object"
      ]
     },
     "execution_count": 54,
     "metadata": {},
     "output_type": "execute_result"
    }
   ],
   "source": [
    "rainfall.dtypes"
   ]
  },
  {
   "cell_type": "code",
   "execution_count": 124,
   "id": "b1b96205-ca37-44c2-a9ed-343f0339686a",
   "metadata": {},
   "outputs": [],
   "source": [
    "rainfall_day=rainfall.query('Day_ID == 3')"
   ]
  },
  {
   "cell_type": "code",
   "execution_count": 91,
   "id": "6beb65c2-2f61-432f-93bb-5a974b5ad0c1",
   "metadata": {},
   "outputs": [],
   "source": [
    "extent = min_x, max_x, min_y, max_y = [rainfall.geometry.x.min()-1000, rainfall.geometry.x.max()+1000,\n",
    "                                       rainfall.geometry.y.min()-1000, rainfall.geometry.y.max()+1000]"
   ]
  },
  {
   "cell_type": "code",
   "execution_count": 92,
   "id": "7431db63-88df-4b0a-88e9-390568608e6a",
   "metadata": {},
   "outputs": [
    {
     "data": {
      "image/png": "[encoded data removed]",
      "text/plain": [
       "<Figure size 720x432 with 1 Axes>"
      ]
     },
     "metadata": {
      "needs_background": "light"
     },
     "output_type": "display_data"
    }
   ],
   "source": [
    "fig, ax = plt.subplots(figsize=(10,6))\n",
    "\n",
    "ax.scatter(rainfall.geometry.x, rainfall.geometry.y, c=rainfall.value)\n",
    "ax.set_aspect(1)\n",
    "ax.set_xlim(*extent[:2])\n",
    "ax.set_ylim(*extent[2:])\n",
    "ax.set_xlabel('Easting [m]')\n",
    "ax.set_ylabel('Northing [m]')\n",
    "ax.set_title('Singapore Rainfall(mm)')\n",
    "ax.grid(c='k', alpha=0.2)\n",
    "\n",
    "plt.show()"
   ]
  },
  {
   "cell_type": "markdown",
   "id": "e3d72241-2f64-42d8-b0fc-c0d15533dfab",
   "metadata": {
    "id": "88WaTjcArEDI"
   },
   "source": [
    "## Make a regular grid\n",
    "\n",
    "We must make a grid, which represents the points we'd like to predict."
   ]
  },
  {
   "cell_type": "code",
   "execution_count": 60,
   "id": "8fdf434c-422d-4b08-a0ae-21f346460832",
   "metadata": {
    "id": "Iz01aegXrEDI"
   },
   "outputs": [],
   "source": [
    "gridx, gridy = np.mgrid[min_x:max_x:500, min_y:max_x:500]"
   ]
  },
  {
   "cell_type": "code",
   "execution_count": 62,
   "id": "60f80d15-e50a-431f-ab9b-8bc80beab7e0",
   "metadata": {
    "id": "fJBPWHTTrEDI",
    "outputId": "c738dd63-0db8-4fe4-9ac9-0f686d63fee0"
   },
   "outputs": [
    {
     "data": {
      "text/plain": [
       "<matplotlib.collections.PathCollection at 0x1ab42325fa0>"
      ]
     },
     "execution_count": 62,
     "metadata": {},
     "output_type": "execute_result"
    },
    {
     "data": {
      "image/png": "[encoded data removed]",
      "text/plain": [
       "<Figure size 720x432 with 1 Axes>"
      ]
     },
     "metadata": {
      "needs_background": "light"
     },
     "output_type": "display_data"
    }
   ],
   "source": [
    "plt.figure(figsize=(10,6))\n",
    "plt.scatter(gridx, gridy, s=10)"
   ]
  },
  {
   "cell_type": "markdown",
   "id": "540152a9-28fd-4f07-a4a4-5daf953a680e",
   "metadata": {
    "id": "90MKOvOXrEDJ"
   },
   "source": [
    "## Interpolation with radial basis function\n",
    "\n",
    "Now we make an interpolator and use it to predict into the grid 'cells'."
   ]
  },
  {
   "cell_type": "code",
   "execution_count": 97,
   "id": "fa8fe0a8-0909-4ed3-824c-b19c680979e4",
   "metadata": {
    "id": "_mZofzOSrEDJ"
   },
   "outputs": [],
   "source": [
    "from scipy.interpolate import Rbf\n",
    "\n",
    "# Make an n-dimensional interpolator. \n",
    "\n",
    "rbfi = Rbf(rainfall_day.geometry.x, rainfall_day.geometry.y, rainfall_day.value)\n",
    "\n",
    "# Predict on the regular grid. Line 5.\n",
    "di = rbfi(gridx, gridy)"
   ]
  },
  {
   "cell_type": "markdown",
   "id": "eda9541d-7433-4077-80b4-0c77f3d4847d",
   "metadata": {
    "id": "DFhuS-dArEDK"
   },
   "source": [
    "Let's plot the result. First, we'll need the min and max of the combined sparse and gridded data, so we can plot them with the same colourmap ranges:"
   ]
  },
  {
   "cell_type": "code",
   "execution_count": 98,
   "id": "f868ef93-c46d-4740-90e8-6aa679305647",
   "metadata": {
    "id": "CZ1OVG-DrEDK"
   },
   "outputs": [],
   "source": [
    "mi = np.min(np.hstack([di.ravel(), rainfall_day.value.values]))\n",
    "ma = np.max(np.hstack([di.ravel(), rainfall_day.value.values]))"
   ]
  },
  {
   "cell_type": "markdown",
   "id": "4b6526c8-5393-4ba6-a861-ebaaeb0fc317",
   "metadata": {
    "id": "l59Nvp3FrEDL"
   },
   "source": [
    "Notice the transpose and the `origin='lower'`, to keep everything matched up with the original dataset."
   ]
  },
  {
   "cell_type": "code",
   "execution_count": 99,
   "id": "c03b0178-44a2-4f91-b251-a02181fe475c",
   "metadata": {
    "id": "z3AbRWRtrEDL",
    "outputId": "62ff8135-37cb-4386-96b3-38c7d254ce58"
   },
   "outputs": [
    {
     "data": {
      "image/png": "[encoded data removed]",
      "text/plain": [
       "<Figure size 1080x1080 with 2 Axes>"
      ]
     },
     "metadata": {
      "needs_background": "light"
     },
     "output_type": "display_data"
    }
   ],
   "source": [
    "plt.figure(figsize=(15,15))\n",
    "c1 = plt.imshow(di.T, origin=\"lower\", extent=extent, vmin=mi, vmax=ma)\n",
    "c2 = plt.scatter(rainfall_day.geometry.x, rainfall_day.geometry.y, s=60, c=rainfall_day.value, edgecolor='#ffffff66', vmin=mi, vmax=ma)\n",
    "\n",
    "plt.colorbar(c1, shrink=0.67)\n",
    "plt.show()"
   ]
  },
  {
   "cell_type": "markdown",
   "id": "b5d7ef3d-75db-4f96-8e70-115662945d8f",
   "metadata": {
    "id": "yrc7yfghrEDM"
   },
   "source": [
    "The circles (the data) are the same colour as the grid (the model), so we can see that the error on this prediction is almost zero. In fact, the default parameters force the model to pass through all the data points (interpolation, as opposed to estimation or approximation)."
   ]
  },
  {
   "cell_type": "markdown",
   "id": "22feb10b-9021-4e70-aea8-d214cd78b150",
   "metadata": {
    "id": "mKDkqlTKrEDM"
   },
   "source": [
    "The `Rbf()` interpolator has [a few options](https://docs.scipy.org/doc/scipy/reference/generated/scipy.interpolate.Rbf.html). The most important one is probably `smooth`, which is the thing to increase if you end up with a singular matrix (because it can't converge on a solution). Anything above 0 relaxes the constraint that the surface must pass through every point. If you get an error, you probably need to change the smoothing.\n",
    "\n",
    "You can also change the `function` (default is `multiquadric`, which also has an `epsilon` parameter to vary the range of influence of each point)."
   ]
  },
  {
   "cell_type": "code",
   "execution_count": 100,
   "id": "9e67e1e8-1590-40f8-a83c-67debd589ff7",
   "metadata": {
    "id": "kfDK_1AZrEDN",
    "outputId": "a86f5f5e-8889-4140-dd1a-60c0d71aebff"
   },
   "outputs": [
    {
     "data": {
      "image/png": "[encoded data removed]",
      "text/plain": [
       "<Figure size 1080x1080 with 1 Axes>"
      ]
     },
     "metadata": {
      "needs_background": "light"
     },
     "output_type": "display_data"
    }
   ],
   "source": [
    "rbfi = Rbf(rainfall_day.geometry.x, rainfall_day.geometry.y, rainfall_day.value, smooth=0.2)\n",
    "di = rbfi(gridx, gridy)\n",
    "\n",
    "fig, ax = plt.subplots(figsize=(15,15))\n",
    "plt.imshow(di.T, origin=\"lower\", extent=extent)\n",
    "plt.scatter(rainfall_day.geometry.x, rainfall_day.geometry.y, s=2, c='w')\n",
    "plt.show()\n"
   ]
  },
  {
   "cell_type": "markdown",
   "id": "122959fa-83da-423a-8b39-5854438d29ea",
   "metadata": {
    "id": "QWA2vENFrEDN"
   },
   "source": [
    "We can also make a histogram and kernel density estimation of the errors, by making predictions at the original input locations:"
   ]
  },
  {
   "cell_type": "code",
   "execution_count": 78,
   "id": "681fde95-27f0-4753-8944-35b73099cc06",
   "metadata": {
    "id": "8S1RdgeyrEDN",
    "outputId": "bf491884-b561-4e9c-c82b-e91bb49de770"
   },
   "outputs": [
    {
     "name": "stderr",
     "output_type": "stream",
     "text": [
      "C:\\Users\\user\\AppData\\Roaming\\Python\\Python39\\site-packages\\seaborn\\distributions.py:2557: FutureWarning: `distplot` is a deprecated function and will be removed in a future version. Please adapt your code to use either `displot` (a figure-level function with similar flexibility) or `histplot` (an axes-level function for histograms).\n",
      "  warnings.warn(msg, FutureWarning)\n"
     ]
    },
    {
     "data": {
      "text/plain": [
       "<AxesSubplot:xlabel='value', ylabel='Density'>"
      ]
     },
     "execution_count": 78,
     "metadata": {},
     "output_type": "execute_result"
    },
    {
     "data": {
      "image/png": "[encoded data removed]",
      "text/plain": [
       "<Figure size 432x288 with 1 Axes>"
      ]
     },
     "metadata": {
      "needs_background": "light"
     },
     "output_type": "display_data"
    }
   ],
   "source": [
    "value_hat = rbfi(rainfall_day.geometry.x, rainfall_day.geometry.y)\n",
    "\n",
    "sb.distplot(value_hat - rainfall_day.value)"
   ]
  },
  {
   "cell_type": "markdown",
   "id": "ac181537-b0f8-4998-b139-5ee769836a89",
   "metadata": {
    "id": "iVU75c5BrEDO"
   },
   "source": [
    "With the smoothing set to 0.2, we end up with a smoother surface, but pay for it with larger errors."
   ]
  },
  {
   "cell_type": "markdown",
   "id": "6915be7e-f3ab-4e54-88b5-6abecbadd27b",
   "metadata": {
    "id": "U60UG2FOrEDO"
   },
   "source": [
    "## Interpolation with `scipy.griddata()`"
   ]
  },
  {
   "cell_type": "markdown",
   "id": "dc53a569-ffe3-4e0a-b345-04e383654fc9",
   "metadata": {
    "id": "RN9Jyis1rEDO"
   },
   "source": [
    "The `Rbf()` interpolator is the one to know about, because it has lots of useful parameters. It's probably the only one you need to know. But there is also `scipy.griddata()`. For example see [this SciPy recipe](https://docs.scipy.org/doc/scipy-0.14.0/reference/generated/scipy.interpolate.griddata.html).\n",
    "\n",
    "The interface is slightly different &mdash; we have to pass a single array of the coordinates (the (x, y) locations of the points we know). We also pass the values to interpolate, and the grids.\n",
    "\n",
    "The function will not accept Pandas `Series` objects, so we'll use the `Series.values` attribute to get at the NumPy array representation.\n",
    "\n",
    "First, let's make the 2D array of coordinates:"
   ]
  },
  {
   "cell_type": "code",
   "execution_count": 86,
   "id": "17cb63ca-e4d2-4c07-9653-c0ad736bbdd2",
   "metadata": {
    "id": "kQ9waLl2rEDP"
   },
   "outputs": [],
   "source": [
    "points = np.vstack((rainfall_day.geometry.x,rainfall_day.geometry.y)).T"
   ]
  },
  {
   "cell_type": "code",
   "execution_count": 87,
   "id": "e4034140-ee15-4b8a-8545-de9eec39d31b",
   "metadata": {},
   "outputs": [
    {
     "data": {
      "text/plain": [
       "(75, 2)"
      ]
     },
     "execution_count": 87,
     "metadata": {},
     "output_type": "execute_result"
    }
   ],
   "source": [
    "points.shape"
   ]
  },
  {
   "cell_type": "markdown",
   "id": "dcee6d13-6900-44a9-a537-1943c25bdb94",
   "metadata": {
    "id": "Ou1FxxCPrEDP"
   },
   "source": [
    "The grdding step is easy. We'll try three different algorithms:"
   ]
  },
  {
   "cell_type": "code",
   "execution_count": 88,
   "id": "ac9518d1-5739-48d9-822d-671cbba35cf5",
   "metadata": {
    "id": "Atbf6n5jrEDP"
   },
   "outputs": [],
   "source": [
    "from scipy.interpolate import griddata\n",
    "\n",
    "grid_z0 = griddata(points, rainfall_day.value.values, (gridx, gridy), method='nearest')\n",
    "grid_z1 = griddata(points, rainfall_day.value.values, (gridx, gridy), method='linear')\n",
    "grid_z2 = griddata(points, rainfall_day.value.values, (gridx, gridy), method='cubic')"
   ]
  },
  {
   "cell_type": "markdown",
   "id": "75e2c860-df5e-4954-b96f-c60d7f26b6c7",
   "metadata": {
    "id": "_ZBlgzaWrEDP"
   },
   "source": [
    "Inspect the results."
   ]
  },
  {
   "cell_type": "code",
   "execution_count": 89,
   "id": "39708b06-fe98-47bb-bc0e-6a7f6b33a60b",
   "metadata": {
    "id": "e-O-fEllrEDP",
    "outputId": "500d3c67-adfd-4575-909a-672cd8a6817a"
   },
   "outputs": [
    {
     "data": {
      "image/png": "[encoded data removed]",
      "text/plain": [
       "<Figure size 1080x360 with 3 Axes>"
      ]
     },
     "metadata": {
      "needs_background": "light"
     },
     "output_type": "display_data"
    }
   ],
   "source": [
    "fig, axs = plt.subplots(ncols=3, figsize=(15, 5))\n",
    "\n",
    "ax = axs[0]\n",
    "ax.imshow(grid_z0, origin='lower', extent=extent)\n",
    "ax.scatter(rainfall_day.geometry.x,rainfall_day.geometry.y, s=2, c='w')\n",
    "ax.set_title('Nearest')\n",
    "\n",
    "ax = axs[1]\n",
    "ax.imshow(grid_z1, origin='lower', extent=extent)\n",
    "ax.scatter(rainfall_day.geometry.x,rainfall_day.geometry.y, s=2, c='w')\n",
    "ax.set_title('Linear')\n",
    "\n",
    "ax = axs[2]\n",
    "ax.imshow(grid_z2, origin='lower', extent=extent)\n",
    "ax.scatter(rainfall_day.geometry.x,rainfall_day.geometry.y, s=2, c='w')\n",
    "ax.set_title('Cubic')\n",
    "\n",
    "plt.show()"
   ]
  },
  {
   "cell_type": "markdown",
   "id": "c5c7f21c-0a07-46b9-9536-26ae8c790fc6",
   "metadata": {
    "id": "U-wznWafrEDQ"
   },
   "source": [
    "## Using `sklearn.gaussian_process`"
   ]
  },
  {
   "cell_type": "markdown",
   "id": "2f31debb-0aea-488e-8554-94f93b4bff25",
   "metadata": {
    "id": "RsUB8HGgrEDQ"
   },
   "source": [
    "Modeling with a Gaussian process is equivalent to kriging. Conveniently, the popular machine learning library `scikit-learn` has a Gaussian process modeling tool."
   ]
  },
  {
   "cell_type": "code",
   "execution_count": 125,
   "id": "1aa19ee2-be35-4914-95a3-66297096af52",
   "metadata": {
    "id": "RkCp99OprEDQ"
   },
   "outputs": [],
   "source": [
    "from sklearn.gaussian_process.kernels import RBF\n",
    "\n",
    "kernel = RBF(length_scale=1000)"
   ]
  },
  {
   "cell_type": "markdown",
   "id": "c37716ed-2e2a-4c2d-9417-f30e5c4a8189",
   "metadata": {
    "id": "Kf1wnpJerEDQ"
   },
   "source": [
    "The main hyperparameters are the kernel, which we just defined, and `alpha`, which controls the smoothness. Larger values imply mmore noise in the input data, and result in smoother grids; default is very small: 1 &times; 10<sup>-9</sup>."
   ]
  },
  {
   "cell_type": "code",
   "execution_count": 126,
   "id": "4c96d136-e3d4-4255-815f-9cd8c0f073b4",
   "metadata": {
    "id": "ET8493HdrEDR",
    "outputId": "ff83c441-35d3-4fdf-f15c-d098cfcb325e"
   },
   "outputs": [
    {
     "data": {
      "text/plain": [
       "GaussianProcessRegressor(alpha=0.1, kernel=RBF(length_scale=1e+03),\n",
       "                         normalize_y=True)"
      ]
     },
     "execution_count": 126,
     "metadata": {},
     "output_type": "execute_result"
    }
   ],
   "source": [
    "from sklearn.gaussian_process import GaussianProcessRegressor\n",
    "\n",
    "gp = GaussianProcessRegressor(normalize_y=True,\n",
    "                              alpha=0.1,  # Larger values imply more noise in the input data.\n",
    "                              kernel=kernel)\n",
    "\n",
    "gp.fit(points, rainfall_day.value.values)"
   ]
  },
  {
   "cell_type": "markdown",
   "id": "aff3234b-d859-4cd3-8071-354ba0d355d6",
   "metadata": {
    "id": "YsKuxCZYrEDR"
   },
   "source": [
    "To make a prediction, we need to construct the X matrix: (x, y) coordinates in 2 columns:"
   ]
  },
  {
   "cell_type": "code",
   "execution_count": 127,
   "id": "de50100a-f0d8-4df5-b5fa-b17c378db8fc",
   "metadata": {
    "id": "m_xWcDvIrEDR"
   },
   "outputs": [],
   "source": [
    "X_grid = np.stack([gridx.ravel(), gridy.ravel()]).T"
   ]
  },
  {
   "cell_type": "markdown",
   "id": "a9f7f0f5-dd24-4d78-b15d-3f713dabbfad",
   "metadata": {
    "id": "MDT82A1lrEDR"
   },
   "source": [
    "Now we can make a prediction:"
   ]
  },
  {
   "cell_type": "code",
   "execution_count": 128,
   "id": "11ae42c9-19b6-4898-bc1b-8975953cac21",
   "metadata": {
    "id": "zv0rNl_frEDR"
   },
   "outputs": [],
   "source": [
    "y_grid = gp.predict(X_grid).reshape(gridx.shape)"
   ]
  },
  {
   "cell_type": "markdown",
   "id": "b030e967-e09f-49d0-a4e6-0937071f43b8",
   "metadata": {
    "id": "eJxNkkZZrEDS"
   },
   "source": [
    "And plot the predicted grid with the input data using the same colourmap:"
   ]
  },
  {
   "cell_type": "code",
   "execution_count": 129,
   "id": "1bc1fd02-ad19-49dc-a3cf-8524605c4c65",
   "metadata": {
    "id": "LiuQFAG5rEDS",
    "outputId": "97e54e17-7b84-483b-dc6b-d83fb85c0e12"
   },
   "outputs": [
    {
     "data": {
      "image/png": "[encoded data removed]",
      "text/plain": [
       "<Figure size 1080x1080 with 2 Axes>"
      ]
     },
     "metadata": {
      "needs_background": "light"
     },
     "output_type": "display_data"
    }
   ],
   "source": [
    "# Compute min and max of all the data:\n",
    "mi = np.min(np.hstack([y_grid.ravel(), rainfall_day.value.values]))\n",
    "ma = np.max(np.hstack([y_grid.ravel(), rainfall_day.value.values]))\n",
    "\n",
    "# Plot it all.\n",
    "plt.figure(figsize=(15,15))\n",
    "im = plt.imshow(y_grid.T, origin='lower', extent=extent, vmin=mi, vmax=ma)\n",
    "pts = plt.scatter(rainfall_day.geometry.x, rainfall_day.geometry.y, c=rainfall_day.value, s=80, edgecolor='#ffffff66', vmin=mi, vmax=ma)\n",
    "plt.colorbar(im, shrink=0.67)\n",
    "plt.show()"
   ]
  },
  {
   "cell_type": "markdown",
   "id": "2fe84669-6929-4c40-bfeb-2d03f1e8b9db",
   "metadata": {
    "id": "AqBGIR_vrEDS"
   },
   "source": [
    "As before, we can compute the error by making a prediction on the original (x, y) values and comparing to the actual measured porosities at those locations:"
   ]
  },
  {
   "cell_type": "code",
   "execution_count": 130,
   "id": "701c86af-15ea-4b29-b451-966fa55c7cb8",
   "metadata": {
    "id": "RIyZ6cqtrEDS",
    "outputId": "78267ec4-d0e7-4f39-b3ed-ba3863daa9d2"
   },
   "outputs": [
    {
     "name": "stderr",
     "output_type": "stream",
     "text": [
      "C:\\Users\\user\\AppData\\Roaming\\Python\\Python39\\site-packages\\seaborn\\distributions.py:2557: FutureWarning: `distplot` is a deprecated function and will be removed in a future version. Please adapt your code to use either `displot` (a figure-level function with similar flexibility) or `histplot` (an axes-level function for histograms).\n",
      "  warnings.warn(msg, FutureWarning)\n"
     ]
    },
    {
     "data": {
      "text/plain": [
       "<AxesSubplot:xlabel='value', ylabel='Density'>"
      ]
     },
     "execution_count": 130,
     "metadata": {},
     "output_type": "execute_result"
    },
    {
     "data": {
      "image/png": "[encoded data removed]",
      "text/plain": [
       "<Figure size 432x288 with 1 Axes>"
      ]
     },
     "metadata": {
      "needs_background": "light"
     },
     "output_type": "display_data"
    }
   ],
   "source": [
    "value_hat = gp.predict(points)\n",
    "\n",
    "sb.distplot(value_hat - rainfall_day.value)"
   ]
  },
  {
   "cell_type": "markdown",
   "id": "c7313221-9ae5-487e-83be-591ba420d5a1",
   "metadata": {},
   "source": [
    "# References\n",
    "\n",
    "[Agile Scientific](https://colab.research.google.com/github/agile-geoscience/xlines/blob/master/notebooks/11_Gridding_map_data.ipynb#scrollTo=DAwZjB9crEDH)\n"
   ]
  },
  {
   "cell_type": "code",
   "execution_count": null,
   "id": "18a399b3-8b56-4a33-b389-b8b179ead960",
   "metadata": {},
   "outputs": [],
   "source": []
  }
 ],
 "metadata": {
  "kernelspec": {
   "display_name": "Python 3 (ipykernel)",
   "language": "python",
   "name": "python3"
  },
  "language_info": {
   "codemirror_mode": {
    "name": "ipython",
    "version": 3
   },
   "file_extension": ".py",
   "mimetype": "text/x-python",
   "name": "python",
   "nbconvert_exporter": "python",
   "pygments_lexer": "ipython3",
   "version": "3.9.5"
  },
  "toc-showtags": false
 },
 "nbformat": 4,
 "nbformat_minor": 5
}
