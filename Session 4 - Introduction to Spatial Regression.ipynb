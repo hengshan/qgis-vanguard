{
 "cells": [
  {
   "cell_type": "code",
   "execution_count": 26,
   "id": "7d9a6580-b2e1-42fa-ba84-c901a80857a2",
   "metadata": {
    "tags": []
   },
   "outputs": [],
   "source": [
    "import warnings\n",
    "warnings.filterwarnings(\"ignore\", category=DeprecationWarning)"
   ]
  },
  {
   "cell_type": "markdown",
   "id": "c639e929-12cb-49f4-9818-c0d8be9a06c7",
   "metadata": {
    "tags": []
   },
   "source": [
    "# Session 4 - Introduction to Spatial Regression<img src=\"./Resources/sla.png\" width=\"100\" align =\"right\"/>"
   ]
  },
  {
   "cell_type": "markdown",
   "id": "d3596729-c7a6-46a1-8574-6220a22f2647",
   "metadata": {
    "tags": []
   },
   "source": [
    "This session introduces techniques for spatial regresssion, which provide us an approach to examine how spatial structure can help better understand the data. Certain variables such as housing price PSF (per square foot) are explicitly spatial. For example, better schol district usually has higher housing price PSF, whereas houses closer to noise or polluters are usually cheaper than otherwise anticipated. Certain variables, such as COVID cases, are implicitly spatial, as individuals' residential addresses may have a minor impact on the chances of getting COVID. Instead, the locations individuals travelled throughout the day and the locations of other COIVD cases play a more important role in the prediction. In both cases, geographic features can help improve the predictive models as long as geographical processes are involved in the social-economic phenomenon.\n",
    "\n",
    "If non-spatial regression model performs poorly on a known dataset, we might make a better model if we can account for spatial structure. Geography provides us with a useful tool to assess structure in the errors. Mapping prediction error can help show whether or not there are clusters of error in our data. If we know that errors tend to be larger in some areas than in other areas, then we might be able to exploit this structure to make better predictions."
   ]
  },
  {
   "cell_type": "code",
   "execution_count": null,
   "id": "0cfb640b-9d6f-4ce7-9e6b-c3fab60c6e37",
   "metadata": {},
   "outputs": [],
   "source": []
  },
  {
   "cell_type": "markdown",
   "id": "29cebbd0-de85-4ab5-9033-b8ebfa38ab01",
   "metadata": {},
   "source": [
    "# References\n",
    "\n",
    "[Geographic Data Science with PySAL and the PyData Stack](https://geographicdata.science/book/intro.html)"
   ]
  },
  {
   "cell_type": "code",
   "execution_count": null,
   "id": "9084eb00-ebfe-4937-92b8-b8eb879bdbd6",
   "metadata": {},
   "outputs": [],
   "source": []
  }
 ],
 "metadata": {
  "kernelspec": {
   "display_name": "Python 3",
   "language": "python",
   "name": "python3"
  },
  "language_info": {
   "codemirror_mode": {
    "name": "ipython",
    "version": 3
   },
   "file_extension": ".py",
   "mimetype": "text/x-python",
   "name": "python",
   "nbconvert_exporter": "python",
   "pygments_lexer": "ipython3",
   "version": "3.9.5"
  }
 },
 "nbformat": 4,
 "nbformat_minor": 5
}
