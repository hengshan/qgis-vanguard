import warnings
warnings.filterwarnings("ignore", category=DeprecationWarning)


import sys
import os

sys.path.append(r'C:\Program Files\QGIS 3.20.3\apps\qgis\python') #this is important for loading qgis library
sys.path.append(r'C:\Program Files\QGIS 3.20.3\apps\qgis\python\plugins') #this is important for loading processing library


import qgis
from qgis.gui import *
from qgis.core import *
from qgis.utils import plugins
from PyQt5.QtCore import *
from qgis.analysis import QgsNativeAlgorithms


get_ipython().run_line_magic("matplotlib", " inline")

import geopandas as gpd
import seaborn as sb
import pandas as pd
import numpy as np
import matplotlib.pyplot as plt
from shapely.geometry import Polygon


from pulp import *


get_ipython().run_line_magic("pwd", "")


Supermarkets_shp = gpd.read_file('Data/Site_Selection/Supermarkets.shp')
Warehouses_shp = gpd.read_file('Data/Site_Selection/Warehouses.shp')


f, (ax1,ax2) = plt.subplots(1,2, figsize=(12, 4))
sz.plot(ax=ax1, legend=False, facecolor="none",edgecolor="k",lw=0.1)
Supermarkets_shp.plot(ax=ax1, column='Demand', legend=True, scheme='Quantiles', legend_kwds={'fmt':'{:.0f}'}, cmap='Blues', edgecolor="k")
sz.plot(ax=ax2, legend=False, facecolor="none",edgecolor="k",lw=0.1)
Warehouses_shp.plot(ax=ax2, column='Capacity', legend=True, scheme='Quantiles', legend_kwds={'fmt':'{:.0f}'}, edgecolor="k")
plt.axis('equal')
plt.show()


# SETS
SUPERMARKETS = list(Supermarkets_shp['Shop_ID'])
WAREHOUSES =  list(Warehouses_shp['WH_ID'])


SUPERMARKETS


WAREHOUSES


# PARAMETERS
demand = dict(zip(SUPERMARKETS,Supermarkets_shp['Demand']))
demand


actcost = dict(zip(WAREHOUSES,Warehouses_shp['Fixed_Cost']))
actcost


maxam = dict(zip(WAREHOUSES,Warehouses_shp['Capacity']))
maxam


# This function determines the Euclidean distance between a facility and customer sites.
import math
def compute_distance(loc1, loc2):
    dx = loc1[0] - loc2[0]
    dy = loc1[1] - loc2[1]
    return math.sqrt(dx*dx + dy*dy)


SUPERMARKETS_XY = list(zip(Supermarkets_shp.geometry.x,Supermarkets_shp.geometry.y))
WAREHOUSES_XY = list(zip(Warehouses_shp.geometry.x,Warehouses_shp.geometry.y))


cost_per_km = 0.01



transp={}
for i, wh in enumerate(WAREHOUSES):
    dist=[]
    for j, _ in enumerate(SUPERMARKETS):
        dist.append(cost_per_km * compute_distance(WAREHOUSES_XY[i],SUPERMARKETS_XY[j])) # warning: distance is weighted by cost
    transp[wh] = dict(zip(SUPERMARKETS,dist))
transp


prob = LpProblem("FacilityLocation",LpMinimize)


serv_vars = LpVariable.dicts("Service", [(i,j) for i in SUPERMARKETS for j in WAREHOUSES],0)


use_vars = LpVariable.dicts("UseLocation",WAREHOUSES,lowBound=0, upBound=1, cat=LpBinary)


prob += lpSum(actcost[j] * use_vars[j] for j in WAREHOUSES) +\
lpSum(transp[j][i] * serv_vars[(i,j)] for j in WAREHOUSES for i in SUPERMARKETS)


for i in SUPERMARKETS:
    prob += lpSum(serv_vars[(i,j)] for j in WAREHOUSES) == demand[i]


for j in WAREHOUSES:
    prob += lpSum(serv_vars[(i,j)] for i in SUPERMARKETS) <=maxam[j] * use_vars[j]


for i in SUPERMARKETS:
    for j in WAREHOUSES:
        prob += serv_vars[(i,j)] <= demand[i] * use_vars[j]


# The problem is solved using PuLP's choice of Solver
prob.solve()


# The status of the solution is printed to the screen
print("Status:", LpStatus[prob.status])


TOL = 0.0001
results=[]
for i in WAREHOUSES:
    if use_vars[i].varValue > TOL:
        print(f"Establish warehouse at: {i}")
        results.append(i)


results


print("Therefore, the optimal warehouses consists of\n")
results=[]
for v in prob.variables():
    if v.varValue>0 and v.name.startswith("Service"):
        print(v.name, "=", v.varValue)


from IPython.display import Audio,Image, YouTubeVideo
id='1pmBjIZ20pE'
YouTubeVideo(id=id,width=600,height=300, start=0)



