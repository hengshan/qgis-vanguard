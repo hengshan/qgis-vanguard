from pandas import DataFrame
p = DataFrame()
p.aggregate()
asdfs
sdfsdf
dfgdfg


def fun1():
    pass

class myclass1():
    def hello_world2(self):
        print("hello world")


m1=myclass1()


m1.hello_world2()
m1.hello_world2()
m1.hello_world2()



