import numpy as np
import pandas as pd


data = np.array(np.arange(1,26)).reshape(5,5)
data


data2 = np.array(np.arange(26,51)).reshape(5,5)
data2


mypd=pd.DataFrame(data, columns=list('abcde'))
mypd


mypd2=pd.DataFrame(data2, columns=['a','f','g','h','i'])
mypd2


mypd2['a'] = mypd['a']


mypd3 = mypd.merge(mypd2,on='a')
mypd3


mypd3['x'] = mypd3['b'] +mypd3['f']


mypd3.iloc[3:,4] =mypd3.iloc[3:,4] +100


mypd3


mypd3.query("e > i")


mypd3['y'] = [0,0,0,1,1]


mypd3


mypd3.groupby('y').agg('sum')



