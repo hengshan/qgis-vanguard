mylist1 = [1,2,3,4]


list(range(10))


[item +10 for item in mylist1]


mylist1[0]


mydict1={"key1":10,"key2":"value"}


mydict1.items


mydict1['key1']


x =3


if x >5:
    print(x)
else:
    print("hahaha")


print(x) if x >5 else print("hello")


[print(i) if i >2 else print("hello") for i in range(10)]


class cls1:
    def fun1(self,arg1):
        print(arg1)


import numpy


import numpy as np


[1,"hello",True,1.22]
