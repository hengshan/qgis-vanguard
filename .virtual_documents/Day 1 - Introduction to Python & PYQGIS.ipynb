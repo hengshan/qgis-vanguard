import sys
import os

sys.path.append(r'C:\Program Files\QGIS 3.20.3\apps\qgis\python') #this is important for loading qgis library
sys.path.append(r'C:\Program Files\QGIS 3.20.3\apps\qgis\python\plugins') #this is important for loading processing library


import qgis
from qgis.gui import *
from qgis.core import *
from qgis.utils import plugins
from PyQt5.QtCore import *
from qgis.analysis import QgsNativeAlgorithms


print(2021,"hello","everyone",True)
print(type(2),type(1.2),type("hello"),type(True))


print(3+4,-5,5-3,3*4,12/4,12//4,10%3,2**8,"Hello "+"QGIS!")
print(3<4,3<=4,3==4,3!=4,3>=4,3>4,0<3 and 3<5,0<3 or 3<5,not True)


mylist=[100,"QGIS",True,3.14159]
print(mylist)
# element=mylist[1]
# print(element)
# mylist[1]="Fred"
# print(mylist)
# mylist.append("new value")
# print(mylist)
# del mylist[2]
# print(mylist)
# lst=['a','b','c','d','e'];
# print(lst[1:3])


mydict={'firstname':"Mike",'employed':True,'height':1.8 }
print(mydict)
# element=mydict["employed"]
# print(element)
# mydict['status']="academic"
# print(mydict)
# del mydict["height"]
# print(mydict)


def plus(a, b):
    return a + b


plus(3, 4)


# Default arguments
def plus(a=1, b=2):
    return a+6


plus()


# arguement can be a list
def some_function(start=[]):
    start.append(1)
    return start


result = some_function()


result.append(2)
result


# argument can be a function
def some_function2(fun):
    fun()
    print("Hello world")
    
def fun():
    print("This is a function")

some_function2(fun)


# an simple example of decorator
def some_function3(fun):
    def wrappedFunc():
        print("Hello world")
        fun()
    return wrappedFunc

@some_function3
def fun():
    print("This is a function")
    
fun()


val=int(input("Type a number: "))
if val > 100:
    print("warning: value is too big")
    val=100
elif val < 0:
    print("warning: value is too small")
    val=0
else:
    print("value is OK")
print("value=",val)


y = 0
for x in range(10):
    y = x


x


y


[x for x in range(10, 20)]


y


x


def scope_of_var():
    x = 20
scope_of_var()


x


x = 3
def foo():
    x=4
    def bar():
        print(x)  # Accesses x from foo's scope
    bar()  # Prints 4
    x=5
    bar()  # Prints 5


foo()


print(x)


list1 = [1,2,3,4]


list2 =range(1,10,2)


list(list2)


newlist=[]
for i in range(1,11):
    newlist.append(i**2)
newlist


#pythonian way for programming
[myname**2 for myname in range(1,11)]


[x ** 2 for x in range(10)]


temp_list = []
for x in range(10):
    temp_list.append(x ** 2)
temp_list


[test*2 for test in range(1,10)] 


# dict comprehension
dict1 = {'a': 1, 'b': 2, 'c': 3, 'd': 4, 'e': 5}
# Double each value in the dictionary
double_dict1 = {k:v*2 for k,v in dict1.items()}
double_dict1


#### OO Programming in 7 minutes


from IPython.display import Audio,Image, YouTubeVideo
id='pTB0EiLXUC8'
YouTubeVideo(id=id,width=600,height=300, start=0)


#### Python OO Programming


id='JeznW_7DlB0'
YouTubeVideo(id=id,width=600,height=300, start=0)


#### OO Programming in 7 minutes


#### OO Programming in 7 minutes


class Person:
    name=""
    age=0
    city=""
    def display(self):
        print("Name : ",self.name)
        print("Age : ",self.age)
        print("City : ",self.city)

p1=Person()
p1.name="Rahul"
p1.age=20
p1.city="Kolkata"
p1.display()

print()

p2=Person()
p2.name="Karan"
p2.age=22
p2.city="Bangalore"
p2.display()

print()
p1.display()


dir(type)


# subclass
# an employee is a type of Person
class Employee(Person):
    def __init__(self, name,department):
        super().__init__(name)
        self.department = department
        print("Initiating an Employee object:" + self.department)
    
    def _method(self):
        print("h")
        


e1 = Employee("A","Department 1")
e2 = Employee("B","Department 2")
e3=Employee("c","Department 2")


# declare our own string class
class StringExample:

    # magic method to initiate object
    def __init__(self, string):
        self.string = string

    # print our string object
    def __repr__(self):
        return 'Object: {}'.format(self.string)
    
    def __add__(self, other):
        return self.string + other

# object creation
string1 = StringExample('Hello')

# print object location
print(string1)

# concatenate String object and a string
print(string1 + ' world')



############ optional #######################
class Bank():
    def __init__(self, balance):
        self.balance = balance
 
    @staticmethod
    def find_interest(loan_money, interest_rate):
        return loan_money * (1 + interest_rate)
 
    @classmethod
    def find_interest_classmethod(cls, loan_money):
        return loan_money * 1.4
 
    def find_interest_instancemethod(self, loan_money):
        if self.balance <= 100:
            return loan_money * 1.2
        else:
            return loan_money * 1.5
 
 
class ATM(Bank):
    def __init__(self, balance):
        super().__init__(balance)
 
    @staticmethod
    def find_interest(loan_money):
        return loan_money * 1.3

atm = ATM(1000)
print('Using staticmethod ->', atm.find_interest(atm.balance))
print('Using classmethod from the parent class ->', Bank.find_interest_classmethod(atm.balance))
print('Using classmethod from the inherited subclass ->', ATM.find_interest_classmethod(atm.balance))
print('Using a regular instance method ->', atm.find_interest_instancemethod(atm.balance))



# hint: i% 3== 0 means i the number is divisible by 3
class Solution(object):
    def fizzBuzz(self, n):
        result = []
        for i in range(1,n+1):
            # if a number is divisible by 3 and 5 both, print “FizzBuzz”
                result.append("FizzBuzz")
            # otherwise when the number is divisible by 3, print “Fizz”
                result.append("Fizz")
            # otherwise when the number is divisible by 5, print “Buzz”
                result.append("Buzz")
            # otherwise, write the number as a string
                result.append(i)
        return result

ob1 = Solution()
print(ob1.fizzBuzz(30))


import numpy as np


get_ipython().run_line_magic('pinfo',  'np')


dir(np)


L3 = [True, "2", 3.0, 4]
[type(item) for item in L3]


list1= [1, 2, 3, 4]
list1


# error 
# list1 + 10


[i +10 for i in list1]


list2= [10, 20, 30, 40]
list2


# list1+list2


a = np.array([10, 20, 90, 50])
b = 50
# the next line cause value error
# foo(a,b)


a


a+b


def foo(a, b):
    if a >= b:
       return a + b
    else:
       return a - b


# Create a vectorized version of foo
vecfoo = np.vectorize(foo)
vecfoo(a,b)


c=[10,20]
d=1
results=[]
for i in c:
    results.append(d+i)
results


[i+b if i>b else i-b for i in a]


a = np.array([10, 20, 90, 100])
b = np.array([50,60])
# a+b


# Create a length-10 integer array filled with zeros
np.zeros(10, dtype=int)


np.zeros(10, dtype='int16')


# Create a 3x5 floating-point array filled with ones
np.ones((3, 5), dtype=float)


# Create a 3x5 array filled with 3.14
np.full((3, 5), 3.14)


# Create a 3x3 identity matrix
np.eye(3)


# Create an uninitialized array of three integers
# The values will be whatever happens to already exist at that memory location
np.empty(3)


# Create an array filled with a linear sequence
# Starting at 0, ending at 20, stepping by 2
# (this is similar to the built-in range() function)
np.arange(0, 20, 5)


# Create an array of five values evenly spaced between 0 and 1
np.linspace(0, 1, 5)


# create an 2D array
a = np.array([[1,2],[3,4],[5,6]])
print(a.shape)
print(a.ndim)
print(a.size)
a


# Create a 3x3 array of uniformly distributed
# random values between 0 and 1
np.random.random((3, 3))


# Create a 3x3 array of normally distributed random values
# with mean 0 and standard deviation 1
np.random.normal(0, 1, (3, 3))


# normal distribution
x = np.random.normal(loc=1, scale=2, size=(2, 3))
print(x)


# normal distribution
x = np.random.normal(loc=0, scale=1, size=100)
print(x)


x2 = np.random.normal(loc=0, scale=5, size=100)
print(x2)


import matplotlib.pyplot as plt
fg, (ax1,ax2) = plt.subplots(1,2,figsize=(15,9))
ax1.scatter(range(0,100), x)
ax1.scatter(range(0,100), x2,c="r")
ax2.scatter(range(0,100), x2)


# Create a 3x3 array of random integers in the interval [0, 10)
np.random.randint(0, 10, (3, 3))


x = np.random.choice([3, 5, 7, 9])
print(x)


x = np.random.choice([3, 5, 7, 9], size=(3, 5))
print(x)


# data distribution
x = np.random.choice([3, 5, 7, 9], p=[0.1, 0.3, 0.6, 0.0], size=(100))
print(x)


# binomial distribution
x = np.random.binomial(n=10, p=0.5, size=10)
print(x)


x = np.random.poisson(lam=2, size=10)
print(x)


x = np.random.uniform(size=(2, 3))


x = np.random.logistic(loc=1, scale=2, size=(2, 3))


x = np.random.multinomial(n=6, pvals=[1/6, 1/6, 1/6, 1/6, 1/6, 1/6])


x = np.random.exponential(scale=2, size=(2, 3))


x = np.random.chisquare(df=2, size=(2, 3))


x = np.array([[1.1,1.2,1.3,1.4],[2.1,2.2,2.3,2.4],[3.1,3.2,3.3,3.4],[4.1,4.2,4.3,4.4]])
x


x[1,2]


x[-2,-1]


x[:3]  # first three rows


x[:3,2:] # row 1 to 3, column 3 to 4 


x[:-1,1]


x[::-1] #reverse row


x[::2]


x[::-2]


x=np.array([9, 8, 7, 6, 5, 4, 3, 2, 1, 0])


x[3::2]


x[3::-2]


x[1:8:2]


x[8:1:-2]


x=np.random.normal(0, 10, (4, 4))
x


x[0] # first row, equals x[0,:]


x[:,0] # first column


subarray = x[:,0]
subarray


subarray[1] = 100
subarray


x


subarray = x[:,0].copy()
subarray[1] = 1000
x


x =np.arange(1, 10)
x


y=x.reshape((3, 3))
y


y[1,1] =100
y


x


y


x[:,np.newaxis]


x[np.newaxis,:] # note that this is a matrix with 1 row and 9 columns. 


# combining array
arr1 = np.array([1, 2, 3])
arr2 = np.array([4, 5, 6])
arr = np.concatenate((arr1, arr2))
arr


arr1 = np.array([[1, 2], [3, 4]])
arr2 = np.array([[5, 6], [7, 8]])


arr = np.concatenate((arr1, arr2), axis=0)
arr


arr_axis1 = np.concatenate((arr1, arr2), axis=1)
arr_axis1


arr1 = np.array([1, 2, 3])
arr2 = np.array([4, 5, 6])
arr_h = np.hstack((arr1, arr2))
arr_h


arr_v = np.vstack((arr1, arr2))
arr_v 


arr_v.shape


arr1


arr2


arr_d = np.dstack((arr1, arr2))
arr_d 


arr_d.shape


# split array
arr = np.array([[1, 2, 3], [4, 5, 6], [7, 8, 9], [10, 11, 12], [13, 14, 15], [16, 17, 18]])
newarr1,newarr2 = np.array_split(arr, 2, axis=1)
newarr1,newarr2


x1, x2, x3 = np.split(arr, [3, 5])
x1, x2, x3 


haha = np.array_split(arr, 4) #array_split does not require equal size
haha


# search
arr = np.array([1, 2, 3, 4, 5, 4, 4])
x = np.where(arr == 4)
x


big_array = np.random.randint(1, 100, size=1000000)


get_ipython().run_line_magic("timeit", " sum(big_array)")
get_ipython().run_line_magic("timeit", " np.sum(big_array)")


x = np.arange(9).reshape((3, 3))
2 ** x


x = np.arange(4)
print("x     =", x)
print("x + 5 =", x + 5)
print("x - 5 =", x - 5)
print("x * 2 =", x * 2)
print("x / 2 =", x / 2)
print("x // 2 =", x // 2)  # floor division
print("-x     = ", -x)
print("x ** 2 = ", x ** 3)
print("x % 2  = ", x % 3)


r1 = np.linspace(1.1,1.5,5)
arr = [r1 + i for i in range(0,5)]
example_arr = np.array(arr)
example_arr


# to add code here


import pandas as pd


data = pd.Series([0.25, 0.5, 0.75, 1.0])
data


data.values


data.index # One difference between Index objects and NumPy arrays is that indices are immutable


data = pd.Series([0.25, 0.5, 0.75, 1.0],
                 index=['a', 'b', 'c', 'd'])
data


data_np = np.array([0.25, 0.5, 0.75, 1.0])


data.b


data['b']


# Python Dictionary

population_dict = {'PHILLIP': 0,
                   'TIONG BAHRU': 12830,
                   'CRAWFORD': 9200,
                   'MOUNT EMILY': 1210,
                   'BOULEVARD': 420}
population = pd.Series(population_dict)
population


population['PHILLIP':'MOUNT EMILY'] # python dictionary doesn't support this. try population_dict['PHILLIP':'MOUNT EMILY']


population


population['PHILLIP']


population.PHILLIP


'CRAWFORD' in population


9200 in population


x = [1,2,3]

1 in x


y = {'a':1,'b':2}
'a' in y


population.keys()


population.values


population.items()


list(population.items())


population


# slicing by explicit index
population['PHILLIP':'CRAWFORD']


# slicing by implicit integer index
population[0:2]


# masking
population[(population > 1000) & (population < 10000)]


# fancy indexing
population[['PHILLIP', 'CRAWFORD']]


area_dict = {'PHILLIP': 39437,
                   'TIONG BAHRU': 448127,
                   'CRAWFORD': 850853,
                   'MOUNT EMILY': 193992,
                   'BOULEVARD': 460550}
area = pd.Series(area_dict)
                 
sing = pd.DataFrame({'population': population,
                       'area': area})
sing


sing.index


sing.columns


sing['area']


sing['area']


sing.area


sing


sing['density'] = sing['population'] / sing['area']


sing


sing.values


sing.index


sing.keys


sing['PHILLIP':'MOUNT EMILY']


sing.loc['CRAWFORD':,:'density']


sing.iloc[1:,:2]


# negative number -1 here means not select the last column
sing.iloc[:,:-1] 


sing['CRAWFORD':]


sing.loc[:,'area':]


sing.loc[area>50000,['population']]


sing.loc[area>50000,'population']


type(sing.loc[area>50000,'population'])


sing[area>50000].filter(['density','population'])


df = pd.DataFrame(
[[4, 7, 10],
[5, 8, 11],
[6, 9, 12]],
index=[1, 2, 3],
columns=['a', 'b', 'c'])


df


pd_melt = pd.melt(df, id_vars='a')
pd_melt


pd_pivot = pd.pivot(pd_melt, index ='a',columns='variable',values='value')
pd_pivot


pd_pivot = pd.pivot(pd_melt, index ='a',columns='variable',values='value').rename_axis(None, axis=1).reset_index()
pd_pivot


df.a.unique()


df


df['d1']= df.a+df.b


df


# make new columns
df = df.assign(d = df.a +df.b)
df


df['e']=df.c + df.d


df


df2=pd.DataFrame(np.array([[1,2,3,4,5]]),columns=list('abcde'))
df2


df3 = pd.concat([df, df2])
df3


df4=pd.concat([df3, pd.DataFrame({'index':range(4)})],axis=1)
df4 = df4.set_index('index')
df4


df5=pd.concat([df4, pd.DataFrame({'category':list('ab')*2})],axis=1)
df5


df5.sort_values('category')


df5


df5.groupby('category').agg(['mean','sum'])


df5.groupby('category').apply(np.mean)


data = np.array(np.arange(1,26)).reshape(5,5)
data


data2 = np.array(np.arange(26,51)).reshape(5,5)
data2


mypd=pd.DataFrame(data, columns=list('abcde'))
mypd


mypd2=pd.DataFrame(data2, columns=['a','h','i','g','k'])
mypd2


mypd2['a'] = mypd['a']


mypd


mypd2


mypd2.iloc[0,0] = 100


get_ipython().run_line_magic('pinfo',  'pd.merge')


mypd3 = mypd.merge(mypd2,on='a')
mypd3


#install ipympl for interactive matplotlib
#!pip install ipympl


import geopandas as gpd
from shapely.geometry import box
import matplotlib.pyplot as plt
get_ipython().run_line_magic("matplotlib", " inline")
# %matplotlib widget


# open shape file
sz = gpd.read_file('Data/MP14_Subzone_SE_2017.shp')
sz.head()


# !pip install openpyxl


# attr=pd.read_excel('Data/ADZ_2017Dec_combined04_attributes.xlsx',sheet_name="Attributes_definition",engine='openpyxl')  
# attr


sz.plot()


sz['centroid'] = sz.geometry.centroid


sz.head()


# Plot centroids
ax = sz.set_geometry('centroid')\
                .plot('PLN_AREA_N', 
                      markersize=5
                     )

# Plot polygons without color filling
sz.plot('PLN_AREA_N', 
                 ax=ax, 
                 facecolor='none', 
                 edgecolor='k', 
                 linewidth=.2
                )


sz.query('SUBZONE_N == "RAFFLES PLACE"')


sz.query('SUBZONE_N == "RAFFLES PLACE"').plot()


sz.columns


# some cmap codes 
# viridis, plasma, inferno, magma, cividis
# Greys, Purples, Blues, Greens, Oranges, Reds
# YlOrBr, OrRd, PuRd, RdPu, BuPu, GnBu, PuBu, YlGnBu, PuBuGn, BuGn, YlGn
# PiYg, PRGn, BrBG, PuOr, RdGy, RdBu, RdYlBu, Spectral, coolwarm, bwr, seismic
# twilight, twilight_shifted, hsv
# Pastel1, Pastel2, PAired, Accent, Dark2, Set1, Set2, Set3, tab10, tab20, tab20b, tab20c
sz.plot("BET5TO6", cmap='RdPu', figsize=(10, 5))
# We can also plot the  polygons with no fill color by using GeoDataFrame.boundary.plot()
# sz.boundary.plot()


sz.boundary.plot()


# we can choose one subzone to plot
sz.query('PLN_AREA_N == "OUTRAM"').plot(figsize=(12, 6))


# add label
ax = sz.plot('PLN_AREA_N', cmap='Pastel2')
sz.apply(lambda x: ax.annotate(text=x.SUBZONE_N, xy=x.geometry.centroid.coords[0], ha='center', fontsize=3),axis=1);
sz.boundary.plot(ax=ax, figsize=(25, 14), color='Black', linewidth=.4)


schools_latlong = pd.read_csv("Data/CentralRegion_schools_latlong.csv")


schools_latlong


schools_geoms = gpd.points_from_xy(x=schools_latlong["longitude"],
                                    y=schools_latlong["latitude"],
                                    crs="epsg:4326"
                                   )


schools = gpd.GeoDataFrame(schools_latlong,
                                   geometry=schools_geoms
                                  )


# ensure that the two layers have the same crs
# here we have to transform the crs instead of set a new
central_schools_sf=schools.to_crs("epsg:3414")


central_schools_sf.plot()


central_schools_postcode =  pd.read_csv('Data/CentralRegion_schools_postcode.csv')
central_schools_postcode.head()


# attribute join
central_schools_merged = central_schools_sf.merge(central_schools_postcode, on='BUILDING_N')
central_schools_merged.head()


get_ipython().run_line_magic('pinfo',  'gpd.sjoin')


sz.sindex.valid_query_predicates


joined= gpd.sjoin(sz,central_schools_merged, how="inner", op='intersects')
joined.head()


import seaborn as sb
import mapclassify


sz.describe()


sz.columns


# attr is the excel describing attributes
attr.columns


attr.query("Attribute=='O' or Attribute=='P'")


# first define a list
ls = ['O', 'P']
attr.query("Attribute ==@ls") # which is slightly faster than attr.query("Attribute in @ls")


attr.query("Attribute in @ls")


sz[['SUBZONE_N', 'BET0TO2','O', 'P']].head()


h = seaborn.histplot(sz['BET0TO2'], bins=5, kde=True)


counts, bins, patches = h.hist(sz['BET0TO2'], bins=5)


counts


bins


3590/5


sz['BET0TO2'].describe()


ei5 = mapclassify.EqualInterval(sz['BET0TO2'], k=5)
ei5


q5 = mapclassify.Quantiles(sz.BET0TO2, k=5) # sz.BET0TO2 equals sz['BET0TO2'] 
q5


q5.bins[1:]-q5.bins[:-1]


np.random.seed(12345)
x = np.random.randint(0,10,20)
x[0:10] = x.min()
x


ties = mapclassify.Quantiles(x, k=5)
ties


x


msd = mapclassify.StdMean(sz.BET0TO2)
msd


mb5 = mapclassify.MaximumBreaks(sz.BET0TO2, k=5)
mb5


f, ax = plt.subplots(1, figsize=(9, 5))
sz.plot(ax=ax, color='grey', edgecolor='white')
ax.set_axis_off()
ax.set_title('Singapore Subzones')
plt.axis('equal')
plt.show()


f, ax = plt.subplots(1, figsize=(9, 9))
sz.plot(ax=ax, column='BET0TO2', legend=True, scheme='Quantiles',legend_kwds={'fmt':'{:.0f}'})
ax.set_axis_off()
ax.set_title('Singapore Population Between 0 to 2 years Old')
plt.axis('equal')
plt.show()


f, ax = plt.subplots(1, figsize=(9, 9))
sz.plot(ax=ax, column='BET0TO2', legend=True, scheme='Quantiles', legend_kwds={'fmt':'{:.0f}'}, cmap='Reds', edgecolor="k")
ax.set_axis_off()
ax.set_title('Singapore Population Between 0 to 2 years Old')
plt.axis('equal')
plt.show()


sz.columns


f, (ax1,ax2) = plt.subplots(1,2,figsize=(12, 6))

sz.plot(ax = ax1, column='BET0TO2', legend=True, scheme='Quantiles', legend_kwds={'fmt':'{:.0f}'}, cmap='Reds', edgecolor="k")
ax1.set_title('Singapore Population Between 0 to 2 years Old')
ax1.axis('equal')

sz.plot(ax = ax2,column='BET3TO4', legend=True, scheme='equal_interval', legend_kwds={'fmt':'{:.0f}'}, cmap='Blues', edgecolor="k")
ax2.set_title('Singapore Population Between 0 to 2 years Old')
ax2.axis('equal')

plt.show()


sz.columns


sz


sz['rank_0to2'] = sz['BET0TO2'].rank(ascending=False) # ascending ranks 1=high, n=lowest
sz['rank_3to4'] =sz['BET3TO4'].rank(ascending=False)
delta_rnk = sz['rank_0to2'] - sz['rank_3to4']
delta_rnk


cls = np.digitize(delta_rnk, [-5, 0, 5, 20])
cls


f, ax = plt.subplots(1, figsize=(9, 9))
sz.assign(cl=cls).plot(ax=ax, column='cl', categorical=True, cmap='RdYlBu',
           scheme='equal_interval', k=4,legend=True)
ax.set_axis_off
ax.set_title('Singapore Population Change Between 0 to 2 years Old')
plt.axis('equal')
plt.show()


sz['SUBZONE_N'].head()


sz.plot("SUBZONE_N", cmap='Pastel1',figsize=(25,9))


f, ax = plt.subplots(1,figsize=(12, 6))

sz.boundary.plot(ax=ax, figsize=(25, 14), color='Black', linewidth=.4)
sz.plot('PLN_AREA_N',ax=ax, cmap='Pastel2',alpha=0.7)
central_schools_sf.plot(ax=ax)


sz = gpd.read_file('Data/MP14_Subzone_SE_2017.shp')


sz_df = sz.loc[:,['SUBZONE_N','PLN_AREA_N','REGION_N','geometry']]


sz.filter(regex='^BET', axis=1)


sz_df['Age_0to6']= sz.filter(regex='^BET', axis=1).iloc[:,:3].sum(axis=1)
sz_df['Age_20to29']= sz.filter(regex='^BET', axis=1).loc[:,'BET20TO24':'BET25TO29'].sum(axis=1)
sz_df['Age_45to54']= sz.filter(regex='^BET', axis=1).loc[:,'BET45TO49':'BET50TO54'].sum(axis=1)
sz_df['Age_over85']= sz['OVER85']


sz_df


# strong correlation between Age_20_to_29 and Age_45_to_54. to avoid Multicollinearity, we drop one field
sz_df.drop('Age_45to54',inplace=True,axis=1)


sz_df.corr()


sz_df['HDB_AV_E']= sz['Avg_AV_E']
sz_df['HDB_AV_543rm']= sz.filter(regex='^Avg', axis=1).loc[:,'Avg_AV_5rm':'Avg_AV_3rm'].sum(axis=1)
sz_df['HDB_AV_2rm']= sz['Avg_AV_1rm']
sz_df['HDB_AV_1rm']= sz['Avg_AV_1rm']


sz_df.corr()


sz_df.drop('HDB_AV_543rm',inplace=True,axis=1)


sz_df.corr()


sz.filter(regex='^AV.*ave$', axis=1).corr()


sz_df['House_AV']= sz['AV_121_ave']
sz_df['Condo_AV']= sz['AV_131_ave']
sz_df['EC_AV']= sz['AV_132_ave']
sz_df['Apart_AV']= sz['AV_139_ave']


sz_df.corr()


sz_df['e12k_Over']= sz['e12k_Over']
sz_df['DP']=sz['DP_LTVP']
sz_df['FDW']=sz['FDW']
sz_df['WP']=sz['WP']


sz_df.corr()


sz_df['stud_lprim']=sz['LOWER_PRIM']
sz_df['stud_jcoll']=sz['JCCI']


sz_df['Inact_CPF']=sz['Others']
sz_df['VariableX']=sz['VariableX']


sz_df.corr()


sz_df.to_file("Data/MP14_Subzone_CPF_2017.shp")


X = np.linspace(0.1,2*np.pi,100)


Y = np.sin(X)


fig, ax = plt.subplots(1,2,figsize=(12,3))
ax[0].set_facecolor('#ddddff')
# ax.plot(X,Y,'o-r',ms=3,markevery=25)
ax[0].scatter(X,Y,s=3,color='b')


ax[1].set_facecolor('#ddddee')
ax[1].plot(X,Y,'v:r',ms=3,markevery=25)


import sys
import os

sys.path.append(r'C:\Program Files\QGIS 3.20.3\apps\qgis\python') #this is important for loading qgis library
sys.path.append(r'C:\Program Files\QGIS 3.20.3\apps\qgis\python\plugins') #this is important for loading processing library


import qgis
from qgis.gui import *
from qgis.core import *
from qgis.utils import plugins
from PyQt5.QtCore import *
from qgis.analysis import QgsNativeAlgorithms


print(sys.path)


os.getcwd()


from PyQt5.QtGui import *
from PyQt5.QtWidgets import *


get_ipython().run_line_magic('pinfo',  'QApplication')


def window():
    app = QApplication(sys.argv)
    w = QWidget()
    b = QPushButton(w)
    b.setText("Show message!")

    b.move(50,50)
    b.clicked.connect(showdialog)
    w.setWindowTitle("PyQt Dialog demo")
    w.show()
    sys.exit(app.exec_())

def showdialog():
    msg = QMessageBox()
    msg.setIcon(QMessageBox.Information)

    msg.setText("This is a message box")
    msg.setInformativeText("This is additional information")
    msg.setWindowTitle("MessageBox demo")
    msg.setDetailedText("The details are as follows:")
    msg.setStandardButtons(QMessageBox.Ok | QMessageBox.Cancel)
    msg.buttonClicked.connect(msgbtn)

    retval = msg.exec_()
    print("value of pressed message box button:", retval)

def msgbtn(i):
    print("Button pressed is:",i.text())

window()


QgsApplication.setPrefixPath(r'C:\Program Files\QGIS 3.20.3\apps\qgis', True)
qgs = QgsApplication([], True)
qgs.initQgis()


canvas = QgsMapCanvas()
canvas.show()
canvas.setCanvasColor(Qt.white)
canvas.enableAntiAliasing(True)

layer = QgsVectorLayer(r"Data\MP14_Subzone_Y_2017.shp", "SocioEcon", "ogr")

if not layer.isValid():
    raise IOError("Failed to open the layer")

# add layer to the registry
QgsProject.instance().addMapLayer(layer)

# set extent to the extent of our layer
canvas.setExtent(layer.extent())

# set the map canvas layer set
canvas.setLayers([layer])
qgs.exec_()


QgsProject.instance().mapLayers().values()


get_ipython().run_line_magic("pwd", "")


class MyWnd(QMainWindow):
    def __init__(self, layer):
        QMainWindow.__init__(self)

        self.canvas = QgsMapCanvas()
        self.canvas.setCanvasColor(Qt.white)

        self.canvas.setExtent(layer.extent())
        self.canvas.setLayers([layer])

        self.setCentralWidget(self.canvas)
        
        # add menu
        menubar = self.menuBar()
        menu_file = menubar.addMenu('File')
        open_action = menu_file.addAction("Open project")
        menu_help = menubar.addMenu('Help')
        open_action = menu_help.addAction("About")
        
        #there is always one tool active and the user can switch between the available tools.
        self.actionZoomIn = QAction("Zoom in", self)
        self.actionZoomOut = QAction("Zoom out", self)
        self.actionPan = QAction("Pan", self)
        
        # setcheckable means that users need to check the button and then interact with the map canvas
        self.actionZoomIn.setCheckable(True)
        self.actionZoomOut.setCheckable(True)
        self.actionPan.setCheckable(True)
        
        # triggered connect action with a function 
        self.actionZoomIn.triggered.connect(self.zoomIn)
        self.actionZoomOut.triggered.connect(self.zoomOut)
        self.actionPan.triggered.connect(self.pan)
        
        # add a toolbar to contain all the buttons
        self.toolbar = self.addToolBar("Canvas actions")
        self.toolbar.addAction(self.actionZoomIn)
        self.toolbar.addAction(self.actionZoomOut)
        self.toolbar.addAction(self.actionPan)

        # create the map tools
        self.toolPan = QgsMapToolPan(self.canvas)
        self.toolPan.setAction(self.actionPan)
        self.toolZoomIn = QgsMapToolZoom(self.canvas, False) # false = in
        self.toolZoomIn.setAction(self.actionZoomIn)
        self.toolZoomOut = QgsMapToolZoom(self.canvas, True) # true = out
        self.toolZoomOut.setAction(self.actionZoomOut)

        self.pan()
        self.initUI()

    def initUI(self):
        self.setWindowTitle('Map Canvas Example')
        
        self.my_act = QAction(QIcon('Resources/sla.png'), 'Identify', self)
        self.my_act.setCheckable(True)
        self.my_act.triggered.connect(self.identify)
        self.toolbar2 = self.addToolBar('Identify')
        self.toolbar2.addAction(self.my_act)
        
        self.toolIdentify = QgsMapToolIdentifyFeature(self.canvas)
        self.toolIdentify.setAction(self.my_act)

        self.toolIdentify.setLayer(layer)
        self.toolIdentify.featureIdentified.connect(self.onFeatureIdentified)

    def zoomIn(self):
        self.canvas.setMapTool(self.toolZoomIn)

    def zoomOut(self):
        self.canvas.setMapTool(self.toolZoomOut)

    def pan(self):
        self.canvas.setMapTool(self.toolPan)
        
    def identify(self):
        self.canvas.setMapTool(self.toolIdentify)
        
    def onFeatureIdentified(self,feature):
        self.fid = feature.id()
        print("feature selected ID is: " + str(self.fid))
        
    def getCanvas(self):
        return self.canvas
        
vlayer =QgsVectorLayer("Data/MP14_REGION_NO_SEA_PL.shp","MP14_REGION_NO_SEA_PL","ogr")
w = MyWnd(vlayer)
w.show()
qgs.exec_()


class MyWndDrawItem(MyWnd):
    def __init__(self,layer):
        super().__init__(layer)
    
    def initUI(self):
        super().initUI()
        self.my_tool_item_rect = QAction(QIcon('Resources/icons8-rectangle-48.png'), 'Rectangle Item', self)
        self.my_tool_item_rect.setCheckable(False)
        self.my_tool_item_rect.triggered.connect(self.rectItem)
        self.toolbar2.addAction(self.my_tool_item_rect)
        
    def rectItem(self):
        r = QgsRubberBand(self.canvas,True)  # True = a polygon
        points = [[QgsPointXY(44167,24960), QgsPointXY(46692,24960), QgsPointXY(46692,21808), QgsPointXY(44167,21808)]]
        r.setToGeometry(QgsGeometry.fromPolygonXY(points), None)
        
        # we can change the color and width of the rectangle
#         r.setColor(QColor(0, 0, 255))
#         r.setWidth(3)
        
w2 = MyWndDrawItem(vlayer)
w2.show()
qgs.exec_()


class CircleCanvasItem(QgsMapCanvasItem):
    def __init__(self, canvas):
        super().__init__(canvas)
        self.center = QgsPoint(0,0)
        self.size   = 80

    def setCenter(self, center):
        self.center = center

    def center(self):
        return self.center

    def setSize(self, size):
        self.size = size

    def size(self):
        return self.size

    def boundingRect(self):
        return QRectF(self.center.x() - self.size/2,
          self.center.y() - self.size/2,
          self.center.x() + self.size/2,
          self.center.y() + self.size/2)

    def paint(self, painter, option, widget):
        path = QPainterPath()
        path.moveTo(self.center.x(), self.center.y());
        path.arcTo(self.boundingRect(), 0.0, 360.0)
        painter.fillPath(path, QColor("red"))


class MyWndDrawCircle(MyWndDrawItem):
    def __init__(self,layer):
        super().__init__(layer)
    
    def initUI(self):
        super().initUI()
        self.my_tool_item_circle = QAction(QIcon('Resources/icons8-circle-48.png'), 'Circle Item', self)
        self.my_tool_item_circle.setCheckable(False)
        self.my_tool_item_circle.triggered.connect(self.circleItem)
        self.toolbar2.addAction(self.my_tool_item_circle)
    
    # wait until the next cell class CircleCanvasItem created
    def circleItem(self):
        item = CircleCanvasItem(self.canvas)
        item.setCenter(QgsPointXY(80,80))
        item.setSize(80)
        
w3 = MyWndDrawCircle(vlayer)
w3.show()
qgs.exec_()


class PolyMapTool(QgsMapToolEmitPoint):

    def __init__(self, canvas):
        self.canvas = canvas
        QgsMapToolEmitPoint.__init__(self, self.canvas)
#         self.rubberband = QgsRubberBand(self.canvas, QgsWkbTypes.LineGeometry)
        self.rubberband = QgsRubberBand(self.canvas, QgsWkbTypes.PolygonGeometry)
        self.rubberband.setColor(Qt.red)
        self.rubberband.setWidth(1)
        self.point = None
        self.points = []

    def canvasPressEvent(self, e):
        self.point = self.toMapCoordinates(e.pos())
        m = QgsVertexMarker(self.canvas)
        m.setCenter(self.point)
        m.setColor(QColor(0,255,0))
        m.setIconSize(5)
        m.setIconType(QgsVertexMarker.ICON_BOX)
        m.setPenWidth(3)
        self.points.append(self.point)
        self.isEmittingPoint = True
        self.showPoly()
    
    def showPoly(self):
#         self.rubberband.reset(QgsWkbTypes.LineGeometry)
        self.rubberband.reset(QgsWkbTypes.PolygonGeometry)
        for point in self.points[:-1]:
            self.rubberband.addPoint(point, False)
            # if we add the two lines here, it be another interesting drawtool
            self.rubberband.addPoint(self.points[-1], True)
            self.rubberband.show()
        self.rubberband.addPoint(self.points[-1], True)
        self.rubberband.show()


class MyWndDrawPolyTool(MyWndDrawCircle):
    def __init__(self,layer):
        super().__init__(layer)
    
    def initUI(self):
        super().initUI()
        
        # First we define our polygon tool’s button in the actions portion of our application. 
        self.my_poly_tool = QAction(QIcon('Resources/icons8-polygon-64.png'), 'Poly Tool', self)
        
        # we make sure that when you click the button, it stays selected:
        self.my_poly_tool.setCheckable(True)
        
        # we define the method used when the button is triggered
        self.my_poly_tool.triggered.connect(self.poly)
        self.toolbar2.addAction(self.my_poly_tool)
        
        # Then we link the application to our specialized tool class:
        self.toolPoly = PolyMapTool(self.canvas)
        self.toolPoly.setAction(self.my_poly_tool)

    # we define the method in the main application class for our tool:
    def poly(self):
        self.canvas.setMapTool(self.toolPoly)
        
w4 = MyWndDrawPolyTool(vlayer)
w4.show()
qgs.exec_()


import processing
from processing.core.Processing import Processing
Processing.initialize()
QgsApplication.processingRegistry().addProvider(QgsNativeAlgorithms())
for alg in QgsApplication.processingRegistry().algorithms():
        print(alg.id(), "--->", alg.displayName())


source = r"Data\smile.geojson"
inputvector = QgsVectorLayer(source)
fig, ax = plt.subplots(figsize = (5,5))
gpd.read_file(source).plot(ax=ax);


processing.algorithmHelp("native:extractvertices")


vertice_out = r"Data\smile_vertices.geojson"
# just delete the output if exist
if os.path.exists(vertice_out):
    os.remove(vertice_out)
else:
    pass
params = {
    'INPUT': inputvector,
    'OUTPUT': vertice_out
}
feedback = QgsProcessingFeedback()
results = processing.run("native:extractvertices", params, feedback=feedback)


fig, ax = plt.subplots(figsize = (5,5))
gpd.read_file(vertice_out).plot(ax=ax);


processing.algorithmHelp("native:buffer") 


buffer_out = r"Data\smile_vertices_hahaha22.geojson"

# just delete the output if exist
if os.path.exists(buffer_out):
    os.remove(buffer_out)
else:
    pass


source = r'Data\smile_vertices.geojson'
inputvector = QgsVectorLayer(source, 'smile_vertices','ogr')
inputvector


params = { 'DISSOLVE' : True, 
          'DISTANCE' : 1, 
          'END_CAP_STYLE' : 0, 
          'INPUT' : inputvector, 
          'JOIN_STYLE' : 0, 
          'MITER_LIMIT' : 2, 
          'OUTPUT' : buffer_out, 
          'SEGMENTS' : 10 }

feedback = QgsProcessingFeedback()
processing.run("native:buffer", params, feedback=feedback)
fig, ax = plt.subplots(figsize = (10,5))
gpd.read_file(buffer_out).plot(ax=ax,aspect='equal');


# Finally, exitQgis() is called to remove the
# provider and layer registries from memory
qgs.exitQgis()
qgs.exit()



