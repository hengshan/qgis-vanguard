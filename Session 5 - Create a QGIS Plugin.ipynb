{
 "cells": [
  {
   "cell_type": "markdown",
   "id": "9bcc4536-d258-4ed2-9062-5297b99bc673",
   "metadata": {},
   "source": []
  },
  {
   "cell_type": "markdown",
   "id": "7c4de356-2e5e-409d-b8fc-a843c5fbb541",
   "metadata": {},
   "source": [
    "QGIS sugguest developers to add their code as a subplugin of Processing, rather than as a separate plugin. This save coding, and the users have more consistent and powerful tools, that can be integrated in a model, run in batch, and more"
   ]
  }
 ],
 "metadata": {
  "kernelspec": {
   "display_name": "Python 3",
   "language": "python",
   "name": "python3"
  },
  "language_info": {
   "codemirror_mode": {
    "name": "ipython",
    "version": 3
   },
   "file_extension": ".py",
   "mimetype": "text/x-python",
   "name": "python",
   "nbconvert_exporter": "python",
   "pygments_lexer": "ipython3",
   "version": "3.7.0"
  }
 },
 "nbformat": 4,
 "nbformat_minor": 5
}
