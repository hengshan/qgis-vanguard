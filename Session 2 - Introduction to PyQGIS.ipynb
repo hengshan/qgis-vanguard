{
 "cells": [
  {
   "cell_type": "code",
   "execution_count": 1,
   "id": "fa2fc58e-be7a-42ca-9cda-383e419efaf2",
   "metadata": {
    "tags": []
   },
   "outputs": [],
   "source": [
    "import warnings\n",
    "warnings.filterwarnings(\"ignore\", category=DeprecationWarning)"
   ]
  },
  {
   "cell_type": "markdown",
   "id": "76c3e245-1d8f-4b46-830c-1db0bc980e66",
   "metadata": {},
   "source": [
    "# Session 2 - Introduction to PYQGIS <img src=\"./Resources/sla.png\" width=\"100\" align =\"right\"/>"
   ]
  },
  {
   "cell_type": "markdown",
   "id": "498f8717-a2b7-4609-aef7-1b2ca7358606",
   "metadata": {},
   "source": [
    "This session will get you started on learning how to use PyQGIS code to increase your GIS efficiency. There are several ways to use PyQGIS in QGIS Desktop including: \n",
    "\n",
    "* Automatically run Python code when QGIS starts\n",
    "* **Issue commands in the Python console within QGIS**\n",
    "* **Create and use plugins**\n",
    "* **Create processing algorithms**\n",
    "* Create functions for expressions in QGIS\n",
    "* Create custom applications based on the QGIS API\n",
    "\n",
    "In this course, we will focus on the three highlighted ways of using Python. You will be able to run complex workflows with the click of a button instead of clicking through multiple tools to recreate results. The skills learned in this course (Session 5) will also help you develop custom plugins for QGIS.\n",
    "\n",
    "This course is just an introduction to PYQGIS. For all details, see [PyQGIS Developer Cookbook](https://docs.qgis.org/3.16/en/docs/pyqgis_developer_cookbook/index.html) and [QGIS Python API](https://qgis.org/pyqgis/master/) for the ultimate references.\n"
   ]
  },
  {
   "cell_type": "markdown",
   "id": "500f108a-53a2-444e-b3ab-bb26959362af",
   "metadata": {},
   "source": [
    "# Standalone PYQGIS"
   ]
  },
  {
   "cell_type": "markdown",
   "id": "a570f94d-8b72-4d39-ba0d-9ffe51745f78",
   "metadata": {},
   "source": [
    "## Import relevant modules"
   ]
  },
  {
   "cell_type": "code",
   "execution_count": 2,
   "id": "ff2c5964-002a-413c-b517-c8c14a76fa87",
   "metadata": {},
   "outputs": [],
   "source": [
    "import sys\n",
    "import os\n",
    "\n",
    "import qgis\n",
    "from qgis.gui import *\n",
    "from qgis.core import *\n",
    "from qgis.utils import plugins\n",
    "from PyQt5.QtCore import *\n",
    "from qgis.analysis import QgsNativeAlgorithms\n",
    "\n",
    "# sys.path.append(r'C:\\OSGeo4W64\\apps\\qgis\\python') #this is important for loading processing library\n",
    "# sys.path.append(r'C:\\OSGeo4W64\\apps\\qgis\\python\\plugins') #this is important for loading processing library"
   ]
  },
  {
   "cell_type": "code",
   "execution_count": 3,
   "id": "1b5e9d57-bc07-46f3-b121-6452089746c4",
   "metadata": {},
   "outputs": [
    {
     "name": "stderr",
     "output_type": "stream",
     "text": [
      "C:\\Users\\user\\.conda\\envs\\qgis-vanguard\\lib\\site-packages\\ipykernel\\ipkernel.py:283: DeprecationWarning: `should_run_async` will not call `transform_cell` automatically in the future. Please pass the result to `transformed_cell` argument and any exception that happen during thetransform in `preprocessing_exc_tuple` in IPython 7.17 and above.\n",
      "  and should_run_async(code)\n"
     ]
    }
   ],
   "source": [
    "QgsApplication.setPrefixPath(r'C:\\OSGeo4W64\\apps\\qgis', True)\n",
    "qgs = QgsApplication([], False)\n",
    "qgs.initQgis()\n"
   ]
  },
  {
   "cell_type": "code",
   "execution_count": 4,
   "id": "8896fc36-8af8-41ef-9da2-a548144f9d55",
   "metadata": {},
   "outputs": [
    {
     "name": "stdout",
     "output_type": "stream",
     "text": [
      "['C:\\\\Users\\\\user\\\\Desktop\\\\Projects\\\\qgis-vanguard', 'C:\\\\Users\\\\user\\\\.conda\\\\envs\\\\qgis-vanguard\\\\Library\\\\python\\\\plugins', 'C:\\\\Users\\\\user\\\\.conda\\\\envs\\\\qgis-vanguard\\\\Library\\\\python', 'C:\\\\OSGeo4W64\\\\apps\\\\qgis\\\\python', 'C:\\\\Users\\\\user\\\\.conda\\\\envs\\\\qgis-vanguard\\\\python39.zip', 'C:\\\\Users\\\\user\\\\.conda\\\\envs\\\\qgis-vanguard\\\\DLLs', 'C:\\\\Users\\\\user\\\\.conda\\\\envs\\\\qgis-vanguard\\\\lib', 'C:\\\\Users\\\\user\\\\.conda\\\\envs\\\\qgis-vanguard', '', 'C:\\\\Users\\\\user\\\\.conda\\\\envs\\\\qgis-vanguard\\\\lib\\\\site-packages', 'C:\\\\Users\\\\user\\\\.conda\\\\envs\\\\qgis-vanguard\\\\lib\\\\site-packages\\\\win32', 'C:\\\\Users\\\\user\\\\.conda\\\\envs\\\\qgis-vanguard\\\\lib\\\\site-packages\\\\win32\\\\lib', 'C:\\\\Users\\\\user\\\\.conda\\\\envs\\\\qgis-vanguard\\\\lib\\\\site-packages\\\\Pythonwin', 'C:\\\\Users\\\\user\\\\.conda\\\\envs\\\\qgis-vanguard\\\\lib\\\\site-packages\\\\IPython\\\\extensions', 'C:\\\\Users\\\\user\\\\.ipython']\n"
     ]
    }
   ],
   "source": [
    "print(sys.path)"
   ]
  },
  {
   "cell_type": "code",
   "execution_count": 5,
   "id": "da5b03ca-9b7b-448f-8a4c-8c1b2e68edf8",
   "metadata": {},
   "outputs": [
    {
     "data": {
      "text/plain": [
       "'C:\\\\Users\\\\user\\\\Desktop\\\\Projects\\\\qgis-vanguard'"
      ]
     },
     "execution_count": 5,
     "metadata": {},
     "output_type": "execute_result"
    }
   ],
   "source": [
    "os.getcwd()"
   ]
  },
  {
   "cell_type": "markdown",
   "id": "9b90d25d-3fde-4220-93b8-a6e09ed7aa76",
   "metadata": {},
   "source": [
    "## PyQT MessageBox example"
   ]
  },
  {
   "cell_type": "code",
   "execution_count": 6,
   "id": "6272c095-8b90-4d80-9635-6b82e50bece4",
   "metadata": {},
   "outputs": [],
   "source": [
    "from PyQt5.QtGui import *\n",
    "from PyQt5.QtWidgets import *"
   ]
  },
  {
   "cell_type": "code",
   "execution_count": 7,
   "id": "6d79c1f4-20ae-4bba-a1d0-fd0d5242881e",
   "metadata": {},
   "outputs": [
    {
     "name": "stdout",
     "output_type": "stream",
     "text": [
      "You pressed OK\n"
     ]
    }
   ],
   "source": [
    "mb = QMessageBox()\n",
    "mb.setText('Click OK to confirm')\n",
    "mb.setStandardButtons(QMessageBox.Ok | QMessageBox.Cancel)\n",
    "return_value = mb.exec()\n",
    "if return_value == QMessageBox.Ok:\n",
    "    print('You pressed OK')\n",
    "elif return_value == QMessageBox.Cancel:\n",
    "    print('You pressed Cancel')"
   ]
  },
  {
   "cell_type": "markdown",
   "id": "fd681502-41cb-424d-8c94-63834274b68c",
   "metadata": {},
   "source": [
    "## Open a QGIS project "
   ]
  },
  {
   "cell_type": "code",
   "execution_count": 8,
   "id": "1816a66e-7f27-448b-98e2-b44ed11f7c41",
   "metadata": {},
   "outputs": [
    {
     "name": "stdout",
     "output_type": "stream",
     "text": [
      "{'Default': <QgsRasterLayer: 'Default' (wms)>, 'MP14_REGION_NO_SEA_PL': <QgsVectorLayer: 'MP14_REGION_NO_SEA_PL' (ogr)>, 'MP14_Subzone_SE_2017': <QgsVectorLayer: 'MP14_Subzone_SE_2017' (ogr)>, 'MP14_Subzone_SocioEconIndicators_2017': <QgsVectorLayer: 'MP14_Subzone_SocioEconIndicators_2017' (ogr)>, 'Road_Nwork_Central': <QgsVectorLayer: 'Road_Nwork_Central' (ogr)>, 'Taxi_Ride_Origin': <QgsVectorLayer: 'Taxi_Ride_Origin' (ogr)>, 'central_schools_sf': <QgsVectorLayer: 'central_schools_sf' (ogr)>}\n"
     ]
    }
   ],
   "source": [
    "# as QgsProject is Singleton class, we need to get the instance of it\n",
    "project = QgsProject.instance()\n",
    "\n",
    "# open the project\n",
    "project_name = 'Data/QgsProject.qgs'\n",
    "project.read(project_name)\n",
    "\n",
    "# list of layer names using list comprehension\n",
    "layers = project.mapLayers()\n",
    "l=[layer.name() for layer in layers.values()]\n",
    "\n",
    "# dictionary with key = layer name and value = layer object\n",
    "layers_list = {}\n",
    "for l in layers.values():\n",
    "  layers_list[l.name()] = l\n",
    "\n",
    "print(layers_list)\n",
    "\n",
    "# find layers by name\n",
    "# project.mapLayersByName('MP14_Subzone_SocioEconIndicators_2017')[0]"
   ]
  },
  {
   "cell_type": "markdown",
   "id": "f800ca4b-ab90-4960-aa9d-6066ad5833f9",
   "metadata": {},
   "source": [
    "## Visualize the layer using a map canvas "
   ]
  },
  {
   "cell_type": "code",
   "execution_count": 9,
   "id": "e8b4b129-5056-48e4-8680-764501dafc14",
   "metadata": {},
   "outputs": [
    {
     "data": {
      "text/plain": [
       "0"
      ]
     },
     "execution_count": 9,
     "metadata": {},
     "output_type": "execute_result"
    }
   ],
   "source": [
    "canvas = QgsMapCanvas()\n",
    "canvas.show()\n",
    "canvas.setCanvasColor(Qt.white)\n",
    "canvas.enableAntiAliasing(True)\n",
    "\n",
    "layer = QgsVectorLayer(r\"Data\\MP14_Subzone_SocioEconIndicators_2017.shp\", \"SocioEcon\", \"ogr\")\n",
    "\n",
    "if not layer.isValid():\n",
    "    raise IOError(\"Failed to open the layer\")\n",
    "\n",
    "# add layer to the registry\n",
    "QgsProject.instance().addMapLayer(layer)\n",
    "\n",
    "# set extent to the extent of our layer\n",
    "canvas.setExtent(layer.extent())\n",
    "\n",
    "# set the map canvas layer set\n",
    "canvas.setLayers([layer])\n",
    "qgs.exec_()"
   ]
  },
  {
   "cell_type": "code",
   "execution_count": 10,
   "id": "4e057527-b5fd-44fa-aa10-8c2c1761acef",
   "metadata": {},
   "outputs": [
    {
     "data": {
      "text/plain": [
       "dict_values([<QgsRasterLayer: 'Default' (wms)>, <QgsVectorLayer: 'MP14_REGION_NO_SEA_PL' (ogr)>, <QgsVectorLayer: 'MP14_Subzone_SE_2017' (ogr)>, <QgsVectorLayer: 'MP14_Subzone_SocioEconIndicators_2017' (ogr)>, <QgsVectorLayer: 'Road_Nwork_Central' (ogr)>, <QgsVectorLayer: 'SocioEcon' (ogr)>, <QgsVectorLayer: 'Taxi_Ride_Origin' (ogr)>, <QgsVectorLayer: 'central_schools_sf' (ogr)>])"
      ]
     },
     "execution_count": 10,
     "metadata": {},
     "output_type": "execute_result"
    }
   ],
   "source": [
    "QgsProject.instance().mapLayers().values()"
   ]
  },
  {
   "cell_type": "markdown",
   "id": "a2a643b4-645e-4964-b35a-50089c8652c6",
   "metadata": {},
   "source": [
    "## Accessing the Table Of Contents (TOC)  "
   ]
  },
  {
   "cell_type": "markdown",
   "id": "29bca6f0-6ff1-474e-a144-b2e0b7e82c76",
   "metadata": {},
   "source": [
    "The layer tree is a classical tree structure built of nodes. There are currently two types of nodes: group nodes (QgsLayerTreeGroup) and layer nodes (QgsLayerTreeLayer)."
   ]
  },
  {
   "cell_type": "code",
   "execution_count": 11,
   "id": "9c8c770e-4398-4e0a-8dae-2d4f2ae28a05",
   "metadata": {
    "tags": []
   },
   "outputs": [
    {
     "name": "stdout",
     "output_type": "stream",
     "text": [
      "{'Default': <QgsRasterLayer: 'Default' (wms)>, 'MP14_REGION_NO_SEA_PL': <QgsVectorLayer: 'MP14_REGION_NO_SEA_PL' (ogr)>, 'MP14_Subzone_SE_2017': <QgsVectorLayer: 'MP14_Subzone_SE_2017' (ogr)>, 'MP14_Subzone_SocioEconIndicators_2017': <QgsVectorLayer: 'MP14_Subzone_SocioEconIndicators_2017' (ogr)>, 'Road_Nwork_Central': <QgsVectorLayer: 'Road_Nwork_Central' (ogr)>, 'SocioEcon': <QgsVectorLayer: 'SocioEcon' (ogr)>, 'Taxi_Ride_Origin': <QgsVectorLayer: 'Taxi_Ride_Origin' (ogr)>, 'central_schools_sf': <QgsVectorLayer: 'central_schools_sf' (ogr)>}\n"
     ]
    }
   ],
   "source": [
    "# list of layer names using list comprehension\n",
    "l = [layer.name() for layer in QgsProject.instance().mapLayers().values()]\n",
    "\n",
    "# dictionary with key = layer name and value = layer object\n",
    "layers_list = {}\n",
    "for l in QgsProject.instance().mapLayers().values():\n",
    "  layers_list[l.name()] = l\n",
    "\n",
    "print(layers_list)\n",
    "# QgsProject.instance().mapLayers()"
   ]
  },
  {
   "cell_type": "markdown",
   "id": "1a548a37-3ba6-4bf9-ae34-0b44b200ffe8",
   "metadata": {},
   "source": [
    "The project layer tree can be accessed easily with the method layerTreeRoot() of the QgsProject class:"
   ]
  },
  {
   "cell_type": "code",
   "execution_count": 12,
   "id": "3cd26a2b-f8e0-4356-923d-274a1ec49623",
   "metadata": {},
   "outputs": [],
   "source": [
    "root = QgsProject.instance().layerTreeRoot()"
   ]
  },
  {
   "cell_type": "markdown",
   "id": "633ba78b-fff7-4965-9a4b-69d0cac7c7a9",
   "metadata": {},
   "source": [
    "root is a group node and has children:"
   ]
  },
  {
   "cell_type": "code",
   "execution_count": 13,
   "id": "b6c7983a-1915-482b-8a5b-49386c6efd70",
   "metadata": {},
   "outputs": [
    {
     "data": {
      "text/plain": [
       "[<qgis._core.QgsLayerTreeLayer at 0x2a2859f89d0>,\n",
       " <qgis._core.QgsLayerTreeLayer at 0x2a2822924c0>,\n",
       " <qgis._core.QgsLayerTreeLayer at 0x2a2859f8b80>,\n",
       " <qgis._core.QgsLayerTreeLayer at 0x2a2859f8550>,\n",
       " <qgis._core.QgsLayerTreeLayer at 0x2a2859f8c10>,\n",
       " <qgis._core.QgsLayerTreeLayer at 0x2a2859f8e50>,\n",
       " <qgis._core.QgsLayerTreeLayer at 0x2a2859f8ee0>,\n",
       " <qgis._core.QgsLayerTreeLayer at 0x2a2859f8f70>]"
      ]
     },
     "execution_count": 13,
     "metadata": {},
     "output_type": "execute_result"
    }
   ],
   "source": [
    "root.children()"
   ]
  },
  {
   "cell_type": "markdown",
   "id": "b4ddf757-9d78-4203-9e2c-1e27513616f3",
   "metadata": {},
   "source": [
    "A list of direct children is returned. Sub group children should be accessed from their own direct parent.\n",
    "Layers can also be retrieved using their (unique) id:"
   ]
  },
  {
   "cell_type": "code",
   "execution_count": 14,
   "id": "78562b93-0b3a-4096-bc12-e07234d4aaf5",
   "metadata": {},
   "outputs": [
    {
     "data": {
      "text/plain": [
       "<qgis._core.QgsLayerTreeLayer at 0x2a2859f89d0>"
      ]
     },
     "execution_count": 14,
     "metadata": {},
     "output_type": "execute_result"
    }
   ],
   "source": [
    "ids = root.findLayerIds()\n",
    "# access the first layer of the ids list\n",
    "root.findLayer(ids[0])"
   ]
  },
  {
   "cell_type": "markdown",
   "id": "ca42937d-36c9-4afc-a82f-d340e08cd41a",
   "metadata": {},
   "source": [
    "You can switch between QgsVectorLayer and QgsLayerTreeLayer easily:"
   ]
  },
  {
   "cell_type": "code",
   "execution_count": 15,
   "id": "1d1c9aa8-e9f2-4cf9-a88f-320c0a1b0094",
   "metadata": {},
   "outputs": [
    {
     "name": "stdout",
     "output_type": "stream",
     "text": [
      "Layer node: <qgis._core.QgsLayerTreeLayer object at 0x000002A2859F8E50>\n",
      "Map layer: <QgsVectorLayer: 'MP14_Subzone_SocioEconIndicators_2017' (ogr)>\n"
     ]
    }
   ],
   "source": [
    "se_layer =project.mapLayersByName('MP14_Subzone_SocioEconIndicators_2017')[0]\n",
    "node_layer = root.findLayer(se_layer.id())\n",
    "print(\"Layer node:\", node_layer)\n",
    "print(\"Map layer:\", node_layer.layer())"
   ]
  },
  {
   "cell_type": "markdown",
   "id": "bbe64e8a-9d6a-4ac2-b2fe-94ea62834f49",
   "metadata": {},
   "source": [
    "Groups can be added with the addGroup() method. "
   ]
  },
  {
   "cell_type": "code",
   "execution_count": 16,
   "id": "529e5f31-22d2-4010-a993-184382c9d636",
   "metadata": {},
   "outputs": [],
   "source": [
    "node_group1 = root.addGroup('Simple Group')\n",
    "# add a sub-group to Simple Group\n",
    "node_subgroup1 = node_group1.addGroup(\"I'm a sub group\")"
   ]
  },
  {
   "cell_type": "code",
   "execution_count": 17,
   "id": "0da2bd6b-401d-4bf0-93c9-437a20879b7c",
   "metadata": {},
   "outputs": [],
   "source": [
    "# QgsProject.instance().write()"
   ]
  },
  {
   "cell_type": "markdown",
   "id": "fd629539-e5f4-4404-b9b8-df13c4243a37",
   "metadata": {},
   "source": [
    "## Create a QGIS Map Application using Map Canvas "
   ]
  },
  {
   "cell_type": "markdown",
   "id": "9a686db8-2912-46d6-bbbd-83d5c4515e7e",
   "metadata": {},
   "source": [
    "The Map canvas shows the map composed from overlaid map layers and allows interaction with the map and layers. The map canvas is implemented with the QgsMapCanvas class in the qgis.gui module. In the following example, class MyWnd is essentially a QMainWindow (PyQt Window object) that contains a QgsMapCanvas. "
   ]
  },
  {
   "cell_type": "code",
   "execution_count": 18,
   "id": "8ff526e0-dd12-41af-8a65-5c93b282e315",
   "metadata": {
    "tags": []
   },
   "outputs": [
    {
     "name": "stdout",
     "output_type": "stream",
     "text": [
      "feature selected ID is: 261\n",
      "feature selected ID is: 142\n",
      "feature selected ID is: 59\n",
      "feature selected ID is: 156\n",
      "feature selected ID is: 289\n",
      "feature selected ID is: 142\n"
     ]
    },
    {
     "data": {
      "text/plain": [
       "0"
      ]
     },
     "execution_count": 18,
     "metadata": {},
     "output_type": "execute_result"
    }
   ],
   "source": [
    "class MyWnd(QMainWindow):\n",
    "    def __init__(self, layer):\n",
    "        QMainWindow.__init__(self)\n",
    "\n",
    "        self.canvas = QgsMapCanvas()\n",
    "        self.canvas.setCanvasColor(Qt.white)\n",
    "\n",
    "        self.canvas.setExtent(layer.extent())\n",
    "        self.canvas.setLayers([layer])\n",
    "\n",
    "        self.setCentralWidget(self.canvas)\n",
    "        \n",
    "        # add menu\n",
    "        menubar = self.menuBar()\n",
    "        menu_file = menubar.addMenu('File')\n",
    "        open_action = menu_file.addAction(\"Open project\")\n",
    "        menu_help = menubar.addMenu('Help')\n",
    "        open_action = menu_help.addAction(\"About\")\n",
    "        \n",
    "        #there is always one tool active and the user can switch between the available tools.\n",
    "        self.actionZoomIn = QAction(\"Zoom in\", self)\n",
    "        self.actionZoomOut = QAction(\"Zoom out\", self)\n",
    "        self.actionPan = QAction(\"Pan\", self)\n",
    "        \n",
    "        # setcheckable means that users need to check the button and then interact with the map canvas\n",
    "        self.actionZoomIn.setCheckable(True)\n",
    "        self.actionZoomOut.setCheckable(True)\n",
    "        self.actionPan.setCheckable(True)\n",
    "        \n",
    "        # triggered connect action with a function \n",
    "        self.actionZoomIn.triggered.connect(self.zoomIn)\n",
    "        self.actionZoomOut.triggered.connect(self.zoomOut)\n",
    "        self.actionPan.triggered.connect(self.pan)\n",
    "        \n",
    "        # add a toolbar to contain all the buttons\n",
    "        self.toolbar = self.addToolBar(\"Canvas actions\")\n",
    "        self.toolbar.addAction(self.actionZoomIn)\n",
    "        self.toolbar.addAction(self.actionZoomOut)\n",
    "        self.toolbar.addAction(self.actionPan)\n",
    "\n",
    "        # create the map tools\n",
    "        self.toolPan = QgsMapToolPan(self.canvas)\n",
    "        self.toolPan.setAction(self.actionPan)\n",
    "        self.toolZoomIn = QgsMapToolZoom(self.canvas, False) # false = in\n",
    "        self.toolZoomIn.setAction(self.actionZoomIn)\n",
    "        self.toolZoomOut = QgsMapToolZoom(self.canvas, True) # true = out\n",
    "        self.toolZoomOut.setAction(self.actionZoomOut)\n",
    "\n",
    "        self.pan()\n",
    "        self.initUI()\n",
    "\n",
    "    def initUI(self):\n",
    "        self.setWindowTitle('Map Canvas Example')\n",
    "        \n",
    "        self.my_act = QAction(QIcon('Resources/sla.png'), 'Identify', self)\n",
    "        self.my_act.setCheckable(True)\n",
    "        self.my_act.triggered.connect(self.identify)\n",
    "        self.toolbar2 = self.addToolBar('Identify')\n",
    "        self.toolbar2.addAction(self.my_act)\n",
    "        \n",
    "        self.toolIdentify = QgsMapToolIdentifyFeature(self.canvas)\n",
    "        self.toolIdentify.setAction(self.my_act)\n",
    "\n",
    "        self.toolIdentify.setLayer(layer)\n",
    "        self.toolIdentify.featureIdentified.connect(self.onFeatureIdentified)\n",
    "\n",
    "    def zoomIn(self):\n",
    "        self.canvas.setMapTool(self.toolZoomIn)\n",
    "\n",
    "    def zoomOut(self):\n",
    "        self.canvas.setMapTool(self.toolZoomOut)\n",
    "\n",
    "    def pan(self):\n",
    "        self.canvas.setMapTool(self.toolPan)\n",
    "        \n",
    "    def identify(self):\n",
    "        self.canvas.setMapTool(self.toolIdentify)\n",
    "        \n",
    "    def onFeatureIdentified(self,feature):\n",
    "        self.fid = feature.id()\n",
    "        print(\"feature selected ID is: \" + str(self.fid))\n",
    "        \n",
    "    def getCanvas(self):\n",
    "        return self.canvas\n",
    "        \n",
    "vlayer =QgsVectorLayer(\"Data/MP14_REGION_NO_SEA_PL.shp\",\"MP14_REGION_NO_SEA_PL\",\"ogr\")\n",
    "w = MyWnd(vlayer)\n",
    "w.show()\n",
    "qgs.exec_()"
   ]
  },
  {
   "cell_type": "markdown",
   "id": "fb105648-d573-4e8f-94f0-b9f198419f59",
   "metadata": {},
   "source": [
    "The map canvas architecture consists of three concepts:\n",
    "\n",
    "* map canvas — for viewing of the map\n",
    "* map canvas items — additional items that can be displayed on the map canvas\n",
    "* map tools — for interaction with the map canvas\n",
    "\n",
    "To show some additional data on top of the map in canvas, use map canvas items. "
   ]
  },
  {
   "cell_type": "markdown",
   "id": "b393646f-ece3-4403-ace6-d3a76b272f99",
   "metadata": {},
   "source": [
    "## Map canvas items "
   ]
  },
  {
   "cell_type": "markdown",
   "id": "6cf6e0b8-c1f7-4fad-867d-acd02d541cc1",
   "metadata": {},
   "source": [
    "There are two useful canvas item classes for map canvas items: QgsRubberBand for drawing polylines or polygons, and QgsVertexMarker for drawing points. "
   ]
  },
  {
   "cell_type": "code",
   "execution_count": 19,
   "id": "60d970ac-d69e-435c-b6dc-615c870263d4",
   "metadata": {
    "tags": []
   },
   "outputs": [
    {
     "data": {
      "text/plain": [
       "0"
      ]
     },
     "execution_count": 19,
     "metadata": {},
     "output_type": "execute_result"
    }
   ],
   "source": [
    "class MyWndDrawItem(MyWnd):\n",
    "    def __init__(self,layer):\n",
    "        super().__init__(layer)\n",
    "    \n",
    "    def initUI(self):\n",
    "        super().initUI()\n",
    "        self.my_tool_item_rect = QAction(QIcon('Resources/icons8-rectangle-48.png'), 'Rectangle Item', self)\n",
    "        self.my_tool_item_rect.setCheckable(False)\n",
    "        self.my_tool_item_rect.triggered.connect(self.rectItem)\n",
    "        self.toolbar2.addAction(self.my_tool_item_rect)\n",
    "        \n",
    "    def rectItem(self):\n",
    "        r = QgsRubberBand(self.canvas,True)  # True = a polygon\n",
    "        points = [[QgsPointXY(44167,24960), QgsPointXY(46692,24960), QgsPointXY(46692,21808), QgsPointXY(44167,21808)]]\n",
    "        r.setToGeometry(QgsGeometry.fromPolygonXY(points), None)\n",
    "        \n",
    "        # we can change the color and width of the rectangle\n",
    "#         r.setColor(QColor(0, 0, 255))\n",
    "#         r.setWidth(3)\n",
    "        \n",
    "w2 = MyWndDrawItem(vlayer)\n",
    "w2.show()\n",
    "qgs.exec_()"
   ]
  },
  {
   "cell_type": "markdown",
   "id": "00e34892-0c82-4b86-926e-e70aa7f1c9ff",
   "metadata": {
    "tags": []
   },
   "source": [
    "## Writing Custom Map Canvas Items"
   ]
  },
  {
   "cell_type": "code",
   "execution_count": 20,
   "id": "540d4743-72a1-4e21-9663-2e4c42933e77",
   "metadata": {
    "tags": []
   },
   "outputs": [],
   "source": [
    "class CircleCanvasItem(QgsMapCanvasItem):\n",
    "  def __init__(self, canvas):\n",
    "    super().__init__(canvas)\n",
    "    self.center = QgsPoint(0,0)\n",
    "    self.size   = 80\n",
    "\n",
    "  def setCenter(self, center):\n",
    "    self.center = center\n",
    "\n",
    "  def center(self):\n",
    "    return self.center\n",
    "\n",
    "  def setSize(self, size):\n",
    "    self.size = size\n",
    "\n",
    "  def size(self):\n",
    "    return self.size\n",
    "\n",
    "  def boundingRect(self):\n",
    "    return QRectF(self.center.x() - self.size/2,\n",
    "      self.center.y() - self.size/2,\n",
    "      self.center.x() + self.size/2,\n",
    "      self.center.y() + self.size/2)\n",
    "\n",
    "  def paint(self, painter, option, widget):\n",
    "    path = QPainterPath()\n",
    "    path.moveTo(self.center.x(), self.center.y());\n",
    "    path.arcTo(self.boundingRect(), 0.0, 360.0)\n",
    "    painter.fillPath(path, QColor(\"red\"))"
   ]
  },
  {
   "cell_type": "code",
   "execution_count": 21,
   "id": "ae43dc0a-8725-40e3-bf2d-de5599620e06",
   "metadata": {},
   "outputs": [
    {
     "data": {
      "text/plain": [
       "0"
      ]
     },
     "execution_count": 21,
     "metadata": {},
     "output_type": "execute_result"
    }
   ],
   "source": [
    "class MyWndDrawCircle(MyWndDrawItem):\n",
    "    def __init__(self,layer):\n",
    "        super().__init__(layer)\n",
    "    \n",
    "    def initUI(self):\n",
    "        super().initUI()\n",
    "        self.my_tool_item_circle = QAction(QIcon('Resources/icons8-circle-48.png'), 'Circle Item', self)\n",
    "        self.my_tool_item_circle.setCheckable(False)\n",
    "        self.my_tool_item_circle.triggered.connect(self.circleItem)\n",
    "        self.toolbar2.addAction(self.my_tool_item_circle)\n",
    "    \n",
    "    # wait until the next cell class CircleCanvasItem created\n",
    "    def circleItem(self):\n",
    "        item = CircleCanvasItem(self.canvas)\n",
    "        item.setCenter(QgsPointXY(80,80))\n",
    "        item.setSize(80)\n",
    "        \n",
    "w3 = MyWndDrawCircle(vlayer)\n",
    "w3.show()\n",
    "qgs.exec_()"
   ]
  },
  {
   "cell_type": "markdown",
   "id": "7c4c19c3-5143-4524-9662-d300646362e9",
   "metadata": {},
   "source": [
    "## Writing Custom Map Tools"
   ]
  },
  {
   "cell_type": "markdown",
   "id": "a3879af3-25df-45f5-a4be-05ba6a3357fe",
   "metadata": {},
   "source": [
    "Custom map tools should inherit from the QgsMapTool or derived class. We can implement custom behaviors to actions performed by users on the canvas. Here is an example. Its allows us to define a rectangular extent by clicking and dragging on the canvas. When the rectangle is defined, it prints its boundary coordinates in the console. "
   ]
  },
  {
   "cell_type": "code",
   "execution_count": 24,
   "id": "51cc9808-74a9-487c-b645-12cf9b54f19a",
   "metadata": {},
   "outputs": [],
   "source": [
    "class PolyMapTool(QgsMapToolEmitPoint):\n",
    "\n",
    "    def __init__(self, canvas):\n",
    "        self.canvas = canvas\n",
    "        QgsMapToolEmitPoint.__init__(self, self.canvas)\n",
    "#         self.rubberband = QgsRubberBand(self.canvas, QgsWkbTypes.LineGeometry)\n",
    "        self.rubberband = QgsRubberBand(self.canvas, QgsWkbTypes.PolygonGeometry)\n",
    "        self.rubberband.setColor(Qt.red)\n",
    "        self.rubberband.setWidth(1)\n",
    "        self.point = None\n",
    "        self.points = []\n",
    "\n",
    "    def canvasPressEvent(self, e):\n",
    "        self.point = self.toMapCoordinates(e.pos())\n",
    "        m = QgsVertexMarker(self.canvas)\n",
    "        m.setCenter(self.point)\n",
    "        m.setColor(QColor(0,255,0))\n",
    "        m.setIconSize(5)\n",
    "        m.setIconType(QgsVertexMarker.ICON_BOX)\n",
    "        m.setPenWidth(3)\n",
    "        self.points.append(self.point)\n",
    "        self.isEmittingPoint = True\n",
    "        self.showPoly()\n",
    "    \n",
    "    def showPoly(self):\n",
    "#         self.rubberband.reset(QgsWkbTypes.LineGeometry)\n",
    "        self.rubberband.reset(QgsWkbTypes.PolygonGeometry)\n",
    "        for point in self.points[:-1]:\n",
    "            self.rubberband.addPoint(point, False)\n",
    "            # if we add the two lines here, it be another interesting drawtool\n",
    "#             self.rubberband.addPoint(self.points[-1], True)\n",
    "#             self.rubberband.show()\n",
    "        self.rubberband.addPoint(self.points[-1], True)\n",
    "        self.rubberband.show()"
   ]
  },
  {
   "cell_type": "code",
   "execution_count": 25,
   "id": "d7193e8c-7b7d-445c-bdb0-44b96d8b9443",
   "metadata": {
    "tags": []
   },
   "outputs": [
    {
     "data": {
      "text/plain": [
       "0"
      ]
     },
     "execution_count": 25,
     "metadata": {},
     "output_type": "execute_result"
    }
   ],
   "source": [
    "class MyWndDrawPolyTool(MyWndDrawCircle):\n",
    "    def __init__(self,layer):\n",
    "        super().__init__(layer)\n",
    "    \n",
    "    def initUI(self):\n",
    "        super().initUI()\n",
    "        \n",
    "        # First we define our polygon tool’s button in the actions portion of our application. \n",
    "        self.my_poly_tool = QAction(QIcon('Resources/icons8-polygon-64.png'), 'Poly Tool', self)\n",
    "        \n",
    "        # we make sure that when you click the button, it stays selected:\n",
    "        self.my_poly_tool.setCheckable(True)\n",
    "        \n",
    "        # we define the method used when the button is triggered\n",
    "        self.my_poly_tool.triggered.connect(self.poly)\n",
    "        self.toolbar2.addAction(self.my_poly_tool)\n",
    "        \n",
    "        # Then we link the application to our specialized tool class:\n",
    "        self.toolPoly = PolyMapTool(self.canvas)\n",
    "        self.toolPoly.setAction(self.my_poly_tool)\n",
    "\n",
    "    # we define the method in the main application class for our tool:\n",
    "    def poly(self):\n",
    "        self.canvas.setMapTool(self.toolPoly)\n",
    "        \n",
    "w4 = MyWndDrawPolyTool(vlayer)\n",
    "w4.show()\n",
    "qgs.exec_()"
   ]
  },
  {
   "cell_type": "markdown",
   "id": "45857127-dc6e-4b59-a6c5-9c9dca39c2da",
   "metadata": {},
   "source": [
    "For more examples on rubberband, see https://www.programcreek.com/python/example/100665/qgis.gui.QgsRubberBand"
   ]
  },
  {
   "cell_type": "markdown",
   "id": "bd4b83a9-e765-490c-bae9-446454cd177a",
   "metadata": {},
   "source": [
    "## Geoprocessing "
   ]
  },
  {
   "cell_type": "code",
   "execution_count": 26,
   "id": "0e352fea-9330-43b0-b2b9-bb4f6526bde8",
   "metadata": {},
   "outputs": [],
   "source": [
    "# import processing\n",
    "from osgeo import ogr"
   ]
  },
  {
   "cell_type": "code",
   "execution_count": 27,
   "id": "8854d4e1-9e5c-4435-a7c3-a320f24b1822",
   "metadata": {
    "tags": []
   },
   "outputs": [
    {
     "name": "stdout",
     "output_type": "stream",
     "text": [
      "3d:tessellate ---> Tessellate\n",
      "gdal:aspect ---> Aspect\n",
      "gdal:assignprojection ---> Assign projection\n",
      "gdal:buffervectors ---> Buffer vectors\n",
      "gdal:buildvirtualraster ---> Build virtual raster\n",
      "gdal:buildvirtualvector ---> Build virtual vector\n",
      "gdal:cliprasterbyextent ---> Clip raster by extent\n",
      "gdal:cliprasterbymasklayer ---> Clip raster by mask layer\n",
      "gdal:clipvectorbyextent ---> Clip vector by extent\n",
      "gdal:clipvectorbypolygon ---> Clip vector by mask layer\n",
      "gdal:colorrelief ---> Color relief\n",
      "gdal:contour ---> Contour\n",
      "gdal:contour_polygon ---> Contour Polygons\n",
      "gdal:convertformat ---> Convert format\n",
      "gdal:dissolve ---> Dissolve\n",
      "gdal:executesql ---> Execute SQL\n",
      "gdal:extractprojection ---> Extract projection\n",
      "gdal:fillnodata ---> Fill nodata\n",
      "gdal:gdal2tiles ---> gdal2tiles\n",
      "gdal:gdal2xyz ---> gdal2xyz\n",
      "gdal:gdalinfo ---> Raster information\n",
      "gdal:gridaverage ---> Grid (Moving average)\n",
      "gdal:griddatametrics ---> Grid (Data metrics)\n",
      "gdal:gridinversedistance ---> Grid (Inverse distance to a power)\n",
      "gdal:gridinversedistancenearestneighbor ---> Grid (IDW with nearest neighbor searching)\n",
      "gdal:gridlinear ---> Grid (Linear)\n",
      "gdal:gridnearestneighbor ---> Grid (Nearest neighbor)\n",
      "gdal:hillshade ---> Hillshade\n",
      "gdal:importvectorintopostgisdatabaseavailableconnections ---> Export to PostgreSQL (available connections)\n",
      "gdal:importvectorintopostgisdatabasenewconnection ---> Export to PostgreSQL (new connection)\n",
      "gdal:merge ---> Merge\n",
      "gdal:nearblack ---> Near black\n",
      "gdal:offsetcurve ---> Offset curve\n",
      "gdal:ogrinfo ---> Vector information\n",
      "gdal:onesidebuffer ---> One side buffer\n",
      "gdal:overviews ---> Build overviews (pyramids)\n",
      "gdal:pansharp ---> Pansharpening\n",
      "gdal:pcttorgb ---> PCT to RGB\n",
      "gdal:pointsalonglines ---> Points along lines\n",
      "gdal:polygonize ---> Polygonize (raster to vector)\n",
      "gdal:proximity ---> Proximity (raster distance)\n",
      "gdal:rastercalculator ---> Raster calculator\n",
      "gdal:rasterize ---> Rasterize (vector to raster)\n",
      "gdal:rasterize_over ---> Rasterize (overwrite with attribute)\n",
      "gdal:rasterize_over_fixed_value ---> Rasterize (overwrite with fixed value)\n",
      "gdal:rearrange_bands ---> Rearrange bands\n",
      "gdal:retile ---> Retile\n",
      "gdal:rgbtopct ---> RGB to PCT\n",
      "gdal:roughness ---> Roughness\n",
      "gdal:sieve ---> Sieve\n",
      "gdal:slope ---> Slope\n",
      "gdal:tileindex ---> Tile index\n",
      "gdal:tpitopographicpositionindex ---> Topographic Position Index (TPI)\n",
      "gdal:translate ---> Translate (convert format)\n",
      "gdal:triterrainruggednessindex ---> Terrain Ruggedness Index (TRI)\n",
      "gdal:viewshed ---> Viewshed\n",
      "gdal:warpreproject ---> Warp (reproject)\n",
      "native:addautoincrementalfield ---> Add autoincremental field\n",
      "native:addfieldtoattributestable ---> Add field to attributes table\n",
      "native:adduniquevalueindexfield ---> Add unique value index field\n",
      "native:addxyfields ---> Add X/Y fields to layer\n",
      "native:affinetransform ---> Affine transform\n",
      "native:aggregate ---> Aggregate\n",
      "native:angletonearest ---> Align points to features\n",
      "native:antimeridiansplit ---> Geodesic line split at antimeridian\n",
      "native:arrayoffsetlines ---> Array of offset (parallel) lines\n",
      "native:arraytranslatedfeatures ---> Array of translated features\n",
      "native:aspect ---> Aspect\n",
      "native:assignprojection ---> Assign projection\n",
      "native:atlaslayouttoimage ---> Export atlas layout as image\n",
      "native:atlaslayouttopdf ---> Export atlas layout as PDF\n",
      "native:bookmarkstolayer ---> Convert spatial bookmarks to layer\n",
      "native:boundary ---> Boundary\n",
      "native:boundingboxes ---> Bounding boxes\n",
      "native:buffer ---> Buffer\n",
      "native:bufferbym ---> Variable width buffer (by M value)\n",
      "native:calculatevectoroverlaps ---> Overlap analysis\n",
      "native:categorizeusingstyle ---> Create categorized renderer from styles\n",
      "native:cellstackpercentile ---> Cell stack percentile\n",
      "native:cellstackpercentrankfromrasterlayer ---> Cell stack percentrank from raster layer\n",
      "native:cellstackpercentrankfromvalue ---> Cell stack percent rank from value\n",
      "native:cellstatistics ---> Cell statistics\n",
      "native:centroids ---> Centroids\n",
      "native:clip ---> Clip\n",
      "native:collect ---> Collect geometries\n",
      "native:combinestyles ---> Combine style databases\n",
      "native:condition ---> Conditional branch\n",
      "native:converttocurves ---> Convert to curved geometries\n",
      "native:convexhull ---> Convex hull\n",
      "native:countpointsinpolygon ---> Count points in polygon\n",
      "native:createattributeindex ---> Create attribute index\n",
      "native:createconstantrasterlayer ---> Create constant raster layer\n",
      "native:createdirectory ---> Create directory\n",
      "native:creategrid ---> Create grid\n",
      "native:createpointslayerfromtable ---> Create points layer from table\n",
      "native:createrandombinomialrasterlayer ---> Create random raster layer (binomial distribution)\n",
      "native:createrandomexponentialrasterlayer ---> Create random raster layer (exponential distribution)\n",
      "native:createrandomgammarasterlayer ---> Create random raster layer (gamma distribution)\n",
      "native:createrandomgeometricrasterlayer ---> Create random raster layer (geometric distribution)\n",
      "native:createrandomnegativebinomialrasterlayer ---> Create random raster layer (negative binomial distribution)\n",
      "native:createrandomnormalrasterlayer ---> Create random raster layer (normal distribution)\n",
      "native:createrandompoissonrasterlayer ---> Create random raster layer (poisson distribution)\n",
      "native:createrandomuniformrasterlayer ---> Create random raster layer (uniform distribution)\n",
      "native:createspatialindex ---> Create spatial index\n",
      "native:dbscanclustering ---> DBSCAN clustering\n",
      "native:deletecolumn ---> Drop field(s)\n",
      "native:deleteduplicategeometries ---> Delete duplicate geometries\n",
      "native:deleteholes ---> Delete holes\n",
      "native:densifygeometries ---> Densify by count\n",
      "native:densifygeometriesgivenaninterval ---> Densify by interval\n",
      "native:detectvectorchanges ---> Detect dataset changes\n",
      "native:difference ---> Difference\n",
      "native:dissolve ---> Dissolve\n",
      "native:dropgeometries ---> Drop geometries\n",
      "native:dropmzvalues ---> Drop M/Z values\n",
      "native:dxfexport ---> Export layers to DXF\n",
      "native:equaltofrequency ---> Equal to frequency\n",
      "native:explodehstorefield ---> Explode HStore Field\n",
      "native:explodelines ---> Explode lines\n",
      "native:exportlayersinformation ---> Export layer(s) information\n",
      "native:exportmeshedges ---> Export mesh edges\n",
      "native:exportmeshfaces ---> Export mesh faces\n",
      "native:exportmeshongrid ---> Export mesh on grid\n",
      "native:exportmeshvertices ---> Export mesh vertices\n",
      "native:exporttospreadsheet ---> Export to spreadsheet\n",
      "native:extendlines ---> Extend lines\n",
      "native:extenttolayer ---> Create layer from extent\n",
      "native:extractbinary ---> Extract binary field\n",
      "native:extractbyattribute ---> Extract by attribute\n",
      "native:extractbyexpression ---> Extract by expression\n",
      "native:extractbyextent ---> Extract/clip by extent\n",
      "native:extractbylocation ---> Extract by location\n",
      "native:extractmvalues ---> Extract M values\n",
      "native:extractspecificvertices ---> Extract specific vertices\n",
      "native:extractvertices ---> Extract vertices\n",
      "native:extractzvalues ---> Extract Z values\n",
      "native:fieldcalculator ---> Field calculator\n",
      "native:filedownloader ---> Download file\n",
      "native:fillnodata ---> Fill NoData cells\n",
      "native:filter ---> Feature filter\n",
      "native:filterbygeometry ---> Filter by geometry type\n",
      "native:filterlayersbytype ---> Filter layers by type\n",
      "native:filterverticesbym ---> Filter vertices by M value\n",
      "native:filterverticesbyz ---> Filter vertices by Z value\n",
      "native:fixgeometries ---> Fix geometries\n",
      "native:flattenrelationships ---> Flatten relationship\n",
      "native:forcerhr ---> Force right-hand-rule\n",
      "native:fuzzifyrastergaussianmembership ---> Fuzzify raster (gaussian membership)\n",
      "native:fuzzifyrasterlargemembership ---> Fuzzify raster (large membership)\n",
      "native:fuzzifyrasterlinearmembership ---> Fuzzify raster (linear membership)\n",
      "native:fuzzifyrasternearmembership ---> Fuzzify raster (near membership)\n",
      "native:fuzzifyrasterpowermembership ---> Fuzzify raster (power membership)\n",
      "native:fuzzifyrastersmallmembership ---> Fuzzify raster (small membership)\n",
      "native:generatepointspixelcentroidsinsidepolygons ---> Generate points (pixel centroids) inside polygons\n",
      "native:geometrybyexpression ---> Geometry by expression\n",
      "native:greaterthanfrequency ---> Greater than frequency\n",
      "native:highestpositioninrasterstack ---> Highest position in raster stack\n",
      "native:hillshade ---> Hillshade\n",
      "native:hublines ---> Join by lines (hub lines)\n",
      "native:importphotos ---> Import geotagged photos\n",
      "native:interpolatepoint ---> Interpolate point on line\n",
      "native:intersection ---> Intersection\n",
      "native:joinattributesbylocation ---> Join attributes by location\n",
      "native:joinattributestable ---> Join attributes by field value\n",
      "native:joinbynearest ---> Join attributes by nearest\n",
      "native:kmeansclustering ---> K-means clustering\n",
      "native:layertobookmarks ---> Convert layer to spatial bookmarks\n",
      "native:lessthanfrequency ---> Less than frequency\n",
      "native:linedensity ---> Line density\n",
      "native:lineintersections ---> Line intersections\n",
      "native:linesubstring ---> Line substring\n",
      "native:loadlayer ---> Load layer into project\n",
      "native:lowestpositioninrasterstack ---> Lowest position in raster stack\n",
      "native:meancoordinates ---> Mean coordinate(s)\n",
      "native:mergelines ---> Merge lines\n",
      "native:mergevectorlayers ---> Merge vector layers\n",
      "native:meshcontours ---> Export contours\n",
      "native:meshexportcrosssection ---> Export cross section dataset values on lines from mesh\n",
      "native:meshexporttimeseries ---> Export time series values from points of a mesh dataset\n",
      "native:meshrasterize ---> Rasterize mesh dataset\n",
      "native:minimumenclosingcircle ---> Minimum enclosing circles\n",
      "native:multiparttosingleparts ---> Multipart to singleparts\n",
      "native:multiringconstantbuffer ---> Multi-ring buffer (constant distance)\n",
      "native:nearestneighbouranalysis ---> Nearest neighbour analysis\n",
      "native:offsetline ---> Offset lines\n",
      "native:orderbyexpression ---> Order by expression\n",
      "native:orientedminimumboundingbox ---> Oriented minimum bounding box\n",
      "native:orthogonalize ---> Orthogonalize\n",
      "native:package ---> Package layers\n",
      "native:pixelstopoints ---> Raster pixels to points\n",
      "native:pixelstopolygons ---> Raster pixels to polygons\n",
      "native:pointonsurface ---> Point on surface\n",
      "native:pointsalonglines ---> Points along geometry\n",
      "native:pointstopath ---> Points to path\n",
      "native:pointtolayer ---> Create layer from point\n",
      "native:poleofinaccessibility ---> Pole of inaccessibility\n",
      "native:polygonfromlayerextent ---> Extract layer extent\n",
      "native:polygonize ---> Polygonize\n",
      "native:polygonstolines ---> Polygons to lines\n",
      "native:postgisexecutesql ---> PostgreSQL execute SQL\n",
      "native:printlayoutmapextenttolayer ---> Print layout map extent to layer\n",
      "native:printlayouttoimage ---> Export print layout as image\n",
      "native:printlayouttopdf ---> Export print layout as PDF\n",
      "native:projectpointcartesian ---> Project points (Cartesian)\n",
      "native:promotetomulti ---> Promote to multipart\n",
      "native:raiseexception ---> Raise exception\n",
      "native:raisewarning ---> Raise warning\n",
      "native:randomextract ---> Random extract\n",
      "native:randompointsinextent ---> Random points in extent\n",
      "native:randompointsinpolygons ---> Random points in polygons\n",
      "native:randompointsonlines ---> Random points on lines\n",
      "native:rasterbooleanand ---> Raster boolean AND\n",
      "native:rasterize ---> Convert map to raster\n",
      "native:rasterlayerstatistics ---> Raster layer statistics\n",
      "native:rasterlayeruniquevaluesreport ---> Raster layer unique values report\n",
      "native:rasterlayerzonalstats ---> Raster layer zonal statistics\n",
      "native:rasterlogicalor ---> Raster boolean OR\n",
      "native:rastersampling ---> Sample raster values\n",
      "native:rastersurfacevolume ---> Raster surface volume\n",
      "native:reclassifybylayer ---> Reclassify by layer\n",
      "native:reclassifybytable ---> Reclassify by table\n",
      "native:rectanglesovalsdiamonds ---> Rectangles, ovals, diamonds\n",
      "native:refactorfields ---> Refactor fields\n",
      "native:removeduplicatesbyattribute ---> Delete duplicates by attribute\n",
      "native:removeduplicatevertices ---> Remove duplicate vertices\n",
      "native:removenullgeometries ---> Remove null geometries\n",
      "native:renamelayer ---> Rename layer\n",
      "native:renametablefield ---> Rename field\n",
      "native:repairshapefile ---> Repair Shapefile\n",
      "native:reprojectlayer ---> Reproject layer\n",
      "native:rescaleraster ---> Rescale raster\n",
      "native:retainfields ---> Retain fields\n",
      "native:reverselinedirection ---> Reverse line direction\n",
      "native:rotatefeatures ---> Rotate\n",
      "native:roundrastervalues ---> Round raster\n",
      "native:ruggednessindex ---> Ruggedness index\n",
      "native:savefeatures ---> Save vector features to file\n",
      "native:savelog ---> Save log to file\n",
      "native:saveselectedfeatures ---> Extract selected features\n",
      "native:segmentizebymaxangle ---> Segmentize by maximum angle\n",
      "native:segmentizebymaxdistance ---> Segmentize by maximum distance\n",
      "native:selectbylocation ---> Select by location\n",
      "native:serviceareafromlayer ---> Service area (from layer)\n",
      "native:serviceareafrompoint ---> Service area (from point)\n",
      "native:setlayerencoding ---> Set layer encoding\n",
      "native:setlayerstyle ---> Set layer style\n",
      "native:setmfromraster ---> Set M value from raster\n",
      "native:setmvalue ---> Set M value\n",
      "native:setprojectvariable ---> Set project variable\n",
      "native:setzfromraster ---> Drape (set Z value from raster)\n",
      "native:setzvalue ---> Set Z value\n",
      "native:shortestpathlayertopoint ---> Shortest path (layer to point)\n",
      "native:shortestpathpointtolayer ---> Shortest path (point to layer)\n",
      "native:shortestpathpointtopoint ---> Shortest path (point to point)\n",
      "native:shpencodinginfo ---> Extract Shapefile encoding\n",
      "native:simplifygeometries ---> Simplify\n",
      "native:singlesidedbuffer ---> Single sided buffer\n",
      "native:slope ---> Slope\n",
      "native:smoothgeometry ---> Smooth\n",
      "native:snapgeometries ---> Snap geometries to layer\n",
      "native:snappointstogrid ---> Snap points to grid\n",
      "native:spatialiteexecutesql ---> SpatiaLite execute SQL\n",
      "native:spatialiteexecutesqlregistered ---> SpatiaLite execute SQL (registered DB)\n",
      "native:splitfeaturesbycharacter ---> Split features by character\n",
      "native:splitlinesbylength ---> Split lines by maximum length\n",
      "native:splitvectorlayer ---> Split vector layer\n",
      "native:splitwithlines ---> Split with lines\n",
      "native:stringconcatenation ---> String concatenation\n",
      "native:stylefromproject ---> Create style database from project\n",
      "native:subdivide ---> Subdivide\n",
      "native:sumlinelengths ---> Sum line lengths\n",
      "native:swapxy ---> Swap X and Y coordinates\n",
      "native:symmetricaldifference ---> Symmetrical difference\n",
      "native:taperedbuffer ---> Tapered buffers\n",
      "native:tinmeshcreation ---> TIN Mesh Creation\n",
      "native:transect ---> Transect\n",
      "native:translategeometry ---> Translate\n",
      "native:truncatetable ---> Truncate table\n",
      "native:union ---> Union\n",
      "native:wedgebuffers ---> Create wedge buffers\n",
      "native:writevectortiles_mbtiles ---> Write Vector Tiles (MBTiles)\n",
      "native:writevectortiles_xyz ---> Write Vector Tiles (XYZ)\n",
      "native:zonalhistogram ---> Zonal histogram\n",
      "native:zonalstatistics ---> Zonal statistics (in place)\n",
      "native:zonalstatisticsfb ---> Zonal statistics\n",
      "qgis:advancedpythonfieldcalculator ---> Advanced Python field calculator\n",
      "qgis:barplot ---> Bar plot\n",
      "qgis:basicstatisticsforfields ---> Basic statistics for fields\n",
      "qgis:boxplot ---> Box plot\n",
      "qgis:checkvalidity ---> Check validity\n",
      "qgis:climbalongline ---> Climb along line\n",
      "qgis:concavehull ---> Concave hull (alpha shapes)\n",
      "qgis:convertgeometrytype ---> Convert geometry type\n",
      "qgis:definecurrentprojection ---> Define Shapefile projection\n",
      "qgis:delaunaytriangulation ---> Delaunay triangulation\n",
      "qgis:distancematrix ---> Distance matrix\n",
      "qgis:distancetonearesthublinetohub ---> Distance to nearest hub (line to hub)\n",
      "qgis:distancetonearesthubpoints ---> Distance to nearest hub (points)\n",
      "qgis:eliminateselectedpolygons ---> Eliminate selected polygons\n",
      "qgis:executesql ---> Execute SQL\n",
      "qgis:exportaddgeometrycolumns ---> Add geometry attributes\n",
      "qgis:findprojection ---> Find projection\n",
      "qgis:generatepointspixelcentroidsalongline ---> Generate points (pixel centroids) along line\n",
      "qgis:heatmapkerneldensityestimation ---> Heatmap (Kernel Density Estimation)\n",
      "qgis:hypsometriccurves ---> Hypsometric curves\n",
      "qgis:idwinterpolation ---> IDW interpolation\n",
      "qgis:importintopostgis ---> Export to PostgreSQL\n",
      "qgis:importintospatialite ---> Export to SpatiaLite\n",
      "qgis:joinbylocationsummary ---> Join attributes by location (summary)\n",
      "qgis:keepnbiggestparts ---> Keep N biggest parts\n",
      "qgis:knearestconcavehull ---> Concave hull (k-nearest neighbor)\n",
      "qgis:linestopolygons ---> Lines to polygons\n",
      "qgis:listuniquevalues ---> List unique values\n",
      "qgis:meanandstandarddeviationplot ---> Mean and standard deviation plot\n",
      "qgis:minimumboundinggeometry ---> Minimum bounding geometry\n",
      "qgis:pointsdisplacement ---> Points displacement\n",
      "qgis:polarplot ---> Polar plot\n",
      "qgis:postgisexecuteandloadsql ---> PostgreSQL execute and load SQL\n",
      "qgis:randomextractwithinsubsets ---> Random extract within subsets\n",
      "qgis:randompointsalongline ---> Random points along line\n",
      "qgis:randompointsinlayerbounds ---> Random points in layer bounds\n",
      "qgis:randompointsinsidepolygons ---> Random points inside polygons\n",
      "qgis:randomselection ---> Random selection\n",
      "qgis:randomselectionwithinsubsets ---> Random selection within subsets\n",
      "qgis:rastercalculator ---> Raster calculator\n",
      "qgis:rasterlayerhistogram ---> Raster layer histogram\n",
      "qgis:rectanglesovalsdiamondsvariable ---> Rectangles, ovals, diamonds (variable)\n",
      "qgis:regularpoints ---> Regular points\n",
      "qgis:relief ---> Relief\n",
      "qgis:scatter3dplot ---> Vector layer scatterplot 3D\n",
      "qgis:selectbyattribute ---> Select by attribute\n",
      "qgis:selectbyexpression ---> Select by expression\n",
      "qgis:setstyleforrasterlayer ---> Set style for raster layer\n",
      "qgis:setstyleforvectorlayer ---> Set style for vector layer\n",
      "qgis:statisticsbycategories ---> Statistics by categories\n",
      "qgis:texttofloat ---> Text to float\n",
      "qgis:tilesxyzdirectory ---> Generate XYZ tiles (Directory)\n",
      "qgis:tilesxyzmbtiles ---> Generate XYZ tiles (MBTiles)\n",
      "qgis:tininterpolation ---> TIN interpolation\n",
      "qgis:topologicalcoloring ---> Topological coloring\n",
      "qgis:variabledistancebuffer ---> Variable distance buffer\n",
      "qgis:vectorlayerhistogram ---> Vector layer histogram\n",
      "qgis:vectorlayerscatterplot ---> Vector layer scatterplot\n",
      "qgis:voronoipolygons ---> Voronoi polygons\n"
     ]
    }
   ],
   "source": [
    "import geopandas as gpd\n",
    "import matplotlib.pyplot as plt\n",
    "plt.ion()\n",
    "\n",
    "import processing\n",
    "from processing.core.Processing import Processing\n",
    "Processing.initialize()\n",
    "QgsApplication.processingRegistry().addProvider(QgsNativeAlgorithms())\n",
    "for alg in QgsApplication.processingRegistry().algorithms():\n",
    "        print(alg.id(), \"--->\", alg.displayName())"
   ]
  },
  {
   "cell_type": "code",
   "execution_count": 28,
   "id": "098eaffc-ec46-4e0e-af2b-df40b6fb625e",
   "metadata": {
    "tags": []
   },
   "outputs": [
    {
     "name": "stderr",
     "output_type": "stream",
     "text": [
      "C:\\Users\\user\\.conda\\envs\\qgis-vanguard\\lib\\site-packages\\ipykernel\\ipkernel.py:283: DeprecationWarning: `should_run_async` will not call `transform_cell` automatically in the future. Please pass the result to `transformed_cell` argument and any exception that happen during thetransform in `preprocessing_exc_tuple` in IPython 7.17 and above.\n",
      "  and should_run_async(code)\n"
     ]
    },
    {
     "data": {
      "image/png": "[encoded data removed]",
      "text/plain": [
       "<Figure size 360x360 with 1 Axes>"
      ]
     },
     "metadata": {
      "needs_background": "light"
     },
     "output_type": "display_data"
    }
   ],
   "source": [
    "source = r\"Data\\smile.geojson\"\n",
    "inputvector = QgsVectorLayer(source)\n",
    "fig, ax = plt.subplots(figsize = (5,5))\n",
    "gpd.read_file(source).plot(ax=ax);"
   ]
  },
  {
   "cell_type": "code",
   "execution_count": 29,
   "id": "2f8dafe6-9fdc-41df-bde6-e0f73e33b1db",
   "metadata": {
    "tags": []
   },
   "outputs": [
    {
     "name": "stdout",
     "output_type": "stream",
     "text": [
      "Extract vertices (native:extractvertices)\n",
      "\n",
      "This algorithm takes a line or polygon layer and generates a point layer with points representing the vertices in the input lines or polygons. The attributes associated to each point are the same ones associated to the line or polygon that the point belongs to.\n",
      "\n",
      "Additional fields are added to the point indicating the vertex index (beginning at 0), the vertex’s part and its index within the part (as well as its ring for polygons), distance along original geometry and bisector angle of vertex for original geometry.\n",
      "\n",
      "\n",
      "----------------\n",
      "Input parameters\n",
      "----------------\n",
      "\n",
      "INPUT: Input layer\n",
      "\n",
      "\tParameter type:\tQgsProcessingParameterFeatureSource\n",
      "\n",
      "\tAccepted data types:\n",
      "\t\t- str: layer ID\n",
      "\t\t- str: layer name\n",
      "\t\t- str: layer source\n",
      "\t\t- QgsProcessingFeatureSourceDefinition\n",
      "\t\t- QgsProperty\n",
      "\t\t- QgsVectorLayer\n",
      "\n",
      "OUTPUT: Vertices\n",
      "\n",
      "\tParameter type:\tQgsProcessingParameterFeatureSink\n",
      "\n",
      "\tAccepted data types:\n",
      "\t\t- str: destination vector file, e.g. 'd:/test.shp'\n",
      "\t\t- str: 'memory:' to store result in temporary memory layer\n",
      "\t\t- str: using vector provider ID prefix and destination URI, e.g. 'postgres:…' to store result in PostGIS table\n",
      "\t\t- QgsProcessingOutputLayerDefinition\n",
      "\t\t- QgsProperty\n",
      "\n",
      "----------------\n",
      "Outputs\n",
      "----------------\n",
      "\n",
      "OUTPUT:  <QgsProcessingOutputVectorLayer>\n",
      "\tVertices\n"
     ]
    },
    {
     "name": "stderr",
     "output_type": "stream",
     "text": [
      "C:\\Users\\user\\.conda\\envs\\qgis-vanguard\\lib\\site-packages\\ipykernel\\ipkernel.py:283: DeprecationWarning: `should_run_async` will not call `transform_cell` automatically in the future. Please pass the result to `transformed_cell` argument and any exception that happen during thetransform in `preprocessing_exc_tuple` in IPython 7.17 and above.\n",
      "  and should_run_async(code)\n"
     ]
    }
   ],
   "source": [
    "processing.algorithmHelp(\"native:extractvertices\")"
   ]
  },
  {
   "cell_type": "code",
   "execution_count": 30,
   "id": "177a2ac0-fd40-4120-b8f5-36047a681a9a",
   "metadata": {},
   "outputs": [
    {
     "data": {
      "image/png": "[encoded data removed]",
      "text/plain": [
       "<Figure size 360x360 with 1 Axes>"
      ]
     },
     "metadata": {
      "needs_background": "light"
     },
     "output_type": "display_data"
    }
   ],
   "source": [
    "vertice_out = r\"Data\\smile_vertices.geojson\"\n",
    "# just delete the output if exist\n",
    "if os.path.exists(vertice_out):\n",
    "    os.remove(vertice_out)\n",
    "else:\n",
    "    pass\n",
    "params = {\n",
    "    'INPUT': inputvector,\n",
    "    'OUTPUT': vertice_out\n",
    "}\n",
    "feedback = QgsProcessingFeedback()\n",
    "processing.run(\"native:extractvertices\", params, feedback=feedback)\n",
    "fig, ax = plt.subplots(figsize = (5,5))\n",
    "gpd.read_file(vertice_out).plot(ax=ax);"
   ]
  },
  {
   "cell_type": "code",
   "execution_count": 31,
   "id": "1441a02f-cd20-40ca-9043-46cb8fc6e718",
   "metadata": {
    "tags": []
   },
   "outputs": [
    {
     "name": "stderr",
     "output_type": "stream",
     "text": [
      "C:\\Users\\user\\.conda\\envs\\qgis-vanguard\\lib\\site-packages\\ipykernel\\ipkernel.py:283: DeprecationWarning: `should_run_async` will not call `transform_cell` automatically in the future. Please pass the result to `transformed_cell` argument and any exception that happen during thetransform in `preprocessing_exc_tuple` in IPython 7.17 and above.\n",
      "  and should_run_async(code)\n"
     ]
    }
   ],
   "source": [
    "# Finally, exitQgis() is called to remove the\n",
    "# provider and layer registries from memory\n",
    "qgs.exitQgis()\n",
    "qgs.exit()"
   ]
  },
  {
   "cell_type": "code",
   "execution_count": null,
   "id": "872f3a13-1989-4721-a7cb-8613af51ef02",
   "metadata": {},
   "outputs": [],
   "source": []
  }
 ],
 "metadata": {
  "kernelspec": {
   "display_name": "Python 3",
   "language": "python",
   "name": "python3"
  },
  "language_info": {
   "codemirror_mode": {
    "name": "ipython",
    "version": 3
   },
   "file_extension": ".py",
   "mimetype": "text/x-python",
   "name": "python",
   "nbconvert_exporter": "python",
   "pygments_lexer": "ipython3",
   "version": "3.9.5"
  }
 },
 "nbformat": 4,
 "nbformat_minor": 5
}
