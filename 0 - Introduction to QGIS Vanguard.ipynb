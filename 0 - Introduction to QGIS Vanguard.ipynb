{
 "cells": [
  {
   "cell_type": "markdown",
   "id": "0fc80a4c-07b6-41ed-8e39-9fa10da002d8",
   "metadata": {},
   "source": [
    "# Introduction to QGIS Vanguard Course <img src=\"./Resources/sla.png\" width=\"100\" align =\"right\"/>"
   ]
  },
  {
   "cell_type": "markdown",
   "id": "5990d4c0-d9ef-41d6-af01-37d461fe65ef",
   "metadata": {},
   "source": [
    "## Objectives\n",
    "The goal of this three-day course is to provide an overview of deveoping integrating QGIS and Python libraries for applied spatial regression analysis using open source \n",
    "tools ([QGIS](https://docs.qgis.org/3.16/en/docs/user_manual/index.html)) and libraries such as [PYQGIS](https://docs.qgis.org/3.16/en/docs/pyqgis_developer_cookbook/index.html) and [PYSAL](https://pysal.org/).\n",
    "This course uses Singapore local geospatial data, and we will co-explore spatial analysis using an interactive Python programming tool, [JupyterLab](https://jupyterlab.readthedocs.io/en/stable/user/interface.html). We aim to provide an engaging and hands-on experience on learning, and we believe learning by doing is the best approach. We hope participants can effectively incorporate these tools into their daily work.   "
   ]
  },
  {
   "cell_type": "markdown",
   "id": "dcbf8ed5-0a2b-4ddf-bf48-30f9b71cd9a9",
   "metadata": {},
   "source": [
    "## Course Organization\n",
    "\n",
    "The course will start each day from 9:30am to 12:30pm (morning session) and from 2pm to 5:30pm (afternoon session). Each session includes lectures (conceptual underpinnings), demonstration (programming), and exercises (hands-on applications). We will attempt to set aside the last half hour or more of each day for group discussion of the topics introduced that day.\n",
    "\n",
    "Many topics are introduced in the course lectures that can reasonably be absorbed in three intensive days. However, certain concepts can be quite challenging to understand. Further readings are provided for deeper understanding of some topics. "
   ]
  },
  {
   "cell_type": "markdown",
   "id": "a7ba92c4-5ca4-49f0-b95f-789c6f87d8a1",
   "metadata": {},
   "source": [
    "# Prerequisites\n",
    "\n",
    "This course is for geographers, engineers, consultants and developers on GIS who want to further advance their skills in Geospatial Data Science. Basic knowledge in GIS is required. We assume you’ve taken QGIS Primer and QGIS Cognizance. Basic programming knowledge and basic understanding about linear regression are important."
   ]
  },
  {
   "cell_type": "markdown",
   "id": "2d544425-da32-4638-b8b9-fdc890e55b3f",
   "metadata": {},
   "source": [
    "## Course Outline\n",
    "\n",
    "* Day 1 Morning: Introduction to Python and Core Libraries\n",
    "* Da1 1 Afternoon: Introduction to PyQGIS & Geovisualization using Python Libraries\n",
    "* Day 2 Morning: Create a QGIS Plugin\n",
    "* Day 2 Afternoon: Create a QGIS Geoprocessing tool\n",
    "* Day 3 Morning: Basci Regresssion Analysis\n",
    "* Day 3 Afternoon: Spatial Regresssion"
   ]
  },
  {
   "cell_type": "markdown",
   "id": "6254bf6b-99d6-4b63-b580-30cd09799a81",
   "metadata": {},
   "source": [
    "# Setup the development environment"
   ]
  },
  {
   "cell_type": "markdown",
   "id": "2d19f1c7-c2c3-4b96-b6a4-07a30903e28c",
   "metadata": {},
   "source": [
    "Please refer to the QGIS Development setup video."
   ]
  },
  {
   "cell_type": "markdown",
   "id": "c19506b2-23ba-44b6-8362-1b4d029b5a94",
   "metadata": {},
   "source": [
    "## Basic Intro to JupyterLab"
   ]
  },
  {
   "cell_type": "markdown",
   "id": "adcdbdf6-7a60-4ef8-b023-6136c5b911b0",
   "metadata": {},
   "source": [
    "* This course uses JupyterLab notebooks to create the main content. Each session is written as a separate notebook and can be run interactively. \n",
    "* A JupyterLab notebook is a plain text file with the .ipynb extension, which is easy to move around and track different versions. \n",
    "* A notebook can be thought of as an ordered collection of cells. Cells can be of two types: text and code."
   ]
  },
  {
   "cell_type": "markdown",
   "id": "fc048b0e-9263-43a5-8f59-f445f7f06c5a",
   "metadata": {
    "jp-MarkdownHeadingCollapsed": true,
    "tags": []
   },
   "source": [
    "### Example of Markdown\n",
    "* Bold text: __string__ or **string**\n",
    "* Italic text: _string_ or *string*\n",
    "> Beautiful is better than ugly.  \n",
    "Explicit is better than implicit.  \n",
    "Simple is better than complex.  \n",
    "\n",
    "$$\\sum _{i=1}^{N}X_{i} $$"
   ]
  },
  {
   "cell_type": "markdown",
   "id": "977d7a79-4ba9-4208-9b39-58f7ae07f3bf",
   "metadata": {},
   "source": [
    "### Example of Code"
   ]
  },
  {
   "cell_type": "code",
   "execution_count": 6,
   "id": "9c272d4f-a39b-470a-bf71-2e481f755ae9",
   "metadata": {},
   "outputs": [
    {
     "data": {
      "text/plain": [
       "2"
      ]
     },
     "execution_count": 6,
     "metadata": {},
     "output_type": "execute_result"
    }
   ],
   "source": [
    "1+1"
   ]
  },
  {
   "cell_type": "code",
   "execution_count": 5,
   "id": "29502bee-6b85-494a-9f62-0d2871e1545c",
   "metadata": {},
   "outputs": [
    {
     "name": "stdout",
     "output_type": "stream",
     "text": [
      "Hello World\n"
     ]
    }
   ],
   "source": [
    "print(\"Hello World\")"
   ]
  },
  {
   "cell_type": "markdown",
   "id": "e7f41b7e-63ad-4b1e-a588-3573de2d756c",
   "metadata": {},
   "source": [
    "To master Jupyterlab, see https://nocomplexity.com/documents/jupyterlab/advancedtips.html"
   ]
  },
  {
   "cell_type": "markdown",
   "id": "f478c000-aa26-4aa8-ba53-b8463f0730b6",
   "metadata": {},
   "source": [
    "# References\n",
    "\n",
    "[PYQGIS Samples](https://webgeodatavore.github.io/pyqgis-samples/)\n",
    "\n",
    "[PYQGIS Code](https://www.programcreek.com/python)\n",
    "\n",
    "[Python Data Science Handbook](https://github.com/jakevdp/PythonDataScienceHandbook)"
   ]
  },
  {
   "cell_type": "markdown",
   "id": "7940d1c8-510b-4a4e-a653-16fe9bf4c5e5",
   "metadata": {},
   "source": [
    "## Other Tips"
   ]
  },
  {
   "cell_type": "markdown",
   "id": "985fde23-6a04-45d0-8741-c8abc1bab512",
   "metadata": {},
   "source": [
    "Set Environmental Variable Path\n",
    ">Windows:   \n",
    ">  setx PATH \"C:\\change to your folder;%PATH%\"  \n",
    ">  set PATH= C:\\change to your folder;%PATH%  \n",
    ">  echo %PATH%  \n",
    "\n",
    ">MacOS  \n",
    ">  nano ~/.bash_profile (if you use bash) or ~/.zshrc (if you use zsh), and then add:  \n",
    ">  export PATH=\"/Applications/QGIS.app/Contents/MacOS/bin:$PATH\" \n",
    ">  echo $PATH"
   ]
  },
  {
   "cell_type": "markdown",
   "id": "8a05f5d0-a3e7-448e-8182-2ee268f68dd8",
   "metadata": {},
   "source": [
    "Install Pysal library:\n",
    "    \n",
    ">install all wheels in /Resources/wheels)  \n",
    "\n",
    "pip install pysal  \n",
    "pip install pandana urbanaccess contextily statsmodels\n",
    "\n",
    "\n",
    "(wheels can be downloaded from https://www.lfd.uci.edu/~gohlke/pythonlibs/) "
   ]
  },
  {
   "cell_type": "code",
   "execution_count": 10,
   "id": "59b9ed6c-aa68-404b-93a2-49b98ac15be1",
   "metadata": {},
   "outputs": [],
   "source": [
    "# check source code\n",
    "# import inspect\n",
    "# inspect.getsourcefile(weights)"
   ]
  },
  {
   "cell_type": "code",
   "execution_count": 1,
   "id": "28a33344-1150-451b-a9d5-3c197ea62747",
   "metadata": {},
   "outputs": [],
   "source": [
    "# if pysal does not work copy local files\n",
    "# from libpysal_local import cg\n",
    "# from libpysal_local import io\n",
    "# from libpysal_local import weights\n",
    "# from spreg_local import *"
   ]
  },
  {
   "cell_type": "markdown",
   "id": "5084a566-7db3-4b75-afb8-008ebe778085",
   "metadata": {},
   "source": [
    "### "
   ]
  },
  {
   "cell_type": "code",
   "execution_count": 95,
   "id": "fd37115a-eda5-4467-8ab5-b9f92074ce0b",
   "metadata": {},
   "outputs": [],
   "source": [
    "import sys\n",
    "import os\n",
    "\n",
    "sys.path.append(r'C:\\Program Files\\QGIS 3.20.3\\apps\\qgis\\python') #this is important for loading qgis library\n",
    "sys.path.append(r'C:\\Program Files\\QGIS 3.20.3\\apps\\qgis\\python\\plugins') #this is important for loading processing library\n",
    "\n",
    "import qgis\n",
    "from qgis.gui import *\n",
    "from qgis.core import *\n",
    "from qgis.utils import plugins\n",
    "from PyQt5.QtCore import *\n",
    "from qgis.analysis import QgsNativeAlgorithms"
   ]
  },
  {
   "cell_type": "code",
   "execution_count": 96,
   "id": "3a7c541c-6b95-44b7-bf27-f82e113924a2",
   "metadata": {},
   "outputs": [],
   "source": [
    "import time\n",
    "\n",
    "from PyQt5.QtCore import (QCoreApplication, QObject, QRunnable, QThread,\n",
    "                          QThreadPool, pyqtSignal)\n",
    "\n",
    "# Subclassing QThread\n",
    "# http://qt-project.org/doc/latest/qthread.html\n",
    "class AThread(QThread):\n",
    "\n",
    "    def run(self):\n",
    "        count = 0\n",
    "        while count < 5:\n",
    "            time.sleep(1)\n",
    "            print(\"A Increasing\")\n",
    "            count += 1\n",
    "\n",
    "# Subclassing QObject and using moveToThread\n",
    "# http://blog.qt.digia.com/blog/2007/07/05/qthreads-no-longer-abstract\n",
    "class SomeObject(QObject):\n",
    "\n",
    "    finished = pyqtSignal()\n",
    "\n",
    "    def long_running(self):\n",
    "        count = 0\n",
    "        while count < 5:\n",
    "            time.sleep(1)\n",
    "            print(\"B Increasing\")\n",
    "            count += 1\n",
    "        self.finished.emit()\n",
    "\n",
    "# Using a QRunnable\n",
    "# http://qt-project.org/doc/latest/qthreadpool.html\n",
    "# Note that a QRunnable isn't a subclass of QObject and therefore does\n",
    "# not provide signals and slots.\n",
    "class Runnable(QRunnable):\n",
    "\n",
    "    def run(self):\n",
    "        count = 0\n",
    "        app = QCoreApplication.instance()\n",
    "        while count < 5:\n",
    "            print(\"C Increasing\")\n",
    "            time.sleep(1)\n",
    "            count += 1\n",
    "        app.quit()\n",
    "\n",
    "def using_q_thread():\n",
    "    app = QCoreApplication([])\n",
    "    thread = AThread()\n",
    "    thread.finished.connect(app.exit)\n",
    "    thread.start()\n",
    "    sys.exit(app.exec_())\n",
    "\n",
    "def using_move_to_thread():\n",
    "    app = QCoreApplication([])\n",
    "    objThread = QThread()\n",
    "    obj = SomeObject()\n",
    "    obj.moveToThread(objThread)\n",
    "    obj.finished.connect(objThread.quit)\n",
    "    objThread.started.connect(obj.long_running)\n",
    "    objThread.finished.connect(app.exit)\n",
    "    objThread.start()\n",
    "    sys.exit(app.exec_())\n",
    "\n",
    "def using_q_runnable():\n",
    "    app = QCoreApplication([])\n",
    "    runnable = Runnable()\n",
    "    QThreadPool.globalInstance().start(runnable)\n",
    "    sys.exit(app.exec_())"
   ]
  },
  {
   "cell_type": "code",
   "execution_count": 99,
   "id": "1eb21f9a-0e0f-45ad-a5d7-a0aad3aaa0e5",
   "metadata": {},
   "outputs": [
    {
     "name": "stdout",
     "output_type": "stream",
     "text": [
      "C Increasing\n",
      "C Increasing\n",
      "C Increasing\n",
      "C Increasing\n",
      "C Increasing\n"
     ]
    },
    {
     "ename": "SystemExit",
     "evalue": "0",
     "output_type": "error",
     "traceback": [
      "An exception has occurred, use %tb to see the full traceback.\n",
      "\u001b[1;31mSystemExit\u001b[0m\u001b[1;31m:\u001b[0m 0\n"
     ]
    }
   ],
   "source": [
    "# using_q_thread()\n",
    "# using_move_to_thread()\n",
    "using_q_runnable()"
   ]
  },
  {
   "cell_type": "code",
   "execution_count": null,
   "id": "45342516-cd12-4d55-83d1-f4486b348017",
   "metadata": {},
   "outputs": [],
   "source": [
    "QgsTask"
   ]
  }
 ],
 "metadata": {
  "kernelspec": {
   "display_name": "Python 3 (ipykernel)",
   "language": "python",
   "name": "python3"
  },
  "language_info": {
   "codemirror_mode": {
    "name": "ipython",
    "version": 3
   },
   "file_extension": ".py",
   "mimetype": "text/x-python",
   "name": "python",
   "nbconvert_exporter": "python",
   "pygments_lexer": "ipython3",
   "version": "3.9.5"
  }
 },
 "nbformat": 4,
 "nbformat_minor": 5
}
