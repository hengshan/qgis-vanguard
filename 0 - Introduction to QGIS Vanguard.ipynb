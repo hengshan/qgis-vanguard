{
 "cells": [
  {
   "cell_type": "markdown",
   "id": "0fc80a4c-07b6-41ed-8e39-9fa10da002d8",
   "metadata": {},
   "source": [
    "# Introduction to QGIS Vanguard Course <img src=\"./Resources/sla.png\" width=\"100\" align =\"right\"/>"
   ]
  },
  {
   "cell_type": "markdown",
   "id": "cffa8e1d-a075-4b0f-97ee-448c12b1f9ec",
   "metadata": {},
   "source": [
    "# Greetings "
   ]
  },
  {
   "cell_type": "markdown",
   "id": "180b39dc-2568-4ace-b20c-6a97bdf23633",
   "metadata": {},
   "source": [
    "Welcome to the QGIS Vanguard! We will be using Python as the programming language to build QGIS Plugins. We will use this pre-lesson session to make sure your Python and QGIS are working properly.\n",
    "\n",
    "Prior to starting the course, you should have downloaded QGIS the latest version (richest on features) from https://download.qgis.org and installed it in your laptop. Ensure you have FULL administrative control of your laptop (strictly Win OS only)."
   ]
  },
  {
   "cell_type": "markdown",
   "id": "96d6d27d-b90d-49eb-8857-43dfbd559102",
   "metadata": {},
   "source": [
    "# Objectives"
   ]
  },
  {
   "cell_type": "markdown",
   "id": "7c5b3ea9-86ed-4f98-9645-930020b3e064",
   "metadata": {},
   "source": [
    "The goal of this three-day course is to provide a basic introduction to **QGIS plugin development** and **spatial regression analysis** using open source \n",
    "GIS tools ([QGIS](https://docs.qgis.org/3.16/en/docs/user_manual/index.html)) and Python libraries such as [PYQGIS](https://docs.qgis.org/3.16/en/docs/pyqgis_developer_cookbook/index.html) and [PYSAL](https://pysal.org/).\n",
    "\n",
    "This course uses Singapore local geospatial data, and we will use an interactive Python programming tool, [JupyterLab](https://jupyterlab.readthedocs.io/en/stable/user/interface.html). We aim to provide an engaging and hands-on experience on learning, and we believe learning by doing is the best approach. We hope participants can effectively incorporate these tools into their daily work.   "
   ]
  },
  {
   "cell_type": "markdown",
   "id": "cc952c37-f003-46ea-8cad-e18a88ad397f",
   "metadata": {},
   "source": [
    "# Course Organization"
   ]
  },
  {
   "cell_type": "markdown",
   "id": "4f54f59f-5607-496b-9a31-23441f1118e5",
   "metadata": {},
   "source": [
    "The course will start each day from 9:30am to 12:30pm (morning session) and from 2pm to 5:30pm (afternoon session).\n",
    "\n",
    "Each session includes **lectures** (conceptual underpinnings), **demonstration** (programming), and **exercises** (hands-on applications). We will attempt to set aside the last half hour or more of each day for group discussion of the topics introduced that day.\n",
    "\n",
    "Many topics are introduced in the course lectures that can reasonably be absorbed in three intensive days. However, certain concepts can be quite challenging to understand. Further readings are provided for deeper understanding of some topics. "
   ]
  },
  {
   "cell_type": "markdown",
   "id": "a7ba92c4-5ca4-49f0-b95f-789c6f87d8a1",
   "metadata": {},
   "source": [
    "# Prerequisites\n",
    "\n",
    "1. This course is for geographers, engineers, consultants and developers on GIS who want to further advance their skills in Geospatial Data Science.\n",
    "\n",
    "2. Basic knowledge in GIS is required. We assume you’ve taken QGIS Primer and QGIS Cognizance.\n",
    "\n",
    "3. Basic programming knowledge and basic understanding about linear regression are important."
   ]
  },
  {
   "cell_type": "markdown",
   "id": "5b28083f-2628-4678-87bf-5fc349537651",
   "metadata": {},
   "source": [
    "# Course Outline"
   ]
  },
  {
   "cell_type": "markdown",
   "id": "853e7a17-2544-4b6f-a90b-363d42ca51c7",
   "metadata": {},
   "source": [
    "* Day 1 Morning: Introduction to Python and Core Libraries\n",
    "* Da1 1 Afternoon: Introduction to PyQGIS & Geovisualization using Python Libraries\n",
    "* Day 2 Morning: Create a QGIS Plugin\n",
    "* Day 2 Afternoon: Create a QGIS Geoprocessing tool\n",
    "* Day 3 Morning: Spatial Regresssion Analysis\n",
    "* Day 3 Afternoon: Class Project"
   ]
  },
  {
   "cell_type": "markdown",
   "id": "6254bf6b-99d6-4b63-b580-30cd09799a81",
   "metadata": {},
   "source": [
    "# Setup the development environment"
   ]
  },
  {
   "cell_type": "markdown",
   "id": "5e1d35ba-1e78-4f54-b1d4-471f9af56a70",
   "metadata": {},
   "source": [
    "1. Download QGIS the latest version (richest on features) from https://download.qgis.org and install it in your laptop. \n",
    "* Ensure you have FULL administrative control of the laptop (strictly Win OS only). \n",
    "* You may have python pre-installed through software distribution program like Anaconda, but this won’t work with QGIS. QGIS has its version of python.\n",
    "\n",
    "2. Download QGIS Vanguard course material folder (qgis-vanguard), unzip it to a dedicated directory (aka the project folder), pin it in Win Explorer for quick access.\n",
    "* Maneuver to the ‘Resource’ subfolder, unzip the wheel.zip to become a folder.\n",
    "\n",
    "4. In the course material folder, maneuver to ‘Resource – wheel’ subfolder, copy the two sqlite3 files (sqlite3.dll and sqlite3.def) and paste them in the DLLs folder in C:\\Program Files\\QGIS 3.22.3\\apps\\Python39\\DLLs\n",
    "\n",
    "4. Go to C:\\Program Files\\QGIS 3.22.3\\etc\\ini folder, right-click 'python3.bat' -> go to Security ->choose Users (username\\Users) -> Edit -> Full control\n",
    "* Then, open \"C:\\Program Files\\QGIS 3.22.3\\etc\\ini\\python3.bat\" an text editor such as Sublime Text.\n",
    "* In the end of line 'PATH' type 'c:\\users\\user\\appdata\\roaming\\python\\python39;c:\\users\\user\\appdata\\roaming\\python\\python39\\scripts;%path%'\n",
    "* (a good indicator of your current profile directory is to open QGIS 3.22, go to Settings – User Profiles – Open Active User Profile Folder and observe if the directory starts with \"C:\\Users\\User\\....\") \n",
    "* pin this directory in Win Explorer for quick access.\n",
    "\n",
    "5. Install JupyterLab (this may take some time)\n",
    "* double-click OSGeo4W.bat in C:\\Program Files\\QGIS 3.22.3 (there should be a folder \"QGIS 3.22.3\" on the desktop)\n",
    "* in the shell C:\\Program Files\\QGIS 3.22.3>, type 'pip list'\n",
    "* when the installation is done, a message appears to advice user to upgrade. No need to update pip. If you wanna update, just type \"python -m pip install --upgrade pip\"\n",
    "* to install Jupyterlab type 'pip install jupyterlab' then wait for a while (the installation will take some time)\n",
    "\n",
    "6. Back to the JupyterLab installation which should be completed (in OSGeo4W.bat shell) and in the shell, under the prompt: c:\\program files\\qgis 3.22.3>\n",
    "* Type \"cd c:\\users\\user\\.......\" (your project folder directory which contains all the course materials), strike enter, then type \"jupyter-lab\" to launch JupyterLab.\n",
    "* (you may type 'pip list' to ensure that JupyterLab is properly installed)\n",
    "* when prompted (for the first time), choose your preferred web browser to launch it.\n",
    "* if you missed out the prompt, refer to the shell comments, and copy-paste the html link into the web browser to re-launch JupyterLab. \n",
    "\n",
    "7. In Jupiter-Lab, shift-enter all the cells (from the top and moving down) to test-run the codes and ensure that all relevant python libraries have been installed and imported. For geopandas and pysal, take note of the below:\n",
    "* To install geopandas, a wheel file called Fiona will need to be downloaded from https://www.lfd.uci.edu/~gohlke/pythonlibs/ (or locate it from the wheel folder) and installed in JupyterLab, followed by geopandas:\n",
    "* ! pip install Fiona-1.8.21-cp39-cp39-win_amd64.whl\n",
    "* ! pip install geopandas\n",
    "* To install pysal, download its wheel file from https://www.lfd.uci.edu/~gohlke/pythonlibs/ (pysal-2.1.0-py3-none-any.whl , NOT the latest version 2.2.0) (or locate it from the wheel folder) and install in JupyterLab:\n",
    "* ! pip install pysal-2.1.0-py3-none-any.whl\n",
    "* Note that, if have installed previous QGIS version and relevant Python libraries, you will need install the latest Fiona wheel and rasterio wheel, and then upgrade geopandas, pygeos, and networkx. "
   ]
  },
  {
   "cell_type": "markdown",
   "id": "fe8c5495-c678-4089-a9e1-3579226bdd82",
   "metadata": {},
   "source": [
    "8. Create shortcut of OSgeo4W.bat shell (under QGIS 3.22) for quick access in future. To reopen the course content in JupyterLab:\n",
    "* Launch OSgeo4W shell (under QGIS 3.22), where a DOS prompt window opened.\n",
    "* Copy the pinned project directory (where all the course materials resided).\n",
    "* Back in OSgeo4W shell, type \"cd \" then paste the directory and strike enter.\n",
    "* Type \"jupyter-lab\" to open the course content in JupyterLab."
   ]
  },
  {
   "cell_type": "markdown",
   "id": "c19506b2-23ba-44b6-8362-1b4d029b5a94",
   "metadata": {},
   "source": [
    "# Basic Intro to JupyterLab"
   ]
  },
  {
   "cell_type": "markdown",
   "id": "7dcf69a8-cf30-4d32-b841-f85d9b76d387",
   "metadata": {},
   "source": [
    "Jupyter Lab is widely used by data scientists and developers worldwide to perform data analysis nowadays. It provides a very easy-to-use interface and lots of other functionalities like markdown, latex, inline plots, etc."
   ]
  },
  {
   "cell_type": "markdown",
   "id": "adcdbdf6-7a60-4ef8-b023-6136c5b911b0",
   "metadata": {},
   "source": [
    "* This course uses JupyterLab to create the main content. Each session is written as a separate notebook and can be run interactively. \n",
    "* A JupyterLab notebook is a plain text file with the .ipynb extension, which is easy to move around and track different versions. \n",
    "* A notebook can be thought of as an ordered collection of cells. Cells can be of two types: text and code."
   ]
  },
  {
   "cell_type": "markdown",
   "id": "5ca66eb2-222b-4064-8d4d-301cecceeb85",
   "metadata": {},
   "source": [
    "The two main types of cells are code cells and markdown cells."
   ]
  },
  {
   "cell_type": "markdown",
   "id": "977d7a79-4ba9-4208-9b39-58f7ae07f3bf",
   "metadata": {},
   "source": [
    "## Code Cells"
   ]
  },
  {
   "cell_type": "markdown",
   "id": "4765ef25-a1a6-4241-86eb-12b9187dfccc",
   "metadata": {},
   "source": [
    "A code cell contains actual code that you want to run. You can specify a cell as a code cell using the pulldown menu in the toolbar of your Jupyter notebook. Otherwise, you can can hit Esc and then y (denoted Esc - y”) while a cell is selected to specify that it is a code cell. Note that you will have to hit enter after doing this to start editing it.\n",
    "\n",
    "If you want to execute the code in a code cell, hit Enter while holding down the Shift key (denoted Shift + Enter). Note that code cells are executed in the order you shift-enter them. "
   ]
  },
  {
   "cell_type": "code",
   "execution_count": 1,
   "id": "9c272d4f-a39b-470a-bf71-2e481f755ae9",
   "metadata": {},
   "outputs": [
    {
     "name": "stdout",
     "output_type": "stream",
     "text": [
      "hello world\n"
     ]
    }
   ],
   "source": [
    "print(\"hello world\")"
   ]
  },
  {
   "cell_type": "markdown",
   "id": "b2b2ba2e-1019-4a4f-bb6c-c197e405803b",
   "metadata": {},
   "source": [
    "## Markdown Cells"
   ]
  },
  {
   "cell_type": "markdown",
   "id": "7b87b8a1-56f4-4c59-924f-d33f860cfb47",
   "metadata": {},
   "source": [
    "Markdown cells contain text. The text is written in markdown, a lightweight markup language. \n",
    "Note that you can also insert HTML into markdown cells, and this will be rendered properly. As you are typing the contents of these cells, the results appear as text. Hitting Shift + Enter renders the text in the formatting you specify.\n",
    "\n",
    "You can specify a cell as being a markdown cell in the Jupyter toolbar, or by hitting Esc - m in the cell. Again, you have to hit enter after using the quick keys to bring the cell into edit mode.\n",
    "\n",
    "In general, when you want to add a new cell, you can click the + icon on the notebook toolbar. The shortcut to insert a cell below is Esc - b and to insert a cell above is Esc - a. Alternatively, you can execute a cell and automatically add a new one below it by hitting Alt + Enter."
   ]
  },
  {
   "cell_type": "markdown",
   "id": "fc048b0e-9263-43a5-8f59-f445f7f06c5a",
   "metadata": {
    "tags": []
   },
   "source": [
    "* Bold text: __string__ or **string**\n",
    "* Italic text: _string_ or *string*\n",
    "> Beautiful is better than ugly.  \n",
    "Explicit is better than implicit.  \n",
    "Simple is better than complex.  \n",
    "\n",
    "$$\\sum _{i=1}^{N}X_{i} $$"
   ]
  },
  {
   "cell_type": "markdown",
   "id": "f0e67695-b56b-4f2f-b039-836539ab7d9f",
   "metadata": {},
   "source": [
    "To master Jupyterlab, see https://nocomplexity.com/documents/jupyterlab/advancedtips.html"
   ]
  },
  {
   "cell_type": "markdown",
   "id": "db44d900-be54-4caf-be57-aeacd11ea4a1",
   "metadata": {},
   "source": [
    "## Quick keys"
   ]
  },
  {
   "cell_type": "markdown",
   "id": "d159dade-1371-41c5-a02c-ce738f800fe3",
   "metadata": {},
   "source": [
    "There are some keyboard shortcuts that are convenient to use in JupyterLab. We already encountered many of them. Importantly, pressing Esc brings you into command mode in which you are not editing the contents of a single cell, but are doing things like adding cells. Below are some useful quick keys. If two keys are separated by a + sign, they are pressed simultaneously, and if they are separated by a - sign, they are pressed in succession."
   ]
  },
  {
   "cell_type": "markdown",
   "id": "74b36b0c-269d-4acd-9c7c-5e9045ab56f7",
   "metadata": {},
   "source": [
    "* Esc - m  switch cell to Markdown cell\n",
    "* Esc - y  switch cell to code cell\n",
    "* Esc - a insert cell above\n",
    "* Esc - b insert cell below\n",
    "* Esc - d - d delete cell\n",
    "* Alt + Enter execute cell and insert a cell below"
   ]
  },
  {
   "cell_type": "markdown",
   "id": "e7f41b7e-63ad-4b1e-a588-3573de2d756c",
   "metadata": {},
   "source": [
    "To master Jupyterlab, see https://nocomplexity.com/documents/jupyterlab/advancedtips.html"
   ]
  },
  {
   "cell_type": "markdown",
   "id": "537d5bb9-621e-4bf2-8175-efa82a880858",
   "metadata": {},
   "source": [
    "## Useful Magic methods"
   ]
  },
  {
   "cell_type": "markdown",
   "id": "3f1bef31-bbed-4def-b028-f4cb05b4f12e",
   "metadata": {},
   "source": [
    "Juypterlab provides a lot of useful magic commands which let us perform a bunch of tasks from the jupyterlab itself which developers usually need to do in the command prompt/shell. "
   ]
  },
  {
   "cell_type": "code",
   "execution_count": 10,
   "id": "11c687c7-f4e7-4be9-a6a4-736fb1353544",
   "metadata": {
    "tags": []
   },
   "outputs": [
    {
     "data": {
      "application/json": {
       "cell": {
        "!": "OSMagics",
        "HTML": "Other",
        "SVG": "Other",
        "bash": "Other",
        "capture": "ExecutionMagics",
        "cmd": "Other",
        "debug": "ExecutionMagics",
        "file": "Other",
        "html": "DisplayMagics",
        "javascript": "DisplayMagics",
        "js": "DisplayMagics",
        "latex": "DisplayMagics",
        "markdown": "DisplayMagics",
        "perl": "Other",
        "prun": "ExecutionMagics",
        "pypy": "Other",
        "python": "Other",
        "python2": "Other",
        "python3": "Other",
        "ruby": "Other",
        "script": "ScriptMagics",
        "sh": "Other",
        "svg": "DisplayMagics",
        "sx": "OSMagics",
        "system": "OSMagics",
        "time": "ExecutionMagics",
        "timeit": "ExecutionMagics",
        "writefile": "OSMagics"
       },
       "line": {
        "alias": "OSMagics",
        "alias_magic": "BasicMagics",
        "autoawait": "AsyncMagics",
        "autocall": "AutoMagics",
        "automagic": "AutoMagics",
        "autosave": "KernelMagics",
        "bookmark": "OSMagics",
        "cd": "OSMagics",
        "clear": "KernelMagics",
        "cls": "KernelMagics",
        "colors": "BasicMagics",
        "conda": "PackagingMagics",
        "config": "ConfigMagics",
        "connect_info": "KernelMagics",
        "copy": "Other",
        "ddir": "Other",
        "debug": "ExecutionMagics",
        "dhist": "OSMagics",
        "dirs": "OSMagics",
        "doctest_mode": "BasicMagics",
        "echo": "Other",
        "ed": "Other",
        "edit": "KernelMagics",
        "env": "OSMagics",
        "gui": "BasicMagics",
        "hist": "Other",
        "history": "HistoryMagics",
        "killbgscripts": "ScriptMagics",
        "ldir": "Other",
        "less": "KernelMagics",
        "load": "CodeMagics",
        "load_ext": "ExtensionMagics",
        "loadpy": "CodeMagics",
        "logoff": "LoggingMagics",
        "logon": "LoggingMagics",
        "logstart": "LoggingMagics",
        "logstate": "LoggingMagics",
        "logstop": "LoggingMagics",
        "ls": "Other",
        "lsmagic": "BasicMagics",
        "macro": "ExecutionMagics",
        "magic": "BasicMagics",
        "matplotlib": "PylabMagics",
        "mkdir": "Other",
        "more": "KernelMagics",
        "notebook": "BasicMagics",
        "page": "BasicMagics",
        "pastebin": "CodeMagics",
        "pdb": "ExecutionMagics",
        "pdef": "NamespaceMagics",
        "pdoc": "NamespaceMagics",
        "pfile": "NamespaceMagics",
        "pinfo": "NamespaceMagics",
        "pinfo2": "NamespaceMagics",
        "pip": "PackagingMagics",
        "popd": "OSMagics",
        "pprint": "BasicMagics",
        "precision": "BasicMagics",
        "prun": "ExecutionMagics",
        "psearch": "NamespaceMagics",
        "psource": "NamespaceMagics",
        "pushd": "OSMagics",
        "pwd": "OSMagics",
        "pycat": "OSMagics",
        "pylab": "PylabMagics",
        "qtconsole": "KernelMagics",
        "quickref": "BasicMagics",
        "recall": "HistoryMagics",
        "rehashx": "OSMagics",
        "reload_ext": "ExtensionMagics",
        "ren": "Other",
        "rep": "Other",
        "rerun": "HistoryMagics",
        "reset": "NamespaceMagics",
        "reset_selective": "NamespaceMagics",
        "rmdir": "Other",
        "run": "ExecutionMagics",
        "save": "CodeMagics",
        "sc": "OSMagics",
        "set_env": "OSMagics",
        "store": "StoreMagics",
        "sx": "OSMagics",
        "system": "OSMagics",
        "tb": "ExecutionMagics",
        "time": "ExecutionMagics",
        "timeit": "ExecutionMagics",
        "unalias": "OSMagics",
        "unload_ext": "ExtensionMagics",
        "who": "NamespaceMagics",
        "who_ls": "NamespaceMagics",
        "whos": "NamespaceMagics",
        "xdel": "NamespaceMagics",
        "xmode": "BasicMagics"
       }
      },
      "text/plain": [
       "Available line magics:\n",
       "%alias  %alias_magic  %autoawait  %autocall  %automagic  %autosave  %bookmark  %cd  %clear  %cls  %colors  %conda  %config  %connect_info  %copy  %ddir  %debug  %dhist  %dirs  %doctest_mode  %echo  %ed  %edit  %env  %gui  %hist  %history  %killbgscripts  %ldir  %less  %load  %load_ext  %loadpy  %logoff  %logon  %logstart  %logstate  %logstop  %ls  %lsmagic  %macro  %magic  %matplotlib  %mkdir  %more  %notebook  %page  %pastebin  %pdb  %pdef  %pdoc  %pfile  %pinfo  %pinfo2  %pip  %popd  %pprint  %precision  %prun  %psearch  %psource  %pushd  %pwd  %pycat  %pylab  %qtconsole  %quickref  %recall  %rehashx  %reload_ext  %ren  %rep  %rerun  %reset  %reset_selective  %rmdir  %run  %save  %sc  %set_env  %store  %sx  %system  %tb  %time  %timeit  %unalias  %unload_ext  %who  %who_ls  %whos  %xdel  %xmode\n",
       "\n",
       "Available cell magics:\n",
       "%%!  %%HTML  %%SVG  %%bash  %%capture  %%cmd  %%debug  %%file  %%html  %%javascript  %%js  %%latex  %%markdown  %%perl  %%prun  %%pypy  %%python  %%python2  %%python3  %%ruby  %%script  %%sh  %%svg  %%sx  %%system  %%time  %%timeit  %%writefile\n",
       "\n",
       "Automagic is ON, % prefix IS NOT needed for line magics."
      ]
     },
     "execution_count": 10,
     "metadata": {},
     "output_type": "execute_result"
    }
   ],
   "source": [
    "%lsmagic"
   ]
  },
  {
   "cell_type": "markdown",
   "id": "bdf0ef36-3086-4c3b-93c1-92af5349f56e",
   "metadata": {},
   "source": [
    "Line magics are prefixed with the % character and work much like OS command-line calls.\n",
    "\n",
    "Cell magics are prefixed with a double %%, and they are functions that get as an argument not only the rest of the line, but also the lines below it in a separate argument.  "
   ]
  },
  {
   "cell_type": "markdown",
   "id": "97cc88f3-ce77-4660-b979-e6544e524159",
   "metadata": {},
   "source": [
    "Some useful magic methods examples:"
   ]
  },
  {
   "cell_type": "code",
   "execution_count": 20,
   "id": "fb27e2c5-82ea-4db3-83fc-11558365f85f",
   "metadata": {
    "tags": []
   },
   "outputs": [],
   "source": [
    "%load -s mean Code/Python/qv_module/qv_module/my_module.py"
   ]
  },
  {
   "cell_type": "code",
   "execution_count": 26,
   "id": "f3eba440-594c-4cfd-a2e4-91b1a3cedaf5",
   "metadata": {
    "tags": []
   },
   "outputs": [],
   "source": [
    "# %env"
   ]
  },
  {
   "cell_type": "code",
   "execution_count": 25,
   "id": "6365193f-8cb9-46ed-a534-60620c08dd56",
   "metadata": {},
   "outputs": [],
   "source": [
    "# %history"
   ]
  },
  {
   "cell_type": "code",
   "execution_count": 2,
   "id": "3a04f247-c444-442c-a9cf-9849221fee29",
   "metadata": {},
   "outputs": [
    {
     "name": "stdout",
     "output_type": "stream",
     "text": [
      "Available matplotlib backends: ['tk', 'gtk', 'gtk3', 'wx', 'qt4', 'qt5', 'qt', 'osx', 'nbagg', 'notebook', 'agg', 'svg', 'pdf', 'ps', 'inline', 'ipympl', 'widget']\n"
     ]
    }
   ],
   "source": [
    "%matplotlib --list"
   ]
  },
  {
   "cell_type": "markdown",
   "id": "2a2f1b7f-7e74-4ef1-a077-ed42ef8c429a",
   "metadata": {},
   "source": [
    "It returns a list of available backend strings. If we call command without any argument then it'll set TkAgg as backend."
   ]
  },
  {
   "cell_type": "code",
   "execution_count": 5,
   "id": "124b7043-a833-414f-874d-f40a73f767d5",
   "metadata": {},
   "outputs": [],
   "source": [
    "%matplotlib qt5"
   ]
  },
  {
   "cell_type": "code",
   "execution_count": 6,
   "id": "a249af48-860b-4a78-858a-d46b3bae0832",
   "metadata": {},
   "outputs": [],
   "source": [
    "import matplotlib.pyplot as plt\n",
    "\n",
    "plt.plot(range(10), range(10))\n",
    "plt.show()"
   ]
  },
  {
   "cell_type": "code",
   "execution_count": 3,
   "id": "46ec26d5-2f83-4ed8-a970-3e71bd56dd6e",
   "metadata": {},
   "outputs": [],
   "source": [
    "%matplotlib inline"
   ]
  },
  {
   "cell_type": "code",
   "execution_count": 4,
   "id": "035553dc-8a73-43aa-9e2e-139929304f3d",
   "metadata": {},
   "outputs": [
    {
     "data": {
      "image/png": "[encoded data removed]",
      "text/plain": [
       "<Figure size 432x288 with 1 Axes>"
      ]
     },
     "metadata": {
      "needs_background": "light"
     },
     "output_type": "display_data"
    }
   ],
   "source": [
    "import matplotlib.pyplot as plt\n",
    "\n",
    "plt.plot(range(10), range(10))\n",
    "plt.show()"
   ]
  },
  {
   "cell_type": "code",
   "execution_count": 37,
   "id": "0683fd6c-5860-431b-a341-2d58cb2fa814",
   "metadata": {},
   "outputs": [
    {
     "data": {
      "text/plain": [
       "eval\n",
       "test_val\n",
       "top_val\n",
       "val1\n",
       "val2\n",
       "val3"
      ]
     },
     "metadata": {},
     "output_type": "display_data"
    }
   ],
   "source": [
    "val1 = 10\n",
    "val2 = 20\n",
    "val3 = 50\n",
    "top_val = 60\n",
    "\n",
    "def test_val():\n",
    "    pass\n",
    "\n",
    "%psearch *val*"
   ]
  },
  {
   "cell_type": "code",
   "execution_count": null,
   "id": "034a6dd1-484d-4200-a513-9b366ed490cf",
   "metadata": {
    "collapsed": true,
    "jupyter": {
     "outputs_hidden": true
    },
    "tags": []
   },
   "outputs": [
    {
     "data": {
      "text/plain": [
       "\u001b[1;32mdef\u001b[0m \u001b[0msubplots\u001b[0m\u001b[1;33m(\u001b[0m\u001b[0mnrows\u001b[0m\u001b[1;33m=\u001b[0m\u001b[1;36m1\u001b[0m\u001b[1;33m,\u001b[0m \u001b[0mncols\u001b[0m\u001b[1;33m=\u001b[0m\u001b[1;36m1\u001b[0m\u001b[1;33m,\u001b[0m \u001b[1;33m*\u001b[0m\u001b[1;33m,\u001b[0m \u001b[0msharex\u001b[0m\u001b[1;33m=\u001b[0m\u001b[1;32mFalse\u001b[0m\u001b[1;33m,\u001b[0m \u001b[0msharey\u001b[0m\u001b[1;33m=\u001b[0m\u001b[1;32mFalse\u001b[0m\u001b[1;33m,\u001b[0m \u001b[0msqueeze\u001b[0m\u001b[1;33m=\u001b[0m\u001b[1;32mTrue\u001b[0m\u001b[1;33m,\u001b[0m\u001b[1;33m\n",
       "\u001b[0m             \u001b[0msubplot_kw\u001b[0m\u001b[1;33m=\u001b[0m\u001b[1;32mNone\u001b[0m\u001b[1;33m,\u001b[0m \u001b[0mgridspec_kw\u001b[0m\u001b[1;33m=\u001b[0m\u001b[1;32mNone\u001b[0m\u001b[1;33m,\u001b[0m \u001b[1;33m**\u001b[0m\u001b[0mfig_kw\u001b[0m\u001b[1;33m)\u001b[0m\u001b[1;33m:\u001b[0m\u001b[1;33m\n",
       "\u001b[0m    \u001b[1;34m\"\"\"\n",
       "    Create a figure and a set of subplots.\n",
       "\n",
       "    This utility wrapper makes it convenient to create common layouts of\n",
       "    subplots, including the enclosing figure object, in a single call.\n",
       "\n",
       "    Parameters\n",
       "    ----------\n",
       "    nrows, ncols : int, default: 1\n",
       "        Number of rows/columns of the subplot grid.\n",
       "\n",
       "    sharex, sharey : bool or {'none', 'all', 'row', 'col'}, default: False\n",
       "        Controls sharing of properties among x (*sharex*) or y (*sharey*)\n",
       "        axes:\n",
       "\n",
       "        - True or 'all': x- or y-axis will be shared among all subplots.\n",
       "        - False or 'none': each subplot x- or y-axis will be independent.\n",
       "        - 'row': each subplot row will share an x- or y-axis.\n",
       "        - 'col': each subplot column will share an x- or y-axis.\n",
       "\n",
       "        When subplots have a shared x-axis along a column, only the x tick\n",
       "        labels of the bottom subplot are created. Similarly, when subplots\n",
       "        have a shared y-axis along a row, only the y tick labels of the first\n",
       "        column subplot are created. To later turn other subplots' ticklabels\n",
       "        on, use `~matplotlib.axes.Axes.tick_params`.\n",
       "\n",
       "        When subplots have a shared axis that has units, calling\n",
       "        `~matplotlib.axis.Axis.set_units` will update each axis with the\n",
       "        new units.\n",
       "\n",
       "    squeeze : bool, default: True\n",
       "        - If True, extra dimensions are squeezed out from the returned\n",
       "          array of `~matplotlib.axes.Axes`:\n",
       "\n",
       "          - if only one subplot is constructed (nrows=ncols=1), the\n",
       "            resulting single Axes object is returned as a scalar.\n",
       "          - for Nx1 or 1xM subplots, the returned object is a 1D numpy\n",
       "            object array of Axes objects.\n",
       "          - for NxM, subplots with N>1 and M>1 are returned as a 2D array.\n",
       "\n",
       "        - If False, no squeezing at all is done: the returned Axes object is\n",
       "          always a 2D array containing Axes instances, even if it ends up\n",
       "          being 1x1.\n",
       "\n",
       "    subplot_kw : dict, optional\n",
       "        Dict with keywords passed to the\n",
       "        `~matplotlib.figure.Figure.add_subplot` call used to create each\n",
       "        subplot.\n",
       "\n",
       "    gridspec_kw : dict, optional\n",
       "        Dict with keywords passed to the `~matplotlib.gridspec.GridSpec`\n",
       "        constructor used to create the grid the subplots are placed on.\n",
       "\n",
       "    **fig_kw\n",
       "        All additional keyword arguments are passed to the\n",
       "        `.pyplot.figure` call.\n",
       "\n",
       "    Returns\n",
       "    -------\n",
       "    fig : `~.figure.Figure`\n",
       "\n",
       "    ax : `.axes.Axes` or array of Axes\n",
       "        *ax* can be either a single `~matplotlib.axes.Axes` object or an\n",
       "        array of Axes objects if more than one subplot was created.  The\n",
       "        dimensions of the resulting array can be controlled with the squeeze\n",
       "        keyword, see above.\n",
       "\n",
       "        Typical idioms for handling the return value are::\n",
       "\n",
       "            # using the variable ax for single a Axes\n",
       "            fig, ax = plt.subplots()\n",
       "\n",
       "            # using the variable axs for multiple Axes\n",
       "            fig, axs = plt.subplots(2, 2)\n",
       "\n",
       "            # using tuple unpacking for multiple Axes\n",
       "            fig, (ax1, ax2) = plt.subplots(1, 2)\n",
       "            fig, ((ax1, ax2), (ax3, ax4)) = plt.subplots(2, 2)\n",
       "\n",
       "        The names ``ax`` and pluralized ``axs`` are preferred over ``axes``\n",
       "        because for the latter it's not clear if it refers to a single\n",
       "        `~.axes.Axes` instance or a collection of these.\n",
       "\n",
       "    See Also\n",
       "    --------\n",
       "    .pyplot.figure\n",
       "    .pyplot.subplot\n",
       "    .pyplot.axes\n",
       "    .Figure.subplots\n",
       "    .Figure.add_subplot\n",
       "\n",
       "    Examples\n",
       "    --------\n",
       "    ::\n",
       "\n",
       "        # First create some toy data:\n",
       "        x = np.linspace(0, 2*np.pi, 400)\n",
       "        y = np.sin(x**2)\n",
       "\n",
       "        # Create just a figure and only one subplot\n",
       "        fig, ax = plt.subplots()\n",
       "        ax.plot(x, y)\n",
       "        ax.set_title('Simple plot')\n",
       "\n",
       "        # Create two subplots and unpack the output array immediately\n",
       "        f, (ax1, ax2) = plt.subplots(1, 2, sharey=True)\n",
       "        ax1.plot(x, y)\n",
       "        ax1.set_title('Sharing Y axis')\n",
       "        ax2.scatter(x, y)\n",
       "\n",
       "        # Create four polar axes and access them through the returned array\n",
       "        fig, axs = plt.subplots(2, 2, subplot_kw=dict(projection=\"polar\"))\n",
       "        axs[0, 0].plot(x, y)\n",
       "        axs[1, 1].scatter(x, y)\n",
       "\n",
       "        # Share a X axis with each column of subplots\n",
       "        plt.subplots(2, 2, sharex='col')\n",
       "\n",
       "        # Share a Y axis with each row of subplots\n",
       "        plt.subplots(2, 2, sharey='row')\n",
       "\n",
       "        # Share both X and Y axes with all subplots\n",
       "        plt.subplots(2, 2, sharex='all', sharey='all')\n",
       "\n",
       "        # Note that this is the same as\n",
       "        plt.subplots(2, 2, sharex=True, sharey=True)\n",
       "\n",
       "        # Create figure number 10 with a single subplot\n",
       "        # and clears it if it already exists.\n",
       "        fig, ax = plt.subplots(num=10, clear=True)\n",
       "\n",
       "    \"\"\"\u001b[0m\u001b[1;33m\n",
       "\u001b[0m    \u001b[0mfig\u001b[0m \u001b[1;33m=\u001b[0m \u001b[0mfigure\u001b[0m\u001b[1;33m(\u001b[0m\u001b[1;33m**\u001b[0m\u001b[0mfig_kw\u001b[0m\u001b[1;33m)\u001b[0m\u001b[1;33m\n",
       "\u001b[0m    \u001b[0maxs\u001b[0m \u001b[1;33m=\u001b[0m \u001b[0mfig\u001b[0m\u001b[1;33m.\u001b[0m\u001b[0msubplots\u001b[0m\u001b[1;33m(\u001b[0m\u001b[0mnrows\u001b[0m\u001b[1;33m=\u001b[0m\u001b[0mnrows\u001b[0m\u001b[1;33m,\u001b[0m \u001b[0mncols\u001b[0m\u001b[1;33m=\u001b[0m\u001b[0mncols\u001b[0m\u001b[1;33m,\u001b[0m \u001b[0msharex\u001b[0m\u001b[1;33m=\u001b[0m\u001b[0msharex\u001b[0m\u001b[1;33m,\u001b[0m \u001b[0msharey\u001b[0m\u001b[1;33m=\u001b[0m\u001b[0msharey\u001b[0m\u001b[1;33m,\u001b[0m\u001b[1;33m\n",
       "\u001b[0m                       \u001b[0msqueeze\u001b[0m\u001b[1;33m=\u001b[0m\u001b[0msqueeze\u001b[0m\u001b[1;33m,\u001b[0m \u001b[0msubplot_kw\u001b[0m\u001b[1;33m=\u001b[0m\u001b[0msubplot_kw\u001b[0m\u001b[1;33m,\u001b[0m\u001b[1;33m\n",
       "\u001b[0m                       \u001b[0mgridspec_kw\u001b[0m\u001b[1;33m=\u001b[0m\u001b[0mgridspec_kw\u001b[0m\u001b[1;33m)\u001b[0m\u001b[1;33m\n",
       "\u001b[0m    \u001b[1;32mreturn\u001b[0m \u001b[0mfig\u001b[0m\u001b[1;33m,\u001b[0m \u001b[0maxs\u001b[0m\u001b[1;33m\u001b[0m\u001b[1;33m\u001b[0m\u001b[0m\n"
      ]
     },
     "metadata": {},
     "output_type": "display_data"
    }
   ],
   "source": [
    "%psource plt.subplots\n",
    "sdfsdfsdfsd sdfsdfdddddddd"
   ]
  },
  {
   "cell_type": "code",
   "execution_count": null,
   "id": "7ee70ab2-bdf4-4625-90db-83bf2a0a4d58",
   "metadata": {},
   "outputs": [],
   "source": [
    "import matplotlib.pyplot as plt"
   ]
  },
  {
   "cell_type": "code",
   "execution_count": 64,
   "id": "ed4dca78-eed2-4ae4-a913-bc280568c5ac",
   "metadata": {},
   "outputs": [
    {
     "name": "stdout",
     "output_type": "stream",
     "text": [
      "Writing test.py\n"
     ]
    }
   ],
   "source": [
    "%%writefile test.py\n",
    "\n",
    "def main_func():\n",
    "    import random\n",
    "    print(random.randint(1,10))\n",
    "\n",
    "if __name__ == \"__main__\":\n",
    "    main_func()"
   ]
  },
  {
   "cell_type": "code",
   "execution_count": 60,
   "id": "aec23c32-d336-49d6-b925-ac69210ae61b",
   "metadata": {},
   "outputs": [
    {
     "name": "stdout",
     "output_type": "stream",
     "text": [
      "4\n"
     ]
    }
   ],
   "source": [
    "%run test.py"
   ]
  },
  {
   "cell_type": "markdown",
   "id": "b26546af-d39e-40a3-82ad-7045cc4fb4b5",
   "metadata": {},
   "source": [
    "## Computing environment"
   ]
  },
  {
   "cell_type": "markdown",
   "id": "30435450-1174-443a-b455-7ff4c5138020",
   "metadata": {
    "tags": []
   },
   "source": [
    "It is good to include information about the computing environment including the version numbers of all packages we use."
   ]
  },
  {
   "cell_type": "code",
   "execution_count": 2,
   "id": "fc062efb-8162-45fc-8f31-31f0221cc75e",
   "metadata": {},
   "outputs": [
    {
     "name": "stdout",
     "output_type": "stream",
     "text": [
      "Python implementation: CPython\n",
      "Python version       : 3.9.5\n",
      "IPython version      : 7.25.0\n",
      "\n",
      "jupyterlab: 3.1.4\n",
      "\n"
     ]
    }
   ],
   "source": [
    "%load_ext watermark\n",
    "%watermark -v -p jupyterlab"
   ]
  },
  {
   "cell_type": "markdown",
   "id": "4d0a6555-8b30-4a6c-ade6-14c0d7bcb352",
   "metadata": {},
   "source": [
    "# Basic command line skills "
   ]
  },
  {
   "cell_type": "markdown",
   "id": "a9bc7b0d-bfd1-4acf-acee-46da7cfc1404",
   "metadata": {},
   "source": [
    "The command shell operates between the core operating system and other programs. "
   ]
  },
  {
   "cell_type": "markdown",
   "id": "cbeb0338-b817-4cbf-aa7e-b072cc8af146",
   "metadata": {},
   "source": [
    "CMD vs. Windows Powershell vs. Bash vs. zsh\n",
    "* CMD stands for Windows Command Prompt. When Microsoft DOS operating system was launched initially, CMD was used as a shell in it and the first version of CMD was released in 1987.\n",
    "* In 2002 Microsoft started working on a new command-line tool Powershell, which is an automated command-line shell and also has all the features & functionalities of CMD\n",
    "* Bash is one of the most popular command-line interfaces in UNIX. Moreover, Bash is the default Shell these days in most Unix/Linux-based systems. \n",
    "* Shortly after Bash emerged, a student at Princeton University created the Z shell or “zsh.” Hand in hand with this operating shell is a community-based, online platform called Oh My Zsh which features major extensions such as plug-ins and themes for zsh. "
   ]
  },
  {
   "cell_type": "markdown",
   "id": "d37e92c6-7c47-4c2b-af31-950873ebcb8e",
   "metadata": {
    "jp-MarkdownHeadingCollapsed": true,
    "tags": []
   },
   "source": [
    "In this course, we will learn basic skills about CMD. Cmd program is generally case-insensitive when specifying program names, commands, and file path. Here are the most important commands to learn:\n",
    "\n",
    "* ECHO: Turns on the on-screen text display for executed commands\n",
    "* @ECHO OFF: Turns off the on-screen text display for executed commands\n",
    "* REM: Indicates a comment line\n",
    "* MKDIR/RMDIR: Creates or deletes a directory\n",
    "* DEL: Deletes selected file(s)\n",
    "* COPY: Copies selected file(s)\n",
    "* TITLE: Sets the title of the CMD window\n",
    "\n",
    "Type the batch file name in CMD to run the batch file. If one batch file calls another batch file, the `call` command should be used, similar to the following:"
   ]
  },
  {
   "cell_type": "markdown",
   "id": "147500bc-dbef-4ee8-b13c-e60ad183073c",
   "metadata": {},
   "source": [
    "## Environment Variables  "
   ]
  },
  {
   "cell_type": "markdown",
   "id": "672edd8c-05d2-4d01-bc5a-931dbbf8310a",
   "metadata": {},
   "source": [
    "* The command shell program uses environment variables to hold important configuration information. For example, the HOMEPATH environment variable indicates the user's home folder.\n",
    "\n",
    "* A list of all environment variables can be displayed using the `set` command."
   ]
  },
  {
   "cell_type": "markdown",
   "id": "1ce0657e-c30f-4659-84bd-470a35c9b42f",
   "metadata": {},
   "source": [
    "## Path Environment "
   ]
  },
  {
   "cell_type": "markdown",
   "id": "d34b8fd5-c784-4881-af6c-d0012cd15c24",
   "metadata": {},
   "source": [
    "The PATH environment variable indicates to shell programs how to find programs when program names are typed at the command shell prompt or are called in batch files. If the PATH environment variable does not contain the required folder, then the PATH environment variable can be modified to add the folder. "
   ]
  },
  {
   "cell_type": "markdown",
   "id": "985fde23-6a04-45d0-8741-c8abc1bab512",
   "metadata": {},
   "source": [
    "Set Environmental Variable Path\n",
    ">Windows:   \n",
    ">  setx PATH \"C:\\change to your folder;%PATH%\"  \n",
    ">  set PATH= C:\\change to your folder;%PATH%  \n",
    ">  echo %PATH%  \n",
    "\n",
    ">MacOS  \n",
    ">  nano ~/.bash_profile (if you use bash) or ~/.zshrc (if you use zsh), and then add:  \n",
    ">  export PATH=\"/Applications/QGIS.app/Contents/MacOS/bin:$PATH\" \n",
    ">  echo $PATH"
   ]
  },
  {
   "cell_type": "markdown",
   "id": "a5e9eab9-7a5e-482d-b84f-d80bf62b96a8",
   "metadata": {},
   "source": [
    "`set` modifies the current shell's (the window's) environment values, and the change is available immediately, but it is temporary. The change will not affect other shells that are running, and as soon as you close the shell, the new value is lost until such time as you run set again."
   ]
  },
  {
   "cell_type": "markdown",
   "id": "b05bdf2a-5c8b-4474-a17a-6a96a88c28bd",
   "metadata": {},
   "source": [
    "Another option is to edit the PATH environment variable in a \"setup\" batch file. The advantage of this approach is that configuration can be isolated from the general user environment. "
   ]
  },
  {
   "cell_type": "markdown",
   "id": "d6fca5ac-b25d-44ce-b178-cf485f5b8aef",
   "metadata": {},
   "source": [
    "* It is advisable to set variables in a batch file and run when needed, such as when starting a software development tool, as environment variables that are set in a script to do not propagate to other command shells that were previously started. \n",
    "\n",
    "* Setting user and system environment variables will impact every program. "
   ]
  },
  {
   "cell_type": "markdown",
   "id": "154c78ff-2ad3-40bd-b7ab-77e86df46b30",
   "metadata": {},
   "source": [
    "## Syntax (Optional)"
   ]
  },
  {
   "cell_type": "markdown",
   "id": "0c335900-7c69-4895-ad25-5f417044bf7e",
   "metadata": {},
   "source": [
    "A **pipeline** is several simple commands joined together with the \"pipe\" metacharacter—\"|\". The standard output of the simple command preceding each vertical bar is connected to the standard input of the simple command following it, via a pipe. An example is `dir *.txt | more`  "
   ]
  },
  {
   "cell_type": "markdown",
   "id": "15dc8d00-4405-4100-8291-0b13771a7956",
   "metadata": {},
   "source": [
    "A **compound command** is a set of pipelines separated by conjunctions. The pipelines are executed sequentially, one after the other, and the conjunction controls whether the command interpreter executes the next pipeline or not. An example of a compound command is `move file.txt file.bak && dir > file.txt`"
   ]
  },
  {
   "cell_type": "markdown",
   "id": "437f7caf-31c0-4c4c-8c36-b93b12d500b0",
   "metadata": {},
   "source": [
    "* `> file.txt` Redirect standard output to write to the txt file, overwriting its previous contents."
   ]
  },
  {
   "cell_type": "markdown",
   "id": "ba2f611a-9b57-4312-b57f-9433f16b540b",
   "metadata": {},
   "source": [
    "The conjunctions:\n",
    "\n",
    "& - An unconditional conjunction. The next pipeline is always executed after the current one has completed executing.\n",
    "\n",
    "&& - A positive conditional conjunction. The next pipeline is executed if the current one completes executing with a zero exit status.\n",
    "\n",
    "|| - A negative conditional conjunction. The next pipeline is executed if the current one completes executing with a non-zero exit status."
   ]
  },
  {
   "cell_type": "markdown",
   "id": "4f645136-f992-4db9-ba29-7b39d7344fae",
   "metadata": {},
   "source": [
    "For detailed information about CMD batch scripting, pls refer to: https://en.wikibooks.org/wiki/Windows_Batch_Scripting\n",
    "and https://learn.openwaterfoundation.org/owf-learn-windows-shell/"
   ]
  },
  {
   "cell_type": "markdown",
   "id": "7940d1c8-510b-4a4e-a653-16fe9bf4c5e5",
   "metadata": {},
   "source": [
    "# Other Tips"
   ]
  },
  {
   "cell_type": "markdown",
   "id": "8a05f5d0-a3e7-448e-8182-2ee268f68dd8",
   "metadata": {},
   "source": [
    "Install Pysal library:\n",
    "    \n",
    ">install all wheels in /Resources/wheels  \n",
    "\n",
    "(wheels can be downloaded from https://www.lfd.uci.edu/~gohlke/pythonlibs/) "
   ]
  },
  {
   "cell_type": "markdown",
   "id": "260084e2-fd7e-4445-811f-a78db2ce1810",
   "metadata": {},
   "source": [
    "## PyQt Thread"
   ]
  },
  {
   "cell_type": "markdown",
   "id": "f478c000-aa26-4aa8-ba53-b8463f0730b6",
   "metadata": {},
   "source": [
    "# References\n",
    "\n",
    "[PYQGIS Samples](https://webgeodatavore.github.io/pyqgis-samples/)\n",
    "\n",
    "[PYQGIS Code](https://www.programcreek.com/python)\n",
    "\n",
    "[Python Data Science Handbook](https://github.com/jakevdp/PythonDataScienceHandbook)"
   ]
  }
 ],
 "metadata": {
  "kernelspec": {
   "display_name": "Python 3 (ipykernel)",
   "language": "python",
   "name": "python3"
  },
  "language_info": {
   "codemirror_mode": {
    "name": "ipython",
    "version": 3
   },
   "file_extension": ".py",
   "mimetype": "text/x-python",
   "name": "python",
   "nbconvert_exporter": "python",
   "pygments_lexer": "ipython3",
   "version": "3.9.5"
  }
 },
 "nbformat": 4,
 "nbformat_minor": 5
}
